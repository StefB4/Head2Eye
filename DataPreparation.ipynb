{
 "cells": [
  {
   "cell_type": "code",
   "execution_count": null,
   "id": "threaded-childhood",
   "metadata": {},
   "outputs": [],
   "source": [
    "import numpy as np\n",
    "import matplotlib.pyplot as plt\n",
    "\n",
    "import pickle\n",
    "import os\n",
    "import pandas as pd\n",
    "import json\n",
    "from itertools import compress\n",
    "import math\n",
    "\n",
    "from scipy import signal \n",
    "\n",
    "import glob\n",
    "\n",
    "import tensorflow as tf\n",
    "import tensorflow.keras as keras\n",
    "import tensorflow.keras.utils \n",
    "\n",
    "from DataManager import ParticipantData, MeasurementData\n",
    "from Helpers import read_normalized_json_to_df, save_to_disk, load_from_disk, create_rolling_windows, \\\n",
    "   intersection, reject_outliers, anglebetween, eye_outlier_removal_sigma, eye_outlier_removal_zero_values, validate_participant_seen_areas\n",
    "from AngleHelpers import create_relative_directions"
   ]
  },
  {
   "cell_type": "code",
   "execution_count": null,
   "id": "configured-oriental",
   "metadata": {},
   "outputs": [],
   "source": [
    "reference_data_all_failed_save_path = \"./post_recorded_reference_data/reference_dict_all.pickle\"\n",
    "REFERENCE_DATA_ALL_EVENTS_FAILED = load_from_disk(reference_data_all_failed_save_path)\n",
    "\n",
    "correlation_dict_path = \"./post_recorded_reference_data/corr_dict.pickle\"\n",
    "CORRELATION_DICT = load_from_disk(correlation_dict_path)\n",
    "\n",
    "final_data_path = \"./data/\""
   ]
  },
  {
   "cell_type": "markdown",
   "id": "convenient-inspection",
   "metadata": {},
   "source": [
    "# Load data"
   ]
  },
  {
   "cell_type": "code",
   "execution_count": null,
   "id": "otherwise-offense",
   "metadata": {},
   "outputs": [],
   "source": [
    "# Exclude all participants that have less than two (complete) scenes besides the training scene\n",
    "exclude_participant_ids = [\n",
    "    \"a5c5d2051bd1493ea79e1d565524610f\", # ['MountainRoad.txt']\n",
    "    \"2462e5d82bc44a328934442cae03d83f\", # ['MountainRoad.txt', 'TrainingScene.txt']\n",
    "    \"0c2734d5a8664e1abd2ffcf8aa6fa5d6\", # ['TrainingScene.txt']\n",
    "    \"c685e206b2eb4702860bb908afe2a11f\", # ['MountainRoad.txt', 'TrainingScene.txt']\n",
    "    \"28d1f769c1204e36a574c025d8e771c4\", # ['Incomplete.txt', 'MountainRoad.txt', 'TrainingScene.txt']\n",
    "    \"d5f3fa1c877f4afb9bc0250d5882c22c\", # ['TrainingScene.txt']\n",
    "    \"f4c4e380b2b941e4a963fe12f4038865\", # ['MountainRoad.txt', 'TrainingScene.txt']\n",
    "    \"1c293d21f60241008d6230a6f28e4079\", # ['TrainingScene.txt']\n",
    "    \"3e3154cff72540e48eac982a379ce69f\", # ['Incomplete.txt', 'MountainRoad.txt', 'TrainingScene.txt']\n",
    "    \"1deaa8e567f1435da07c0817717ef4fe\", # ['TrainingScene.txt']\n",
    "    \"28191a22a70d478b808eb8905e35c6ba\", # ['Incomplete.txt', 'MountainRoad.txt', 'TrainingScene.txt']\n",
    "    \"ac30f09446ec48289c41b66b1ba0d3f9\", # ['TrainingScene.txt'] \n",
    "    \"5b79b725686a4985b5caf35de0e06d43\", # ['Incomplete.txt', 'TrainingScene.txt']\n",
    "    \"b482259cbb524e689a6e3859951bebf1\", # ['Incomplete.txt', 'MountainRoad.txt', 'TrainingScene.txt']\n",
    "    \"518e07b76d804110b035e3c774f52d5b\", # ['TrainingScene.txt']\n",
    "    \"cc9284dfb5f645858196537e05c1959b\", # ['MountainRoad.txt']\n",
    "    \"0cd51e7040bc43568284cdcedccfe0d3\", # ['TrainingScene.txt']\n",
    "    \"d9cd9704a0064fed9993333363608346\", # ['Incomplete.txt', 'MountainRoad.txt', 'TrainingScene.txt']\n",
    "    \"5ff5cecd56f7486286ec386434ae9219\", # ['Incomplete.txt', 'MountainRoad.txt', 'TrainingScene.txt']\n",
    "    \"178dd53ce37a40b0accd7a59cc9035ac\", # ['TrainingScene.txt']\n",
    "    \"1efd4163b5614c8e9eed8e04c0ceda3e\", # ['MountainRoad.txt', 'TrainingScene.txt'] \n",
    "    \"b74d6990eba645fa82fa2ab9fb0b5180\", # ['Incomplete.txt', 'MountainRoad.txt', 'TrainingScene.txt']\n",
    "    \"711fa186ae5e4d9fada5b0e0049a2074\", # ['Incomplete.txt', 'MountainRoad.txt', 'TrainingScene.txt']\n",
    "    \"83b00eb628b2446d992ac698026dfdc0\", # ['Incomplete.txt', 'MountainRoad.txt', 'TrainingScene.txt']\n",
    "    \"f2fb2a62a3ca4033b9005be13842e27c\", # ['MountainRoad.txt']\n",
    "    \"0c0c45348e314379994333127e5456ae\", # ['TrainingScene.txt']\n",
    "    \"7824cc42ee0447a4a2fa56b9c93bbabb\", # ['TrainingScene.txt']\n",
    "    \"95228b7595954054ae2d11cfbd7623f8\", # ['Incomplete.txt', 'MountainRoad.txt', 'TrainingScene.txt']\n",
    "    \"a5a31c4af00b4199ac4c8760bfaa469e\", # ['Incomplete.txt', 'MountainRoad.txt', 'TrainingScene.txt']\n",
    "    \"addd1085215d42b38184517a2dc95d8d\", # ['Incomplete.txt', 'MountainRoad.txt', 'TrainingScene.txt']\n",
    "    \"f4db5c989fa64b90b31d396943964c12\", # ['TrainingScene.txt']\n",
    "    \"a33a91bbd197432c91a8156f88e46c08\", # ['Incomplete.txt', 'MountainRoad.txt', 'TrainingScene.txt']\n",
    "    \"206b42297be84c7087da6c93f46615bd\", # ['Incomplete.txt', 'MountainRoad.txt', 'TrainingScene.txt']\n",
    "    \"cf45d8bef0b842e5bac1b7022cc3c354\", # ['MountainRoad.txt', 'TrainingScene.txt']\n",
    "    \"e9ec1e6c22c640168130d2756426666c\", # ['TrainingScene.txt']\n",
    "    \"989685d9ca454491b184984695786e20\", # ['TrainingScene.txt']\n",
    "    \"8f9b8786312349639e8811f451054df0\", # ['MountainRoad.txt']\n",
    "    \"39e38c2aa06c42d79e50f36b631f9652\", # ---- Key error ---> files are empty for certain scenes\n",
    "    \"5e66bfb48366498aa83c364bf31c6059\", # ---- Key error\n",
    "    \"3358f368d8694472a86c4770d4f804bc\", # ---- Key error\n",
    "    \"95e8781012c94d37a222b5679724cb1d\", # ---- Key error\n",
    "    \"8626976ce8b14752be340be9f1070724\", # ---- Key error\n",
    "    \"ab79e465598844af94e9bfdfca116fc4\", # ---- Key error\n",
    "    \"6f7a67231a16454dbd657d2f48443aac\", # ---- Key error\n",
    "    \"2cae1d5a3c0c4872b2f397deb13ece71\", # ---- Key error\n",
    "    \"8b27ff8591af4cd79067cf156d23ab95\", # ---- Key error\n",
    "    \"8245ccbaba844032b08f7c33d9c4308a\", # ---- Key error \n",
    "    \"d093379ce1224f1bb24b9730da105927\", # ---- Key error \n",
    "    \"ff0cb5fdc1884204937eca64b52ee041\", # ---- Key error\n",
    "    \"05086cebdd4c45a084ed3ce6b25cc9e6\", # ---- Key error\n",
    "    \"4858c7aa9362421988e7c88d5adae755\", # ---- Key error\n",
    "    \"66bdb97a653b48f98c02d5e764089c00\", # ---- Key error\n",
    "    \"3100b15011da48d88fa3f7f053e4e19f\", # ---- Key error\n",
    "    \"39e5235b13274feb88430f08f3cd5369\", # ---- Key error\n",
    "    \"9b9220b8bf8c4e61adde8bc7571540ef\", # ---- Key error\n",
    "    \"a57132e2aeba484e8433ae8af9b1abbc\", # ---- Key error\n",
    "    \"3de6823af97441c18c8ca5f169b6e896\", # ---- Key error\n",
    "    \"3d865974f89e44c583e23e4f3c8f3d14\", # ---- Key error\n",
    "    \"011846a5c30c4325b45e439fc992f519\", # ---- Key error\n",
    "    \"951592742a88497989fbb71a65781639\", # ---- Key error \n",
    "    \"867545b969cc4ff088b70eab632671dd\", # ---- Key error\n",
    "    \"0d72afe467e74d4fb717a4ab9bb128ac\", # ---- Key error\n",
    "    \"1d0296054e434021b3aa2b47b6c7d921\", # ---- Number of supplied paths does not match \n",
    "    \"0037b2329de444c18d751b4e79901b39\", # ---- Calibration data seems to be missing\n",
    "    \"b89680ab48514db8bca8fcca1852f36d\", # ---- Calibration data seems to be missing\n",
    "    \n",
    "    #####\n",
    "    \n",
    "    # These seem to later be causing nans, mostly likely due to interpolation of clusters \n",
    "    \"81957954cd71450cacc5fd738dd9ebd2\" # done, but has 3 segments where all values are 0 \n",
    "    #\"7e3a3b57dc2a436faf7a21f010206bb6\" # done, but has 1 segment where all values are 0 \n",
    "    \"4a10fec1583843e5b1c82fb74fa7c775\" # done, but has 7 segments where all values are 0\n",
    "    \"eadeee63de7f40a4b4375733651d5dd1\" # done, but has 12 segments where all values are 0 \n",
    "    #\"8ba8fe140022448490326ad0d25ef5a3\" # done, but has 2 segments where all values are 0 \n",
    "    #\"4702745fe0df4a778149aee6882a31de\" # done, but has 1 segment where all values are 0\n",
    "    \"8e03eb1671774d3d9a35f97178902a45\" # done, but has 7 segments where all values are 0\n",
    "    \n",
    "]\n",
    "\n",
    "#exclude_participant_ids = []"
   ]
  },
  {
   "cell_type": "code",
   "execution_count": null,
   "id": "charged-ground",
   "metadata": {
    "scrolled": true
   },
   "outputs": [],
   "source": [
    "verbose = False\n",
    "\n",
    "#participant_bootstrap_path = \"/Volumes/LaCie/aMessdaten/LoopAR/Bootstrapped_Participants/\"\n",
    "participant_bootstrap_path = \"./bootstrapped_participant_data/\"\n",
    "keep_participants_in_memory = False\n",
    "\n",
    "\n",
    "eyes_paths  = [\"/Volumes/LaCie/aMessdaten/LoopAR/Data_from_store/LoopAR Data/WestdriveLoopARData_left_complete/EyeTracking/\",\"/Volumes/LaCie/aMessdaten/LoopAR/Data_from_store/LoopAR Data/WestdriveLoopARData_right_complete/EyeTracking/\"]\n",
    "input_paths = [\"/Volumes/LaCie/aMessdaten/LoopAR/Data_from_store/LoopAR Data/WestdriveLoopARData_left_complete/Input/\",\"/Volumes/LaCie/aMessdaten/LoopAR/Data_from_store/LoopAR Data/WestdriveLoopARData_right_complete/Input/\"]\n",
    "calib_paths = [\"/Volumes/LaCie/aMessdaten/LoopAR/Data_from_store/LoopAR Data/WestdriveLoopARData_left_complete/ParticipantCalibrationData/\",\"/Volumes/LaCie/aMessdaten/LoopAR/Data_from_store/LoopAR Data/WestdriveLoopARData_right_complete/ParticipantCalibrationData/\"]\n",
    "scene_paths = [\"/Volumes/LaCie/aMessdaten/LoopAR/Data_from_store/LoopAR Data/WestdriveLoopARData_left_complete/SceneData/\",\"/Volumes/LaCie/aMessdaten/LoopAR/Data_from_store/LoopAR Data/WestdriveLoopARData_right_complete/SceneData/\"]\n",
    "\n",
    "eyes_paths  = [\"./data2/EyeTracking/\"]\n",
    "input_paths = [\"./data2/Input/\"]\n",
    "calib_paths = [\"./data2/ParticipantCalibrationData/\"]\n",
    "scene_paths = [\"./data2/SceneData/\"]\n",
    "\n",
    "\n",
    "measurement_full = MeasurementData(eyes_paths,input_paths,calib_paths,scene_paths,participant_bootstrap_path,exclude_participant_ids,keep_participants_in_memory,verbose)\n"
   ]
  },
  {
   "cell_type": "code",
   "execution_count": null,
   "id": "infectious-terrorist",
   "metadata": {
    "scrolled": true
   },
   "outputs": [],
   "source": [
    "print(\"Available Areas (in vanilla data; not multiplied by segments):\")\n",
    "print(measurement_full.get_total_available_areas())\n",
    "print(\"Available Participants:\",len(measurement_full.get_participant_list()))\n"
   ]
  },
  {
   "cell_type": "code",
   "execution_count": null,
   "id": "pleased-rebel",
   "metadata": {
    "scrolled": true
   },
   "outputs": [],
   "source": [
    "measurement_full.apply_reference_data(REFERENCE_DATA_ALL_EVENTS_FAILED)"
   ]
  },
  {
   "cell_type": "code",
   "execution_count": null,
   "id": "thermal-library",
   "metadata": {},
   "outputs": [],
   "source": [
    "full_filtered_data = measurement_full.get_data(use_vanilla=False, filter_data=True,filter_by_corr_coeff_dict = CORRELATION_DICT, corr_coeff_threshold=0.95)"
   ]
  },
  {
   "cell_type": "code",
   "execution_count": null,
   "id": "liked-immigration",
   "metadata": {},
   "outputs": [],
   "source": [
    "full_vanilla_data = measurement_full.get_data(use_vanilla=True, filter_data=False)"
   ]
  },
  {
   "cell_type": "code",
   "execution_count": null,
   "id": "elder-hanging",
   "metadata": {
    "scrolled": true
   },
   "outputs": [],
   "source": [
    "save_to_disk(full_filtered_data, final_data_path + \"full_filtered_data.pickle\")"
   ]
  },
  {
   "cell_type": "code",
   "execution_count": null,
   "id": "touched-delight",
   "metadata": {},
   "outputs": [],
   "source": [
    "print(\"NaNs\")\n",
    "\n",
    "for participant in list(full_filtered_data.keys()):\n",
    "    for area in list(full_filtered_data[participant].keys()):\n",
    "        for segment in list(full_filtered_data[participant][area].keys()):\n",
    "            \n",
    "            if full_filtered_data[participant][area][segment].isnull().any().any():\n",
    "                print(participant, area, segment)\n",
    "                \n",
    "                # remove \n",
    "                full_filtered_data[participant][area].pop(segment)\n",
    "                \n",
    "            "
   ]
  },
  {
   "cell_type": "code",
   "execution_count": null,
   "id": "critical-durham",
   "metadata": {},
   "outputs": [],
   "source": [
    "westbrueck_cnt = 0\n",
    "autobahn_cnt = 0\n",
    "countryroad_cnt = 0\n",
    "mountainroad_cnt = 0 \n",
    "\n",
    "\n",
    "westbrueck_segments = [] # list of dfs \n",
    "\n",
    "for participant in full_filtered_data:\n",
    "    for area in full_filtered_data[participant]:\n",
    "        for segment in full_filtered_data[participant][area]:\n",
    "            \n",
    "            if area == \"Autobahn\":\n",
    "                autobahn_cnt += 1\n",
    "            if area == \"CountryRoad\":\n",
    "                countryroad_cnt += 1\n",
    "            if area == \"MountainRoad\":\n",
    "                mountainroad_cnt += 1\n",
    "            if area == \"Westbrueck\":\n",
    "                westbrueck_cnt += 1\n",
    "                westbrueck_segments.append(full_filtered_data[participant][area][segment])\n",
    "                \n",
    "save_to_disk(westbrueck_segments, final_data_path + \"westbrueck_segments.pickle\")\n",
    "\n",
    "print(\"Available Segments in Areas (after filtering):\")\n",
    "print(\"Autobahn:\",autobahn_cnt,\"\\tWestbrueck:\",westbrueck_cnt,\"\\tCountryRoad:\",countryroad_cnt,\"\\tMountainRoad:\",mountainroad_cnt)\n"
   ]
  },
  {
   "cell_type": "code",
   "execution_count": null,
   "id": "suited-bandwidth",
   "metadata": {},
   "outputs": [],
   "source": []
  }
 ],
 "metadata": {
  "kernelspec": {
   "display_name": "Python 3",
   "language": "python",
   "name": "python3"
  },
  "language_info": {
   "codemirror_mode": {
    "name": "ipython",
    "version": 3
   },
   "file_extension": ".py",
   "mimetype": "text/x-python",
   "name": "python",
   "nbconvert_exporter": "python",
   "pygments_lexer": "ipython3",
   "version": "3.8.8"
  }
 },
 "nbformat": 4,
 "nbformat_minor": 5
}
