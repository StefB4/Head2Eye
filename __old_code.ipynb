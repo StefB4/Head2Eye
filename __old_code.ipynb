{
 "cells": [
  {
   "cell_type": "markdown",
   "id": "fixed-defensive",
   "metadata": {},
   "source": [
    "## Surrogate data to test euler angle to direction transformation "
   ]
  },
  {
   "cell_type": "code",
   "execution_count": null,
   "id": "applied-modern",
   "metadata": {},
   "outputs": [],
   "source": [
    "# surrogate data to test \n",
    "surrogate_df = pd.DataFrame(columns=['angle_x','angle_y','angle_z'], index=np.arange(360)) # \"direction_x\",\"direction_y\",\"direction_z\",\"sin(angle_x)\"\n",
    "\n",
    "surrogate_df[\"angle_x\"] = surrogate_df[\"angle_y\"] = surrogate_df[\"angle_z\"] = 0\n",
    "\n",
    "\n",
    "surrogate_df[\"angle_x\"] = range(0,360,1)\n",
    "surrogate_df[\"angle_x\"] = surrogate_df[\"angle_x\"] # / 360 * 2 * np.pi\n",
    "#surrogate_df[\"angle_y\"] = range(200,0,-2)\n",
    "#surrogate_df[\"angle_y\"] = surrogate_df[\"angle_y\"] # / 360 * 2 * np.pi\n",
    "\n",
    "pitch = surrogate_df['angle_x']\n",
    "yaw = surrogate_df['angle_y']\n",
    "roll = surrogate_df['angle_z']\n",
    "   \n",
    "    \n",
    "'''\n",
    "surrogate_df['direction_x'] = -np.cos(yaw)*np.sin(pitch)*np.sin(roll)-np.sin(yaw)*np.cos(roll)\n",
    "surrogate_df['direction_y'] = -np.sin(yaw)*np.sin(pitch)*np.sin(roll)+np.cos(yaw)*np.cos(roll)\n",
    "surrogate_df['direction_z'] =  np.cos(pitch)*np.sin(roll)\n",
    "'''\n",
    "\n",
    "surrogate_df"
   ]
  },
  {
   "cell_type": "code",
   "execution_count": null,
   "id": "incorporated-flashing",
   "metadata": {},
   "outputs": [],
   "source": [
    "result_vec = pd.DataFrame(columns=['angle_x','angle_y','angle_z',\"direction_x\",\"direction_y\",\"direction_z\"])\n",
    "\n",
    "for idx in range(len(surrogate_df)):\n",
    "    \n",
    "    rot_x = surrogate_df['angle_x'][idx] \n",
    "    rot_y = surrogate_df['angle_y'][idx]\n",
    "    rot_z = surrogate_df['angle_z'][idx] \n",
    "\n",
    "    r = R.from_euler(seq='XYZ', angles=[rot_x, rot_y, rot_z], degrees=True) \n",
    "\n",
    "    rotvec = r.as_rotvec()\n",
    "\n",
    "    rotvec_norm = rotvec/np.linalg.norm(rotvec)\n",
    "    \n",
    "    '''\n",
    "    temp = pd.DataFrame(columns=['angle_x','angle_y','angle_z',\"direction_x\",\"direction_y\",\"direction_z\"])\n",
    "    temp.loc[0,'angle_x'] = rot_x\n",
    "    temp.loc[0,'angle_y'] = rot_y\n",
    "    temp.loc[0,'angle_z'] = rot_z\n",
    "    temp.loc[0, 'direction_x'] = rotvec_norm[0]\n",
    "    temp.loc[0,'direction_y'] = rotvec_norm[1]\n",
    "    temp.loc[0,'direction_z'] = rotvec_norm[2]\n",
    "    '''\n",
    "    \n",
    "    #print([rot_x,rot_y,rot_z,rotvec_norm[0],rotvec_norm[1],rotvec_norm[2]])\n",
    "    \n",
    "    result_vec.loc[idx] = [rot_x,rot_y,rot_z,rotvec_norm[0],rotvec_norm[1],rotvec_norm[2]]\n",
    "\n",
    "pd.set_option('display.max_rows', 200)\n",
    "result_vec\n",
    "    "
   ]
  },
  {
   "cell_type": "code",
   "execution_count": null,
   "id": "urban-oxide",
   "metadata": {},
   "outputs": [],
   "source": [
    "from mpl_toolkits.mplot3d import Axes3D\n",
    "\n",
    "fig = plt.figure(figsize=(15,10))\n",
    "ax1 = fig.add_subplot(1,2,1, projection='3d')\n",
    "\n",
    "x = result_vec['angle_x']\n",
    "y = result_vec['angle_y']\n",
    "z = result_vec['angle_z']\n",
    "\n",
    "ax1.set_xlim([0,360])\n",
    "ax1.set_ylim([0,360])\n",
    "ax1.set_zlim([0,360])\n",
    "ax1.set_title('Rotation Angle')\n",
    "\n",
    "ax1.scatter(x, y, z, c='r', marker='o')\n",
    "\n",
    "ax2 = fig.add_subplot(1,2,2, projection='3d')\n",
    "\n",
    "x = result_vec['direction_x']\n",
    "y = result_vec['direction_y']\n",
    "z = result_vec['direction_z']\n",
    "\n",
    "ax2.set_xlim([-1,1])\n",
    "ax2.set_ylim([-1,1])\n",
    "ax2.set_zlim([-1,1])\n",
    "ax2.set_title('Rotation Direction')\n",
    "\n",
    "ax2.scatter(x, y, z, c='r', marker='o')"
   ]
  },
  {
   "cell_type": "markdown",
   "id": "appreciated-tampa",
   "metadata": {},
   "source": [
    "## Old Calculation of yaw, pitch roll, likely incorrect"
   ]
  },
  {
   "cell_type": "code",
   "execution_count": null,
   "id": "loose-governor",
   "metadata": {},
   "outputs": [],
   "source": [
    "pitch = current_df['car_rotation_angles.x']\n",
    "yaw = current_df['car_rotation_angles.y']\n",
    "roll = current_df['car_rotation_angles.z']\n",
    "\n",
    "# First option\n",
    "current_df['car_rotation_direction.x'] = -np.cos(yaw)*np.sin(pitch)*np.sin(roll)-np.sin(yaw)*np.cos(roll)\n",
    "current_df['car_rotation_direction.y'] = -np.sin(yaw)*np.sin(pitch)*np.sin(roll)+np.cos(yaw)*np.cos(roll)\n",
    "current_df['car_rotation_direction.z'] =  np.cos(pitch)*np.sin(roll)\n",
    "\n",
    "# Second option\n",
    "current_df['car_rotation_direction.x'] = np.cos(yaw)*np.cos(pitch)\n",
    "current_df['car_rotation_direction.y'] = np.sin(yaw)*np.cos(pitch)\n",
    "current_df['car_rotation_direction.z'] = np.sin(pitch)"
   ]
  },
  {
   "cell_type": "markdown",
   "id": "adjusted-court",
   "metadata": {},
   "source": [
    "## Check different ways of calculating direction from angles "
   ]
  },
  {
   "cell_type": "code",
   "execution_count": null,
   "id": "digital-iraqi",
   "metadata": {},
   "outputs": [],
   "source": [
    "from scipy.spatial.transform import Rotation as R\n",
    "\n",
    "test_vecs = pd.DataFrame(columns=['X','Y','Z'])\n",
    "idx = 0\n",
    "for idx in range(len(ref_data_one_participant_single_segment)):\n",
    "    \n",
    "    carRot_x = ref_data_one_participant_single_segment['car_rotation_angles.x'][idx] \n",
    "    carRot_y = ref_data_one_participant_single_segment['car_rotation_angles.y'][idx] \n",
    "    carRot_z = ref_data_one_participant_single_segment['car_rotation_angles.z'][idx] \n",
    "\n",
    "    r = R.from_euler(seq='zxy', angles=[carRot_x, carRot_y, carRot_z], degrees=True) \n",
    "\n",
    "    rotvec = r.as_rotvec()\n",
    "\n",
    "    rotvec_norm = rotvec/np.linalg.norm(rotvec)\n",
    "    \n",
    "    temp = pd.DataFrame(columns=['X','Y','Z'])\n",
    "    \n",
    "    temp.loc[0, 'X'] = rotvec_norm[0]\n",
    "    temp.loc[0,'Y'] = rotvec_norm[1]\n",
    "    temp.loc[0,'Z'] = rotvec_norm[2]\n",
    "    \n",
    "    test_vecs = test_vecs.append(temp)\n",
    "    \n",
    "\n",
    "\n"
   ]
  },
  {
   "cell_type": "code",
   "execution_count": null,
   "id": "matched-courtesy",
   "metadata": {},
   "outputs": [],
   "source": [
    "plt.plot(range(len(ref_data_one_participant_single_segment['car_rotation_direction.x'])),ref_data_one_participant_single_segment['car_rotation_direction.x'])"
   ]
  },
  {
   "cell_type": "code",
   "execution_count": null,
   "id": "numerical-ottawa",
   "metadata": {},
   "outputs": [],
   "source": [
    "plt.plot(range(len(test_vecs)),test_vecs.X)"
   ]
  },
  {
   "cell_type": "markdown",
   "id": "neutral-review",
   "metadata": {},
   "source": [
    "## Extracting participant data"
   ]
  },
  {
   "cell_type": "code",
   "execution_count": null,
   "id": "spread-preservation",
   "metadata": {},
   "outputs": [],
   "source": [
    "one_participant_single_segment = measurement1.get_data(use_vanilla=False, filter_data=True, \\\n",
    "                 get_first_segment=False, after_event_type_only=[True,False], \\\n",
    "                 exclude_areas=[], exclude_segments=[], \\\n",
    "                 exclude_participants=['0d0d7bd79b1a48d4ad5e757cdbfc15c9']) "
   ]
  }
 ],
 "metadata": {
  "kernelspec": {
   "display_name": "Python 3",
   "language": "python",
   "name": "python3"
  },
  "language_info": {
   "codemirror_mode": {
    "name": "ipython",
    "version": 3
   },
   "file_extension": ".py",
   "mimetype": "text/x-python",
   "name": "python",
   "nbconvert_exporter": "python",
   "pygments_lexer": "ipython3",
   "version": "3.8.8"
  }
 },
 "nbformat": 4,
 "nbformat_minor": 5
}
