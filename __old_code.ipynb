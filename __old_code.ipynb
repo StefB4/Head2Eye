{
 "cells": [
  {
   "cell_type": "code",
   "execution_count": null,
   "id": "excited-essex",
   "metadata": {},
   "outputs": [],
   "source": [
    "# Old Calculation of yaw, pitch roll, likely incorrect\n",
    "    \n",
    "pitch = current_df['car_rotation_angles.x']\n",
    "yaw = current_df['car_rotation_angles.y']\n",
    "roll = current_df['car_rotation_angles.z']\n",
    "\n",
    "# First option\n",
    "current_df['car_rotation_direction.x'] = -np.cos(yaw)*np.sin(pitch)*np.sin(roll)-np.sin(yaw)*np.cos(roll)\n",
    "current_df['car_rotation_direction.y'] = -np.sin(yaw)*np.sin(pitch)*np.sin(roll)+np.cos(yaw)*np.cos(roll)\n",
    "current_df['car_rotation_direction.z'] =  np.cos(pitch)*np.sin(roll)\n",
    "\n",
    "# Second option\n",
    "current_df['car_rotation_direction.x'] = np.cos(yaw)*np.cos(pitch)\n",
    "current_df['car_rotation_direction.y'] = np.sin(yaw)*np.cos(pitch)\n",
    "current_df['car_rotation_direction.z'] = np.sin(pitch)"
   ]
  }
 ],
 "metadata": {
  "kernelspec": {
   "display_name": "Python 3",
   "language": "python",
   "name": "python3"
  },
  "language_info": {
   "codemirror_mode": {
    "name": "ipython",
    "version": 3
   },
   "file_extension": ".py",
   "mimetype": "text/x-python",
   "name": "python",
   "nbconvert_exporter": "python",
   "pygments_lexer": "ipython3",
   "version": "3.8.8"
  }
 },
 "nbformat": 4,
 "nbformat_minor": 5
}
