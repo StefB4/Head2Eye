{
 "cells": [
  {
   "cell_type": "code",
   "execution_count": 1,
   "id": "threaded-childhood",
   "metadata": {},
   "outputs": [],
   "source": [
    "import numpy as np\n",
    "import matplotlib.pyplot as plt\n",
    "\n",
    "import pickle\n",
    "import os\n",
    "import pandas as pd\n",
    "import json\n",
    "from itertools import compress\n",
    "import math\n",
    "\n",
    "from scipy import signal \n",
    "\n",
    "import glob\n",
    "\n",
    "from DataManager import ParticipantData, MeasurementData\n",
    "from Helpers import read_normalized_json_to_df, save_to_disk, load_from_disk, create_rolling_windows, \\\n",
    "   intersection, reject_outliers, anglebetween, eye_outlier_removal_sigma, eye_outlier_removal_zero_values, validate_participant_seen_areas\n",
    "from AngleHelpers import create_relative_directions"
   ]
  },
  {
   "cell_type": "code",
   "execution_count": 2,
   "id": "configured-oriental",
   "metadata": {},
   "outputs": [],
   "source": [
    "reference_data_all_failed_save_path = \"./post_recorded_reference_data/reference_dict_all.pickle\"\n",
    "REFERENCE_DATA_ALL_EVENTS_FAILED = load_from_disk(reference_data_all_failed_save_path)\n",
    "\n",
    "correlation_dict_path = \"./post_recorded_reference_data/corr_dict.pickle\"\n",
    "CORRELATION_DICT = load_from_disk(correlation_dict_path)"
   ]
  },
  {
   "cell_type": "markdown",
   "id": "convenient-inspection",
   "metadata": {},
   "source": [
    "# Load data"
   ]
  },
  {
   "cell_type": "code",
   "execution_count": 3,
   "id": "otherwise-offense",
   "metadata": {},
   "outputs": [],
   "source": [
    "# Exclude all participants that have less than two (complete) scenes besides the training scene\n",
    "exclude_participant_ids = [\n",
    "    \"a5c5d2051bd1493ea79e1d565524610f\", # ['MountainRoad.txt']\n",
    "    \"2462e5d82bc44a328934442cae03d83f\", # ['MountainRoad.txt', 'TrainingScene.txt']\n",
    "    \"0c2734d5a8664e1abd2ffcf8aa6fa5d6\", # ['TrainingScene.txt']\n",
    "    \"c685e206b2eb4702860bb908afe2a11f\", # ['MountainRoad.txt', 'TrainingScene.txt']\n",
    "    \"28d1f769c1204e36a574c025d8e771c4\", # ['Incomplete.txt', 'MountainRoad.txt', 'TrainingScene.txt']\n",
    "    \"d5f3fa1c877f4afb9bc0250d5882c22c\", # ['TrainingScene.txt']\n",
    "    \"f4c4e380b2b941e4a963fe12f4038865\", # ['MountainRoad.txt', 'TrainingScene.txt']\n",
    "    \"1c293d21f60241008d6230a6f28e4079\", # ['TrainingScene.txt']\n",
    "    \"3e3154cff72540e48eac982a379ce69f\", # ['Incomplete.txt', 'MountainRoad.txt', 'TrainingScene.txt']\n",
    "    \"1deaa8e567f1435da07c0817717ef4fe\", # ['TrainingScene.txt']\n",
    "    \"28191a22a70d478b808eb8905e35c6ba\", # ['Incomplete.txt', 'MountainRoad.txt', 'TrainingScene.txt']\n",
    "    \"ac30f09446ec48289c41b66b1ba0d3f9\", # ['TrainingScene.txt'] \n",
    "    \"5b79b725686a4985b5caf35de0e06d43\", # ['Incomplete.txt', 'TrainingScene.txt']\n",
    "    \"b482259cbb524e689a6e3859951bebf1\", # ['Incomplete.txt', 'MountainRoad.txt', 'TrainingScene.txt']\n",
    "    \"518e07b76d804110b035e3c774f52d5b\", # ['TrainingScene.txt']\n",
    "    \"cc9284dfb5f645858196537e05c1959b\", # ['MountainRoad.txt']\n",
    "    \"0cd51e7040bc43568284cdcedccfe0d3\", # ['TrainingScene.txt']\n",
    "    \"d9cd9704a0064fed9993333363608346\", # ['Incomplete.txt', 'MountainRoad.txt', 'TrainingScene.txt']\n",
    "    \"5ff5cecd56f7486286ec386434ae9219\", # ['Incomplete.txt', 'MountainRoad.txt', 'TrainingScene.txt']\n",
    "    \"178dd53ce37a40b0accd7a59cc9035ac\", # ['TrainingScene.txt']\n",
    "    \"1efd4163b5614c8e9eed8e04c0ceda3e\", # ['MountainRoad.txt', 'TrainingScene.txt'] \n",
    "    \"b74d6990eba645fa82fa2ab9fb0b5180\", # ['Incomplete.txt', 'MountainRoad.txt', 'TrainingScene.txt']\n",
    "    \"711fa186ae5e4d9fada5b0e0049a2074\", # ['Incomplete.txt', 'MountainRoad.txt', 'TrainingScene.txt']\n",
    "    \"83b00eb628b2446d992ac698026dfdc0\", # ['Incomplete.txt', 'MountainRoad.txt', 'TrainingScene.txt']\n",
    "    \"f2fb2a62a3ca4033b9005be13842e27c\", # ['MountainRoad.txt']\n",
    "    \"0c0c45348e314379994333127e5456ae\", # ['TrainingScene.txt']\n",
    "    \"7824cc42ee0447a4a2fa56b9c93bbabb\", # ['TrainingScene.txt']\n",
    "    \"95228b7595954054ae2d11cfbd7623f8\", # ['Incomplete.txt', 'MountainRoad.txt', 'TrainingScene.txt']\n",
    "    \"a5a31c4af00b4199ac4c8760bfaa469e\", # ['Incomplete.txt', 'MountainRoad.txt', 'TrainingScene.txt']\n",
    "    \"addd1085215d42b38184517a2dc95d8d\", # ['Incomplete.txt', 'MountainRoad.txt', 'TrainingScene.txt']\n",
    "    \"f4db5c989fa64b90b31d396943964c12\", # ['TrainingScene.txt']\n",
    "    \"a33a91bbd197432c91a8156f88e46c08\", # ['Incomplete.txt', 'MountainRoad.txt', 'TrainingScene.txt']\n",
    "    \"206b42297be84c7087da6c93f46615bd\", # ['Incomplete.txt', 'MountainRoad.txt', 'TrainingScene.txt']\n",
    "    \"cf45d8bef0b842e5bac1b7022cc3c354\", # ['MountainRoad.txt', 'TrainingScene.txt']\n",
    "    \"e9ec1e6c22c640168130d2756426666c\", # ['TrainingScene.txt']\n",
    "    \"989685d9ca454491b184984695786e20\", # ['TrainingScene.txt']\n",
    "    \"8f9b8786312349639e8811f451054df0\", # ['MountainRoad.txt']\n",
    "    \"39e38c2aa06c42d79e50f36b631f9652\", # ---- Some weird key error ---> files are empty for certain scenes\n",
    "    \"5e66bfb48366498aa83c364bf31c6059\", # ---- Some weird key error\n",
    "    \"3358f368d8694472a86c4770d4f804bc\", # ---- Some weird key error\n",
    "    \"95e8781012c94d37a222b5679724cb1d\", # ---- Some weird key error\n",
    "    \"8626976ce8b14752be340be9f1070724\", # ---- Some weird key error\n",
    "    \"ab79e465598844af94e9bfdfca116fc4\", # ---- Some weird key error\n",
    "    \"6f7a67231a16454dbd657d2f48443aac\", # ---- Some weird key error\n",
    "    \"2cae1d5a3c0c4872b2f397deb13ece71\", # ---- Some weird key error\n",
    "    \"8b27ff8591af4cd79067cf156d23ab95\", # ---- Some weird key error\n",
    "    \"8245ccbaba844032b08f7c33d9c4308a\", # ---- Some weird key error \n",
    "    \"d093379ce1224f1bb24b9730da105927\", # ---- Some weird key error \n",
    "    \"ff0cb5fdc1884204937eca64b52ee041\", # ---- Some weird key error\n",
    "    \"05086cebdd4c45a084ed3ce6b25cc9e6\", # ---- Some weird key error\n",
    "    \"4858c7aa9362421988e7c88d5adae755\", # ---- Some weird key error\n",
    "    \"66bdb97a653b48f98c02d5e764089c00\", # ---- Some weird key error\n",
    "    \"3100b15011da48d88fa3f7f053e4e19f\", # ---- Some weird key error\n",
    "    \"39e5235b13274feb88430f08f3cd5369\", # ---- Some weird key error\n",
    "    \"9b9220b8bf8c4e61adde8bc7571540ef\", # ---- Some weird key error\n",
    "    \"a57132e2aeba484e8433ae8af9b1abbc\", # ---- Some weird key error\n",
    "    \"3de6823af97441c18c8ca5f169b6e896\", # ---- Some weird key error\n",
    "    \"3d865974f89e44c583e23e4f3c8f3d14\", # ---- Some weird key error\n",
    "    \"011846a5c30c4325b45e439fc992f519\", # ---- Some weird key error\n",
    "    \"951592742a88497989fbb71a65781639\", # ---- Some weird key error \n",
    "    \"867545b969cc4ff088b70eab632671dd\", # ---- Some weird key error\n",
    "    \"0d72afe467e74d4fb717a4ab9bb128ac\", # ---- Some weird key error\n",
    "    \"1d0296054e434021b3aa2b47b6c7d921\", # ---- Number of supplied paths does not match \n",
    "    \"0037b2329de444c18d751b4e79901b39\", # ---- Calibration data seems to be missing\n",
    "    \"b89680ab48514db8bca8fcca1852f36d\", # ---- Calibration data seems to be missing\n",
    "    \n",
    "]"
   ]
  },
  {
   "cell_type": "code",
   "execution_count": 5,
   "id": "charged-ground",
   "metadata": {
    "scrolled": true
   },
   "outputs": [
    {
     "name": "stdout",
     "output_type": "stream",
     "text": [
      "MeasurementData: Found files for participant 0bc17d704fec4a9eb892d905fc2e5da9.\n",
      "Input data files: ['./data/Input/0bc17d704fec4a9eb892d905fc2e5da9_Input_Autobahn.txt', './data/Input/0bc17d704fec4a9eb892d905fc2e5da9_Input_Westbrueck.txt', './data/Input/0bc17d704fec4a9eb892d905fc2e5da9_Input_TrainingScene.txt', './data/Input/0bc17d704fec4a9eb892d905fc2e5da9_Input_MountainRoad.txt', './data/Input/0bc17d704fec4a9eb892d905fc2e5da9_Input_CountryRoad.txt']\n",
      "Eyetracking data files: ['./data/EyeTracking/0bc17d704fec4a9eb892d905fc2e5da9_EyeTracking_MountainRoad.txt', './data/EyeTracking/0bc17d704fec4a9eb892d905fc2e5da9_EyeTracking_Westbrueck.txt', './data/EyeTracking/0bc17d704fec4a9eb892d905fc2e5da9_EyeTracking_TrainingScene.txt', './data/EyeTracking/0bc17d704fec4a9eb892d905fc2e5da9_EyeTracking_Autobahn.txt', './data/EyeTracking/0bc17d704fec4a9eb892d905fc2e5da9_EyeTracking_CountryRoad.txt']\n",
      "Calibration data files: ['./data/ParticipantCalibrationData/0bc17d704fec4a9eb892d905fc2e5da9_ParticipantCalibrationData.txt']\n",
      "Scene data files: ['./data/SceneData/0bc17d704fec4a9eb892d905fc2e5da9_SceneData_MountainRoad.txt', './data/SceneData/0bc17d704fec4a9eb892d905fc2e5da9_SceneData_CountryRoad.txt', './data/SceneData/0bc17d704fec4a9eb892d905fc2e5da9_SceneData_Westbrueck.txt', './data/SceneData/0bc17d704fec4a9eb892d905fc2e5da9_SceneData_TrainingScene.txt', './data/SceneData/0bc17d704fec4a9eb892d905fc2e5da9_SceneData_Autobahn.txt']\n",
      "\n",
      "MeasurementData: Found files for participant 0d0d7bd79b1a48d4ad5e757cdbfc15c9.\n",
      "Input data files: ['./data/Input/0d0d7bd79b1a48d4ad5e757cdbfc15c9_Input_TrainingScene.txt', './data/Input/0d0d7bd79b1a48d4ad5e757cdbfc15c9_Input_Westbrueck.txt', './data/Input/0d0d7bd79b1a48d4ad5e757cdbfc15c9_Input_CountryRoad.txt', './data/Input/0d0d7bd79b1a48d4ad5e757cdbfc15c9_Input_Autobahn.txt', './data/Input/0d0d7bd79b1a48d4ad5e757cdbfc15c9_Input_MountainRoad.txt']\n",
      "Eyetracking data files: ['./data/EyeTracking/0d0d7bd79b1a48d4ad5e757cdbfc15c9_EyeTracking_Westbrueck.txt', './data/EyeTracking/0d0d7bd79b1a48d4ad5e757cdbfc15c9_EyeTracking_Autobahn.txt', './data/EyeTracking/0d0d7bd79b1a48d4ad5e757cdbfc15c9_EyeTracking_MountainRoad.txt', './data/EyeTracking/0d0d7bd79b1a48d4ad5e757cdbfc15c9_EyeTracking_TrainingScene.txt', './data/EyeTracking/0d0d7bd79b1a48d4ad5e757cdbfc15c9_EyeTracking_CountryRoad.txt']\n",
      "Calibration data files: ['./data/ParticipantCalibrationData/0d0d7bd79b1a48d4ad5e757cdbfc15c9_ParticipantCalibrationData.txt']\n",
      "Scene data files: ['./data/SceneData/0d0d7bd79b1a48d4ad5e757cdbfc15c9_SceneData_CountryRoad.txt', './data/SceneData/0d0d7bd79b1a48d4ad5e757cdbfc15c9_SceneData_Westbrueck.txt', './data/SceneData/0d0d7bd79b1a48d4ad5e757cdbfc15c9_SceneData_MountainRoad.txt', './data/SceneData/0d0d7bd79b1a48d4ad5e757cdbfc15c9_SceneData_Autobahn.txt', './data/SceneData/0d0d7bd79b1a48d4ad5e757cdbfc15c9_SceneData_TrainingScene.txt']\n",
      "\n",
      "ParticipantData: Initialising participant 0bc17d704fec4a9eb892d905fc2e5da9.\n",
      "ParticipantData: Loading raw eyetracking data files...\n",
      "ParticipantData: Loading ./data/EyeTracking/0bc17d704fec4a9eb892d905fc2e5da9_EyeTracking_MountainRoad.txt (file 1/5)...\n",
      "ParticipantData: Loading ./data/EyeTracking/0bc17d704fec4a9eb892d905fc2e5da9_EyeTracking_Westbrueck.txt (file 2/5)...\n",
      "ParticipantData: Loading ./data/EyeTracking/0bc17d704fec4a9eb892d905fc2e5da9_EyeTracking_TrainingScene.txt (file 3/5)...\n",
      "ParticipantData: Loading ./data/EyeTracking/0bc17d704fec4a9eb892d905fc2e5da9_EyeTracking_Autobahn.txt (file 4/5)...\n",
      "ParticipantData: Loading ./data/EyeTracking/0bc17d704fec4a9eb892d905fc2e5da9_EyeTracking_CountryRoad.txt (file 5/5)...\n",
      "ParticipantData: Loading raw input data files...\n",
      "ParticipantData: Loading ./data/Input/0bc17d704fec4a9eb892d905fc2e5da9_Input_Autobahn.txt (file 1/5)...\n",
      "ParticipantData: Loading ./data/Input/0bc17d704fec4a9eb892d905fc2e5da9_Input_Westbrueck.txt (file 2/5)...\n",
      "ParticipantData: Loading ./data/Input/0bc17d704fec4a9eb892d905fc2e5da9_Input_TrainingScene.txt (file 3/5)...\n",
      "ParticipantData: Loading ./data/Input/0bc17d704fec4a9eb892d905fc2e5da9_Input_MountainRoad.txt (file 4/5)...\n",
      "ParticipantData: Loading ./data/Input/0bc17d704fec4a9eb892d905fc2e5da9_Input_CountryRoad.txt (file 5/5)...\n",
      "ParticipantData: Loading raw scene data files...\n",
      "ParticipantData: Loading ./data/SceneData/0bc17d704fec4a9eb892d905fc2e5da9_SceneData_MountainRoad.txt (file 1/5)...\n",
      "ParticipantData: Loading ./data/SceneData/0bc17d704fec4a9eb892d905fc2e5da9_SceneData_CountryRoad.txt (file 2/5)...\n",
      "ParticipantData: Loading ./data/SceneData/0bc17d704fec4a9eb892d905fc2e5da9_SceneData_Westbrueck.txt (file 3/5)...\n",
      "ParticipantData: Loading ./data/SceneData/0bc17d704fec4a9eb892d905fc2e5da9_SceneData_TrainingScene.txt (file 4/5)...\n",
      "ParticipantData: Loading ./data/SceneData/0bc17d704fec4a9eb892d905fc2e5da9_SceneData_Autobahn.txt (file 5/5)...\n",
      "ParticipantData: Loading raw calibration data...\n",
      "ParticipantData: Resampled path segments (excl. events):\n",
      "Area: MountainRoad Segment: 0 Total datapoints (incl. resampled): 1717 Filled NaNs: 750\n",
      "Area: MountainRoad Segment: 1 Total datapoints (incl. resampled): 3702 Filled NaNs: 1892\n",
      "Area: MountainRoad Segment: 2 Total datapoints (incl. resampled): 5368 Filled NaNs: 2378\n",
      "Area: MountainRoad Segment: 3 Total datapoints (incl. resampled): 1219 Filled NaNs: 670\n",
      "Area: Westbrueck Segment: 0 Total datapoints (incl. resampled): 2453 Filled NaNs: 1351\n",
      "Area: Westbrueck Segment: 1 Total datapoints (incl. resampled): 2484 Filled NaNs: 1049\n",
      "Area: Westbrueck Segment: 2 Total datapoints (incl. resampled): 2932 Filled NaNs: 1153\n",
      "Area: Westbrueck Segment: 3 Total datapoints (incl. resampled): 2259 Filled NaNs: 1089\n",
      "Area: Autobahn Segment: 0 Total datapoints (incl. resampled): 2818 Filled NaNs: 1286\n",
      "Area: Autobahn Segment: 1 Total datapoints (incl. resampled): 2003 Filled NaNs: 918\n",
      "Area: Autobahn Segment: 2 Total datapoints (incl. resampled): 5225 Filled NaNs: 2237\n",
      "Area: Autobahn Segment: 3 Total datapoints (incl. resampled): 468 Filled NaNs: 203\n",
      "Area: CountryRoad Segment: 0 Total datapoints (incl. resampled): 2168 Filled NaNs: 1040\n",
      "Area: CountryRoad Segment: 1 Total datapoints (incl. resampled): 3569 Filled NaNs: 1583\n",
      "Area: CountryRoad Segment: 2 Total datapoints (incl. resampled): 3709 Filled NaNs: 1628\n",
      "Area: CountryRoad Segment: 3 Total datapoints (incl. resampled): 4398 Filled NaNs: 1924\n",
      "ParticipantData: Loaded data (raw) for participant 0bc17d704fec4a9eb892d905fc2e5da9.\n",
      "ParticipantData: Saved bootstrapped data to disk.\n",
      "\n",
      "ParticipantData: Initialising participant 0d0d7bd79b1a48d4ad5e757cdbfc15c9.\n",
      "ParticipantData: Loading raw eyetracking data files...\n",
      "ParticipantData: Loading ./data/EyeTracking/0d0d7bd79b1a48d4ad5e757cdbfc15c9_EyeTracking_Westbrueck.txt (file 1/5)...\n",
      "ParticipantData: Loading ./data/EyeTracking/0d0d7bd79b1a48d4ad5e757cdbfc15c9_EyeTracking_Autobahn.txt (file 2/5)...\n",
      "ParticipantData: Loading ./data/EyeTracking/0d0d7bd79b1a48d4ad5e757cdbfc15c9_EyeTracking_MountainRoad.txt (file 3/5)...\n",
      "ParticipantData: Loading ./data/EyeTracking/0d0d7bd79b1a48d4ad5e757cdbfc15c9_EyeTracking_TrainingScene.txt (file 4/5)...\n",
      "ParticipantData: Loading ./data/EyeTracking/0d0d7bd79b1a48d4ad5e757cdbfc15c9_EyeTracking_CountryRoad.txt (file 5/5)...\n",
      "ParticipantData: Loading raw input data files...\n",
      "ParticipantData: Loading ./data/Input/0d0d7bd79b1a48d4ad5e757cdbfc15c9_Input_TrainingScene.txt (file 1/5)...\n",
      "ParticipantData: Loading ./data/Input/0d0d7bd79b1a48d4ad5e757cdbfc15c9_Input_Westbrueck.txt (file 2/5)...\n",
      "ParticipantData: Loading ./data/Input/0d0d7bd79b1a48d4ad5e757cdbfc15c9_Input_CountryRoad.txt (file 3/5)...\n",
      "ParticipantData: Loading ./data/Input/0d0d7bd79b1a48d4ad5e757cdbfc15c9_Input_Autobahn.txt (file 4/5)...\n",
      "ParticipantData: Loading ./data/Input/0d0d7bd79b1a48d4ad5e757cdbfc15c9_Input_MountainRoad.txt (file 5/5)...\n",
      "ParticipantData: Loading raw scene data files...\n",
      "ParticipantData: Loading ./data/SceneData/0d0d7bd79b1a48d4ad5e757cdbfc15c9_SceneData_CountryRoad.txt (file 1/5)...\n",
      "ParticipantData: Loading ./data/SceneData/0d0d7bd79b1a48d4ad5e757cdbfc15c9_SceneData_Westbrueck.txt (file 2/5)...\n",
      "ParticipantData: Loading ./data/SceneData/0d0d7bd79b1a48d4ad5e757cdbfc15c9_SceneData_MountainRoad.txt (file 3/5)...\n",
      "ParticipantData: Loading ./data/SceneData/0d0d7bd79b1a48d4ad5e757cdbfc15c9_SceneData_Autobahn.txt (file 4/5)...\n",
      "ParticipantData: Loading ./data/SceneData/0d0d7bd79b1a48d4ad5e757cdbfc15c9_SceneData_TrainingScene.txt (file 5/5)...\n",
      "ParticipantData: Loading raw calibration data...\n",
      "ParticipantData: Resampled path segments (excl. events):\n",
      "Area: Westbrueck Segment: 0 Total datapoints (incl. resampled): 2457 Filled NaNs: 1344\n",
      "Area: Westbrueck Segment: 1 Total datapoints (incl. resampled): 2484 Filled NaNs: 1066\n",
      "Area: Westbrueck Segment: 2 Total datapoints (incl. resampled): 2941 Filled NaNs: 1122\n",
      "Area: Westbrueck Segment: 3 Total datapoints (incl. resampled): 2204 Filled NaNs: 1024\n",
      "Area: Autobahn Segment: 0 Total datapoints (incl. resampled): 2891 Filled NaNs: 1274\n",
      "Area: Autobahn Segment: 1 Total datapoints (incl. resampled): 1901 Filled NaNs: 845\n",
      "Area: Autobahn Segment: 2 Total datapoints (incl. resampled): 5214 Filled NaNs: 2146\n"
     ]
    },
    {
     "name": "stdout",
     "output_type": "stream",
     "text": [
      "Area: Autobahn Segment: 3 Total datapoints (incl. resampled): 237 Filled NaNs: 103\n",
      "Area: MountainRoad Segment: 0 Total datapoints (incl. resampled): 1992 Filled NaNs: 1041\n",
      "Area: MountainRoad Segment: 1 Total datapoints (incl. resampled): 3148 Filled NaNs: 1644\n",
      "Area: MountainRoad Segment: 2 Total datapoints (incl. resampled): 6041 Filled NaNs: 2630\n",
      "Area: MountainRoad Segment: 3 Total datapoints (incl. resampled): 1223 Filled NaNs: 672\n",
      "Area: CountryRoad Segment: 0 Total datapoints (incl. resampled): 2169 Filled NaNs: 1054\n",
      "Area: CountryRoad Segment: 1 Total datapoints (incl. resampled): 3562 Filled NaNs: 1578\n",
      "Area: CountryRoad Segment: 2 Total datapoints (incl. resampled): 2984 Filled NaNs: 1331\n",
      "Area: CountryRoad Segment: 3 Total datapoints (incl. resampled): 4303 Filled NaNs: 1890\n",
      "ParticipantData: Loaded data (raw) for participant 0d0d7bd79b1a48d4ad5e757cdbfc15c9.\n",
      "ParticipantData: Saved bootstrapped data to disk.\n",
      "\n"
     ]
    }
   ],
   "source": [
    "verbose = True\n",
    "\n",
    "participant_bootstrap_path = \"/Volumes/LaCie/aMessdaten/LoopAR/Bootstrapped_Participants/\"\n",
    "keep_participants_in_memory = False\n",
    "\n",
    "\n",
    "eyes_paths  = [\"/Volumes/LaCie/aMessdaten/LoopAR/Data_from_store/LoopAR Data/WestdriveLoopARData_left_complete/EyeTracking/\",\"/Volumes/LaCie/aMessdaten/LoopAR/Data_from_store/LoopAR Data/WestdriveLoopARData_right_complete/EyeTracking/\"]\n",
    "input_paths = [\"/Volumes/LaCie/aMessdaten/LoopAR/Data_from_store/LoopAR Data/WestdriveLoopARData_left_complete/Input/\",\"/Volumes/LaCie/aMessdaten/LoopAR/Data_from_store/LoopAR Data/WestdriveLoopARData_right_complete/Input/\"]\n",
    "calib_paths = [\"/Volumes/LaCie/aMessdaten/LoopAR/Data_from_store/LoopAR Data/WestdriveLoopARData_left_complete/ParticipantCalibrationData/\",\"/Volumes/LaCie/aMessdaten/LoopAR/Data_from_store/LoopAR Data/WestdriveLoopARData_right_complete/ParticipantCalibrationData/\"]\n",
    "scene_paths = [\"/Volumes/LaCie/aMessdaten/LoopAR/Data_from_store/LoopAR Data/WestdriveLoopARData_left_complete/SceneData/\",\"/Volumes/LaCie/aMessdaten/LoopAR/Data_from_store/LoopAR Data/WestdriveLoopARData_right_complete/SceneData/\"]\n",
    "\n",
    "eyes_paths  = [\"./data/EyeTracking/\"]\n",
    "input_paths = [\"./data/Input/\"]\n",
    "calib_paths = [\"./data/ParticipantCalibrationData/\"]\n",
    "scene_paths = [\"./data/SceneData/\"]\n",
    "\n",
    "\n",
    "\n",
    "\n",
    "#validate_participant_seen_areas(eyes_paths,exclude_participant_ids)\n",
    "measurement1 = MeasurementData(eyes_paths,input_paths,calib_paths,scene_paths,participant_bootstrap_path,exclude_participant_ids,keep_participants_in_memory,verbose)\n"
   ]
  },
  {
   "cell_type": "code",
   "execution_count": 12,
   "id": "verbal-helena",
   "metadata": {},
   "outputs": [
    {
     "name": "stdout",
     "output_type": "stream",
     "text": [
      "ParticipantData: Initialising participant 0bc17d704fec4a9eb892d905fc2e5da9.\n",
      "ParticipantData: Loaded data (bootstrapped) for participant 0bc17d704fec4a9eb892d905fc2e5da9.\n",
      "ParticipantData: Filtering data by Correlation Coefficients with threshold 0.95.\n",
      "ParticipantData: Corr-coeff filtering excluded MountainRoad segment 1 with min corr-coeffs 0.9440682544132852.\n",
      "ParticipantData: Corr-coeff filtering excluded MountainRoad segment 2 with min corr-coeffs 0.4288595845461723.\n",
      "ParticipantData: Corr-coeff filtering excluded Westbrueck segment 2 with min corr-coeffs 0.9055197317583018.\n",
      "ParticipantData: Corr-coeff filtering excluded Autobahn segment 1 with min corr-coeffs 0.6856464347733652.\n",
      "ParticipantData: Corr-coeff filtering excluded Autobahn segment 3 with min corr-coeffs -0.9139574552395952.\n",
      "ParticipantData: Corr-coeff filtering excluded CountryRoad segment 1 with min corr-coeffs 0.9378459305925257.\n",
      "ParticipantData: Corr-coeff filtering excluded CountryRoad segment 2 with min corr-coeffs 0.8192290224652639.\n",
      "ParticipantData: Corr-coeff filtering excluded CountryRoad segment 3 with min corr-coeffs 0.9363527740836213.\n",
      "ParticipantData: Initialising participant 0d0d7bd79b1a48d4ad5e757cdbfc15c9.\n",
      "ParticipantData: Loaded data (bootstrapped) for participant 0d0d7bd79b1a48d4ad5e757cdbfc15c9.\n",
      "ParticipantData: Filtering data by Correlation Coefficients with threshold 0.95.\n",
      "ParticipantData: Corr-coeff filtering excluded Westbrueck segment 2 with min corr-coeffs 0.9055197317583018.\n",
      "ParticipantData: Corr-coeff filtering excluded Autobahn segment 1 with min corr-coeffs 0.6856464347733652.\n",
      "ParticipantData: Corr-coeff filtering excluded Autobahn segment 3 with min corr-coeffs -0.9139574552395952.\n",
      "ParticipantData: Corr-coeff filtering excluded MountainRoad segment 1 with min corr-coeffs 0.9440682544132852.\n",
      "ParticipantData: Corr-coeff filtering excluded MountainRoad segment 2 with min corr-coeffs 0.4288595845461723.\n",
      "ParticipantData: Corr-coeff filtering excluded CountryRoad segment 1 with min corr-coeffs 0.9378459305925257.\n",
      "ParticipantData: Corr-coeff filtering excluded CountryRoad segment 2 with min corr-coeffs 0.8192290224652639.\n",
      "ParticipantData: Corr-coeff filtering excluded CountryRoad segment 3 with min corr-coeffs 0.9363527740836213.\n"
     ]
    },
    {
     "data": {
      "text/plain": [
       "{'0bc17d704fec4a9eb892d905fc2e5da9': {'MountainRoad': {0:       HmdPosition.x  HmdPosition.y  HmdPosition.z  NoseVector.x  NoseVector.y  \\\n",
       "   0         -0.147156       1.009186       0.414246      0.006151      0.053623   \n",
       "   1         -0.147176       1.009176       0.414246      0.006049      0.053482   \n",
       "   2         -0.147196       1.009165       0.414246      0.005946      0.053342   \n",
       "   3         -0.147217       1.009155       0.414246      0.005843      0.053202   \n",
       "   4         -0.147186       1.009155       0.414261      0.005617      0.053287   \n",
       "   ...             ...            ...            ...           ...           ...   \n",
       "   1686      -0.318817       1.058548       0.340286     -0.077524      0.072861   \n",
       "   1687      -0.489197       1.073425       0.303589     -0.078941      0.073112   \n",
       "   1688      -0.546895       1.078079       0.290802     -0.080144      0.073172   \n",
       "   1689      -0.604594       1.082733       0.278015     -0.081347      0.073232   \n",
       "   1690      -0.496460       1.072937       0.300781     -0.082547      0.073295   \n",
       "   \n",
       "         NoseVector.z  EyePosWorldCombined.x  EyePosWorldCombined.y  \\\n",
       "   0         0.998542              -0.162231               1.010376   \n",
       "   1         0.998550              -0.161753               1.010213   \n",
       "   2         0.998559              -0.161275               1.010050   \n",
       "   3         0.998567              -0.160797               1.009888   \n",
       "   4         0.998563              -0.160629               1.009659   \n",
       "   ...            ...                    ...                    ...   \n",
       "   1686      0.994325              -0.335754               1.064163   \n",
       "   1687      0.994195              -0.506165               1.079041   \n",
       "   1688      0.994094              -0.563904               1.083684   \n",
       "   1689      0.993992              -0.621643               1.088328   \n",
       "   1690      0.993888              -0.513550               1.078522   \n",
       "   \n",
       "         EyePosWorldCombined.z  EyeDirWorldCombined.x  EyeDirWorldCombined.y  \\\n",
       "   0                  0.445831               0.027015              -0.026401   \n",
       "   1                  0.448364               0.019139              -0.026497   \n",
       "   2                  0.450897               0.011262              -0.026590   \n",
       "   3                  0.453430               0.003384              -0.026682   \n",
       "   4                  0.455048              -0.000160              -0.066437   \n",
       "   ...                     ...                    ...                    ...   \n",
       "   1686               0.346832              -0.119653               0.005655   \n",
       "   1687               0.310242              -0.122083               0.005961   \n",
       "   1688               0.297445              -0.123955               0.005571   \n",
       "   1689               0.284648              -0.125827               0.005181   \n",
       "   1690               0.307404              -0.127699               0.004796   \n",
       "   \n",
       "         EyeDirWorldCombined.z  EyePosLocalCombined.x  EyePosLocalCombined.y  \\\n",
       "   0                  0.999286              -0.015566               0.003396   \n",
       "   1                  0.999466              -0.018110               0.003333   \n",
       "   2                  0.999583              -0.020654               0.003270   \n",
       "   3                  0.999638              -0.023199               0.003206   \n",
       "   4                  0.997791              -0.024823               0.003046   \n",
       "   ...                     ...                    ...                    ...   \n",
       "   1686               0.992800               0.005268               0.003986   \n",
       "   1687               0.992502               0.005083               0.003978   \n",
       "   1688               0.992272               0.005066               0.003972   \n",
       "   1689               0.992039               0.005048               0.003967   \n",
       "   1690               0.991801               0.005031               0.003962   \n",
       "   \n",
       "         EyePosLocalCombined.z  EyeDirLocalCombined.x  EyeDirLocalCombined.y  \\\n",
       "   0                 -0.031045               0.016403              -0.080902   \n",
       "   1                 -0.030748               0.008504              -0.080546   \n",
       "   2                 -0.030451               0.000605              -0.080190   \n",
       "   3                 -0.030154              -0.007294              -0.079834   \n",
       "   4                 -0.030123              -0.012886              -0.119064   \n",
       "   ...                     ...                    ...                    ...   \n",
       "   1686              -0.033304              -0.046280              -0.064018   \n",
       "   1687              -0.033281              -0.047165              -0.064407   \n",
       "   1688              -0.033273              -0.047979              -0.065247   \n",
       "   1689              -0.033264              -0.048793              -0.066086   \n",
       "   1690              -0.033255              -0.049606              -0.066925   \n",
       "   \n",
       "         EyeDirLocalCombined.z  resampled_timestamp  is_interpolated  \n",
       "   0                  0.996582                 0.26            False  \n",
       "   1                  0.996648                 0.27             True  \n",
       "   2                  0.996714                 0.28             True  \n",
       "   3                  0.996780                 0.29            False  \n",
       "   4                  0.991997                 0.30             True  \n",
       "   ...                     ...                  ...              ...  \n",
       "   1686               0.996864                17.12             True  \n",
       "   1687               0.996796                17.13            False  \n",
       "   1688               0.996704                17.14             True  \n",
       "   1689               0.996613                17.15             True  \n",
       "   1690               0.996521                17.16            False  \n",
       "   \n",
       "   [1691 rows x 20 columns],\n",
       "   3:       HmdPosition.x  HmdPosition.y  HmdPosition.z  NoseVector.x  NoseVector.y  \\\n",
       "   0          0.279297       1.001251      -0.431885     -0.043904      0.267993   \n",
       "   1          0.279175       1.001274      -0.432007     -0.043847      0.267531   \n",
       "   2          0.279053       1.001297      -0.432129     -0.043789      0.267070   \n",
       "   3          0.278961       1.001228      -0.432190     -0.044862      0.266076   \n",
       "   4          0.278870       1.001160      -0.432251     -0.045935      0.265082   \n",
       "   ...             ...            ...            ...           ...           ...   \n",
       "   1031       0.275818       1.036448      -0.321045      0.055113      0.201655   \n",
       "   1032       0.275920       1.036469      -0.321045      0.054884      0.201884   \n",
       "   1033       0.495361       1.044235      -0.190796      0.054652      0.202300   \n",
       "   1034       0.494568       1.044212      -0.191345      0.054260      0.202649   \n",
       "   1035       0.493774       1.044189      -0.191895      0.053867      0.202998   \n",
       "   \n",
       "         NoseVector.z  EyePosWorldCombined.x  EyePosWorldCombined.y  \\\n",
       "   0         0.962420               0.281738               1.009720   \n",
       "   1         0.962551               0.282196               1.009674   \n",
       "   2         0.962682               0.282654               1.009628   \n",
       "   3         0.962907               0.282867               1.009598   \n",
       "   4         0.963131               0.283081               1.009567   \n",
       "   ...            ...                    ...                    ...   \n",
       "   1031      0.977905               0.290995               1.040176   \n",
       "   1032      0.977870               0.290710               1.040293   \n",
       "   1033      0.977797               0.509766               1.048157   \n",
       "   1034      0.977747               0.509003               1.048141   \n",
       "   1035      0.977696               0.508240               1.048126   \n",
       "   \n",
       "         EyePosWorldCombined.z  EyeDirWorldCombined.x  EyeDirWorldCombined.y  \\\n",
       "   0                 -0.396729              -0.038861               0.000488   \n",
       "   1                 -0.397156              -0.038855               0.001067   \n",
       "   2                 -0.397583              -0.038849               0.001646   \n",
       "   3                 -0.397949              -0.038421               0.001194   \n",
       "   4                 -0.398315              -0.037993               0.000742   \n",
       "   ...                     ...                    ...                    ...   \n",
       "   1031              -0.295980              -0.017558               0.010417   \n",
       "   1032              -0.294963              -0.017616               0.010408   \n",
       "   1033              -0.163696              -0.017675               0.010589   \n",
       "   1034              -0.164185              -0.018247               0.010850   \n",
       "   1035              -0.164673              -0.018820               0.011110   \n",
       "   \n",
       "         EyeDirWorldCombined.z  EyePosLocalCombined.x  EyePosLocalCombined.y  \\\n",
       "   0                  0.999244               0.006757               0.003821   \n",
       "   1                  0.999244               0.006365               0.003809   \n",
       "   2                  0.999244               0.005973               0.003797   \n",
       "   3                  0.999261               0.005749               0.003787   \n",
       "   4                  0.999278               0.005524               0.003778   \n",
       "   ...                     ...                    ...                    ...   \n",
       "   1031               0.999792               0.001509               0.003784   \n",
       "   1032               0.999791               0.002621               0.003821   \n",
       "   1033               0.999788               0.003733               0.003859   \n",
       "   1034               0.999775               0.003753               0.003861   \n",
       "   1035               0.999761               0.003773               0.003863   \n",
       "   \n",
       "         EyePosLocalCombined.z  EyeDirLocalCombined.x  EyeDirLocalCombined.y  \\\n",
       "   0                 -0.033520              -0.006683              -0.271179   \n",
       "   1                 -0.033482              -0.006821              -0.270012   \n",
       "   2                 -0.033445              -0.006958              -0.268845   \n",
       "   3                 -0.033425              -0.006622              -0.268883   \n",
       "   4                 -0.033405              -0.006287              -0.268921   \n",
       "   ...                     ...                    ...                    ...   \n",
       "   1031              -0.032772              -0.086980              -0.186554   \n",
       "   1032              -0.032918              -0.087046              -0.186554   \n",
       "   1033              -0.033065              -0.087112              -0.186554   \n",
       "   1034              -0.033067              -0.087608              -0.186348   \n",
       "   1035              -0.033070              -0.088104              -0.186142   \n",
       "   \n",
       "         EyeDirLocalCombined.z  resampled_timestamp  is_interpolated  \n",
       "   0                  0.962494                 1.86            False  \n",
       "   1                  0.962822                 1.87             True  \n",
       "   2                  0.963150                 1.88            False  \n",
       "   3                  0.963142                 1.89             True  \n",
       "   4                  0.963135                 1.90            False  \n",
       "   ...                     ...                  ...              ...  \n",
       "   1031               0.978572                12.17             True  \n",
       "   1032               0.978566                12.18             True  \n",
       "   1033               0.978561                12.19            False  \n",
       "   1034               0.978561                12.20             True  \n",
       "   1035               0.978561                12.21            False  \n",
       "   \n",
       "   [1036 rows x 20 columns]},\n",
       "  'Westbrueck': {0:       HmdPosition.x  HmdPosition.y  HmdPosition.z  NoseVector.x  NoseVector.y  \\\n",
       "   0          0.905151       0.986206       0.341797      0.043466      0.194832   \n",
       "   1          0.905792       0.986412       0.342896      0.043258      0.194604   \n",
       "   2          0.906570       0.986832       0.344543      0.043070      0.194453   \n",
       "   3          0.907043       0.987122       0.345581      0.042946      0.194182   \n",
       "   4          0.907745       0.987663       0.347229      0.042842      0.193898   \n",
       "   ...             ...            ...            ...           ...           ...   \n",
       "   2084       0.626536       1.005966      -0.043376      0.050649      0.203878   \n",
       "   2085       0.649343       1.004791      -0.025533      0.049788      0.204201   \n",
       "   2086       0.672150       1.003616      -0.007690      0.048927      0.204525   \n",
       "   2087       0.606842       1.007614      -0.058594      0.048153      0.205039   \n",
       "   2088       0.673523       1.003738      -0.006470      0.047502      0.205318   \n",
       "   \n",
       "         NoseVector.z  EyePosWorldCombined.x  EyePosWorldCombined.y  \\\n",
       "   0         0.979873               0.918243               0.988144   \n",
       "   1         0.979928               0.919128               0.988358   \n",
       "   2         0.979966               0.920151               0.988785   \n",
       "   3         0.980025               0.921158               0.989059   \n",
       "   4         0.980086               0.922394               0.989586   \n",
       "   ...            ...                    ...                    ...   \n",
       "   2084      0.977685               0.641408               1.007945   \n",
       "   2085      0.977662               0.664012               1.006673   \n",
       "   2086      0.977638               0.686615               1.005402   \n",
       "   2087      0.977568               0.620895               1.009529   \n",
       "   2088      0.977542               0.687164               1.005783   \n",
       "   \n",
       "         EyePosWorldCombined.z  EyeDirWorldCombined.x  EyeDirWorldCombined.y  \\\n",
       "   0                  0.370483              -0.030379              -0.009706   \n",
       "   1                  0.371216              -0.030080              -0.009877   \n",
       "   2                  0.372498              -0.029759              -0.009970   \n",
       "   3                  0.372803              -0.030756              -0.011700   \n",
       "   4                  0.373718              -0.031741              -0.013441   \n",
       "   ...                     ...                    ...                    ...   \n",
       "   2084              -0.015584               0.076691              -0.006763   \n",
       "   2085               0.002706               0.076391              -0.006416   \n",
       "   2086               0.020996               0.076090              -0.006069   \n",
       "   2087              -0.029114               0.073723              -0.009475   \n",
       "   2088               0.023804               0.071546              -0.013116   \n",
       "   \n",
       "         EyeDirWorldCombined.z  EyePosLocalCombined.x  EyePosLocalCombined.y  \\\n",
       "   0                  0.999491               0.001685               0.003763   \n",
       "   1                  0.999499               0.001229               0.003744   \n",
       "   2                  0.999507               0.000773               0.003725   \n",
       "   3                  0.999458              -0.000164               0.003689   \n",
       "   4                  0.999406              -0.001101               0.003654   \n",
       "   ...                     ...                    ...                    ...   \n",
       "   2084               0.997032               0.002051               0.003975   \n",
       "   2085               0.997057               0.002622               0.003997   \n",
       "   2086               0.997082               0.003194               0.004019   \n",
       "   2087               0.997234               0.004149               0.004053   \n",
       "   2088               0.997351               0.005104               0.004087   \n",
       "   \n",
       "         EyePosLocalCombined.z  EyeDirLocalCombined.x  EyeDirLocalCombined.y  \\\n",
       "   0                 -0.033151              -0.088638              -0.199326   \n",
       "   1                 -0.033073              -0.088036              -0.199593   \n",
       "   2                 -0.032995              -0.087433              -0.199860   \n",
       "   3                 -0.032832              -0.088242              -0.201530   \n",
       "   4                 -0.032669              -0.089050              -0.203201   \n",
       "   ...                     ...                    ...                    ...   \n",
       "   2084              -0.033599               0.003337              -0.209768   \n",
       "   2085              -0.033681               0.003621              -0.209300   \n",
       "   2086              -0.033763               0.003906              -0.208832   \n",
       "   2087              -0.033897               0.002510              -0.212448   \n",
       "   2088              -0.034030               0.001114              -0.216064   \n",
       "   \n",
       "         EyeDirLocalCombined.z  resampled_timestamp  is_interpolated  \n",
       "   0                  0.975906                 3.64            False  \n",
       "   1                  0.975906                 3.65             True  \n",
       "   2                  0.975906                 3.66            False  \n",
       "   3                  0.975487                 3.67             True  \n",
       "   4                  0.975067                 3.68            False  \n",
       "   ...                     ...                  ...              ...  \n",
       "   2084               0.977732                24.48             True  \n",
       "   2085               0.977834                24.49             True  \n",
       "   2086               0.977936                24.50            False  \n",
       "   2087               0.977150                24.51             True  \n",
       "   2088               0.976364                24.52            False  \n",
       "   \n",
       "   [2089 rows x 20 columns],\n",
       "   1:       HmdPosition.x  HmdPosition.y  HmdPosition.z  NoseVector.x  NoseVector.y  \\\n",
       "   0          0.250366       1.034218      -0.322266      0.117600      0.197082   \n",
       "   1          0.297546       1.032471      -0.302368      0.116296      0.197714   \n",
       "   2          0.296974       1.032562      -0.305298      0.120710      0.197812   \n",
       "   3          0.296402       1.032654      -0.308228      0.124935      0.198024   \n",
       "   4          0.295753       1.032654      -0.313354      0.135270      0.198439   \n",
       "   ...             ...            ...            ...           ...           ...   \n",
       "   2126       0.251198       1.042816      -0.401978     -0.193593      0.247751   \n",
       "   2127       0.254776       1.042587      -0.400513     -0.199249      0.247508   \n",
       "   2128       0.317627       1.038681      -0.381226     -0.204798      0.246909   \n",
       "   2129       0.264313       1.041924      -0.396118     -0.210609      0.247094   \n",
       "   2130       0.325119       1.038071      -0.375732     -0.216211      0.246873   \n",
       "   \n",
       "         NoseVector.z  EyePosWorldCombined.x  EyePosWorldCombined.y  \\\n",
       "   0         0.973308               0.265152               1.036537   \n",
       "   1         0.973337               0.313370               1.034637   \n",
       "   2         0.972779               0.312607               1.034660   \n",
       "   3         0.972202               0.311844               1.034683   \n",
       "   4         0.970734               0.313454               1.034454   \n",
       "   ...            ...                    ...                    ...   \n",
       "   2126      0.949285               0.271111               1.044968   \n",
       "   2127      0.948177               0.274292               1.044609   \n",
       "   2128      0.947150               0.336746               1.040573   \n",
       "   2129      0.945827               0.282814               1.043701   \n",
       "   2130      0.944620               0.343002               1.039734   \n",
       "   \n",
       "         EyePosWorldCombined.z  EyeDirWorldCombined.x  EyeDirWorldCombined.y  \\\n",
       "   0                 -0.292114               0.091207              -0.083082   \n",
       "   1                 -0.275513               0.090313              -0.084463   \n",
       "   2                 -0.277344               0.094873              -0.084349   \n",
       "   3                 -0.279175               0.099509              -0.084141   \n",
       "   4                 -0.291138               0.098547              -0.081287   \n",
       "   ...                     ...                    ...                    ...   \n",
       "   2126              -0.371948              -0.470280               0.033583   \n",
       "   2127              -0.375488              -0.474959               0.027814   \n",
       "   2128              -0.361206              -0.479593               0.021823   \n",
       "   2129              -0.382446              -0.482662               0.023010   \n",
       "   2130              -0.368408              -0.485690               0.024044   \n",
       "   \n",
       "         EyeDirWorldCombined.z  EyePosLocalCombined.x  EyePosLocalCombined.y  \\\n",
       "   0                  0.992360               0.007936               0.003909   \n",
       "   1                  0.992325               0.004408               0.003820   \n",
       "   2                  0.991909               0.005333               0.003850   \n",
       "   3                  0.991473               0.006257               0.003880   \n",
       "   4                  0.991807              -0.000787               0.003714   \n",
       "   ...                     ...                    ...                    ...   \n",
       "   2126               0.881878               0.014608               0.004190   \n",
       "   2127               0.879568               0.009518               0.004011   \n",
       "   2128               0.877220               0.004427               0.003833   \n",
       "   2129               0.875504              -0.002012               0.003531   \n",
       "   2130               0.873801              -0.008452               0.003229   \n",
       "   \n",
       "         EyePosLocalCombined.z  EyeDirLocalCombined.x  EyeDirLocalCombined.y  \\\n",
       "   0                 -0.033946              -0.034653              -0.276611   \n",
       "   1                 -0.033571              -0.035019              -0.278229   \n",
       "   2                 -0.033693              -0.035194              -0.278374   \n",
       "   3                 -0.033815              -0.035370              -0.278519   \n",
       "   4                 -0.033175              -0.047653              -0.276001   \n",
       "   ...                     ...                    ...                    ...   \n",
       "   2126              -0.034458              -0.293503              -0.190414   \n",
       "   2127              -0.033794              -0.292870              -0.196335   \n",
       "   2128              -0.033130              -0.292236              -0.202255   \n",
       "   2129              -0.032021              -0.289574              -0.201729   \n",
       "   2130              -0.030912              -0.286911              -0.201202   \n",
       "   \n",
       "         EyeDirLocalCombined.z  resampled_timestamp  is_interpolated  \n",
       "   0                  0.960342                 3.53            False  \n",
       "   1                  0.959869                 3.54            False  \n",
       "   2                  0.959816                 3.55             True  \n",
       "   3                  0.959763                 3.56            False  \n",
       "   4                  0.959961                 3.57            False  \n",
       "   ...                     ...                  ...              ...  \n",
       "   2126               0.936783                24.79            False  \n",
       "   2127               0.935745                24.80             True  \n",
       "   2128               0.934708                24.81            False  \n",
       "   2129               0.935646                24.82             True  \n",
       "   2130               0.936584                24.83            False  \n",
       "   \n",
       "   [2131 rows x 20 columns],\n",
       "   3:       HmdPosition.x  HmdPosition.y  HmdPosition.z  NoseVector.x  NoseVector.y  \\\n",
       "   0          0.155334       1.022629      -0.210815     -0.065933      0.083214   \n",
       "   1          0.240433       1.022507      -0.197876     -0.063030      0.082785   \n",
       "   2          0.160004       1.022522      -0.219116     -0.064777      0.082213   \n",
       "   3          0.079803       1.022499      -0.245239     -0.066021      0.081987   \n",
       "   4          0.081833       1.022415      -0.249573     -0.065175      0.081553   \n",
       "   ...             ...            ...            ...           ...           ...   \n",
       "   1762       0.345947       1.029831      -0.332031      0.051336      0.044532   \n",
       "   1763       0.477448       1.036346      -0.299561      0.046685      0.045929   \n",
       "   1764       0.387553       1.032033      -0.322754      0.045461      0.046572   \n",
       "   1765       0.297658       1.027720      -0.345947      0.044236      0.047214   \n",
       "   1766       0.476257       1.036438      -0.301636      0.040168      0.047698   \n",
       "   \n",
       "         NoseVector.z  EyePosWorldCombined.x  EyePosWorldCombined.y  \\\n",
       "   0         0.994348               0.173553               1.027451   \n",
       "   1         0.994572               0.259079               1.027016   \n",
       "   2         0.994507               0.179077               1.026718   \n",
       "   3         0.994444               0.098938               1.026665   \n",
       "   4         0.994536               0.100784               1.026726   \n",
       "   ...            ...                    ...                    ...   \n",
       "   1762      0.997688               0.411214               1.039022   \n",
       "   1763      0.997853               0.564529               1.047085   \n",
       "   1764      0.997880               0.450999               1.042147   \n",
       "   1765      0.997905               0.337468               1.037210   \n",
       "   1766      0.998054               0.492432               1.045303   \n",
       "   \n",
       "         EyePosWorldCombined.z  EyeDirWorldCombined.x  EyeDirWorldCombined.y  \\\n",
       "   0                 -0.185425              -0.064220               0.002516   \n",
       "   1                 -0.176147              -0.060494               0.004024   \n",
       "   2                 -0.201050              -0.061442               0.005389   \n",
       "   3                 -0.227661              -0.066961               0.007695   \n",
       "   4                 -0.230164              -0.062038               0.008453   \n",
       "   ...                     ...                    ...                    ...   \n",
       "   1762              -0.281820               0.129059              -0.058738   \n",
       "   1763              -0.239227               0.126548              -0.052648   \n",
       "   1764              -0.264384               0.126852              -0.046528   \n",
       "   1765              -0.289541               0.127151              -0.040408   \n",
       "   1766              -0.247192               0.124622              -0.034446   \n",
       "   \n",
       "         EyeDirWorldCombined.z  EyePosLocalCombined.x  EyePosLocalCombined.y  \\\n",
       "   0                  0.997933               0.006030               0.004606   \n",
       "   1                  0.998160               0.002370               0.004497   \n",
       "   2                  0.998096              -0.001291               0.004389   \n",
       "   3                  0.997726              -0.001724               0.004378   \n",
       "   4                  0.998038              -0.000010               0.004428   \n",
       "   ...                     ...                    ...                    ...   \n",
       "   1762               0.989896               0.000000               0.000000   \n",
       "   1763               0.990562               0.000000               0.000000   \n",
       "   1764               0.990830               0.011711               0.001866   \n",
       "   1765               0.991060               0.023423               0.003732   \n",
       "   1766               0.991606               0.035134               0.005598   \n",
       "   \n",
       "         EyePosLocalCombined.z  EyeDirLocalCombined.x  EyeDirLocalCombined.y  \\\n",
       "   0                 -0.034316              -0.002106              -0.084930   \n",
       "   1                 -0.033879              -0.001091              -0.082893   \n",
       "   2                 -0.033441              -0.000076              -0.080856   \n",
       "   3                 -0.033408              -0.004013              -0.077744   \n",
       "   4                 -0.033614               0.000320              -0.076630   \n",
       "   ...                     ...                    ...                    ...   \n",
       "   1762               0.000000               0.000000               0.000000   \n",
       "   1763               0.000000               0.000000               0.000000   \n",
       "   1764              -0.012546               0.020269              -0.026891   \n",
       "   1765              -0.025091               0.040538              -0.053782   \n",
       "   1766              -0.037637               0.060806              -0.080673   \n",
       "   \n",
       "         EyeDirLocalCombined.z  resampled_timestamp  is_interpolated  \n",
       "   0                  0.996384                 4.93            False  \n",
       "   1                  0.996552                 4.94             True  \n",
       "   2                  0.996719                 4.95            False  \n",
       "   3                  0.996964                 4.96            False  \n",
       "   4                  0.997047                 4.97             True  \n",
       "   ...                     ...                  ...              ...  \n",
       "   1762               0.000000                22.55             True  \n",
       "   1763               0.000000                22.56            False  \n",
       "   1764               0.331624                22.57             True  \n",
       "   1765               0.663249                22.58             True  \n",
       "   1766               0.994873                22.59            False  \n",
       "   \n",
       "   [1767 rows x 20 columns]},\n",
       "  'Autobahn': {0:       HmdPosition.x  HmdPosition.y  HmdPosition.z  NoseVector.x  NoseVector.y  \\\n",
       "   0         -0.358887       1.010765      -0.303101     -0.028740      0.156710   \n",
       "   1         -0.357300       1.010941      -0.303223     -0.029183      0.156784   \n",
       "   2         -0.295329       1.016800      -0.322103     -0.028864      0.156847   \n",
       "   3         -0.053670       1.039490      -0.395671     -0.026881      0.156708   \n",
       "   4         -0.172852       1.028275      -0.358643     -0.028234      0.156885   \n",
       "   ...             ...            ...            ...           ...           ...   \n",
       "   2380      -0.326131       1.022413       0.289632     -0.043992      0.213370   \n",
       "   2381      -0.397298       1.038101       0.139079     -0.043587      0.212653   \n",
       "   2382      -0.325684       1.022133       0.291504     -0.044244      0.212066   \n",
       "   2383      -0.432373       1.045746       0.063599     -0.043699      0.211040   \n",
       "   2384      -0.324951       1.021782       0.292725     -0.044659      0.210015   \n",
       "   \n",
       "         NoseVector.z  EyePosWorldCombined.x  EyePosWorldCombined.y  \\\n",
       "   0         0.987226              -0.339050               1.016171   \n",
       "   1         0.987202              -0.337280               1.016335   \n",
       "   2         0.987201              -0.275269               1.022219   \n",
       "   3         0.987279              -0.033569               1.044935   \n",
       "   4         0.987213              -0.152710               1.033745   \n",
       "   ...            ...                    ...                    ...   \n",
       "   2380      0.975980              -0.322754               1.028966   \n",
       "   2381      0.976155              -0.394450               1.044632   \n",
       "   2382      0.976253              -0.323364               1.028641   \n",
       "   2383      0.976500              -0.430542               1.052197   \n",
       "   2384      0.976678              -0.323608               1.028175   \n",
       "   \n",
       "         EyePosWorldCombined.z  EyeDirWorldCombined.x  EyeDirWorldCombined.y  \\\n",
       "   0                 -0.288818               0.077025               0.051158   \n",
       "   1                 -0.288330               0.076981               0.051253   \n",
       "   2                 -0.306966               0.077296               0.050303   \n",
       "   3                 -0.380290               0.079290               0.049152   \n",
       "   4                 -0.343018               0.077920               0.048319   \n",
       "   ...                     ...                    ...                    ...   \n",
       "   2380               0.280680              -0.084052               0.009126   \n",
       "   2381               0.130452              -0.083159               0.008902   \n",
       "   2382               0.283203              -0.083328               0.008808   \n",
       "   2383               0.055542              -0.083060               0.007255   \n",
       "   2384               0.284912              -0.084293               0.005696   \n",
       "   \n",
       "         EyeDirWorldCombined.z  EyePosLocalCombined.x  EyePosLocalCombined.y  \\\n",
       "   0                  0.995716               0.004458               0.004208   \n",
       "   1                  0.995714               0.004939               0.004215   \n",
       "   2                  0.995738               0.005170               0.004219   \n",
       "   3                  0.995639               0.005400               0.004223   \n",
       "   4                  0.995788               0.005631               0.004227   \n",
       "   ...                     ...                    ...                    ...   \n",
       "   2380               0.996420               0.012331               0.004508   \n",
       "   2381               0.996497               0.011711               0.004491   \n",
       "   2382               0.996483               0.011091               0.004473   \n",
       "   2383               0.996518               0.010569               0.004460   \n",
       "   2384               0.996425               0.010048               0.004446   \n",
       "   \n",
       "         EyePosLocalCombined.z  EyeDirLocalCombined.x  EyeDirLocalCombined.y  \\\n",
       "   0                 -0.034503               0.097023              -0.112694   \n",
       "   1                 -0.034537               0.097092              -0.112686   \n",
       "   2                 -0.034551               0.096924              -0.113642   \n",
       "   3                 -0.034566               0.096756              -0.114599   \n",
       "   4                 -0.034581               0.096588              -0.115555   \n",
       "   ...                     ...                    ...                    ...   \n",
       "   2380              -0.034373              -0.061488              -0.204041   \n",
       "   2381              -0.034324              -0.060811              -0.203842   \n",
       "   2382              -0.034275              -0.060135              -0.203644   \n",
       "   2383              -0.034226              -0.060310              -0.204521   \n",
       "   2384              -0.034178              -0.060486              -0.205399   \n",
       "   \n",
       "         EyeDirLocalCombined.z  resampled_timestamp  is_interpolated  \n",
       "   0                  0.988869                 4.33             True  \n",
       "   1                  0.988861                 4.34            False  \n",
       "   2                  0.988770                 4.35             True  \n",
       "   3                  0.988678                 4.36             True  \n",
       "   4                  0.988586                 4.37            False  \n",
       "   ...                     ...                  ...              ...  \n",
       "   2380               0.977025                28.13             True  \n",
       "   2381               0.977107                28.14             True  \n",
       "   2382               0.977188                28.15            False  \n",
       "   2383               0.976990                28.16             True  \n",
       "   2384               0.976791                28.17            False  \n",
       "   \n",
       "   [2385 rows x 20 columns],\n",
       "   2:       HmdPosition.x  HmdPosition.y  HmdPosition.z  NoseVector.x  NoseVector.y  \\\n",
       "   0         -0.662598       1.043658      -0.678833      0.062179      0.144986   \n",
       "   1         -0.614868       1.040781      -0.534424      0.061636      0.144819   \n",
       "   2         -0.615662       1.040759      -0.535278      0.060817      0.144162   \n",
       "   3         -0.616455       1.040737      -0.536133      0.059999      0.143505   \n",
       "   4         -0.623600       1.041079      -0.556494      0.059622      0.143095   \n",
       "   ...             ...            ...            ...           ...           ...   \n",
       "   4430      -0.388702       1.015312       0.229004      0.085447      0.110788   \n",
       "   4431      -0.274902       1.020012       0.307617      0.085017      0.110655   \n",
       "   4432      -0.313619       1.018447       0.281331      0.084772      0.110735   \n",
       "   4433      -0.352336       1.016881       0.255046      0.084527      0.110815   \n",
       "   4434      -0.506470       1.010555       0.148926      0.084281      0.110789   \n",
       "   \n",
       "         NoseVector.z  EyePosWorldCombined.x  EyePosWorldCombined.y  \\\n",
       "   0         0.987478              -0.668335               1.047980   \n",
       "   1         0.987537              -0.620605               1.045151   \n",
       "   2         0.987683              -0.621094               1.045143   \n",
       "   3         0.987829              -0.621582               1.045135   \n",
       "   4         0.987912              -0.628768               1.045492   \n",
       "   ...            ...                    ...                    ...   \n",
       "   4430      0.990164              -0.406738               1.016985   \n",
       "   4431      0.990216              -0.287903               1.022995   \n",
       "   4432      0.990228              -0.327128               1.021262   \n",
       "   4433      0.990240              -0.366353               1.019529   \n",
       "   4434      0.990264              -0.520996               1.013035   \n",
       "   \n",
       "         EyePosWorldCombined.z  EyeDirWorldCombined.x  EyeDirWorldCombined.y  \\\n",
       "   0                 -0.681274               0.070184               0.028667   \n",
       "   1                 -0.537109               0.070559               0.028190   \n",
       "   2                 -0.537964               0.072184               0.028172   \n",
       "   3                 -0.538818               0.073808               0.028154   \n",
       "   4                 -0.559180               0.073796               0.027893   \n",
       "   ...                     ...                    ...                    ...   \n",
       "   4430               0.241699               0.100262               0.007106   \n",
       "   4431               0.309082               0.104440               0.007543   \n",
       "   4432               0.283936               0.102098               0.007384   \n",
       "   4433               0.258789               0.099756               0.007225   \n",
       "   4434               0.153809               0.097412               0.006959   \n",
       "   \n",
       "         EyeDirWorldCombined.z  EyePosLocalCombined.x  EyePosLocalCombined.y  \\\n",
       "   0                  0.997122              -0.000204               0.004355   \n",
       "   1                  0.997109              -0.000138               0.004357   \n",
       "   2                  0.996993               0.000280               0.004372   \n",
       "   3                  0.996875               0.000699               0.004388   \n",
       "   4                  0.996883               0.000691               0.004391   \n",
       "   ...                     ...                    ...                    ...   \n",
       "   4430               0.994936              -0.008313               0.003668   \n",
       "   4431               0.994503               0.003655               0.003957   \n",
       "   4432               0.994747               0.002368               0.003910   \n",
       "   4433               0.994986               0.001081               0.003863   \n",
       "   4434               0.995220              -0.000206               0.003815   \n",
       "   \n",
       "         EyePosLocalCombined.z  EyeDirLocalCombined.x  EyeDirLocalCombined.y  \\\n",
       "   0                 -0.033088              -0.008171              -0.121284   \n",
       "   1                 -0.033097              -0.007614              -0.121216   \n",
       "   2                 -0.033155              -0.005669              -0.120743   \n",
       "   3                 -0.033214              -0.003723              -0.120270   \n",
       "   4                 -0.033221              -0.003443              -0.120168   \n",
       "   ...                     ...                    ...                    ...   \n",
       "   4430              -0.032543               0.000290              -0.103882   \n",
       "   4431              -0.033755               0.004623              -0.103973   \n",
       "   4432              -0.033570               0.002426              -0.103882   \n",
       "   4433              -0.033385               0.000229              -0.103790   \n",
       "   4434              -0.033199              -0.001968              -0.103699   \n",
       "   \n",
       "         EyeDirLocalCombined.z  resampled_timestamp  is_interpolated  \n",
       "   0                  0.992577                 7.96             True  \n",
       "   1                  0.992584                 7.97            False  \n",
       "   2                  0.992653                 7.98             True  \n",
       "   3                  0.992722                 7.99            False  \n",
       "   4                  0.992737                 8.00             True  \n",
       "   ...                     ...                  ...              ...  \n",
       "   4430               0.994576                52.26             True  \n",
       "   4431               0.994568                52.27            False  \n",
       "   4432               0.994578                52.28             True  \n",
       "   4433               0.994588                52.29             True  \n",
       "   4434               0.994598                52.30            False  \n",
       "   \n",
       "   [4435 rows x 20 columns]},\n",
       "  'CountryRoad': {0:       HmdPosition.x  HmdPosition.y  HmdPosition.z  NoseVector.x  NoseVector.y  \\\n",
       "   0          0.074219       1.020538      -0.412354     -0.003922      0.066875   \n",
       "   1          0.217468       1.026917      -0.400085     -0.005284      0.068862   \n",
       "   2          0.080566       1.021103      -0.412354     -0.006663      0.071003   \n",
       "   3          0.036112       1.019285      -0.416423     -0.007681      0.072678   \n",
       "   4         -0.008341       1.017466      -0.420492     -0.008698      0.074352   \n",
       "   ...             ...            ...            ...           ...           ...   \n",
       "   1834       0.178589       1.028687      -0.378296     -0.025088      0.171053   \n",
       "   1835       0.178925       1.028687      -0.378296     -0.025440      0.170720   \n",
       "   1836       0.179260       1.028687      -0.378296     -0.025792      0.170387   \n",
       "   1837       0.179535       1.028664      -0.378052     -0.026199      0.170033   \n",
       "   1838       0.179810       1.028641      -0.377808     -0.026606      0.169680   \n",
       "   \n",
       "         NoseVector.z  EyePosWorldCombined.x  EyePosWorldCombined.y  \\\n",
       "   0         0.997754               0.091980               1.024551   \n",
       "   1         0.997612               0.235229               1.030792   \n",
       "   2         0.997454               0.098328               1.024841   \n",
       "   3         0.997326               0.053650               1.022143   \n",
       "   4         0.997194               0.008972               1.019445   \n",
       "   ...            ...                    ...                    ...   \n",
       "   1834      0.984942               0.196533               1.031754   \n",
       "   1835      0.984991               0.196838               1.031784   \n",
       "   1836      0.985040               0.197144               1.031815   \n",
       "   1837      0.985090               0.197327               1.031929   \n",
       "   1838      0.985140               0.197510               1.032043   \n",
       "   \n",
       "         EyePosWorldCombined.z  EyeDirWorldCombined.x  EyeDirWorldCombined.y  \\\n",
       "   0                 -0.389038              -0.006422               0.020278   \n",
       "   1                 -0.378052              -0.007369               0.019341   \n",
       "   2                 -0.391602              -0.008334               0.018558   \n",
       "   3                 -0.402344              -0.015402               0.007010   \n",
       "   4                 -0.413086              -0.022468              -0.004542   \n",
       "   ...                     ...                    ...                    ...   \n",
       "   1834              -0.359985              -0.118061               0.003779   \n",
       "   1835              -0.359741              -0.117870               0.003203   \n",
       "   1836              -0.359497              -0.117680               0.002627   \n",
       "   1837              -0.357849              -0.117212               0.003061   \n",
       "   1838              -0.356201              -0.116743               0.003495   \n",
       "   \n",
       "         EyeDirWorldCombined.z  EyePosLocalCombined.x  EyePosLocalCombined.y  \\\n",
       "   0                  0.999774               0.005725               0.003888   \n",
       "   1                  0.999786               0.004544               0.003855   \n",
       "   2                  0.999793               0.003363               0.003822   \n",
       "   3                  0.999857              -0.003358               0.003592   \n",
       "   4                  0.999737              -0.010079               0.003362   \n",
       "   ...                     ...                    ...                    ...   \n",
       "   1834               0.992999               0.000065               0.003997   \n",
       "   1835               0.993024               0.000275               0.004010   \n",
       "   1836               0.993048               0.000484               0.004023   \n",
       "   1837               0.993102               0.001899               0.004067   \n",
       "   1838               0.993156               0.003313               0.004111   \n",
       "   \n",
       "         EyePosLocalCombined.z  EyeDirLocalCombined.x  EyeDirLocalCombined.y  \\\n",
       "   0                 -0.033991              -0.013275              -0.034653   \n",
       "   1                 -0.033860              -0.013176              -0.037109   \n",
       "   2                 -0.033729              -0.013077              -0.039566   \n",
       "   3                 -0.032970              -0.020391              -0.051661   \n",
       "   4                 -0.032211              -0.027705              -0.063756   \n",
       "   ...                     ...                    ...                    ...   \n",
       "   1834              -0.032971              -0.104492              -0.161819   \n",
       "   1835              -0.033008              -0.104088              -0.162178   \n",
       "   1836              -0.033046              -0.103683              -0.162537   \n",
       "   1837              -0.033223              -0.102951              -0.161880   \n",
       "   1838              -0.033400              -0.102219              -0.161224   \n",
       "   \n",
       "         EyeDirLocalCombined.z  resampled_timestamp  is_interpolated  \n",
       "   0                  0.999298                 3.29            False  \n",
       "   1                  0.999214                 3.30             True  \n",
       "   2                  0.999130                 3.31            False  \n",
       "   3                  0.998250                 3.32             True  \n",
       "   4                  0.997370                 3.33             True  \n",
       "   ...                     ...                  ...              ...  \n",
       "   1834               0.981262                21.63            False  \n",
       "   1835               0.981247                21.64             True  \n",
       "   1836               0.981232                21.65            False  \n",
       "   1837               0.981415                21.66             True  \n",
       "   1838               0.981598                21.67            False  \n",
       "   \n",
       "   [1839 rows x 20 columns]}},\n",
       " '0d0d7bd79b1a48d4ad5e757cdbfc15c9': {'Westbrueck': {0:       HmdPosition.x  HmdPosition.y  HmdPosition.z  NoseVector.x  NoseVector.y  \\\n",
       "   0          0.905334       1.023422       0.390564      0.076988      0.185459   \n",
       "   1          0.905884       1.023758       0.391724      0.076289      0.184803   \n",
       "   2          0.861272       1.027608       0.347026      0.075603      0.184693   \n",
       "   3          0.816661       1.031459       0.302327      0.074916      0.184582   \n",
       "   4          0.772278       1.035561       0.258240      0.074249      0.184457   \n",
       "   ...             ...            ...            ...           ...           ...   \n",
       "   2084       0.372620       1.038147      -0.169434     -0.488954      0.198389   \n",
       "   2085       0.369019       1.037659      -0.171570     -0.493269      0.195473   \n",
       "   2086       0.365417       1.037170      -0.173706     -0.497568      0.192549   \n",
       "   2087       0.297256       1.040581      -0.226257     -0.503909      0.190144   \n",
       "   2088       0.361084       1.036118      -0.175781     -0.510119      0.187363   \n",
       "   \n",
       "         NoseVector.z  EyePosWorldCombined.x  EyePosWorldCombined.y  \\\n",
       "   0         0.979632               0.908554               1.026085   \n",
       "   1         0.979810               0.898834               1.025589   \n",
       "   2         0.979884               0.858932               1.029821   \n",
       "   3         0.979958               0.819031               1.034053   \n",
       "   4         0.980032               0.779358               1.038536   \n",
       "   ...            ...                    ...                    ...   \n",
       "   2084      0.849450               0.375824               1.044083   \n",
       "   2085      0.847630               0.372284               1.043877   \n",
       "   2086      0.845784               0.368744               1.043671   \n",
       "   2087      0.842568               0.299149               1.047096   \n",
       "   2088      0.839449               0.361542               1.042648   \n",
       "   \n",
       "         EyePosWorldCombined.z  EyeDirWorldCombined.x  EyeDirWorldCombined.y  \\\n",
       "   0                  0.433228              -0.039132              -0.042287   \n",
       "   1                  0.447144              -0.035334              -0.039985   \n",
       "   2                  0.396627              -0.036539              -0.041730   \n",
       "   3                  0.346110              -0.037744              -0.043475   \n",
       "   4                  0.296204              -0.038937              -0.045230   \n",
       "   ...                     ...                    ...                    ...   \n",
       "   2084              -0.131470              -0.522667              -0.055710   \n",
       "   2085              -0.133850              -0.525499              -0.055062   \n",
       "   2086              -0.136230              -0.528325              -0.054414   \n",
       "   2087              -0.188293              -0.529295              -0.049860   \n",
       "   2088              -0.137329              -0.530080              -0.045677   \n",
       "   \n",
       "         EyeDirWorldCombined.z  EyePosLocalCombined.x  EyePosLocalCombined.y  \\\n",
       "   0                  0.998339               0.019169               0.005388   \n",
       "   1                  0.998575               0.035427               0.005468   \n",
       "   2                  0.998461               0.027874               0.005430   \n",
       "   3                  0.998341               0.020321               0.005392   \n",
       "   4                  0.998218               0.012768               0.005353   \n",
       "   ...                     ...                    ...                    ...   \n",
       "   2084               0.850715               0.009099               0.005581   \n",
       "   2085               0.849011               0.008689               0.005539   \n",
       "   2086               0.847297               0.008280               0.005498   \n",
       "   2087               0.846972               0.009270               0.005514   \n",
       "   2088               0.846717               0.010260               0.005530   \n",
       "   \n",
       "         EyePosLocalCombined.z  EyeDirLocalCombined.x  EyeDirLocalCombined.y  \\\n",
       "   0                 -0.033997              -0.116180              -0.233528   \n",
       "   1                 -0.034766              -0.111771              -0.230652   \n",
       "   2                 -0.034405              -0.112233              -0.231934   \n",
       "   3                 -0.034044              -0.112696              -0.233215   \n",
       "   4                 -0.033683              -0.113159              -0.234497   \n",
       "   ...                     ...                    ...                    ...   \n",
       "   2084              -0.033645              -0.022186              -0.259491   \n",
       "   2085              -0.033489              -0.022781              -0.258598   \n",
       "   2086              -0.033333              -0.023376              -0.257706   \n",
       "   2087              -0.033500              -0.021423              -0.252197   \n",
       "   2088              -0.033666              -0.019470              -0.246689   \n",
       "   \n",
       "         EyeDirLocalCombined.z  resampled_timestamp  is_interpolated  \n",
       "   0                  0.965355                 3.68             True  \n",
       "   1                  0.966583                 3.69            False  \n",
       "   2                  0.966222                 3.70             True  \n",
       "   3                  0.965861                 3.71             True  \n",
       "   4                  0.965500                 3.72            False  \n",
       "   ...                     ...                  ...              ...  \n",
       "   2084               0.965485                24.52            False  \n",
       "   2085               0.965706                24.53             True  \n",
       "   2086               0.965927                24.54            False  \n",
       "   2087               0.967407                24.55             True  \n",
       "   2088               0.968887                24.56            False  \n",
       "   \n",
       "   [2089 rows x 20 columns],\n",
       "   1:       HmdPosition.x  HmdPosition.y  HmdPosition.z  NoseVector.x  NoseVector.y  \\\n",
       "   0          1.534449       0.999280       0.473348     -0.006376      0.069319   \n",
       "   1          1.550354       0.998856       0.471802     -0.005290      0.069650   \n",
       "   2          1.552032       0.999153       0.459229     -0.004119      0.070001   \n",
       "   3          1.553711       0.999451       0.446655     -0.003014      0.070350   \n",
       "   4          1.656929       0.995407       0.487549     -0.004734      0.070718   \n",
       "   ...             ...            ...            ...           ...           ...   \n",
       "   2126      -0.221992       1.055283      -0.267944     -0.734584      0.168992   \n",
       "   2127      -0.164833       1.051941      -0.252075     -0.732125      0.168718   \n",
       "   2128      -0.048401       1.044922      -0.218384     -0.729589      0.168397   \n",
       "   2129      -0.104576       1.048683      -0.238159     -0.732849      0.168327   \n",
       "   2130      -0.046631       1.045349      -0.222656     -0.735954      0.168414   \n",
       "   \n",
       "         NoseVector.z  EyePosWorldCombined.x  EyePosWorldCombined.y  \\\n",
       "   0         0.997574               1.565374               1.006147   \n",
       "   1         0.997557               1.580994               1.005722   \n",
       "   2         0.997538               1.580414               1.005684   \n",
       "   3         0.997518               1.579834               1.005646   \n",
       "   4         0.997485               1.676033               1.000763   \n",
       "   ...            ...                    ...                    ...   \n",
       "   2126      0.657136              -0.223701               1.058029   \n",
       "   2127      0.659944              -0.164139               1.055397   \n",
       "   2128      0.662829              -0.045303               1.049088   \n",
       "   2129      0.659241              -0.102005               1.052658   \n",
       "   2130      0.655750              -0.044586               1.049133   \n",
       "   \n",
       "         EyePosWorldCombined.z  EyeDirWorldCombined.x  EyeDirWorldCombined.y  \\\n",
       "   0                  0.473104               0.044841              -0.035419   \n",
       "   1                  0.471924               0.045067              -0.032736   \n",
       "   2                  0.463440               0.045536              -0.030613   \n",
       "   3                  0.454956               0.046032              -0.028446   \n",
       "   4                  0.509033               0.042417              -0.026154   \n",
       "   ...                     ...                    ...                    ...   \n",
       "   2126              -0.239624              -0.800608              -0.066368   \n",
       "   2127              -0.227112              -0.797323              -0.066202   \n",
       "   2128              -0.196777              -0.794029              -0.066033   \n",
       "   2129              -0.215881              -0.795411              -0.067690   \n",
       "   2130              -0.199707              -0.796827              -0.069107   \n",
       "   \n",
       "         EyeDirWorldCombined.z  EyePosLocalCombined.x  EyePosLocalCombined.y  \\\n",
       "   0                  0.998366              -0.028669               0.006134   \n",
       "   1                  0.998447              -0.028219               0.006136   \n",
       "   2                  0.998494              -0.023584               0.006148   \n",
       "   3                  0.998535              -0.018949               0.006160   \n",
       "   4                  0.998758              -0.004036               0.006201   \n",
       "   ...                     ...                    ...                    ...   \n",
       "   2126               0.595502               0.004267               0.005672   \n",
       "   2127               0.599911              -0.000071               0.005675   \n",
       "   2128               0.604283              -0.004409               0.005677   \n",
       "   2129               0.602278              -0.003631               0.005687   \n",
       "   2130               0.600242              -0.002854               0.005697   \n",
       "   \n",
       "         EyePosLocalCombined.z  EyeDirLocalCombined.x  EyeDirLocalCombined.y  \\\n",
       "   0                 -0.031471               0.045919              -0.101613   \n",
       "   1                 -0.031497               0.045029              -0.099457   \n",
       "   2                 -0.031711               0.044449              -0.097725   \n",
       "   3                 -0.031926               0.043869              -0.095993   \n",
       "   4                 -0.032604               0.042038              -0.093796   \n",
       "   ...                     ...                    ...                    ...   \n",
       "   2126              -0.033082              -0.020660              -0.252029   \n",
       "   2127              -0.032789              -0.018646              -0.249924   \n",
       "   2128              -0.032496              -0.016632              -0.247818   \n",
       "   2129              -0.032549              -0.014084              -0.248764   \n",
       "   2130              -0.032601              -0.011536              -0.249710   \n",
       "   \n",
       "         EyeDirLocalCombined.z  resampled_timestamp  is_interpolated  \n",
       "   0                  0.993754                 3.53             True  \n",
       "   1                  0.994019                 3.54            False  \n",
       "   2                  0.994209                 3.55             True  \n",
       "   3                  0.994400                 3.56            False  \n",
       "   4                  0.994690                 3.57            False  \n",
       "   ...                     ...                  ...              ...  \n",
       "   2126               0.967484                24.79            False  \n",
       "   2127               0.968071                24.80             True  \n",
       "   2128               0.968658                24.81            False  \n",
       "   2129               0.968452                24.82             True  \n",
       "   2130               0.968246                24.83            False  \n",
       "   \n",
       "   [2131 rows x 20 columns],\n",
       "   3:       HmdPosition.x  HmdPosition.y  HmdPosition.z  NoseVector.x  NoseVector.y  \\\n",
       "   0         -0.141022       1.050934      -0.231934     -0.219237      0.042860   \n",
       "   1         -0.055832       1.050758      -0.219910     -0.215577      0.041847   \n",
       "   2         -0.136169       1.050720      -0.242065     -0.216480      0.040712   \n",
       "   3         -0.055115       1.050621      -0.224792     -0.213225      0.039696   \n",
       "   4          0.025940       1.050522      -0.207520     -0.209966      0.038682   \n",
       "   ...             ...            ...            ...           ...           ...   \n",
       "   1762      -0.050278       1.048637      -0.365967      0.184467      0.128519   \n",
       "   1763       0.081848       1.055099      -0.332520      0.183699      0.128739   \n",
       "   1764      -0.008596       1.050735      -0.355306      0.184996      0.128878   \n",
       "   1765      -0.099040       1.046371      -0.378092      0.186292      0.129018   \n",
       "   1766       0.079010       1.055038      -0.333374      0.184813      0.129004   \n",
       "   \n",
       "         NoseVector.z  EyePosWorldCombined.x  EyePosWorldCombined.y  \\\n",
       "   0         0.974730              -0.130066               1.057831   \n",
       "   1         0.975590              -0.044342               1.057579   \n",
       "   2         0.975438              -0.124146               1.057465   \n",
       "   3         0.976196              -0.043442               1.057350   \n",
       "   4         0.976943               0.037262               1.057236   \n",
       "   ...            ...                    ...                    ...   \n",
       "   1762      0.974400              -0.028946               1.055733   \n",
       "   1763      0.974516               0.103210               1.062164   \n",
       "   1764      0.974252               0.012777               1.057800   \n",
       "   1765      0.973986              -0.077657               1.053436   \n",
       "   1766      0.974270               0.100403               1.062103   \n",
       "   \n",
       "         EyePosWorldCombined.z  EyeDirWorldCombined.x  EyeDirWorldCombined.y  \\\n",
       "   0                 -0.199463              -0.227692              -0.046548   \n",
       "   1                 -0.189331              -0.221480              -0.046731   \n",
       "   2                 -0.213379              -0.219832              -0.047036   \n",
       "   3                 -0.195068              -0.217374              -0.045942   \n",
       "   4                 -0.176758              -0.214914              -0.044847   \n",
       "   ...                     ...                    ...                    ...   \n",
       "   1762              -0.350830               0.398863               0.108246   \n",
       "   1763              -0.316650               0.397843               0.107949   \n",
       "   1764              -0.339966               0.399025               0.108549   \n",
       "   1765              -0.363281               0.400206               0.109149   \n",
       "   1766              -0.319092               0.398794               0.109609   \n",
       "   \n",
       "         EyeDirWorldCombined.z  EyePosLocalCombined.x  EyePosLocalCombined.y  \\\n",
       "   0                  0.972620               0.011474               0.006584   \n",
       "   1                  0.974044               0.009559               0.006573   \n",
       "   2                  0.974403               0.007645               0.006563   \n",
       "   3                  0.975007               0.008742               0.006571   \n",
       "   4                  0.975603               0.009839               0.006579   \n",
       "   ...                     ...                    ...                    ...   \n",
       "   1762               0.910599              -0.000785               0.006673   \n",
       "   1763               0.911081              -0.000033               0.006678   \n",
       "   1764               0.910492              -0.000572               0.006678   \n",
       "   1765               0.909902              -0.001110               0.006677   \n",
       "   1766               0.910467              -0.001648               0.006677   \n",
       "   \n",
       "         EyePosLocalCombined.z  EyeDirLocalCombined.x  EyeDirLocalCombined.y  \\\n",
       "   0                 -0.033016              -0.003876              -0.095856   \n",
       "   1                 -0.032881              -0.000969              -0.094872   \n",
       "   2                 -0.032746               0.001938              -0.093887   \n",
       "   3                 -0.032813               0.001366              -0.092049   \n",
       "   4                 -0.032879               0.000793              -0.090210   \n",
       "   ...                     ...                    ...                    ...   \n",
       "   1762              -0.032638               0.225815              -0.010521   \n",
       "   1763              -0.032680               0.225662              -0.011047   \n",
       "   1764              -0.032659               0.225683              -0.010656   \n",
       "   1765              -0.032639               0.225703              -0.010264   \n",
       "   1766              -0.032619               0.225723              -0.009872   \n",
       "   \n",
       "         EyeDirLocalCombined.z  resampled_timestamp  is_interpolated  \n",
       "   0                  0.995377                 4.37            False  \n",
       "   1                  0.995476                 4.38             True  \n",
       "   2                  0.995575                 4.39            False  \n",
       "   3                  0.995743                 4.40             True  \n",
       "   4                  0.995911                 4.41            False  \n",
       "   ...                     ...                  ...              ...  \n",
       "   1762               0.974106                21.99             True  \n",
       "   1763               0.974136                22.00            False  \n",
       "   1764               0.974136                22.01             True  \n",
       "   1765               0.974136                22.02             True  \n",
       "   1766               0.974136                22.03            False  \n",
       "   \n",
       "   [1767 rows x 20 columns]},\n",
       "  'Autobahn': {0:       HmdPosition.x  HmdPosition.y  HmdPosition.z  NoseVector.x  NoseVector.y  \\\n",
       "   0         -2.113770       0.882046       0.250610     -0.027751      0.137117   \n",
       "   1         -2.108276       0.883141       0.250488     -0.026311      0.136829   \n",
       "   2         -2.277710       0.868477       0.304932     -0.027193      0.136659   \n",
       "   3         -1.916870       0.902344       0.194336     -0.021974      0.135768   \n",
       "   4         -2.091553       0.886551       0.248535     -0.023262      0.135776   \n",
       "   ...             ...            ...            ...           ...           ...   \n",
       "   2380      -0.294352       1.039228       0.306641     -0.154131      0.072239   \n",
       "   2381      -0.326538       1.047073       0.231079     -0.133159      0.073282   \n",
       "   2382      -0.215942       1.023262       0.458496     -0.113190      0.074416   \n",
       "   2383      -0.320374       1.046806       0.229736     -0.097209      0.075177   \n",
       "   2384      -0.210693       1.022774       0.458008     -0.082712      0.075912   \n",
       "   \n",
       "         NoseVector.z  EyePosWorldCombined.x  EyePosWorldCombined.y  \\\n",
       "   0         0.990166              -2.096680               0.889805   \n",
       "   1         0.990245              -2.091187               0.890938   \n",
       "   2         0.990245              -2.260742               0.876297   \n",
       "   3         0.990497              -1.899048               0.909889   \n",
       "   4         0.990466              -2.074219               0.894276   \n",
       "   ...            ...                    ...                    ...   \n",
       "   2380      0.985406              -0.323771               1.045720   \n",
       "   2381      0.988382              -0.354919               1.053593   \n",
       "   2382      0.990783              -0.243286               1.029808   \n",
       "   2383      0.992421              -0.349915               1.054005   \n",
       "   2384      0.993678              -0.242432               1.030624   \n",
       "   \n",
       "         EyePosWorldCombined.z  EyeDirWorldCombined.x  EyeDirWorldCombined.y  \\\n",
       "   0                  0.260864              -0.035520              -0.005907   \n",
       "   1                  0.260254              -0.034958              -0.007062   \n",
       "   2                  0.314453              -0.035895              -0.007028   \n",
       "   3                  0.207031              -0.029781              -0.007351   \n",
       "   4                  0.259521              -0.031845              -0.007504   \n",
       "   ...                     ...                    ...                    ...   \n",
       "   2380               0.305908              -0.291746              -0.021848   \n",
       "   2381               0.231201              -0.289066              -0.036423   \n",
       "   2382               0.459473              -0.287339              -0.050889   \n",
       "   2383               0.231812              -0.291691              -0.038173   \n",
       "   2384               0.461182              -0.297418              -0.025489   \n",
       "   \n",
       "         EyeDirWorldCombined.z  EyePosLocalCombined.x  EyePosLocalCombined.y  \\\n",
       "   0                  0.999351               0.000073               0.006562   \n",
       "   1                  0.999364              -0.000401               0.006561   \n",
       "   2                  0.999331              -0.000401               0.006561   \n",
       "   3                  0.999529               0.002618               0.006567   \n",
       "   4                  0.999465               0.000827               0.006563   \n",
       "   ...                     ...                    ...                    ...   \n",
       "   2380               0.956246               0.002022               0.006874   \n",
       "   2381               0.956616               0.002190               0.006795   \n",
       "   2382               0.956476               0.002358               0.006717   \n",
       "   2383               0.955751              -0.001153               0.006666   \n",
       "   2384               0.954407              -0.004663               0.006615   \n",
       "   \n",
       "         EyePosLocalCombined.z  EyeDirLocalCombined.x  EyeDirLocalCombined.y  \\\n",
       "   0                 -0.032653               0.015038              -0.143951   \n",
       "   1                 -0.032633               0.014542              -0.145096   \n",
       "   2                 -0.032633               0.014542              -0.145096   \n",
       "   3                 -0.032778               0.015472              -0.144730   \n",
       "   4                 -0.032692               0.014496              -0.144989   \n",
       "   ...                     ...                    ...                    ...   \n",
       "   2380              -0.032863               0.108307              -0.064392   \n",
       "   2381              -0.032670               0.076454              -0.084587   \n",
       "   2382              -0.032476               0.044601              -0.104782   \n",
       "   2383              -0.032323               0.007751              -0.098770   \n",
       "   2384              -0.032169              -0.029099              -0.092758   \n",
       "   \n",
       "         EyeDirLocalCombined.z  resampled_timestamp  is_interpolated  \n",
       "   0                  0.989464                 5.06             True  \n",
       "   1                  0.989304                 5.07            False  \n",
       "   2                  0.989304                 5.08            False  \n",
       "   3                  0.989334                 5.09            False  \n",
       "   4                  0.989311                 5.10             True  \n",
       "   ...                     ...                  ...              ...  \n",
       "   2380               0.992020                28.86            False  \n",
       "   2381               0.992752                28.87             True  \n",
       "   2382               0.993484                28.88            False  \n",
       "   2383               0.994370                28.89             True  \n",
       "   2384               0.995255                28.90            False  \n",
       "   \n",
       "   [2385 rows x 20 columns],\n",
       "   2:       HmdPosition.x  HmdPosition.y  HmdPosition.z  NoseVector.x  NoseVector.y  \\\n",
       "   0         -0.752686       1.073292      -1.005371      0.090071      0.049663   \n",
       "   1         -0.752563       1.073242      -1.005371      0.090013      0.048883   \n",
       "   2         -0.753723       1.073211      -1.007568      0.090256      0.047639   \n",
       "   3         -0.754883       1.073179      -1.009766      0.090498      0.046396   \n",
       "   4         -0.697900       1.069767      -0.839209      0.091360      0.045111   \n",
       "   ...             ...            ...            ...           ...           ...   \n",
       "   4430      -0.310181       1.044764       0.257080      0.030457     -0.019663   \n",
       "   4431      -0.194580       1.049564       0.335449      0.034406     -0.018960   \n",
       "   4432      -0.232849       1.047971       0.309326      0.036890     -0.018787   \n",
       "   4433      -0.271118       1.046378       0.283203      0.039373     -0.018613   \n",
       "   4434      -0.424805       1.040024       0.177246      0.041856     -0.018547   \n",
       "   \n",
       "         NoseVector.z  EyePosWorldCombined.x  EyePosWorldCombined.y  \\\n",
       "   0         0.994696              -0.757507               1.080899   \n",
       "   1         0.994740              -0.756470               1.080990   \n",
       "   2         0.994779              -0.757996               1.080888   \n",
       "   3         0.994815              -0.759521               1.080786   \n",
       "   4         0.994796              -0.697412               1.078083   \n",
       "   ...            ...                    ...                    ...   \n",
       "   4430      0.999343              -0.318085               1.051149   \n",
       "   4431      0.999228              -0.200623               1.056236   \n",
       "   4432      0.999143              -0.246236               1.053870   \n",
       "   4433      0.999051              -0.291850               1.051503   \n",
       "   4434      0.998952              -0.452881               1.044376   \n",
       "   \n",
       "         EyePosWorldCombined.z  EyeDirWorldCombined.x  EyeDirWorldCombined.y  \\\n",
       "   0                 -1.009644               0.428674              -0.116500   \n",
       "   1                 -1.010010               0.429925              -0.113197   \n",
       "   2                 -1.012085               0.429692              -0.114402   \n",
       "   3                 -1.014160               0.429458              -0.115606   \n",
       "   4                 -0.846533               0.434827              -0.117000   \n",
       "   ...                     ...                    ...                    ...   \n",
       "   4430               0.253418               0.430162              -0.065469   \n",
       "   4431               0.328613               0.428636              -0.065842   \n",
       "   4432               0.314046               0.420933              -0.068304   \n",
       "   4433               0.299479               0.413196              -0.070761   \n",
       "   4434               0.205078               0.405429              -0.073307   \n",
       "   \n",
       "         EyeDirWorldCombined.z  EyePosLocalCombined.x  EyePosLocalCombined.y  \\\n",
       "   0                  0.895917               0.004701               0.006816   \n",
       "   1                  0.895740               0.005757               0.006834   \n",
       "   2                  0.895699               0.005291               0.006832   \n",
       "   3                  0.895657               0.004826               0.006831   \n",
       "   4                  0.892881               0.010567               0.006935   \n",
       "   ...                     ...                    ...                    ...   \n",
       "   4430               0.900375               0.012989               0.006797   \n",
       "   4431               0.901075               0.016632               0.006829   \n",
       "   4432               0.904517               0.002934               0.006739   \n",
       "   4433               0.907889              -0.010764               0.006649   \n",
       "   4434               0.911182              -0.024462               0.006559   \n",
       "   \n",
       "         EyePosLocalCombined.z  EyeDirLocalCombined.x  EyeDirLocalCombined.y  \\\n",
       "   0                 -0.034525               0.326256              -0.211021   \n",
       "   1                 -0.034603               0.327866              -0.206680   \n",
       "   2                 -0.034580               0.327126              -0.205719   \n",
       "   3                 -0.034558               0.326385              -0.204758   \n",
       "   4                 -0.034960               0.331223              -0.204422   \n",
       "   ...                     ...                    ...                    ...   \n",
       "   4430              -0.032659               0.418633              -0.063530   \n",
       "   4431              -0.032934               0.413803              -0.064667   \n",
       "   4432              -0.032214               0.403641              -0.067108   \n",
       "   4433              -0.031495               0.393478              -0.069550   \n",
       "   4434              -0.030776               0.383316              -0.071991   \n",
       "   \n",
       "         EyeDirLocalCombined.z  resampled_timestamp  is_interpolated  \n",
       "   0                  0.921402                 7.87             True  \n",
       "   1                  0.921829                 7.88            False  \n",
       "   2                  0.922310                 7.89             True  \n",
       "   3                  0.922791                 7.90            False  \n",
       "   4                  0.921127                 7.91            False  \n",
       "   ...                     ...                  ...              ...  \n",
       "   4430               0.905907                52.17             True  \n",
       "   4431               0.908066                52.18            False  \n",
       "   4432               0.912308                52.19             True  \n",
       "   4433               0.916550                52.20             True  \n",
       "   4434               0.920792                52.21            False  \n",
       "   \n",
       "   [4435 rows x 20 columns]},\n",
       "  'MountainRoad': {0:       HmdPosition.x  HmdPosition.y  HmdPosition.z  NoseVector.x  NoseVector.y  \\\n",
       "   0         -0.053564       1.062004       0.370702     -0.036081      0.059137   \n",
       "   1         -0.053563       1.062005       0.370706     -0.036102      0.059148   \n",
       "   2         -0.053562       1.062006       0.370709     -0.036123      0.059159   \n",
       "   3         -0.053562       1.062007       0.370713     -0.036144      0.059170   \n",
       "   4         -0.053561       1.062008       0.370717     -0.036165      0.059181   \n",
       "   ...             ...            ...            ...           ...           ...   \n",
       "   1686      -0.292877       1.095428       0.314850     -0.226211      0.113739   \n",
       "   1687      -0.463745       1.110504       0.278625     -0.230855      0.116245   \n",
       "   1688      -0.306213       1.095932       0.312286     -0.237362      0.119733   \n",
       "   1689      -0.311310       1.096252       0.311600     -0.242086      0.122735   \n",
       "   1690      -0.150574       1.082123       0.346466     -0.246795      0.125743   \n",
       "   \n",
       "         NoseVector.z  EyePosWorldCombined.x  EyePosWorldCombined.y  \\\n",
       "   0         0.997598              -6.055759              -7.489823   \n",
       "   1         0.997596              -5.199413              -6.268154   \n",
       "   2         0.997595              -4.343068              -5.046486   \n",
       "   3         0.997593              -3.486722              -3.824817   \n",
       "   4         0.997592              -2.630377              -2.603148   \n",
       "   ...            ...                    ...                    ...   \n",
       "   1686      0.967415              -0.306183               1.101151   \n",
       "   1687      0.966019              -0.475342               1.115967   \n",
       "   1688      0.964014              -0.317200               1.101242   \n",
       "   1689      0.962461              -0.322113               1.101486   \n",
       "   1690      0.960875              -0.161194               1.087280   \n",
       "   \n",
       "         EyePosWorldCombined.z  EyeDirWorldCombined.x  EyeDirWorldCombined.y  \\\n",
       "   0                -10.240439               0.021205              -0.017197   \n",
       "   1                 -8.724776               0.017873              -0.017199   \n",
       "   2                 -7.209113               0.014559              -0.017201   \n",
       "   3                 -5.693450               0.011263              -0.017202   \n",
       "   4                 -4.177787               0.007985              -0.017204   \n",
       "   ...                     ...                    ...                    ...   \n",
       "   1686               0.298157              -0.288024               0.193200   \n",
       "   1687               0.255554              -0.307692               0.213417   \n",
       "   1688               0.287903              -0.295520               0.202189   \n",
       "   1689               0.287277              -0.300604               0.210517   \n",
       "   1690               0.322205              -0.305646               0.218836   \n",
       "   \n",
       "         EyeDirWorldCombined.z  EyePosLocalCombined.x  EyePosLocalCombined.y  \\\n",
       "   0                  0.999627               0.014431               0.006123   \n",
       "   1                  0.999692               0.014361               0.006122   \n",
       "   2                  0.999746               0.014292               0.006122   \n",
       "   3                  0.999789               0.014222               0.006121   \n",
       "   4                  0.999820               0.014153               0.006121   \n",
       "   ...                     ...                    ...                    ...   \n",
       "   1686               0.937932               0.024448               0.006473   \n",
       "   1687               0.927243               0.030903               0.006647   \n",
       "   1688               0.933696               0.031976               0.006677   \n",
       "   1689               0.930226               0.031818               0.006659   \n",
       "   1690               0.926656               0.031660               0.006640   \n",
       "   \n",
       "         EyePosLocalCombined.z  EyeDirLocalCombined.x  EyeDirLocalCombined.y  \\\n",
       "   0                 -0.033322              -0.010514              -0.006446   \n",
       "   1                 -0.033316              -0.010102              -0.006602   \n",
       "   2                 -0.033311              -0.009690              -0.006758   \n",
       "   3                 -0.033306              -0.009278              -0.006914   \n",
       "   4                 -0.033300              -0.008866              -0.007070   \n",
       "   ...                     ...                    ...                    ...   \n",
       "   1686              -0.034897              -0.090179               0.085587   \n",
       "   1687              -0.035490              -0.107773               0.103958   \n",
       "   1688              -0.035612              -0.087158               0.090698   \n",
       "   1689              -0.035583              -0.088120               0.096840   \n",
       "   1690              -0.035553              -0.089081               0.102982   \n",
       "   \n",
       "         EyeDirLocalCombined.z  resampled_timestamp  is_interpolated  \n",
       "   0                  0.999715                 3.01             True  \n",
       "   1                  0.999747                 3.02             True  \n",
       "   2                  0.999779                 3.03             True  \n",
       "   3                  0.999811                 3.04             True  \n",
       "   4                  0.999843                 3.05             True  \n",
       "   ...                     ...                  ...              ...  \n",
       "   1686               0.991898                19.87             True  \n",
       "   1687               0.988708                19.88            False  \n",
       "   1688               0.992050                19.89            False  \n",
       "   1689               0.991364                19.90             True  \n",
       "   1690               0.990677                19.91            False  \n",
       "   \n",
       "   [1691 rows x 20 columns],\n",
       "   3:       HmdPosition.x  HmdPosition.y  HmdPosition.z  NoseVector.x  NoseVector.y  \\\n",
       "   0          0.104309       0.965790      -0.546875     -0.067796      0.118596   \n",
       "   1          0.104553       0.965912      -0.546997     -0.067188      0.119317   \n",
       "   2          0.104797       0.966034      -0.547119     -0.066579      0.120038   \n",
       "   3          0.104980       0.966146      -0.547119     -0.066510      0.120700   \n",
       "   4          0.105164       0.966258      -0.547119     -0.066441      0.121363   \n",
       "   ...             ...            ...            ...           ...           ...   \n",
       "   1031       0.205180       1.074366      -0.322388      0.017845      0.231137   \n",
       "   1032       0.149475       1.072548      -0.354919      0.021954      0.232411   \n",
       "   1033       0.313110       1.078476      -0.257202      0.026058      0.233866   \n",
       "   1034       0.311340       1.078499      -0.257751      0.030036      0.235521   \n",
       "   1035       0.309570       1.078522      -0.258301      0.034013      0.237172   \n",
       "   \n",
       "         NoseVector.z  EyePosWorldCombined.x  EyePosWorldCombined.y  \\\n",
       "   0         0.990625               0.120178               0.976089   \n",
       "   1         0.990580               0.120087               0.976128   \n",
       "   2         0.990534               0.119995               0.976166   \n",
       "   3         0.990458               0.119242               0.976145   \n",
       "   4         0.990382               0.118490               0.976125   \n",
       "   ...            ...                    ...                    ...   \n",
       "   1031      0.972758               0.235942               1.080439   \n",
       "   1032      0.972370               0.179138               1.078468   \n",
       "   1033      0.971920               0.341675               1.084244   \n",
       "   1034      0.971405               0.340027               1.084290   \n",
       "   1035      0.970872               0.338379               1.084335   \n",
       "   \n",
       "         EyePosWorldCombined.z  EyeDirWorldCombined.x  EyeDirWorldCombined.y  \\\n",
       "   0                 -0.523926              -0.105541              -0.004078   \n",
       "   1                 -0.523865              -0.108066              -0.004893   \n",
       "   2                 -0.523804              -0.110591              -0.005707   \n",
       "   3                 -0.523275              -0.110766              -0.006037   \n",
       "   4                 -0.522746              -0.110942              -0.006367   \n",
       "   ...                     ...                    ...                    ...   \n",
       "   1031              -0.320557               0.200779               0.084642   \n",
       "   1032              -0.351379               0.206598               0.086245   \n",
       "   1033              -0.251953               0.212408               0.088034   \n",
       "   1034              -0.252319               0.206077               0.078644   \n",
       "   1035              -0.252686               0.199718               0.069245   \n",
       "   \n",
       "         EyeDirWorldCombined.z  EyePosLocalCombined.x  EyePosLocalCombined.y  \\\n",
       "   0                  0.994407              -0.012403               0.005508   \n",
       "   1                  0.994132              -0.012122               0.005513   \n",
       "   2                  0.993850              -0.011840               0.005518   \n",
       "   3                  0.993828              -0.010732               0.005520   \n",
       "   4                  0.993807              -0.009624               0.005522   \n",
       "   ...                     ...                    ...                    ...   \n",
       "   1031               0.975973              -0.025462               0.005760   \n",
       "   1032               0.974617              -0.023098               0.005793   \n",
       "   1033               0.973207              -0.020735               0.005827   \n",
       "   1034               0.975370              -0.020557               0.005877   \n",
       "   1035               0.977404              -0.020379               0.005928   \n",
       "   \n",
       "         EyePosLocalCombined.z  EyeDirLocalCombined.x  EyeDirLocalCombined.y  \\\n",
       "   0                 -0.032170              -0.022827              -0.121353   \n",
       "   1                 -0.032149              -0.025467              -0.122971   \n",
       "   2                 -0.032129              -0.028107              -0.124588   \n",
       "   3                 -0.032182              -0.028422              -0.125305   \n",
       "   4                 -0.032235              -0.028737              -0.126022   \n",
       "   ...                     ...                    ...                    ...   \n",
       "   1031              -0.032635               0.221558              -0.124008   \n",
       "   1032              -0.032835               0.223320              -0.123344   \n",
       "   1033              -0.033035               0.225082              -0.122681   \n",
       "   1034              -0.033273               0.215012              -0.134232   \n",
       "   1035              -0.033510               0.204941              -0.145782   \n",
       "   \n",
       "         EyeDirLocalCombined.z  resampled_timestamp  is_interpolated  \n",
       "   0                  0.992340                 1.90            False  \n",
       "   1                  0.992073                 1.91             True  \n",
       "   2                  0.991806                 1.92            False  \n",
       "   3                  0.991704                 1.93             True  \n",
       "   4                  0.991603                 1.94             True  \n",
       "   ...                     ...                  ...              ...  \n",
       "   1031               0.967224                12.21            False  \n",
       "   1032               0.966904                12.22             True  \n",
       "   1033               0.966583                12.23            False  \n",
       "   1034               0.967216                12.24             True  \n",
       "   1035               0.967850                12.25            False  \n",
       "   \n",
       "   [1036 rows x 20 columns]},\n",
       "  'CountryRoad': {0:       HmdPosition.x  HmdPosition.y  HmdPosition.z  NoseVector.x  NoseVector.y  \\\n",
       "   0          0.209198       1.066971      -0.343628      0.134018      0.205186   \n",
       "   1          0.350952       1.073135      -0.331299      0.134121      0.205123   \n",
       "   2          0.211700       1.067078      -0.343628      0.134114      0.205306   \n",
       "   3          0.211975       1.067101      -0.343628      0.134104      0.205479   \n",
       "   4          0.211273       1.067070      -0.343628      0.134120      0.205827   \n",
       "   ...             ...            ...            ...           ...           ...   \n",
       "   1834      -0.192383       1.057398      -0.394491     -0.147306      0.142295   \n",
       "   1835      -0.127930       1.056714      -0.385661     -0.146915      0.142270   \n",
       "   1836      -0.063477       1.056030      -0.376831     -0.146524      0.142244   \n",
       "   1837       0.126099       1.053986      -0.350342     -0.145388      0.142273   \n",
       "   1838      -0.063538       1.056046      -0.376953     -0.146179      0.142226   \n",
       "   \n",
       "         NoseVector.z  EyePosWorldCombined.x  EyePosWorldCombined.y  \\\n",
       "   0         0.969504               0.231384               1.073730   \n",
       "   1         0.969503               0.374329               1.080292   \n",
       "   2         0.969465               0.234741               1.074135   \n",
       "   3         0.969430               0.234680               1.074059   \n",
       "   4         0.969354               0.233734               1.073936   \n",
       "   ...            ...                    ...                    ...   \n",
       "   1834      0.978802              -0.169902               1.063238   \n",
       "   1835      0.978864              -0.105428               1.062548   \n",
       "   1836      0.978927              -0.040955               1.061859   \n",
       "   1837      0.979092               0.148682               1.059799   \n",
       "   1838      0.978981              -0.041809               1.061844   \n",
       "   \n",
       "         EyePosWorldCombined.z  EyeDirWorldCombined.x  EyeDirWorldCombined.y  \\\n",
       "   0                 -0.313477               0.112013               0.003571   \n",
       "   1                 -0.289185               0.097644               0.014375   \n",
       "   2                 -0.304565               0.097833               0.013676   \n",
       "   3                 -0.307617               0.098017               0.012965   \n",
       "   4                 -0.309753               0.098971               0.010748   \n",
       "   ...                     ...                    ...                    ...   \n",
       "   1834              -0.403646              -0.112017              -0.024963   \n",
       "   1835              -0.394694              -0.112449              -0.024786   \n",
       "   1836              -0.385742              -0.112882              -0.024609   \n",
       "   1837              -0.359375              -0.111891              -0.024495   \n",
       "   1838              -0.382690              -0.116509              -0.024430   \n",
       "   \n",
       "         EyeDirWorldCombined.z  EyePosLocalCombined.x  EyePosLocalCombined.y  \\\n",
       "   0                  0.993700               0.016783               0.006172   \n",
       "   1                  0.995118               0.028848               0.006211   \n",
       "   2                  0.995109               0.025769               0.006193   \n",
       "   3                  0.995100               0.022690               0.006175   \n",
       "   4                  0.995032               0.020458               0.006162   \n",
       "   ...                     ...                    ...                    ...   \n",
       "   1834               0.993393              -0.029930               0.006244   \n",
       "   1835               0.993348              -0.029878               0.006238   \n",
       "   1836               0.993304              -0.029827               0.006232   \n",
       "   1837               0.993419              -0.029827               0.006232   \n",
       "   1838               0.992889              -0.026525               0.006249   \n",
       "   \n",
       "         EyePosLocalCombined.z  EyeDirLocalCombined.x  EyeDirLocalCombined.y  \\\n",
       "   0                 -0.033348              -0.031158              -0.201874   \n",
       "   1                 -0.033873              -0.045227              -0.190475   \n",
       "   2                 -0.033701              -0.045029              -0.191032   \n",
       "   3                 -0.033529              -0.044830              -0.191589   \n",
       "   4                 -0.033403              -0.043945              -0.193825   \n",
       "   ...                     ...                    ...                    ...   \n",
       "   1834              -0.031036               0.038391              -0.166280   \n",
       "   1835              -0.031023               0.037613              -0.166194   \n",
       "   1836              -0.031010               0.036835              -0.166107   \n",
       "   1837              -0.031010               0.036835              -0.166107   \n",
       "   1838              -0.031203               0.033035              -0.166245   \n",
       "   \n",
       "         EyeDirLocalCombined.z  resampled_timestamp  is_interpolated  \n",
       "   0                  0.978737                 3.30             True  \n",
       "   1                  0.980637                 3.31            False  \n",
       "   2                  0.980537                 3.32             True  \n",
       "   3                  0.980438                 3.33            False  \n",
       "   4                  0.980034                 3.34             True  \n",
       "   ...                     ...                  ...              ...  \n",
       "   1834               0.985321                21.64             True  \n",
       "   1835               0.985367                21.65             True  \n",
       "   1836               0.985413                21.66            False  \n",
       "   1837               0.985413                21.67            False  \n",
       "   1838               0.985519                21.68            False  \n",
       "   \n",
       "   [1839 rows x 20 columns]}}}"
      ]
     },
     "execution_count": 12,
     "metadata": {},
     "output_type": "execute_result"
    }
   ],
   "source": [
    "#measurement1.measurement_data['0bc17d704fec4a9eb892d905fc2e5da9'][\"data\"].golden_segment_data_vanilla\n",
    "measurement1.get_data(use_vanilla=False, filter_data=True,filter_by_corr_coeff_dict = CORRELATION_DICT, corr_coeff_threshold=0.95)"
   ]
  },
  {
   "cell_type": "code",
   "execution_count": 7,
   "id": "infectious-terrorist",
   "metadata": {
    "scrolled": true
   },
   "outputs": [
    {
     "name": "stdout",
     "output_type": "stream",
     "text": [
      "{'Westbrueck': 2, 'CountryRoad': 2, 'MountainRoad': 2, 'Autobahn': 2}\n"
     ]
    },
    {
     "data": {
      "text/plain": [
       "['0bc17d704fec4a9eb892d905fc2e5da9', '0d0d7bd79b1a48d4ad5e757cdbfc15c9']"
      ]
     },
     "execution_count": 7,
     "metadata": {},
     "output_type": "execute_result"
    }
   ],
   "source": [
    "print(measurement1.get_total_available_areas())\n",
    "measurement1.get_participant_list()"
   ]
  },
  {
   "cell_type": "code",
   "execution_count": 7,
   "id": "decimal-entrepreneur",
   "metadata": {},
   "outputs": [
    {
     "ename": "ZeroDivisionError",
     "evalue": "division by zero",
     "output_type": "error",
     "traceback": [
      "\u001b[0;31m---------------------------------------------------------------------------\u001b[0m",
      "\u001b[0;31mZeroDivisionError\u001b[0m                         Traceback (most recent call last)",
      "\u001b[0;32m<ipython-input-7-2fc232d1511a>\u001b[0m in \u001b[0;36m<module>\u001b[0;34m\u001b[0m\n\u001b[0;32m----> 1\u001b[0;31m \u001b[0mprint\u001b[0m\u001b[0;34m(\u001b[0m\u001b[0;36m1\u001b[0m\u001b[0;34m/\u001b[0m\u001b[0;36m0\u001b[0m\u001b[0;34m)\u001b[0m\u001b[0;34m\u001b[0m\u001b[0;34m\u001b[0m\u001b[0m\n\u001b[0m",
      "\u001b[0;31mZeroDivisionError\u001b[0m: division by zero"
     ]
    }
   ],
   "source": [
    "print(1/0)"
   ]
  },
  {
   "cell_type": "code",
   "execution_count": 8,
   "id": "pleased-rebel",
   "metadata": {
    "scrolled": true
   },
   "outputs": [
    {
     "name": "stdout",
     "output_type": "stream",
     "text": [
      "MeasurementData: Applying reference data to all participants individually...\n",
      "ParticipantData: Initialising participant 0bc17d704fec4a9eb892d905fc2e5da9.\n"
     ]
    },
    {
     "name": "stderr",
     "output_type": "stream",
     "text": [
      " 35%|███▍      | 587/1691 [00:00<00:00, 5867.71it/s]"
     ]
    },
    {
     "name": "stdout",
     "output_type": "stream",
     "text": [
      "ParticipantData: Loaded data (bootstrapped) for participant 0bc17d704fec4a9eb892d905fc2e5da9.\n",
      "ParticipantData: Applying reference data to back of MountainRoad's segment 0. Number of datapoints used: 1691.\n",
      "Creating relative directions considering roll.\n"
     ]
    },
    {
     "name": "stderr",
     "output_type": "stream",
     "text": [
      "100%|██████████| 1691/1691 [00:00<00:00, 5428.00it/s]\n",
      " 40%|████      | 681/1691 [00:00<00:00, 6807.47it/s]"
     ]
    },
    {
     "name": "stdout",
     "output_type": "stream",
     "text": [
      "Creating relative directions considering roll.\n"
     ]
    },
    {
     "name": "stderr",
     "output_type": "stream",
     "text": [
      "100%|██████████| 1691/1691 [00:00<00:00, 5791.26it/s]\n",
      " 44%|████▍     | 1374/3131 [00:00<00:00, 6811.21it/s]"
     ]
    },
    {
     "name": "stdout",
     "output_type": "stream",
     "text": [
      "ParticipantData: Applying reference data to back of MountainRoad's segment 1. Number of datapoints used: 3131.\n",
      "Creating relative directions considering roll.\n"
     ]
    },
    {
     "name": "stderr",
     "output_type": "stream",
     "text": [
      "100%|██████████| 3131/3131 [00:00<00:00, 4981.23it/s]\n",
      " 44%|████▎     | 1366/3131 [00:00<00:00, 6598.25it/s]"
     ]
    },
    {
     "name": "stdout",
     "output_type": "stream",
     "text": [
      "Creating relative directions considering roll.\n"
     ]
    },
    {
     "name": "stderr",
     "output_type": "stream",
     "text": [
      "100%|██████████| 3131/3131 [00:00<00:00, 5211.18it/s]\n",
      "  0%|          | 0/4347 [00:00<?, ?it/s]"
     ]
    },
    {
     "name": "stdout",
     "output_type": "stream",
     "text": [
      "ParticipantData: Applying reference data to back of MountainRoad's segment 2. Number of datapoints used: 4347.\n",
      "Creating relative directions considering roll.\n"
     ]
    },
    {
     "name": "stderr",
     "output_type": "stream",
     "text": [
      "100%|██████████| 4347/4347 [00:00<00:00, 4453.41it/s]\n",
      " 30%|██▉       | 1303/4347 [00:00<00:00, 6532.69it/s]"
     ]
    },
    {
     "name": "stdout",
     "output_type": "stream",
     "text": [
      "Creating relative directions considering roll.\n"
     ]
    },
    {
     "name": "stderr",
     "output_type": "stream",
     "text": [
      "100%|██████████| 4347/4347 [00:00<00:00, 5750.51it/s]\n",
      "100%|██████████| 1036/1036 [00:00<00:00, 5484.45it/s]\n"
     ]
    },
    {
     "name": "stdout",
     "output_type": "stream",
     "text": [
      "ParticipantData: Applying reference data to back of MountainRoad's segment 3. Number of datapoints used: 1036.\n",
      "Creating relative directions considering roll.\n",
      "Creating relative directions considering roll.\n"
     ]
    },
    {
     "name": "stderr",
     "output_type": "stream",
     "text": [
      "100%|██████████| 1036/1036 [00:00<00:00, 5774.81it/s]\n",
      " 31%|███       | 638/2089 [00:00<00:00, 6376.42it/s]"
     ]
    },
    {
     "name": "stdout",
     "output_type": "stream",
     "text": [
      "ParticipantData: Applying reference data to back of Westbrueck's segment 0. Number of datapoints used: 2089.\n",
      "Creating relative directions considering roll.\n"
     ]
    },
    {
     "name": "stderr",
     "output_type": "stream",
     "text": [
      "100%|██████████| 2089/2089 [00:00<00:00, 5565.07it/s]\n",
      " 17%|█▋        | 350/2089 [00:00<00:00, 2461.17it/s]"
     ]
    },
    {
     "name": "stdout",
     "output_type": "stream",
     "text": [
      "Creating relative directions considering roll.\n"
     ]
    },
    {
     "name": "stderr",
     "output_type": "stream",
     "text": [
      "100%|██████████| 2089/2089 [00:00<00:00, 4302.72it/s]\n",
      " 30%|██▉       | 633/2131 [00:00<00:00, 6323.00it/s]"
     ]
    },
    {
     "name": "stdout",
     "output_type": "stream",
     "text": [
      "ParticipantData: Applying reference data to back of Westbrueck's segment 1. Number of datapoints used: 2131.\n",
      "Creating relative directions considering roll.\n"
     ]
    },
    {
     "name": "stderr",
     "output_type": "stream",
     "text": [
      "100%|██████████| 2131/2131 [00:00<00:00, 5594.97it/s]\n",
      " 59%|█████▉    | 1258/2131 [00:00<00:00, 6331.42it/s]"
     ]
    },
    {
     "name": "stdout",
     "output_type": "stream",
     "text": [
      "Creating relative directions considering roll.\n"
     ]
    },
    {
     "name": "stderr",
     "output_type": "stream",
     "text": [
      "100%|██████████| 2131/2131 [00:00<00:00, 5602.72it/s]\n",
      " 69%|██████▉   | 1340/1932 [00:00<00:00, 6633.89it/s]"
     ]
    },
    {
     "name": "stdout",
     "output_type": "stream",
     "text": [
      "ParticipantData: Applying reference data to back of Westbrueck's segment 2. Number of datapoints used: 1932.\n",
      "Creating relative directions considering roll.\n"
     ]
    },
    {
     "name": "stderr",
     "output_type": "stream",
     "text": [
      "100%|██████████| 1932/1932 [00:00<00:00, 4562.00it/s]\n",
      " 67%|██████▋   | 1285/1932 [00:00<00:00, 6454.64it/s]"
     ]
    },
    {
     "name": "stdout",
     "output_type": "stream",
     "text": [
      "Creating relative directions considering roll.\n"
     ]
    },
    {
     "name": "stderr",
     "output_type": "stream",
     "text": [
      "100%|██████████| 1932/1932 [00:00<00:00, 5588.71it/s]\n",
      " 77%|███████▋  | 1358/1767 [00:00<00:00, 6813.12it/s]"
     ]
    },
    {
     "name": "stdout",
     "output_type": "stream",
     "text": [
      "ParticipantData: Applying reference data to back of Westbrueck's segment 3. Number of datapoints used: 1767.\n",
      "Creating relative directions considering roll.\n"
     ]
    },
    {
     "name": "stderr",
     "output_type": "stream",
     "text": [
      "100%|██████████| 1767/1767 [00:00<00:00, 5902.94it/s]\n",
      " 75%|███████▍  | 1318/1767 [00:00<00:00, 6608.48it/s]"
     ]
    },
    {
     "name": "stdout",
     "output_type": "stream",
     "text": [
      "Creating relative directions considering roll.\n"
     ]
    },
    {
     "name": "stderr",
     "output_type": "stream",
     "text": [
      "100%|██████████| 1767/1767 [00:00<00:00, 5718.54it/s]\n",
      " 60%|██████    | 1442/2385 [00:00<00:00, 6849.21it/s]"
     ]
    },
    {
     "name": "stdout",
     "output_type": "stream",
     "text": [
      "ParticipantData: Applying reference data to back of Autobahn's segment 0. Number of datapoints used: 2385.\n",
      "Creating relative directions considering roll.\n"
     ]
    },
    {
     "name": "stderr",
     "output_type": "stream",
     "text": [
      "100%|██████████| 2385/2385 [00:00<00:00, 5967.98it/s]\n",
      " 55%|█████▌    | 1312/2385 [00:00<00:00, 4374.82it/s]"
     ]
    },
    {
     "name": "stdout",
     "output_type": "stream",
     "text": [
      "Creating relative directions considering roll.\n"
     ]
    },
    {
     "name": "stderr",
     "output_type": "stream",
     "text": [
      "100%|██████████| 2385/2385 [00:00<00:00, 4705.22it/s]\n",
      " 91%|█████████▏| 1348/1477 [00:00<00:00, 6655.46it/s]"
     ]
    },
    {
     "name": "stdout",
     "output_type": "stream",
     "text": [
      "ParticipantData: Applying reference data to back of Autobahn's segment 1. Number of datapoints used: 1477.\n",
      "Creating relative directions considering roll.\n"
     ]
    },
    {
     "name": "stderr",
     "output_type": "stream",
     "text": [
      "100%|██████████| 1477/1477 [00:00<00:00, 5816.20it/s]\n",
      " 42%|████▏     | 615/1477 [00:00<00:00, 6146.30it/s]"
     ]
    },
    {
     "name": "stdout",
     "output_type": "stream",
     "text": [
      "Creating relative directions considering roll.\n"
     ]
    },
    {
     "name": "stderr",
     "output_type": "stream",
     "text": [
      "100%|██████████| 1477/1477 [00:00<00:00, 5732.89it/s]\n",
      " 15%|█▌        | 672/4435 [00:00<00:00, 6715.36it/s]"
     ]
    },
    {
     "name": "stdout",
     "output_type": "stream",
     "text": [
      "ParticipantData: Applying reference data to back of Autobahn's segment 2. Number of datapoints used: 4435.\n",
      "Creating relative directions considering roll.\n"
     ]
    },
    {
     "name": "stderr",
     "output_type": "stream",
     "text": [
      "100%|██████████| 4435/4435 [00:00<00:00, 5279.99it/s]\n",
      " 31%|███       | 1378/4435 [00:00<00:00, 6733.54it/s]"
     ]
    },
    {
     "name": "stdout",
     "output_type": "stream",
     "text": [
      "Creating relative directions considering roll.\n"
     ]
    },
    {
     "name": "stderr",
     "output_type": "stream",
     "text": [
      "100%|██████████| 4435/4435 [00:00<00:00, 5972.97it/s]\n",
      "100%|██████████| 153/153 [00:00<00:00, 5594.36it/s]\n",
      "100%|██████████| 153/153 [00:00<00:00, 5430.32it/s]\n",
      " 35%|███▌      | 649/1839 [00:00<00:00, 6488.95it/s]"
     ]
    },
    {
     "name": "stdout",
     "output_type": "stream",
     "text": [
      "ParticipantData: Applying reference data to back of Autobahn's segment 3. Number of datapoints used: 153.\n",
      "Creating relative directions considering roll.\n",
      "Creating relative directions considering roll.\n",
      "ParticipantData: Applying reference data to back of CountryRoad's segment 0. Number of datapoints used: 1839.\n",
      "Creating relative directions considering roll.\n"
     ]
    },
    {
     "name": "stderr",
     "output_type": "stream",
     "text": [
      "100%|██████████| 1839/1839 [00:00<00:00, 5643.82it/s]\n",
      " 72%|███████▏  | 1328/1839 [00:00<00:00, 6578.82it/s]"
     ]
    },
    {
     "name": "stdout",
     "output_type": "stream",
     "text": [
      "Creating relative directions considering roll.\n"
     ]
    },
    {
     "name": "stderr",
     "output_type": "stream",
     "text": [
      "100%|██████████| 1839/1839 [00:00<00:00, 4547.17it/s]\n",
      " 21%|██▏       | 739/3443 [00:00<00:00, 7384.32it/s]"
     ]
    },
    {
     "name": "stdout",
     "output_type": "stream",
     "text": [
      "ParticipantData: Applying reference data to back of CountryRoad's segment 1. Number of datapoints used: 3443.\n",
      "Creating relative directions considering roll.\n"
     ]
    },
    {
     "name": "stderr",
     "output_type": "stream",
     "text": [
      "100%|██████████| 3443/3443 [00:00<00:00, 5991.75it/s]\n",
      " 19%|█▉        | 647/3443 [00:00<00:00, 6466.65it/s]"
     ]
    },
    {
     "name": "stdout",
     "output_type": "stream",
     "text": [
      "Creating relative directions considering roll.\n"
     ]
    },
    {
     "name": "stderr",
     "output_type": "stream",
     "text": [
      "100%|██████████| 3443/3443 [00:00<00:00, 5894.16it/s]\n",
      " 52%|█████▏    | 1294/2505 [00:00<00:00, 4138.23it/s]"
     ]
    },
    {
     "name": "stdout",
     "output_type": "stream",
     "text": [
      "ParticipantData: Applying reference data to back of CountryRoad's segment 2. Number of datapoints used: 2505.\n",
      "Creating relative directions considering roll.\n"
     ]
    },
    {
     "name": "stderr",
     "output_type": "stream",
     "text": [
      "100%|██████████| 2505/2505 [00:00<00:00, 4655.87it/s]\n",
      " 25%|██▌       | 638/2505 [00:00<00:00, 6372.17it/s]"
     ]
    },
    {
     "name": "stdout",
     "output_type": "stream",
     "text": [
      "Creating relative directions considering roll.\n"
     ]
    },
    {
     "name": "stderr",
     "output_type": "stream",
     "text": [
      "100%|██████████| 2505/2505 [00:00<00:00, 5883.24it/s]\n",
      " 35%|███▌      | 1480/4181 [00:00<00:00, 7038.71it/s]"
     ]
    },
    {
     "name": "stdout",
     "output_type": "stream",
     "text": [
      "ParticipantData: Applying reference data to back of CountryRoad's segment 3. Number of datapoints used: 4181.\n",
      "Creating relative directions considering roll.\n"
     ]
    },
    {
     "name": "stderr",
     "output_type": "stream",
     "text": [
      "100%|██████████| 4181/4181 [00:00<00:00, 5309.34it/s]\n",
      " 35%|███▌      | 1470/4181 [00:00<00:00, 6969.67it/s]"
     ]
    },
    {
     "name": "stdout",
     "output_type": "stream",
     "text": [
      "Creating relative directions considering roll.\n"
     ]
    },
    {
     "name": "stderr",
     "output_type": "stream",
     "text": [
      "100%|██████████| 4181/4181 [00:00<00:00, 5912.26it/s]\n"
     ]
    },
    {
     "name": "stdout",
     "output_type": "stream",
     "text": [
      "ParticipantData: Saved bootstrapped data to disk.\n",
      "\n",
      "ParticipantData: Updated bootstrapped data on disk.\n",
      "ParticipantData: Initialising participant 0d0d7bd79b1a48d4ad5e757cdbfc15c9.\n"
     ]
    },
    {
     "name": "stderr",
     "output_type": "stream",
     "text": [
      " 24%|██▍       | 501/2089 [00:00<00:00, 5005.14it/s]"
     ]
    },
    {
     "name": "stdout",
     "output_type": "stream",
     "text": [
      "ParticipantData: Loaded data (bootstrapped) for participant 0d0d7bd79b1a48d4ad5e757cdbfc15c9.\n",
      "ParticipantData: Applying reference data to back of Westbrueck's segment 0. Number of datapoints used: 2089.\n",
      "Creating relative directions considering roll.\n"
     ]
    },
    {
     "name": "stderr",
     "output_type": "stream",
     "text": [
      "100%|██████████| 2089/2089 [00:00<00:00, 3721.72it/s]\n",
      " 51%|█████▏    | 1072/2089 [00:00<00:00, 5130.23it/s]"
     ]
    },
    {
     "name": "stdout",
     "output_type": "stream",
     "text": [
      "Creating relative directions considering roll.\n"
     ]
    },
    {
     "name": "stderr",
     "output_type": "stream",
     "text": [
      "100%|██████████| 2089/2089 [00:00<00:00, 4595.31it/s]\n",
      " 24%|██▍       | 511/2131 [00:00<00:00, 5108.41it/s]"
     ]
    },
    {
     "name": "stdout",
     "output_type": "stream",
     "text": [
      "ParticipantData: Applying reference data to back of Westbrueck's segment 1. Number of datapoints used: 2131.\n",
      "Creating relative directions considering roll.\n"
     ]
    },
    {
     "name": "stderr",
     "output_type": "stream",
     "text": [
      "100%|██████████| 2131/2131 [00:00<00:00, 4971.34it/s]\n",
      " 29%|██▉       | 623/2131 [00:00<00:00, 6221.73it/s]"
     ]
    },
    {
     "name": "stdout",
     "output_type": "stream",
     "text": [
      "Creating relative directions considering roll.\n"
     ]
    },
    {
     "name": "stderr",
     "output_type": "stream",
     "text": [
      "100%|██████████| 2131/2131 [00:00<00:00, 5594.22it/s]\n",
      " 27%|██▋       | 522/1932 [00:00<00:00, 5216.61it/s]"
     ]
    },
    {
     "name": "stdout",
     "output_type": "stream",
     "text": [
      "ParticipantData: Applying reference data to back of Westbrueck's segment 2. Number of datapoints used: 1932.\n",
      "Creating relative directions considering roll.\n"
     ]
    },
    {
     "name": "stderr",
     "output_type": "stream",
     "text": [
      "100%|██████████| 1932/1932 [00:00<00:00, 4504.17it/s]\n",
      " 26%|██▌       | 501/1932 [00:00<00:00, 5004.39it/s]"
     ]
    },
    {
     "name": "stdout",
     "output_type": "stream",
     "text": [
      "Creating relative directions considering roll.\n"
     ]
    },
    {
     "name": "stderr",
     "output_type": "stream",
     "text": [
      "100%|██████████| 1932/1932 [00:00<00:00, 3934.76it/s]\n",
      " 31%|███       | 546/1767 [00:00<00:00, 5454.93it/s]"
     ]
    },
    {
     "name": "stdout",
     "output_type": "stream",
     "text": [
      "ParticipantData: Applying reference data to back of Westbrueck's segment 3. Number of datapoints used: 1767.\n",
      "Creating relative directions considering roll.\n"
     ]
    },
    {
     "name": "stderr",
     "output_type": "stream",
     "text": [
      "100%|██████████| 1767/1767 [00:00<00:00, 4435.61it/s]\n",
      " 31%|███       | 546/1767 [00:00<00:00, 5457.26it/s]"
     ]
    },
    {
     "name": "stdout",
     "output_type": "stream",
     "text": [
      "Creating relative directions considering roll.\n"
     ]
    },
    {
     "name": "stderr",
     "output_type": "stream",
     "text": [
      "100%|██████████| 1767/1767 [00:00<00:00, 5120.18it/s]\n",
      " 26%|██▌       | 610/2385 [00:00<00:00, 6098.04it/s]"
     ]
    },
    {
     "name": "stdout",
     "output_type": "stream",
     "text": [
      "ParticipantData: Applying reference data to back of Autobahn's segment 0. Number of datapoints used: 2385.\n",
      "Creating relative directions considering roll.\n"
     ]
    },
    {
     "name": "stderr",
     "output_type": "stream",
     "text": [
      "100%|██████████| 2385/2385 [00:00<00:00, 5626.66it/s]\n",
      " 26%|██▋       | 632/2385 [00:00<00:00, 6314.89it/s]"
     ]
    },
    {
     "name": "stdout",
     "output_type": "stream",
     "text": [
      "Creating relative directions considering roll.\n"
     ]
    },
    {
     "name": "stderr",
     "output_type": "stream",
     "text": [
      "100%|██████████| 2385/2385 [00:00<00:00, 4238.95it/s]\n",
      " 38%|███▊      | 556/1477 [00:00<00:00, 5553.50it/s]"
     ]
    },
    {
     "name": "stdout",
     "output_type": "stream",
     "text": [
      "ParticipantData: Applying reference data to back of Autobahn's segment 1. Number of datapoints used: 1477.\n",
      "Creating relative directions considering roll.\n"
     ]
    },
    {
     "name": "stderr",
     "output_type": "stream",
     "text": [
      "100%|██████████| 1477/1477 [00:00<00:00, 4911.04it/s]\n",
      " 40%|████      | 596/1477 [00:00<00:00, 5953.97it/s]"
     ]
    },
    {
     "name": "stdout",
     "output_type": "stream",
     "text": [
      "Creating relative directions considering roll.\n"
     ]
    },
    {
     "name": "stderr",
     "output_type": "stream",
     "text": [
      "100%|██████████| 1477/1477 [00:00<00:00, 4948.10it/s]\n",
      " 15%|█▌        | 686/4435 [00:00<00:00, 6852.31it/s]"
     ]
    },
    {
     "name": "stdout",
     "output_type": "stream",
     "text": [
      "ParticipantData: Applying reference data to back of Autobahn's segment 2. Number of datapoints used: 4435.\n",
      "Creating relative directions considering roll.\n"
     ]
    },
    {
     "name": "stderr",
     "output_type": "stream",
     "text": [
      "100%|██████████| 4435/4435 [00:00<00:00, 5589.44it/s]\n",
      " 26%|██▌       | 1158/4435 [00:00<00:00, 5879.10it/s]"
     ]
    },
    {
     "name": "stdout",
     "output_type": "stream",
     "text": [
      "Creating relative directions considering roll.\n"
     ]
    },
    {
     "name": "stderr",
     "output_type": "stream",
     "text": [
      "100%|██████████| 4435/4435 [00:00<00:00, 4950.07it/s]\n",
      "100%|██████████| 153/153 [00:00<00:00, 5121.66it/s]\n",
      "100%|██████████| 153/153 [00:00<00:00, 5308.81it/s]\n",
      "  0%|          | 0/1691 [00:00<?, ?it/s]"
     ]
    },
    {
     "name": "stdout",
     "output_type": "stream",
     "text": [
      "ParticipantData: Applying reference data to back of Autobahn's segment 3. Number of datapoints used: 153.\n",
      "Creating relative directions considering roll.\n",
      "Creating relative directions considering roll.\n",
      "ParticipantData: Applying reference data to back of MountainRoad's segment 0. Number of datapoints used: 1691.\n",
      "Creating relative directions considering roll.\n"
     ]
    },
    {
     "name": "stderr",
     "output_type": "stream",
     "text": [
      "100%|██████████| 1691/1691 [00:00<00:00, 5599.78it/s]\n",
      " 79%|███████▊  | 1328/1691 [00:00<00:00, 6644.59it/s]"
     ]
    },
    {
     "name": "stdout",
     "output_type": "stream",
     "text": [
      "Creating relative directions considering roll.\n"
     ]
    },
    {
     "name": "stderr",
     "output_type": "stream",
     "text": [
      "100%|██████████| 1691/1691 [00:00<00:00, 5819.86it/s]\n",
      " 23%|██▎       | 710/3131 [00:00<00:00, 7095.03it/s]"
     ]
    },
    {
     "name": "stdout",
     "output_type": "stream",
     "text": [
      "ParticipantData: Applying reference data to back of MountainRoad's segment 1. Number of datapoints used: 3131.\n",
      "Creating relative directions considering roll.\n"
     ]
    },
    {
     "name": "stderr",
     "output_type": "stream",
     "text": [
      "100%|██████████| 3131/3131 [00:00<00:00, 4340.35it/s]\n",
      " 16%|█▌        | 507/3131 [00:00<00:00, 5063.32it/s]"
     ]
    },
    {
     "name": "stdout",
     "output_type": "stream",
     "text": [
      "Creating relative directions considering roll.\n"
     ]
    },
    {
     "name": "stderr",
     "output_type": "stream",
     "text": [
      "100%|██████████| 3131/3131 [00:00<00:00, 4694.87it/s]\n",
      " 13%|█▎        | 559/4347 [00:00<00:00, 5588.77it/s]"
     ]
    },
    {
     "name": "stdout",
     "output_type": "stream",
     "text": [
      "ParticipantData: Applying reference data to back of MountainRoad's segment 2. Number of datapoints used: 4347.\n",
      "Creating relative directions considering roll.\n"
     ]
    },
    {
     "name": "stderr",
     "output_type": "stream",
     "text": [
      "100%|██████████| 4347/4347 [00:00<00:00, 5803.28it/s]\n",
      " 15%|█▍        | 640/4347 [00:00<00:00, 6390.80it/s]"
     ]
    },
    {
     "name": "stdout",
     "output_type": "stream",
     "text": [
      "Creating relative directions considering roll.\n"
     ]
    },
    {
     "name": "stderr",
     "output_type": "stream",
     "text": [
      "100%|██████████| 4347/4347 [00:00<00:00, 5034.52it/s]\n",
      "100%|██████████| 1036/1036 [00:00<00:00, 6147.57it/s]\n",
      "  0%|          | 0/1036 [00:00<?, ?it/s]"
     ]
    },
    {
     "name": "stdout",
     "output_type": "stream",
     "text": [
      "ParticipantData: Applying reference data to back of MountainRoad's segment 3. Number of datapoints used: 1036.\n",
      "Creating relative directions considering roll.\n",
      "Creating relative directions considering roll.\n"
     ]
    },
    {
     "name": "stderr",
     "output_type": "stream",
     "text": [
      "100%|██████████| 1036/1036 [00:00<00:00, 5699.10it/s]\n",
      " 36%|███▋      | 670/1839 [00:00<00:00, 6698.35it/s]"
     ]
    },
    {
     "name": "stdout",
     "output_type": "stream",
     "text": [
      "ParticipantData: Applying reference data to back of CountryRoad's segment 0. Number of datapoints used: 1839.\n",
      "Creating relative directions considering roll.\n"
     ]
    },
    {
     "name": "stderr",
     "output_type": "stream",
     "text": [
      "100%|██████████| 1839/1839 [00:00<00:00, 5910.91it/s]\n",
      " 36%|███▋      | 669/1839 [00:00<00:00, 6683.71it/s]"
     ]
    },
    {
     "name": "stdout",
     "output_type": "stream",
     "text": [
      "Creating relative directions considering roll.\n"
     ]
    },
    {
     "name": "stderr",
     "output_type": "stream",
     "text": [
      "100%|██████████| 1839/1839 [00:00<00:00, 4270.42it/s]\n",
      " 39%|███▊      | 1334/3443 [00:00<00:00, 6591.23it/s]"
     ]
    },
    {
     "name": "stdout",
     "output_type": "stream",
     "text": [
      "ParticipantData: Applying reference data to back of CountryRoad's segment 1. Number of datapoints used: 3443.\n",
      "Creating relative directions considering roll.\n"
     ]
    },
    {
     "name": "stderr",
     "output_type": "stream",
     "text": [
      "100%|██████████| 3443/3443 [00:00<00:00, 5952.68it/s]\n",
      " 18%|█▊        | 632/3443 [00:00<00:00, 6314.83it/s]"
     ]
    },
    {
     "name": "stdout",
     "output_type": "stream",
     "text": [
      "Creating relative directions considering roll.\n"
     ]
    },
    {
     "name": "stderr",
     "output_type": "stream",
     "text": [
      "100%|██████████| 3443/3443 [00:00<00:00, 5855.71it/s]\n",
      " 53%|█████▎    | 1334/2505 [00:00<00:00, 4348.83it/s]"
     ]
    },
    {
     "name": "stdout",
     "output_type": "stream",
     "text": [
      "ParticipantData: Applying reference data to back of CountryRoad's segment 2. Number of datapoints used: 2505.\n",
      "Creating relative directions considering roll.\n"
     ]
    },
    {
     "name": "stderr",
     "output_type": "stream",
     "text": [
      "100%|██████████| 2505/2505 [00:00<00:00, 4817.15it/s]\n",
      " 53%|█████▎    | 1317/2505 [00:00<00:00, 6599.33it/s]"
     ]
    },
    {
     "name": "stdout",
     "output_type": "stream",
     "text": [
      "Creating relative directions considering roll.\n"
     ]
    },
    {
     "name": "stderr",
     "output_type": "stream",
     "text": [
      "100%|██████████| 2505/2505 [00:00<00:00, 5778.80it/s]\n",
      " 17%|█▋        | 722/4181 [00:00<00:00, 7219.85it/s]"
     ]
    },
    {
     "name": "stdout",
     "output_type": "stream",
     "text": [
      "ParticipantData: Applying reference data to back of CountryRoad's segment 3. Number of datapoints used: 4181.\n",
      "Creating relative directions considering roll.\n"
     ]
    },
    {
     "name": "stderr",
     "output_type": "stream",
     "text": [
      "100%|██████████| 4181/4181 [00:00<00:00, 5148.39it/s]\n",
      " 31%|███       | 1288/4181 [00:00<00:00, 6472.73it/s]"
     ]
    },
    {
     "name": "stdout",
     "output_type": "stream",
     "text": [
      "Creating relative directions considering roll.\n"
     ]
    },
    {
     "name": "stderr",
     "output_type": "stream",
     "text": [
      "100%|██████████| 4181/4181 [00:00<00:00, 5794.62it/s]\n"
     ]
    },
    {
     "name": "stdout",
     "output_type": "stream",
     "text": [
      "ParticipantData: Saved bootstrapped data to disk.\n",
      "\n",
      "ParticipantData: Updated bootstrapped data on disk.\n",
      "MeasurementData: Done applying reference data to all participants individually.\n"
     ]
    }
   ],
   "source": [
    "measurement1.apply_reference_data(REFERENCE_DATA_ALL_EVENTS_FAILED)"
   ]
  },
  {
   "cell_type": "code",
   "execution_count": 9,
   "id": "imposed-technology",
   "metadata": {},
   "outputs": [
    {
     "name": "stdout",
     "output_type": "stream",
     "text": [
      "Available participants: \n",
      "['0bc17d704fec4a9eb892d905fc2e5da9', '0d0d7bd79b1a48d4ad5e757cdbfc15c9']\n",
      "\n"
     ]
    }
   ],
   "source": [
    "print(\"Available participants: \\n\" + str(measurement1.get_participant_list()))\n",
    "print()"
   ]
  },
  {
   "cell_type": "markdown",
   "id": "prepared-package",
   "metadata": {},
   "source": [
    "# Extract participant data"
   ]
  },
  {
   "cell_type": "code",
   "execution_count": null,
   "id": "broadband-spain",
   "metadata": {},
   "outputs": [],
   "source": [
    "### Reference data applied \n",
    "\n",
    "# Extract data of one participant, of one area, of one segment \n",
    "participant_exclusion_list = [p for p in measurement1.get_participant_list() if p != GLOBAL_SINGLE_PARTICIPANT]\n",
    "one_participant_single_segment = measurement1.get_data(use_vanilla=False, filter_data=True, \\\n",
    "                 filter_by_corr_coeff_dict=CORRELATION_DICT, corr_coeff_threshold=0.95, \\\n",
    "                 exclude_participants=participant_exclusion_list)\n",
    "one_participant_single_segment = one_participant_single_segment[GLOBAL_SINGLE_PARTICIPANT][GLOBAL_AREA][GLOBAL_SEGMENT] \n",
    "\n",
    "# Average data over multiple sessions per segment\n",
    "average_over_all_participants = measurement1.get_data(use_vanilla = False, filter_data=True, filter_by_corr_coeff_dict=CORRELATION_DICT, corr_coeff_threshold=0.95, exclude_participants=[])\n",
    "average_over_all_participants = measurement1.average_data(average_over_all_participants)\n",
    "average_over_all_participants_single_segment = average_over_all_participants[GLOBAL_AREA][GLOBAL_SEGMENT] \n"
   ]
  },
  {
   "cell_type": "code",
   "execution_count": null,
   "id": "uniform-magnitude",
   "metadata": {},
   "outputs": [],
   "source": [
    "### No reference data applied \n",
    "\n",
    "# Extract data of one participant, of one area, of one segment without ref data applied \n",
    "participant_exclusion_list = [p for p in measurement1.get_participant_list() if p != GLOBAL_SINGLE_PARTICIPANT]\n",
    "one_participant_single_segment_no_ref_applied = measurement1.get_data(use_vanilla=True, filter_data=True, \\\n",
    "                 filter_by_corr_coeff_dict=CORRELATION_DICT, corr_coeff_threshold=0.95, \\\n",
    "                 exclude_participants=participant_exclusion_list)\n",
    "one_participant_single_segment_no_ref_applied = \\\n",
    "    one_participant_single_segment_no_ref_applied[GLOBAL_SINGLE_PARTICIPANT][GLOBAL_AREA][GLOBAL_SEGMENT]\n",
    "\n",
    "# Extract reference data for one area, one segment \n",
    "ref_data_one_participant_single_segment = REFERENCE_DATA_ALL_EVENTS_FAILED[GLOBAL_AREA][GLOBAL_SEGMENT]  \n"
   ]
  },
  {
   "cell_type": "code",
   "execution_count": null,
   "id": "continuing-decimal",
   "metadata": {},
   "outputs": [],
   "source": [
    "print('X min/max ref: ' + str(round(one_participant_single_segment['EyeDirWorldCombined.x'].min(), 4)) + ', ' + str(round(one_participant_single_segment['EyeDirWorldCombined.x'].max(), 4)))\n",
    "print('Y min/max ref: ' + str(round(one_participant_single_segment['EyeDirWorldCombined.y'].min(), 4)) + ', ' + str(round(one_participant_single_segment['EyeDirWorldCombined.y'].max(), 4)))\n",
    "print('Z min/max ref: ' + str(round(one_participant_single_segment['EyeDirWorldCombined.z'].min(), 4)) + ', ' + str(round(one_participant_single_segment['EyeDirWorldCombined.z'].max(), 4)))\n",
    "\n",
    "print('X min/max no ref: ' + str(round(one_participant_single_segment_no_ref_applied['EyeDirWorldCombined.x'].min(), 4)) + ', ' + str(round(one_participant_single_segment_no_ref_applied['EyeDirWorldCombined.x'].max(), 4)))\n",
    "print('Y min/max no ref: ' + str(round(one_participant_single_segment_no_ref_applied['EyeDirWorldCombined.y'].min(), 4)) + ', ' + str(round(one_participant_single_segment_no_ref_applied['EyeDirWorldCombined.y'].max(), 4)))\n",
    "print('Z min/max no ref: ' + str(round(one_participant_single_segment_no_ref_applied['EyeDirWorldCombined.z'].min(), 4)) + ', ' + str(round(one_participant_single_segment_no_ref_applied['EyeDirWorldCombined.z'].max(), 4)))"
   ]
  },
  {
   "cell_type": "code",
   "execution_count": null,
   "id": "devoted-gibraltar",
   "metadata": {},
   "outputs": [],
   "source": [
    "one_participant_single_segment"
   ]
  },
  {
   "cell_type": "markdown",
   "id": "biblical-seeker",
   "metadata": {},
   "source": [
    "# Check unit length of directions"
   ]
  },
  {
   "cell_type": "code",
   "execution_count": null,
   "id": "adjusted-simple",
   "metadata": {},
   "outputs": [],
   "source": []
  },
  {
   "cell_type": "code",
   "execution_count": null,
   "id": "suited-bandwidth",
   "metadata": {},
   "outputs": [],
   "source": []
  }
 ],
 "metadata": {
  "kernelspec": {
   "display_name": "Python 3",
   "language": "python",
   "name": "python3"
  },
  "language_info": {
   "codemirror_mode": {
    "name": "ipython",
    "version": 3
   },
   "file_extension": ".py",
   "mimetype": "text/x-python",
   "name": "python",
   "nbconvert_exporter": "python",
   "pygments_lexer": "ipython3",
   "version": "3.8.8"
  }
 },
 "nbformat": 4,
 "nbformat_minor": 5
}
