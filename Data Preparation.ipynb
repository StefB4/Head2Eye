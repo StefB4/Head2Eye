{
 "cells": [
  {
   "cell_type": "code",
   "execution_count": 26,
   "id": "threaded-childhood",
   "metadata": {},
   "outputs": [],
   "source": [
    "import numpy as np\n",
    "import matplotlib.pyplot as plt\n",
    "\n",
    "import pickle\n",
    "import os\n",
    "import pandas as pd\n",
    "import json\n",
    "from itertools import compress\n",
    "import math\n",
    "\n",
    "from scipy import signal \n",
    "\n",
    "import glob\n",
    "\n",
    "import tensorflow as tf\n",
    "import tensorflow.keras as keras\n",
    "import tensorflow.keras.utils \n",
    "\n",
    "from DataManager import ParticipantData, MeasurementData\n",
    "from Helpers import read_normalized_json_to_df, save_to_disk, load_from_disk, create_rolling_windows, \\\n",
    "   intersection, reject_outliers, anglebetween, eye_outlier_removal_sigma, eye_outlier_removal_zero_values, validate_participant_seen_areas\n",
    "from AngleHelpers import create_relative_directions"
   ]
  },
  {
   "cell_type": "code",
   "execution_count": 27,
   "id": "configured-oriental",
   "metadata": {},
   "outputs": [],
   "source": [
    "reference_data_all_failed_save_path = \"./post_recorded_reference_data/reference_dict_all.pickle\"\n",
    "REFERENCE_DATA_ALL_EVENTS_FAILED = load_from_disk(reference_data_all_failed_save_path)\n",
    "\n",
    "correlation_dict_path = \"./post_recorded_reference_data/corr_dict.pickle\"\n",
    "CORRELATION_DICT = load_from_disk(correlation_dict_path)\n",
    "\n",
    "final_data_path = \"/Volumes/LaCie/aMessdaten/LoopAR/Final_Filtered_Data/\""
   ]
  },
  {
   "cell_type": "markdown",
   "id": "convenient-inspection",
   "metadata": {},
   "source": [
    "# Load data"
   ]
  },
  {
   "cell_type": "code",
   "execution_count": 8,
   "id": "otherwise-offense",
   "metadata": {},
   "outputs": [],
   "source": [
    "# Exclude all participants that have less than two (complete) scenes besides the training scene\n",
    "exclude_participant_ids = [\n",
    "    \"a5c5d2051bd1493ea79e1d565524610f\", # ['MountainRoad.txt']\n",
    "    \"2462e5d82bc44a328934442cae03d83f\", # ['MountainRoad.txt', 'TrainingScene.txt']\n",
    "    \"0c2734d5a8664e1abd2ffcf8aa6fa5d6\", # ['TrainingScene.txt']\n",
    "    \"c685e206b2eb4702860bb908afe2a11f\", # ['MountainRoad.txt', 'TrainingScene.txt']\n",
    "    \"28d1f769c1204e36a574c025d8e771c4\", # ['Incomplete.txt', 'MountainRoad.txt', 'TrainingScene.txt']\n",
    "    \"d5f3fa1c877f4afb9bc0250d5882c22c\", # ['TrainingScene.txt']\n",
    "    \"f4c4e380b2b941e4a963fe12f4038865\", # ['MountainRoad.txt', 'TrainingScene.txt']\n",
    "    \"1c293d21f60241008d6230a6f28e4079\", # ['TrainingScene.txt']\n",
    "    \"3e3154cff72540e48eac982a379ce69f\", # ['Incomplete.txt', 'MountainRoad.txt', 'TrainingScene.txt']\n",
    "    \"1deaa8e567f1435da07c0817717ef4fe\", # ['TrainingScene.txt']\n",
    "    \"28191a22a70d478b808eb8905e35c6ba\", # ['Incomplete.txt', 'MountainRoad.txt', 'TrainingScene.txt']\n",
    "    \"ac30f09446ec48289c41b66b1ba0d3f9\", # ['TrainingScene.txt'] \n",
    "    \"5b79b725686a4985b5caf35de0e06d43\", # ['Incomplete.txt', 'TrainingScene.txt']\n",
    "    \"b482259cbb524e689a6e3859951bebf1\", # ['Incomplete.txt', 'MountainRoad.txt', 'TrainingScene.txt']\n",
    "    \"518e07b76d804110b035e3c774f52d5b\", # ['TrainingScene.txt']\n",
    "    \"cc9284dfb5f645858196537e05c1959b\", # ['MountainRoad.txt']\n",
    "    \"0cd51e7040bc43568284cdcedccfe0d3\", # ['TrainingScene.txt']\n",
    "    \"d9cd9704a0064fed9993333363608346\", # ['Incomplete.txt', 'MountainRoad.txt', 'TrainingScene.txt']\n",
    "    \"5ff5cecd56f7486286ec386434ae9219\", # ['Incomplete.txt', 'MountainRoad.txt', 'TrainingScene.txt']\n",
    "    \"178dd53ce37a40b0accd7a59cc9035ac\", # ['TrainingScene.txt']\n",
    "    \"1efd4163b5614c8e9eed8e04c0ceda3e\", # ['MountainRoad.txt', 'TrainingScene.txt'] \n",
    "    \"b74d6990eba645fa82fa2ab9fb0b5180\", # ['Incomplete.txt', 'MountainRoad.txt', 'TrainingScene.txt']\n",
    "    \"711fa186ae5e4d9fada5b0e0049a2074\", # ['Incomplete.txt', 'MountainRoad.txt', 'TrainingScene.txt']\n",
    "    \"83b00eb628b2446d992ac698026dfdc0\", # ['Incomplete.txt', 'MountainRoad.txt', 'TrainingScene.txt']\n",
    "    \"f2fb2a62a3ca4033b9005be13842e27c\", # ['MountainRoad.txt']\n",
    "    \"0c0c45348e314379994333127e5456ae\", # ['TrainingScene.txt']\n",
    "    \"7824cc42ee0447a4a2fa56b9c93bbabb\", # ['TrainingScene.txt']\n",
    "    \"95228b7595954054ae2d11cfbd7623f8\", # ['Incomplete.txt', 'MountainRoad.txt', 'TrainingScene.txt']\n",
    "    \"a5a31c4af00b4199ac4c8760bfaa469e\", # ['Incomplete.txt', 'MountainRoad.txt', 'TrainingScene.txt']\n",
    "    \"addd1085215d42b38184517a2dc95d8d\", # ['Incomplete.txt', 'MountainRoad.txt', 'TrainingScene.txt']\n",
    "    \"f4db5c989fa64b90b31d396943964c12\", # ['TrainingScene.txt']\n",
    "    \"a33a91bbd197432c91a8156f88e46c08\", # ['Incomplete.txt', 'MountainRoad.txt', 'TrainingScene.txt']\n",
    "    \"206b42297be84c7087da6c93f46615bd\", # ['Incomplete.txt', 'MountainRoad.txt', 'TrainingScene.txt']\n",
    "    \"cf45d8bef0b842e5bac1b7022cc3c354\", # ['MountainRoad.txt', 'TrainingScene.txt']\n",
    "    \"e9ec1e6c22c640168130d2756426666c\", # ['TrainingScene.txt']\n",
    "    \"989685d9ca454491b184984695786e20\", # ['TrainingScene.txt']\n",
    "    \"8f9b8786312349639e8811f451054df0\", # ['MountainRoad.txt']\n",
    "    \"39e38c2aa06c42d79e50f36b631f9652\", # ---- Some weird key error ---> files are empty for certain scenes\n",
    "    \"5e66bfb48366498aa83c364bf31c6059\", # ---- Some weird key error\n",
    "    \"3358f368d8694472a86c4770d4f804bc\", # ---- Some weird key error\n",
    "    \"95e8781012c94d37a222b5679724cb1d\", # ---- Some weird key error\n",
    "    \"8626976ce8b14752be340be9f1070724\", # ---- Some weird key error\n",
    "    \"ab79e465598844af94e9bfdfca116fc4\", # ---- Some weird key error\n",
    "    \"6f7a67231a16454dbd657d2f48443aac\", # ---- Some weird key error\n",
    "    \"2cae1d5a3c0c4872b2f397deb13ece71\", # ---- Some weird key error\n",
    "    \"8b27ff8591af4cd79067cf156d23ab95\", # ---- Some weird key error\n",
    "    \"8245ccbaba844032b08f7c33d9c4308a\", # ---- Some weird key error \n",
    "    \"d093379ce1224f1bb24b9730da105927\", # ---- Some weird key error \n",
    "    \"ff0cb5fdc1884204937eca64b52ee041\", # ---- Some weird key error\n",
    "    \"05086cebdd4c45a084ed3ce6b25cc9e6\", # ---- Some weird key error\n",
    "    \"4858c7aa9362421988e7c88d5adae755\", # ---- Some weird key error\n",
    "    \"66bdb97a653b48f98c02d5e764089c00\", # ---- Some weird key error\n",
    "    \"3100b15011da48d88fa3f7f053e4e19f\", # ---- Some weird key error\n",
    "    \"39e5235b13274feb88430f08f3cd5369\", # ---- Some weird key error\n",
    "    \"9b9220b8bf8c4e61adde8bc7571540ef\", # ---- Some weird key error\n",
    "    \"a57132e2aeba484e8433ae8af9b1abbc\", # ---- Some weird key error\n",
    "    \"3de6823af97441c18c8ca5f169b6e896\", # ---- Some weird key error\n",
    "    \"3d865974f89e44c583e23e4f3c8f3d14\", # ---- Some weird key error\n",
    "    \"011846a5c30c4325b45e439fc992f519\", # ---- Some weird key error\n",
    "    \"951592742a88497989fbb71a65781639\", # ---- Some weird key error \n",
    "    \"867545b969cc4ff088b70eab632671dd\", # ---- Some weird key error\n",
    "    \"0d72afe467e74d4fb717a4ab9bb128ac\", # ---- Some weird key error\n",
    "    \"1d0296054e434021b3aa2b47b6c7d921\", # ---- Number of supplied paths does not match \n",
    "    \"0037b2329de444c18d751b4e79901b39\", # ---- Calibration data seems to be missing\n",
    "    \"b89680ab48514db8bca8fcca1852f36d\", # ---- Calibration data seems to be missing\n",
    "    \n",
    "    #####\n",
    "    \n",
    "    # These seem to later be causing nans, mostly likely due to interpolation of clusters \n",
    "    \"81957954cd71450cacc5fd738dd9ebd2\" # done, but has 3 segments where all values are 0 \n",
    "    #\"7e3a3b57dc2a436faf7a21f010206bb6\" # done, but has 1 segment where all values are 0 \n",
    "    \"4a10fec1583843e5b1c82fb74fa7c775\" # done, but has 7 segments where all values are 0\n",
    "    \"eadeee63de7f40a4b4375733651d5dd1\" # done, but has 12 segments where all values are 0 \n",
    "    #\"8ba8fe140022448490326ad0d25ef5a3\" # done, but has 2 segments where all values are 0 \n",
    "    #\"4702745fe0df4a778149aee6882a31de\" # done, but has 1 segment where all values are 0\n",
    "    \"8e03eb1671774d3d9a35f97178902a45\" # done, but has 7 segments where all values are 0\n",
    "    \n",
    "]\n",
    "\n",
    "exclude_participant_ids = []"
   ]
  },
  {
   "cell_type": "code",
   "execution_count": 9,
   "id": "charged-ground",
   "metadata": {
    "scrolled": true
   },
   "outputs": [
    {
     "name": "stdout",
     "output_type": "stream",
     "text": [
      "ParticipantData: Initialising participant 8e03eb1671774d3d9a35f97178902a45.\n",
      "ParticipantData: Loaded data (raw) for participant 8e03eb1671774d3d9a35f97178902a45.\n"
     ]
    }
   ],
   "source": [
    "verbose = False\n",
    "\n",
    "#participant_bootstrap_path = \"/Volumes/LaCie/aMessdaten/LoopAR/Bootstrapped_Participants/\"\n",
    "participant_bootstrap_path = \"./bootstrapped_participant_data/\"\n",
    "keep_participants_in_memory = False\n",
    "\n",
    "\n",
    "eyes_paths  = [\"/Volumes/LaCie/aMessdaten/LoopAR/Data_from_store/LoopAR Data/WestdriveLoopARData_left_complete/EyeTracking/\",\"/Volumes/LaCie/aMessdaten/LoopAR/Data_from_store/LoopAR Data/WestdriveLoopARData_right_complete/EyeTracking/\"]\n",
    "input_paths = [\"/Volumes/LaCie/aMessdaten/LoopAR/Data_from_store/LoopAR Data/WestdriveLoopARData_left_complete/Input/\",\"/Volumes/LaCie/aMessdaten/LoopAR/Data_from_store/LoopAR Data/WestdriveLoopARData_right_complete/Input/\"]\n",
    "calib_paths = [\"/Volumes/LaCie/aMessdaten/LoopAR/Data_from_store/LoopAR Data/WestdriveLoopARData_left_complete/ParticipantCalibrationData/\",\"/Volumes/LaCie/aMessdaten/LoopAR/Data_from_store/LoopAR Data/WestdriveLoopARData_right_complete/ParticipantCalibrationData/\"]\n",
    "scene_paths = [\"/Volumes/LaCie/aMessdaten/LoopAR/Data_from_store/LoopAR Data/WestdriveLoopARData_left_complete/SceneData/\",\"/Volumes/LaCie/aMessdaten/LoopAR/Data_from_store/LoopAR Data/WestdriveLoopARData_right_complete/SceneData/\"]\n",
    "\n",
    "eyes_paths  = [\"./data2/EyeTracking/\"]\n",
    "input_paths = [\"./data2/Input/\"]\n",
    "calib_paths = [\"./data2/ParticipantCalibrationData/\"]\n",
    "scene_paths = [\"./data2/SceneData/\"]\n",
    "\n",
    "\n",
    "measurement_full = MeasurementData(eyes_paths,input_paths,calib_paths,scene_paths,participant_bootstrap_path,exclude_participant_ids,keep_participants_in_memory,verbose)\n"
   ]
  },
  {
   "cell_type": "code",
   "execution_count": 10,
   "id": "infectious-terrorist",
   "metadata": {
    "scrolled": true
   },
   "outputs": [
    {
     "name": "stdout",
     "output_type": "stream",
     "text": [
      "Available Areas (in vanilla data; not multiplied by segments):\n",
      "{'Westbrueck': 1, 'CountryRoad': 1, 'MountainRoad': 1, 'Autobahn': 1}\n",
      "Available Participants: 1\n"
     ]
    }
   ],
   "source": [
    "print(\"Available Areas (in vanilla data; not multiplied by segments):\")\n",
    "print(measurement_full.get_total_available_areas())\n",
    "print(\"Available Participants:\",len(measurement_full.get_participant_list()))\n"
   ]
  },
  {
   "cell_type": "code",
   "execution_count": 11,
   "id": "pleased-rebel",
   "metadata": {
    "scrolled": true
   },
   "outputs": [
    {
     "name": "stdout",
     "output_type": "stream",
     "text": [
      "MeasurementData: Applying reference data to all participants individually...\n",
      "ParticipantData: Initialising participant 8e03eb1671774d3d9a35f97178902a45.\n",
      "ParticipantData: Loaded data (bootstrapped) for participant 8e03eb1671774d3d9a35f97178902a45.\n",
      "\u001b[93mEyeOutlierRemovalZeroValues: WARNING. Cluster spans entire segment.\u001b[0m\n"
     ]
    },
    {
     "name": "stderr",
     "output_type": "stream",
     "text": [
      "/Users/stefan/Documents/Studium/CogSci in Osnabrück/Mehr/HiWi-Tätigkeiten/NBP/Content/Head2EyeMovement/Head2Eye/AngleHelpers.py:655: RuntimeWarning: invalid value encountered in true_divide\n",
      "  final_dir_cartesian = rotated_inp / np.linalg.norm(rotated_inp)\n"
     ]
    },
    {
     "name": "stdout",
     "output_type": "stream",
     "text": [
      "\u001b[93mEyeOutlierRemovalZeroValues: WARNING. Cluster spans entire segment.\u001b[0m\n"
     ]
    },
    {
     "name": "stderr",
     "output_type": "stream",
     "text": [
      "/Users/stefan/Documents/Studium/CogSci in Osnabrück/Mehr/HiWi-Tätigkeiten/NBP/Content/Head2EyeMovement/Head2Eye/AngleHelpers.py:655: RuntimeWarning: invalid value encountered in true_divide\n",
      "  final_dir_cartesian = rotated_inp / np.linalg.norm(rotated_inp)\n"
     ]
    },
    {
     "name": "stdout",
     "output_type": "stream",
     "text": [
      "\u001b[93mEyeOutlierRemovalZeroValues: WARNING. Cluster spans entire segment.\u001b[0m\n"
     ]
    },
    {
     "name": "stderr",
     "output_type": "stream",
     "text": [
      "/Users/stefan/Documents/Studium/CogSci in Osnabrück/Mehr/HiWi-Tätigkeiten/NBP/Content/Head2EyeMovement/Head2Eye/AngleHelpers.py:655: RuntimeWarning: invalid value encountered in true_divide\n",
      "  final_dir_cartesian = rotated_inp / np.linalg.norm(rotated_inp)\n"
     ]
    },
    {
     "name": "stdout",
     "output_type": "stream",
     "text": [
      "\u001b[93mEyeOutlierRemovalZeroValues: WARNING. Cluster spans entire segment.\u001b[0m\n"
     ]
    },
    {
     "name": "stderr",
     "output_type": "stream",
     "text": [
      "/Users/stefan/Documents/Studium/CogSci in Osnabrück/Mehr/HiWi-Tätigkeiten/NBP/Content/Head2EyeMovement/Head2Eye/AngleHelpers.py:655: RuntimeWarning: invalid value encountered in true_divide\n",
      "  final_dir_cartesian = rotated_inp / np.linalg.norm(rotated_inp)\n"
     ]
    },
    {
     "name": "stdout",
     "output_type": "stream",
     "text": [
      "\u001b[93mEyeOutlierRemovalZeroValues: WARNING. Cluster spans entire segment.\u001b[0m\n"
     ]
    },
    {
     "name": "stderr",
     "output_type": "stream",
     "text": [
      "/Users/stefan/Documents/Studium/CogSci in Osnabrück/Mehr/HiWi-Tätigkeiten/NBP/Content/Head2EyeMovement/Head2Eye/AngleHelpers.py:655: RuntimeWarning: invalid value encountered in true_divide\n",
      "  final_dir_cartesian = rotated_inp / np.linalg.norm(rotated_inp)\n"
     ]
    },
    {
     "name": "stdout",
     "output_type": "stream",
     "text": [
      "\u001b[93mEyeOutlierRemovalZeroValues: WARNING. Cluster spans entire segment.\u001b[0m\n"
     ]
    },
    {
     "name": "stderr",
     "output_type": "stream",
     "text": [
      "/Users/stefan/Documents/Studium/CogSci in Osnabrück/Mehr/HiWi-Tätigkeiten/NBP/Content/Head2EyeMovement/Head2Eye/AngleHelpers.py:655: RuntimeWarning: invalid value encountered in true_divide\n",
      "  final_dir_cartesian = rotated_inp / np.linalg.norm(rotated_inp)\n"
     ]
    },
    {
     "name": "stdout",
     "output_type": "stream",
     "text": [
      "\u001b[93mEyeOutlierRemovalZeroValues: WARNING. Cluster spans entire segment.\u001b[0m\n"
     ]
    },
    {
     "name": "stderr",
     "output_type": "stream",
     "text": [
      "/Users/stefan/Documents/Studium/CogSci in Osnabrück/Mehr/HiWi-Tätigkeiten/NBP/Content/Head2EyeMovement/Head2Eye/AngleHelpers.py:655: RuntimeWarning: invalid value encountered in true_divide\n",
      "  final_dir_cartesian = rotated_inp / np.linalg.norm(rotated_inp)\n"
     ]
    },
    {
     "name": "stdout",
     "output_type": "stream",
     "text": [
      "ParticipantData: Updated bootstrapped data on disk.\n",
      "MeasurementData: Done applying reference data to all participants individually.\n"
     ]
    }
   ],
   "source": [
    "measurement_full.apply_reference_data(REFERENCE_DATA_ALL_EVENTS_FAILED)"
   ]
  },
  {
   "cell_type": "code",
   "execution_count": 12,
   "id": "thermal-library",
   "metadata": {},
   "outputs": [
    {
     "name": "stdout",
     "output_type": "stream",
     "text": [
      "ParticipantData: Initialising participant 8e03eb1671774d3d9a35f97178902a45.\n",
      "ParticipantData: Loaded data (bootstrapped) for participant 8e03eb1671774d3d9a35f97178902a45.\n"
     ]
    }
   ],
   "source": [
    "#measurement1.measurement_data['0bc17d704fec4a9eb892d905fc2e5da9'][\"data\"].golden_segment_data_vanilla\n",
    "full_filtered_data = measurement_full.get_data(use_vanilla=False, filter_data=True,filter_by_corr_coeff_dict = CORRELATION_DICT, corr_coeff_threshold=0.95)"
   ]
  },
  {
   "cell_type": "code",
   "execution_count": 16,
   "id": "liked-immigration",
   "metadata": {},
   "outputs": [
    {
     "name": "stdout",
     "output_type": "stream",
     "text": [
      "ParticipantData: Initialising participant 8e03eb1671774d3d9a35f97178902a45.\n",
      "ParticipantData: Loaded data (bootstrapped) for participant 8e03eb1671774d3d9a35f97178902a45.\n"
     ]
    }
   ],
   "source": [
    "full_vanilla_data = measurement_full.get_data(use_vanilla=True, filter_data=False)"
   ]
  },
  {
   "cell_type": "code",
   "execution_count": 21,
   "id": "expected-apparel",
   "metadata": {},
   "outputs": [
    {
     "data": {
      "text/html": [
       "<div>\n",
       "<style scoped>\n",
       "    .dataframe tbody tr th:only-of-type {\n",
       "        vertical-align: middle;\n",
       "    }\n",
       "\n",
       "    .dataframe tbody tr th {\n",
       "        vertical-align: top;\n",
       "    }\n",
       "\n",
       "    .dataframe thead th {\n",
       "        text-align: right;\n",
       "    }\n",
       "</style>\n",
       "<table border=\"1\" class=\"dataframe\">\n",
       "  <thead>\n",
       "    <tr style=\"text-align: right;\">\n",
       "      <th></th>\n",
       "      <th>HmdPosition.x</th>\n",
       "      <th>HmdPosition.y</th>\n",
       "      <th>HmdPosition.z</th>\n",
       "      <th>NoseVector.x</th>\n",
       "      <th>NoseVector.y</th>\n",
       "      <th>NoseVector.z</th>\n",
       "      <th>EyePosWorldCombined.x</th>\n",
       "      <th>EyePosWorldCombined.y</th>\n",
       "      <th>EyePosWorldCombined.z</th>\n",
       "      <th>EyeDirWorldCombined.x</th>\n",
       "      <th>EyeDirWorldCombined.y</th>\n",
       "      <th>EyeDirWorldCombined.z</th>\n",
       "      <th>EyePosLocalCombined.x</th>\n",
       "      <th>EyePosLocalCombined.y</th>\n",
       "      <th>EyePosLocalCombined.z</th>\n",
       "      <th>EyeDirLocalCombined.x</th>\n",
       "      <th>EyeDirLocalCombined.y</th>\n",
       "      <th>EyeDirLocalCombined.z</th>\n",
       "      <th>resampled_timestamp</th>\n",
       "      <th>is_interpolated</th>\n",
       "    </tr>\n",
       "  </thead>\n",
       "  <tbody>\n",
       "    <tr>\n",
       "      <th>370</th>\n",
       "      <td>479.406708</td>\n",
       "      <td>222.386444</td>\n",
       "      <td>1415.552246</td>\n",
       "      <td>-0.642889</td>\n",
       "      <td>0.180173</td>\n",
       "      <td>-0.744467</td>\n",
       "      <td>479.428558</td>\n",
       "      <td>222.387466</td>\n",
       "      <td>1415.575073</td>\n",
       "      <td>-0.664907</td>\n",
       "      <td>0.030045</td>\n",
       "      <td>-0.746317</td>\n",
       "      <td>-0.010163</td>\n",
       "      <td>0.003103</td>\n",
       "      <td>-0.035135</td>\n",
       "      <td>0.013840</td>\n",
       "      <td>-0.154648</td>\n",
       "      <td>0.987869</td>\n",
       "      <td>3.70</td>\n",
       "      <td>False</td>\n",
       "    </tr>\n",
       "    <tr>\n",
       "      <th>371</th>\n",
       "      <td>479.271606</td>\n",
       "      <td>222.396492</td>\n",
       "      <td>1415.414368</td>\n",
       "      <td>-0.642936</td>\n",
       "      <td>0.179329</td>\n",
       "      <td>-0.744630</td>\n",
       "      <td>479.293365</td>\n",
       "      <td>222.397522</td>\n",
       "      <td>1415.437256</td>\n",
       "      <td>-0.666384</td>\n",
       "      <td>0.030491</td>\n",
       "      <td>-0.744974</td>\n",
       "      <td>-0.010036</td>\n",
       "      <td>0.003106</td>\n",
       "      <td>-0.035128</td>\n",
       "      <td>0.015678</td>\n",
       "      <td>-0.153160</td>\n",
       "      <td>0.988068</td>\n",
       "      <td>3.71</td>\n",
       "      <td>True</td>\n",
       "    </tr>\n",
       "    <tr>\n",
       "      <th>372</th>\n",
       "      <td>479.136505</td>\n",
       "      <td>222.406540</td>\n",
       "      <td>1415.276489</td>\n",
       "      <td>-0.642983</td>\n",
       "      <td>0.178486</td>\n",
       "      <td>-0.744792</td>\n",
       "      <td>479.158173</td>\n",
       "      <td>222.407578</td>\n",
       "      <td>1415.299438</td>\n",
       "      <td>-0.667860</td>\n",
       "      <td>0.030938</td>\n",
       "      <td>-0.743630</td>\n",
       "      <td>-0.009909</td>\n",
       "      <td>0.003110</td>\n",
       "      <td>-0.035120</td>\n",
       "      <td>0.017517</td>\n",
       "      <td>-0.151672</td>\n",
       "      <td>0.988266</td>\n",
       "      <td>3.72</td>\n",
       "      <td>False</td>\n",
       "    </tr>\n",
       "    <tr>\n",
       "      <th>373</th>\n",
       "      <td>479.001251</td>\n",
       "      <td>222.416344</td>\n",
       "      <td>1415.137939</td>\n",
       "      <td>-0.643097</td>\n",
       "      <td>0.178132</td>\n",
       "      <td>-0.744779</td>\n",
       "      <td>479.020981</td>\n",
       "      <td>222.417641</td>\n",
       "      <td>1415.162415</td>\n",
       "      <td>-0.667626</td>\n",
       "      <td>0.031378</td>\n",
       "      <td>-0.743818</td>\n",
       "      <td>-0.007411</td>\n",
       "      <td>0.003205</td>\n",
       "      <td>-0.034900</td>\n",
       "      <td>0.017113</td>\n",
       "      <td>-0.150192</td>\n",
       "      <td>0.988495</td>\n",
       "      <td>3.73</td>\n",
       "      <td>True</td>\n",
       "    </tr>\n",
       "    <tr>\n",
       "      <th>374</th>\n",
       "      <td>478.865997</td>\n",
       "      <td>222.426147</td>\n",
       "      <td>1414.999390</td>\n",
       "      <td>-0.643211</td>\n",
       "      <td>0.177779</td>\n",
       "      <td>-0.744765</td>\n",
       "      <td>478.883789</td>\n",
       "      <td>222.427704</td>\n",
       "      <td>1415.025391</td>\n",
       "      <td>-0.667392</td>\n",
       "      <td>0.031818</td>\n",
       "      <td>-0.744006</td>\n",
       "      <td>-0.004913</td>\n",
       "      <td>0.003300</td>\n",
       "      <td>-0.034681</td>\n",
       "      <td>0.016708</td>\n",
       "      <td>-0.148712</td>\n",
       "      <td>0.988724</td>\n",
       "      <td>3.74</td>\n",
       "      <td>False</td>\n",
       "    </tr>\n",
       "    <tr>\n",
       "      <th>...</th>\n",
       "      <td>...</td>\n",
       "      <td>...</td>\n",
       "      <td>...</td>\n",
       "      <td>...</td>\n",
       "      <td>...</td>\n",
       "      <td>...</td>\n",
       "      <td>...</td>\n",
       "      <td>...</td>\n",
       "      <td>...</td>\n",
       "      <td>...</td>\n",
       "      <td>...</td>\n",
       "      <td>...</td>\n",
       "      <td>...</td>\n",
       "      <td>...</td>\n",
       "      <td>...</td>\n",
       "      <td>...</td>\n",
       "      <td>...</td>\n",
       "      <td>...</td>\n",
       "      <td>...</td>\n",
       "      <td>...</td>\n",
       "    </tr>\n",
       "    <tr>\n",
       "      <th>2454</th>\n",
       "      <td>298.538910</td>\n",
       "      <td>230.406425</td>\n",
       "      <td>1259.149231</td>\n",
       "      <td>-0.774345</td>\n",
       "      <td>0.168445</td>\n",
       "      <td>-0.609932</td>\n",
       "      <td>298.555405</td>\n",
       "      <td>230.408279</td>\n",
       "      <td>1259.177429</td>\n",
       "      <td>-0.515103</td>\n",
       "      <td>0.062975</td>\n",
       "      <td>-0.854798</td>\n",
       "      <td>0.000615</td>\n",
       "      <td>0.003773</td>\n",
       "      <td>-0.035715</td>\n",
       "      <td>-0.351028</td>\n",
       "      <td>-0.093056</td>\n",
       "      <td>0.931717</td>\n",
       "      <td>24.54</td>\n",
       "      <td>True</td>\n",
       "    </tr>\n",
       "    <tr>\n",
       "      <th>2455</th>\n",
       "      <td>298.472076</td>\n",
       "      <td>230.410507</td>\n",
       "      <td>1259.097168</td>\n",
       "      <td>-0.774485</td>\n",
       "      <td>0.168490</td>\n",
       "      <td>-0.609741</td>\n",
       "      <td>298.488647</td>\n",
       "      <td>230.412308</td>\n",
       "      <td>1259.125244</td>\n",
       "      <td>-0.514724</td>\n",
       "      <td>0.061291</td>\n",
       "      <td>-0.855145</td>\n",
       "      <td>0.000474</td>\n",
       "      <td>0.003762</td>\n",
       "      <td>-0.035720</td>\n",
       "      <td>-0.351868</td>\n",
       "      <td>-0.094727</td>\n",
       "      <td>0.931229</td>\n",
       "      <td>24.55</td>\n",
       "      <td>False</td>\n",
       "    </tr>\n",
       "    <tr>\n",
       "      <th>2456</th>\n",
       "      <td>298.384247</td>\n",
       "      <td>230.415731</td>\n",
       "      <td>1259.028890</td>\n",
       "      <td>-0.774504</td>\n",
       "      <td>0.168481</td>\n",
       "      <td>-0.609719</td>\n",
       "      <td>298.401337</td>\n",
       "      <td>230.417501</td>\n",
       "      <td>1259.056315</td>\n",
       "      <td>-0.514564</td>\n",
       "      <td>0.061365</td>\n",
       "      <td>-0.855238</td>\n",
       "      <td>-0.000334</td>\n",
       "      <td>0.003709</td>\n",
       "      <td>-0.035721</td>\n",
       "      <td>-0.352168</td>\n",
       "      <td>-0.094676</td>\n",
       "      <td>0.931122</td>\n",
       "      <td>24.56</td>\n",
       "      <td>True</td>\n",
       "    </tr>\n",
       "    <tr>\n",
       "      <th>2457</th>\n",
       "      <td>298.296417</td>\n",
       "      <td>230.420954</td>\n",
       "      <td>1258.960612</td>\n",
       "      <td>-0.774523</td>\n",
       "      <td>0.168472</td>\n",
       "      <td>-0.609698</td>\n",
       "      <td>298.314026</td>\n",
       "      <td>230.422694</td>\n",
       "      <td>1258.987386</td>\n",
       "      <td>-0.514405</td>\n",
       "      <td>0.061440</td>\n",
       "      <td>-0.855330</td>\n",
       "      <td>-0.001142</td>\n",
       "      <td>0.003656</td>\n",
       "      <td>-0.035723</td>\n",
       "      <td>-0.352468</td>\n",
       "      <td>-0.094625</td>\n",
       "      <td>0.931015</td>\n",
       "      <td>24.57</td>\n",
       "      <td>True</td>\n",
       "    </tr>\n",
       "    <tr>\n",
       "      <th>2458</th>\n",
       "      <td>298.208588</td>\n",
       "      <td>230.426178</td>\n",
       "      <td>1258.892334</td>\n",
       "      <td>-0.774543</td>\n",
       "      <td>0.168463</td>\n",
       "      <td>-0.609676</td>\n",
       "      <td>298.226715</td>\n",
       "      <td>230.427887</td>\n",
       "      <td>1258.918457</td>\n",
       "      <td>-0.514245</td>\n",
       "      <td>0.061515</td>\n",
       "      <td>-0.855423</td>\n",
       "      <td>-0.001950</td>\n",
       "      <td>0.003603</td>\n",
       "      <td>-0.035724</td>\n",
       "      <td>-0.352768</td>\n",
       "      <td>-0.094574</td>\n",
       "      <td>0.930908</td>\n",
       "      <td>24.58</td>\n",
       "      <td>False</td>\n",
       "    </tr>\n",
       "  </tbody>\n",
       "</table>\n",
       "<p>2089 rows × 20 columns</p>\n",
       "</div>"
      ],
      "text/plain": [
       "      HmdPosition.x  HmdPosition.y  HmdPosition.z  NoseVector.x  NoseVector.y  \\\n",
       "370      479.406708     222.386444    1415.552246     -0.642889      0.180173   \n",
       "371      479.271606     222.396492    1415.414368     -0.642936      0.179329   \n",
       "372      479.136505     222.406540    1415.276489     -0.642983      0.178486   \n",
       "373      479.001251     222.416344    1415.137939     -0.643097      0.178132   \n",
       "374      478.865997     222.426147    1414.999390     -0.643211      0.177779   \n",
       "...             ...            ...            ...           ...           ...   \n",
       "2454     298.538910     230.406425    1259.149231     -0.774345      0.168445   \n",
       "2455     298.472076     230.410507    1259.097168     -0.774485      0.168490   \n",
       "2456     298.384247     230.415731    1259.028890     -0.774504      0.168481   \n",
       "2457     298.296417     230.420954    1258.960612     -0.774523      0.168472   \n",
       "2458     298.208588     230.426178    1258.892334     -0.774543      0.168463   \n",
       "\n",
       "      NoseVector.z  EyePosWorldCombined.x  EyePosWorldCombined.y  \\\n",
       "370      -0.744467             479.428558             222.387466   \n",
       "371      -0.744630             479.293365             222.397522   \n",
       "372      -0.744792             479.158173             222.407578   \n",
       "373      -0.744779             479.020981             222.417641   \n",
       "374      -0.744765             478.883789             222.427704   \n",
       "...            ...                    ...                    ...   \n",
       "2454     -0.609932             298.555405             230.408279   \n",
       "2455     -0.609741             298.488647             230.412308   \n",
       "2456     -0.609719             298.401337             230.417501   \n",
       "2457     -0.609698             298.314026             230.422694   \n",
       "2458     -0.609676             298.226715             230.427887   \n",
       "\n",
       "      EyePosWorldCombined.z  EyeDirWorldCombined.x  EyeDirWorldCombined.y  \\\n",
       "370             1415.575073              -0.664907               0.030045   \n",
       "371             1415.437256              -0.666384               0.030491   \n",
       "372             1415.299438              -0.667860               0.030938   \n",
       "373             1415.162415              -0.667626               0.031378   \n",
       "374             1415.025391              -0.667392               0.031818   \n",
       "...                     ...                    ...                    ...   \n",
       "2454            1259.177429              -0.515103               0.062975   \n",
       "2455            1259.125244              -0.514724               0.061291   \n",
       "2456            1259.056315              -0.514564               0.061365   \n",
       "2457            1258.987386              -0.514405               0.061440   \n",
       "2458            1258.918457              -0.514245               0.061515   \n",
       "\n",
       "      EyeDirWorldCombined.z  EyePosLocalCombined.x  EyePosLocalCombined.y  \\\n",
       "370               -0.746317              -0.010163               0.003103   \n",
       "371               -0.744974              -0.010036               0.003106   \n",
       "372               -0.743630              -0.009909               0.003110   \n",
       "373               -0.743818              -0.007411               0.003205   \n",
       "374               -0.744006              -0.004913               0.003300   \n",
       "...                     ...                    ...                    ...   \n",
       "2454              -0.854798               0.000615               0.003773   \n",
       "2455              -0.855145               0.000474               0.003762   \n",
       "2456              -0.855238              -0.000334               0.003709   \n",
       "2457              -0.855330              -0.001142               0.003656   \n",
       "2458              -0.855423              -0.001950               0.003603   \n",
       "\n",
       "      EyePosLocalCombined.z  EyeDirLocalCombined.x  EyeDirLocalCombined.y  \\\n",
       "370               -0.035135               0.013840              -0.154648   \n",
       "371               -0.035128               0.015678              -0.153160   \n",
       "372               -0.035120               0.017517              -0.151672   \n",
       "373               -0.034900               0.017113              -0.150192   \n",
       "374               -0.034681               0.016708              -0.148712   \n",
       "...                     ...                    ...                    ...   \n",
       "2454              -0.035715              -0.351028              -0.093056   \n",
       "2455              -0.035720              -0.351868              -0.094727   \n",
       "2456              -0.035721              -0.352168              -0.094676   \n",
       "2457              -0.035723              -0.352468              -0.094625   \n",
       "2458              -0.035724              -0.352768              -0.094574   \n",
       "\n",
       "      EyeDirLocalCombined.z  resampled_timestamp  is_interpolated  \n",
       "370                0.987869                 3.70            False  \n",
       "371                0.988068                 3.71             True  \n",
       "372                0.988266                 3.72            False  \n",
       "373                0.988495                 3.73             True  \n",
       "374                0.988724                 3.74            False  \n",
       "...                     ...                  ...              ...  \n",
       "2454               0.931717                24.54             True  \n",
       "2455               0.931229                24.55            False  \n",
       "2456               0.931122                24.56             True  \n",
       "2457               0.931015                24.57             True  \n",
       "2458               0.930908                24.58            False  \n",
       "\n",
       "[2089 rows x 20 columns]"
      ]
     },
     "execution_count": 21,
     "metadata": {},
     "output_type": "execute_result"
    }
   ],
   "source": [
    "full_vanilla_data['8e03eb1671774d3d9a35f97178902a45'][\"Westbrueck\"][0].query(\"resampled_timestamp >= 3.70\")"
   ]
  },
  {
   "cell_type": "code",
   "execution_count": 25,
   "id": "undefined-lodging",
   "metadata": {},
   "outputs": [
    {
     "data": {
      "text/plain": [
       "HmdPosition.x            False\n",
       "HmdPosition.y             True\n",
       "HmdPosition.z            False\n",
       "NoseVector.x             False\n",
       "NoseVector.y             False\n",
       "NoseVector.z             False\n",
       "EyePosWorldCombined.x    False\n",
       "EyePosWorldCombined.y     True\n",
       "EyePosWorldCombined.z    False\n",
       "EyeDirWorldCombined.x    False\n",
       "EyeDirWorldCombined.y    False\n",
       "EyeDirWorldCombined.z    False\n",
       "EyePosLocalCombined.x    False\n",
       "EyePosLocalCombined.y    False\n",
       "EyePosLocalCombined.z    False\n",
       "EyeDirLocalCombined.x    False\n",
       "EyeDirLocalCombined.y    False\n",
       "EyeDirLocalCombined.z    False\n",
       "resampled_timestamp       True\n",
       "is_interpolated          False\n",
       "dtype: bool"
      ]
     },
     "execution_count": 25,
     "metadata": {},
     "output_type": "execute_result"
    }
   ],
   "source": [
    "(full_filtered_data['8e03eb1671774d3d9a35f97178902a45'][\"Westbrueck\"][0] > 1).any()"
   ]
  },
  {
   "cell_type": "code",
   "execution_count": 48,
   "id": "elder-hanging",
   "metadata": {
    "scrolled": true
   },
   "outputs": [],
   "source": [
    "save_to_disk(full_filtered_data, final_data_path + \"full_filtered_data.pickle\")\n",
    "#full_filtered_data = load_from_disk(final_data_path + \"full_filtered_data.pickle\")"
   ]
  },
  {
   "cell_type": "code",
   "execution_count": 47,
   "id": "touched-delight",
   "metadata": {},
   "outputs": [
    {
     "name": "stdout",
     "output_type": "stream",
     "text": [
      "NaNs\n"
     ]
    }
   ],
   "source": [
    "print(\"NaNs\")\n",
    "\n",
    "for participant in list(full_filtered_data.keys()):\n",
    "    for area in list(full_filtered_data[participant].keys()):\n",
    "        for segment in list(full_filtered_data[participant][area].keys()):\n",
    "            \n",
    "            if full_filtered_data[participant][area][segment].isnull().any().any():\n",
    "                print(participant, area, segment)\n",
    "                \n",
    "                # remove \n",
    "                full_filtered_data[participant][area].pop(segment)\n",
    "                \n",
    "            "
   ]
  },
  {
   "cell_type": "code",
   "execution_count": 29,
   "id": "critical-durham",
   "metadata": {},
   "outputs": [
    {
     "name": "stdout",
     "output_type": "stream",
     "text": [
      "Available Segments in Areas (after filtering):\n",
      "Autobahn: 370 \tWestbrueck: 527 \tCountryRoad: 188 \tMountainRoad: 379\n"
     ]
    }
   ],
   "source": [
    "#print(full_filtered_data[list(full_filtered_data.keys())[0]])\n",
    "\n",
    "westbrueck_cnt = 0\n",
    "autobahn_cnt = 0\n",
    "countryroad_cnt = 0\n",
    "mountainroad_cnt = 0 \n",
    "\n",
    "\n",
    "westbrueck_segments = [] # list of dfs \n",
    "\n",
    "for participant in full_filtered_data:\n",
    "    for area in full_filtered_data[participant]:\n",
    "        for segment in full_filtered_data[participant][area]:\n",
    "            \n",
    "            if area == \"Autobahn\":\n",
    "                autobahn_cnt += 1\n",
    "            if area == \"CountryRoad\":\n",
    "                countryroad_cnt += 1\n",
    "            if area == \"MountainRoad\":\n",
    "                mountainroad_cnt += 1\n",
    "            if area == \"Westbrueck\":\n",
    "                westbrueck_cnt += 1\n",
    "                westbrueck_segments.append(full_filtered_data[participant][area][segment])\n",
    "                \n",
    "#save_to_disk(westbrueck_segments, final_data_path + \"westbrueck_segments.pickle\")\n",
    "\n",
    "print(\"Available Segments in Areas (after filtering):\")\n",
    "print(\"Autobahn:\",autobahn_cnt,\"\\tWestbrueck:\",westbrueck_cnt,\"\\tCountryRoad:\",countryroad_cnt,\"\\tMountainRoad:\",mountainroad_cnt)\n"
   ]
  },
  {
   "cell_type": "code",
   "execution_count": 4,
   "id": "corresponding-dubai",
   "metadata": {},
   "outputs": [],
   "source": [
    "westbrueck_segments = load_from_disk(final_data_path + \"westbrueck_segments.pickle\")"
   ]
  },
  {
   "cell_type": "code",
   "execution_count": 83,
   "id": "compact-palestine",
   "metadata": {},
   "outputs": [],
   "source": [
    "def create_seq_to_datapoint_ds(combined_data, input_feature_dim, seq_slice_len, batch_size = 64, do_log = False, do_plot = False):\n",
    "    '''\n",
    "    Generates a dataset of inputs and targets, where inputs are sequence slices and \n",
    "    targets are single values (the ones corresponding in the target sequence to the last values of the current slice).\n",
    "    Like this: \n",
    "    inp_1 inp_2 inp_3 inp_4 inp_5\n",
    "                            target \n",
    "    combined_data should have the shape (full_sequence_length, input_feature_dim + target_feature_dim)\n",
    "    '''\n",
    "\n",
    "    # Create dataset from full input and target timeseries \n",
    "    # The individual timeseries are stacked together (each timeseries is a column vector, axis 0)\n",
    "    dataset = tf.keras.utils.timeseries_dataset_from_array(\n",
    "      data = combined_data, targets = None, sequence_length = seq_slice_len, sequence_stride=1, sampling_rate=1,\n",
    "      batch_size=None, shuffle=False, seed=None, start_index=None, end_index=None\n",
    "      # for data: Axis 0 is expected to be the time dimension.\n",
    "    )\n",
    "\n",
    "    # Map purely input dataset to dataset that contains input and target, split at input_feature_dim\n",
    "    # For target use only very last value\n",
    "    dataset = dataset.map(lambda x: (x[:,0:input_feature_dim], x[-1,np.newaxis,input_feature_dim:]))\n",
    "\n",
    "    # Get total size of dataset \n",
    "    dataset_size = tf.data.experimental.cardinality(dataset).numpy()\n",
    "   \n",
    "    # Batch\n",
    "    dataset = dataset.batch(batch_size)\n",
    "\n",
    "    if do_log:\n",
    "        print(\"Total number of samples:\", str(dataset_size))\n",
    "        print(\"\\nDataset:\")\n",
    "        for inputs, targets in dataset.take(1):\n",
    "            print(f'inputs.shape: {inputs.shape}')\n",
    "            print(f\"targets.shape: {targets.shape}\")\n",
    "\n",
    "\n",
    "    if do_plot:\n",
    "\n",
    "        # Plot some example data \n",
    "        for sample in dataset.skip(10).take(1):\n",
    "\n",
    "            input_sample = sample[0].numpy()[2]\n",
    "            target_sample = sample[1].numpy()[2]\n",
    "\n",
    "            for feature in range(input_feature_dim):\n",
    "                plt.plot(input_sample[:,feature], label = \"Multi Input {}\".format(feature + 1))\n",
    "                plt.plot(seq_slice_len -1, target_sample[:,feature], 'o', label = \"Multi Target {}\".format(feature + 1))\n",
    "            plt.legend()\n",
    "            plt.show()\n",
    "\n",
    "    return dataset"
   ]
  },
  {
   "cell_type": "code",
   "execution_count": 55,
   "id": "incident-gossip",
   "metadata": {},
   "outputs": [
    {
     "name": "stdout",
     "output_type": "stream",
     "text": [
      "Total number of samples: 1890\n",
      "\n",
      "Dataset:\n",
      "inputs.shape: (64, 200, 6)\n",
      "targets.shape: (64, 1, 6)\n"
     ]
    },
    {
     "data": {
      "image/png": "[encoded data removed]",
      "text/plain": [
       "<Figure size 432x288 with 1 Axes>"
      ]
     },
     "metadata": {
      "needs_background": "light"
     },
     "output_type": "display_data"
    },
    {
     "name": "stdout",
     "output_type": "stream",
     "text": [
      "Total number of samples: 1932\n",
      "\n",
      "Dataset:\n",
      "inputs.shape: (64, 200, 6)\n",
      "targets.shape: (64, 1, 6)\n"
     ]
    },
    {
     "data": {
      "image/png": "[encoded data removed]",
      "text/plain": [
       "<Figure size 432x288 with 1 Axes>"
      ]
     },
     "metadata": {
      "needs_background": "light"
     },
     "output_type": "display_data"
    }
   ],
   "source": [
    "\n",
    "input_feature_dim = 6\n",
    "seq_slice_len = 200\n",
    "batch_size = 64\n",
    "do_log = True\n",
    "do_plot = True\n",
    "\n",
    "tf_wb_1 = create_seq_to_datapoint_ds(single_westbrueck_segment, input_feature_dim, seq_slice_len, batch_size, do_log, do_plot)\n",
    "tf_wb_2 = create_seq_to_datapoint_ds(single_westbrueck_segment2, input_feature_dim, seq_slice_len, batch_size, do_log, do_plot)\n",
    "\n",
    "\n"
   ]
  },
  {
   "cell_type": "code",
   "execution_count": 152,
   "id": "described-tourist",
   "metadata": {},
   "outputs": [],
   "source": [
    "def seq_to_dp_ds_from_df_list(dfs, input_feature_dim, seq_slice_len, batch_size = 64, do_size_log = False):\n",
    "    '''\n",
    "    Creates a dataset from a list of dataframes including timeseries data.\n",
    "    '''\n",
    "    \n",
    "    print(\"Creating dataset from Dataframe List.\")\n",
    "    dataset = None\n",
    "    for idx, df in enumerate(dfs):\n",
    "        if (idx % 10 == 0) and (idx > 0):\n",
    "            print(idx, end = \" \")\n",
    "        curr_ds = create_seq_to_datapoint_ds(df.to_numpy(), input_feature_dim, seq_slice_len, batch_size, do_log = False, do_plot = False)\n",
    "        if idx == 0:\n",
    "            dataset = curr_ds\n",
    "        else:\n",
    "            dataset = dataset.concatenate(curr_ds)\n",
    "    print()\n",
    "    \n",
    "    if do_size_log:\n",
    "        # Get total size of dataset \n",
    "        dataset_size = tf.data.experimental.cardinality(dataset).numpy()\n",
    "        print(\"Total number of elements in dataset:\", str(dataset_size))\n",
    "        for inputs, targets in dataset.take(1):\n",
    "            print(f'Usual inputs.shape: {inputs.shape}')\n",
    "            print(f\"Usual targets.shape: {targets.shape}\")\n",
    "            break\n",
    "\n",
    "    \n",
    "    return dataset\n",
    "\n",
    "\n",
    "def train_validation_split_ds(dataset, val_frac = 0.1, shuffle = True, shuffle_buffer = 2048):\n",
    "    \n",
    "    # Shuffle \n",
    "    #shuffle_buffer = 2048\n",
    "    if shuffle:\n",
    "        print(\"Shuffling dataset\")\n",
    "        dataset = dataset.shuffle(buffer_size = shuffle_buffer)\n",
    "\n",
    "    # Get total size of dataset \n",
    "    dataset_size = tf.data.experimental.cardinality(dataset).numpy()\n",
    "\n",
    "    # Split into train and validate and test \n",
    "    dataset_train = dataset.take(int(dataset_size * (1 - val_frac)))\n",
    "    dataset_validate = dataset.skip(int(dataset_size * (1 - val_frac)))\n",
    "    \n",
    "    # Get sizes of sub datasets\n",
    "    train_dataset_size = tf.data.experimental.cardinality(dataset_train).numpy()\n",
    "    validate_dataset_size = tf.data.experimental.cardinality(dataset_validate).numpy()\n",
    "    \n",
    "    print(\"Full Dataset size:\", dataset_size)\n",
    "    print(\"Train Dataset size:\", train_dataset_size)\n",
    "    print(\"Validate Dataset size:\", validate_dataset_size)\n",
    "    \n",
    "    return dataset_train, dataset_validate\n",
    "\n",
    "\n",
    "    "
   ]
  },
  {
   "cell_type": "code",
   "execution_count": 153,
   "id": "meaningful-insertion",
   "metadata": {},
   "outputs": [
    {
     "name": "stdout",
     "output_type": "stream",
     "text": [
      "Creating dataset from Dataframe List.\n",
      "10 20 30 40 50 60 70 80 90 100 110 120 130 140 150 160 170 180 190 200 210 220 230 240 250 260 270 280 290 300 310 320 330 340 350 360 370 380 390 400 410 420 430 440 450 460 470 480 490 500 510 520 \n",
      "Shuffling dataset\n",
      "Full Dataset size: 15249\n",
      "Train Dataset size: 13724\n",
      "Validate Dataset size: 1525\n"
     ]
    }
   ],
   "source": [
    "westbrueck_dataset = seq_to_dp_ds_from_df_list(westbrueck_condensed_segments,input_feature_dim, seq_slice_len, batch_size, do_size_log = False)\n",
    "\n",
    "shuffle = True\n",
    "val_frac = 0.1\n",
    "westbrueck_dataset = train_validation_split_ds(westbrueck_dataset, val_frac, shuffle, shuffle_buffer)\n",
    "\n",
    "\n"
   ]
  },
  {
   "cell_type": "code",
   "execution_count": 131,
   "id": "viral-behavior",
   "metadata": {},
   "outputs": [],
   "source": [
    "westbrueck_condensed_segments = westbrueck_condensed_segments[0:5]"
   ]
  },
  {
   "cell_type": "code",
   "execution_count": 145,
   "id": "three-cycle",
   "metadata": {},
   "outputs": [
    {
     "name": "stdout",
     "output_type": "stream",
     "text": [
      "Extracted validation segment data with shape (1767, 12)\n"
     ]
    }
   ],
   "source": [
    "validation_idx = 17\n",
    "validation_data = None\n",
    "\n",
    "westbrueck_condensed_segments = []\n",
    "\n",
    "for idx, segment in enumerate(westbrueck_segments):\n",
    "    segment = segment[[\"HmdPosition.x\",\"HmdPosition.y\",\"HmdPosition.z\",\"NoseVector.x\",\"NoseVector.y\",\"NoseVector.z\",\"EyePosWorldCombined.x\",\"EyePosWorldCombined.y\",\"EyePosWorldCombined.z\",\"EyeDirWorldCombined.x\",\"EyeDirWorldCombined.y\",\"EyeDirWorldCombined.z\"]]\n",
    "    if idx == validation_idx:\n",
    "        print(\"Extracted validation segment data with shape\",segment.shape)\n",
    "        validation_data = segment\n",
    "        continue\n",
    "    westbrueck_condensed_segments.append(segment)\n"
   ]
  },
  {
   "cell_type": "code",
   "execution_count": 69,
   "id": "stone-heater",
   "metadata": {},
   "outputs": [
    {
     "name": "stdout",
     "output_type": "stream",
     "text": [
      "61\n"
     ]
    }
   ],
   "source": [
    "dataset = tf_wb_1.concatenate(tf_wb_2)\n",
    "\n",
    " # Shuffle \n",
    "shuffle_buffer = 2048\n",
    "dataset = dataset.shuffle(buffer_size = shuffle_buffer)\n",
    "\n",
    "# Get total size of dataset \n",
    "dataset_size = tf.data.experimental.cardinality(dataset).numpy()\n",
    "print(dataset_size)\n",
    "\n",
    "# Split into train and validate and test \n",
    "val_frac = 0.15\n",
    "dataset_train = dataset.skip(int(dataset_size * val_frac))\n",
    "dataset_validate = dataset.take(int(dataset_size * val_frac))\n",
    "\n"
   ]
  },
  {
   "cell_type": "code",
   "execution_count": 67,
   "id": "ruled-plaza",
   "metadata": {},
   "outputs": [],
   "source": [
    "#Input: [\"HmdPosition.x\",\"HmdPosition.y\",\"HmdPosition.z\",\"NoseVector.x\",\"NoseVector.y\",\"NoseVector.z\",\n",
    "#Target: \"EyePosWorldCombined.x\",\"EyePosWorldCombined.y\",\"EyePosWorldCombined.z\",\"EyeDirWorldCombined.x\",\"EyeDirWorldCombined.y\",\"EyeDirWorldCombined.z\"]"
   ]
  },
  {
   "cell_type": "code",
   "execution_count": 53,
   "id": "embedded-preparation",
   "metadata": {},
   "outputs": [],
   "source": [
    "single_westbrueck_segment = westbrueck_segments[0]\n",
    "single_westbrueck_segment2 = westbrueck_segments[1]\n",
    "\n",
    "# \"HmdPosition\", \"EyePosWorldCombined\" relative to car\n",
    "# \"NoseVector\", \"EyeDirWorldCombined\" relative to car "
   ]
  },
  {
   "cell_type": "code",
   "execution_count": 54,
   "id": "rational-grade",
   "metadata": {},
   "outputs": [
    {
     "name": "stdout",
     "output_type": "stream",
     "text": [
      "(2089, 12)\n",
      "(2131, 12)\n"
     ]
    }
   ],
   "source": [
    "single_westbrueck_segment = single_westbrueck_segment.copy(deep=True)[[\"HmdPosition.x\",\"HmdPosition.y\",\"HmdPosition.z\",\"NoseVector.x\",\"NoseVector.y\",\"NoseVector.z\",\"EyePosWorldCombined.x\",\"EyePosWorldCombined.y\",\"EyePosWorldCombined.z\",\"EyeDirWorldCombined.x\",\"EyeDirWorldCombined.y\",\"EyeDirWorldCombined.z\"]].to_numpy()\n",
    "single_westbrueck_segment2 = single_westbrueck_segment2.copy(deep=True)[[\"HmdPosition.x\",\"HmdPosition.y\",\"HmdPosition.z\",\"NoseVector.x\",\"NoseVector.y\",\"NoseVector.z\",\"EyePosWorldCombined.x\",\"EyePosWorldCombined.y\",\"EyePosWorldCombined.z\",\"EyeDirWorldCombined.x\",\"EyeDirWorldCombined.y\",\"EyeDirWorldCombined.z\"]].to_numpy()\n",
    "\n",
    "\n",
    "print(single_westbrueck_segment.shape)\n",
    "print(single_westbrueck_segment2.shape)\n"
   ]
  },
  {
   "cell_type": "code",
   "execution_count": null,
   "id": "prospective-survivor",
   "metadata": {},
   "outputs": [],
   "source": [
    "\n",
    "\n"
   ]
  },
  {
   "cell_type": "code",
   "execution_count": null,
   "id": "chubby-telephone",
   "metadata": {},
   "outputs": [],
   "source": []
  },
  {
   "cell_type": "code",
   "execution_count": null,
   "id": "vanilla-vinyl",
   "metadata": {},
   "outputs": [],
   "source": []
  },
  {
   "cell_type": "code",
   "execution_count": 9,
   "id": "entertaining-prediction",
   "metadata": {},
   "outputs": [
    {
     "ename": "ZeroDivisionError",
     "evalue": "division by zero",
     "output_type": "error",
     "traceback": [
      "\u001b[0;31m---------------------------------------------------------------------------\u001b[0m",
      "\u001b[0;31mZeroDivisionError\u001b[0m                         Traceback (most recent call last)",
      "\u001b[0;32m<ipython-input-9-2fc232d1511a>\u001b[0m in \u001b[0;36m<module>\u001b[0;34m\u001b[0m\n\u001b[0;32m----> 1\u001b[0;31m \u001b[0mprint\u001b[0m\u001b[0;34m(\u001b[0m\u001b[0;36m1\u001b[0m\u001b[0;34m/\u001b[0m\u001b[0;36m0\u001b[0m\u001b[0;34m)\u001b[0m\u001b[0;34m\u001b[0m\u001b[0;34m\u001b[0m\u001b[0m\n\u001b[0m",
      "\u001b[0;31mZeroDivisionError\u001b[0m: division by zero"
     ]
    }
   ],
   "source": [
    "print(1/0)"
   ]
  },
  {
   "cell_type": "code",
   "execution_count": null,
   "id": "suited-bandwidth",
   "metadata": {},
   "outputs": [],
   "source": []
  }
 ],
 "metadata": {
  "kernelspec": {
   "display_name": "Python 3",
   "language": "python",
   "name": "python3"
  },
  "language_info": {
   "codemirror_mode": {
    "name": "ipython",
    "version": 3
   },
   "file_extension": ".py",
   "mimetype": "text/x-python",
   "name": "python",
   "nbconvert_exporter": "python",
   "pygments_lexer": "ipython3",
   "version": "3.8.8"
  }
 },
 "nbformat": 4,
 "nbformat_minor": 5
}
