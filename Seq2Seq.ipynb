{
 "cells": [
  {
   "cell_type": "code",
   "execution_count": 1,
   "id": "threaded-childhood",
   "metadata": {},
   "outputs": [],
   "source": [
    "import random\n",
    "import numpy as np\n",
    "import matplotlib.pyplot as plt\n",
    "\n",
    "import pickle\n",
    "import keras\n",
    "from keras.models import Sequential, Model, load_model\n",
    "from keras.layers import LSTM, Dense, RepeatVector, TimeDistributed, Input, BatchNormalization, \\\n",
    "    multiply, concatenate, Flatten, Activation, dot\n",
    "from keras.optimizers import Adam\n",
    "from keras.utils import plot_model\n",
    "from keras.callbacks import EarlyStopping\n",
    "import pydot as pyd\n",
    "from keras.utils.vis_utils import plot_model, model_to_dot\n",
    "keras.utils.vis_utils.pydot = pyd\n",
    "import os\n",
    "import pandas as pd\n",
    "import json\n",
    "\n",
    "from scipy import signal \n",
    "\n",
    "import glob\n",
    "\n",
    "from DataManager import ParticipantData, MeasurementData\n",
    "from Helpers import read_normalized_json_to_df, save_to_disk, load_from_disk, create_rolling_windows "
   ]
  },
  {
   "cell_type": "code",
   "execution_count": 2,
   "id": "configured-oriental",
   "metadata": {},
   "outputs": [],
   "source": [
    "reference_data_some_failed_save_path = \"./post_recorded_reference_data/reference_some_events_failed.pickle\"\n",
    "reference_data_all_failed_save_path = \"./post_recorded_reference_data/reference_all_events_failed.pickle\"\n",
    "\n",
    "REFERENCE_DATA_SOME_EVENTS_FAILED = load_from_disk(reference_data_some_failed_save_path)\n",
    "REFERENCE_DATA_ALL_EVENTS_FAILED = load_from_disk(reference_data_all_failed_save_path)"
   ]
  },
  {
   "cell_type": "code",
   "execution_count": 3,
   "id": "measured-result",
   "metadata": {
    "scrolled": true
   },
   "outputs": [
    {
     "name": "stdout",
     "output_type": "stream",
     "text": [
      "Index(['CarPosition.x', 'CarPosition.y', 'CarPosition.z', 'LocalCarPosition.x',\n",
      "       'LocalCarPosition.y', 'LocalCarPosition.z', 'CarRotation.x',\n",
      "       'CarRotation.y', 'CarRotation.z', 'CarRotationQuaternion.x',\n",
      "       'CarRotationQuaternion.y', 'CarRotationQuaternion.z',\n",
      "       'CarRotationQuaternion.w', 'resampled_timestamp', 'is_interpolated'],\n",
      "      dtype='object')\n"
     ]
    }
   ],
   "source": [
    "print(REFERENCE_DATA_ALL_EVENTS_FAILED[\"Westbrueck\"][0].columns)"
   ]
  },
  {
   "cell_type": "markdown",
   "id": "convenient-inspection",
   "metadata": {},
   "source": [
    "# Load data"
   ]
  },
  {
   "cell_type": "code",
   "execution_count": 4,
   "id": "charged-ground",
   "metadata": {
    "scrolled": true
   },
   "outputs": [
    {
     "name": "stdout",
     "output_type": "stream",
     "text": [
      "MeasurementData: Found files for participant 0d0d7bd79b1a48d4ad5e757cdbfc15c9.\n",
      "Input data files: ['./data/Input/0d0d7bd79b1a48d4ad5e757cdbfc15c9_Input_TrainingScene.txt', './data/Input/0d0d7bd79b1a48d4ad5e757cdbfc15c9_Input_Westbrueck.txt', './data/Input/0d0d7bd79b1a48d4ad5e757cdbfc15c9_Input_CountryRoad.txt', './data/Input/0d0d7bd79b1a48d4ad5e757cdbfc15c9_Input_Autobahn.txt', './data/Input/0d0d7bd79b1a48d4ad5e757cdbfc15c9_Input_MountainRoad.txt']\n",
      "Eyetracking data files: ['./data/EyeTracking/0d0d7bd79b1a48d4ad5e757cdbfc15c9_EyeTracking_Westbrueck.txt', './data/EyeTracking/0d0d7bd79b1a48d4ad5e757cdbfc15c9_EyeTracking_Autobahn.txt', './data/EyeTracking/0d0d7bd79b1a48d4ad5e757cdbfc15c9_EyeTracking_MountainRoad.txt', './data/EyeTracking/0d0d7bd79b1a48d4ad5e757cdbfc15c9_EyeTracking_TrainingScene.txt', './data/EyeTracking/0d0d7bd79b1a48d4ad5e757cdbfc15c9_EyeTracking_CountryRoad.txt']\n",
      "Calibration data files: ['./data/ParticipantCalibrationData/0d0d7bd79b1a48d4ad5e757cdbfc15c9_ParticipantCalibrationData.txt']\n",
      "Scene data files: ['./data/SceneData/0d0d7bd79b1a48d4ad5e757cdbfc15c9_SceneData_CountryRoad.txt', './data/SceneData/0d0d7bd79b1a48d4ad5e757cdbfc15c9_SceneData_Westbrueck.txt', './data/SceneData/0d0d7bd79b1a48d4ad5e757cdbfc15c9_SceneData_MountainRoad.txt', './data/SceneData/0d0d7bd79b1a48d4ad5e757cdbfc15c9_SceneData_Autobahn.txt', './data/SceneData/0d0d7bd79b1a48d4ad5e757cdbfc15c9_SceneData_TrainingScene.txt']\n",
      "\n",
      "MeasurementData: Found files for participant 0bc17d704fec4a9eb892d905fc2e5da9.\n",
      "Input data files: ['./data/Input/0bc17d704fec4a9eb892d905fc2e5da9_Input_Autobahn.txt', './data/Input/0bc17d704fec4a9eb892d905fc2e5da9_Input_Westbrueck.txt', './data/Input/0bc17d704fec4a9eb892d905fc2e5da9_Input_TrainingScene.txt', './data/Input/0bc17d704fec4a9eb892d905fc2e5da9_Input_MountainRoad.txt', './data/Input/0bc17d704fec4a9eb892d905fc2e5da9_Input_CountryRoad.txt']\n",
      "Eyetracking data files: ['./data/EyeTracking/0bc17d704fec4a9eb892d905fc2e5da9_EyeTracking_MountainRoad.txt', './data/EyeTracking/0bc17d704fec4a9eb892d905fc2e5da9_EyeTracking_Westbrueck.txt', './data/EyeTracking/0bc17d704fec4a9eb892d905fc2e5da9_EyeTracking_TrainingScene.txt', './data/EyeTracking/0bc17d704fec4a9eb892d905fc2e5da9_EyeTracking_Autobahn.txt', './data/EyeTracking/0bc17d704fec4a9eb892d905fc2e5da9_EyeTracking_CountryRoad.txt']\n",
      "Calibration data files: ['./data/ParticipantCalibrationData/0bc17d704fec4a9eb892d905fc2e5da9_ParticipantCalibrationData.txt']\n",
      "Scene data files: ['./data/SceneData/0bc17d704fec4a9eb892d905fc2e5da9_SceneData_MountainRoad.txt', './data/SceneData/0bc17d704fec4a9eb892d905fc2e5da9_SceneData_CountryRoad.txt', './data/SceneData/0bc17d704fec4a9eb892d905fc2e5da9_SceneData_Westbrueck.txt', './data/SceneData/0bc17d704fec4a9eb892d905fc2e5da9_SceneData_TrainingScene.txt', './data/SceneData/0bc17d704fec4a9eb892d905fc2e5da9_SceneData_Autobahn.txt']\n",
      "\n",
      "ParticipantData: Initialising participant 0d0d7bd79b1a48d4ad5e757cdbfc15c9.\n",
      "ParticipantData: Loaded data (bootstrapped) for participant 0d0d7bd79b1a48d4ad5e757cdbfc15c9.\n",
      "ParticipantData: Initialising participant 0bc17d704fec4a9eb892d905fc2e5da9.\n",
      "ParticipantData: Loaded data (bootstrapped) for participant 0bc17d704fec4a9eb892d905fc2e5da9.\n"
     ]
    }
   ],
   "source": [
    "\n",
    "participant_id = os.path.basename(glob.glob(\"./data/EyeTracking/*.txt\")[0]).split(\"_\")[0]\n",
    "eyes = glob.glob(\"./data/EyeTracking/\" + str(participant_id) + \"*.txt\")\n",
    "inputs = glob.glob(\"./data/Input/\" + str(participant_id) + \"*.txt\")\n",
    "calib = glob.glob(\"./data/ParticipantCalibrationData/\" + str(participant_id) + \"*.txt\")[0]\n",
    "scenes = glob.glob(\"./data/SceneData/\" + str(participant_id) + \"*.txt\")\n",
    "\n",
    "eyes_paths  = [\"./data/EyeTracking/\"]\n",
    "input_paths = [\"./data/Input/\"]\n",
    "calib_paths = [\"./data/ParticipantCalibrationData/\"]\n",
    "scene_paths = [\"./data/SceneData/\"]\n",
    "\n",
    "'''\n",
    "print(eyes)\n",
    "print(inputs)\n",
    "print(calib)\n",
    "print(scenes)\n",
    "'''\n",
    "\n",
    "#participant1 = ParticipantData(eyes, inputs, calib, scenes, True, True)\n",
    "\n",
    "measurement1 = MeasurementData(eyes_paths,input_paths,calib_paths,scene_paths,True)\n"
   ]
  },
  {
   "cell_type": "code",
   "execution_count": 5,
   "id": "pleased-rebel",
   "metadata": {},
   "outputs": [
    {
     "name": "stdout",
     "output_type": "stream",
     "text": [
      "MeasurementData: Applying reference data to all participants...\n",
      "ParticipantData: Applying reference data to back of Westbrueck's segment 0. Number of datapoints used: 2457.\n",
      "ParticipantData: Applying reference data to back of Westbrueck's segment 1. Number of datapoints used: 2484.\n",
      "ParticipantData: Applying reference data to back of Westbrueck's segment 2. Number of datapoints used: 2935.\n",
      "ParticipantData: Applying reference data to back of Westbrueck's segment 3. Number of datapoints used: 2204.\n",
      "ParticipantData: Applying reference data to back of MountainRoad's segment 0. Number of datapoints used: 1990.\n",
      "ParticipantData: Applying reference data to back of MountainRoad's segment 1. Number of datapoints used: 3148.\n",
      "ParticipantData: Applying reference data to back of MountainRoad's segment 2. Number of datapoints used: 6041.\n",
      "ParticipantData: Applying reference data to back of MountainRoad's segment 3. Number of datapoints used: 1219.\n",
      "ParticipantData: Applying reference data to back of CountryRoad's segment 0. Number of datapoints used: 2165.\n",
      "ParticipantData: Applying reference data to back of CountryRoad's segment 1. Number of datapoints used: 3562.\n",
      "ParticipantData: Applying reference data to back of CountryRoad's segment 2. Number of datapoints used: 2984.\n",
      "ParticipantData: Applying reference data to back of CountryRoad's segment 3. Number of datapoints used: 4303.\n",
      "ParticipantData: Applying reference data to back of Autobahn's segment 0. Number of datapoints used: 2806.\n",
      "ParticipantData: Applying reference data to back of Autobahn's segment 1. Number of datapoints used: 1901.\n",
      "ParticipantData: Applying reference data to back of Autobahn's segment 2. Number of datapoints used: 5214.\n",
      "ParticipantData: Applying reference data to back of Autobahn's segment 3. Number of datapoints used: 237.\n",
      "ParticipantData: Applying reference data to back of Westbrueck's segment 0. Number of datapoints used: 2453.\n",
      "ParticipantData: Applying reference data to back of Westbrueck's segment 1. Number of datapoints used: 2484.\n",
      "ParticipantData: Applying reference data to back of Westbrueck's segment 2. Number of datapoints used: 2932.\n",
      "ParticipantData: Applying reference data to back of Westbrueck's segment 3. Number of datapoints used: 2259.\n",
      "ParticipantData: Applying reference data to back of MountainRoad's segment 0. Number of datapoints used: 1717.\n",
      "ParticipantData: Applying reference data to back of MountainRoad's segment 1. Number of datapoints used: 3696.\n",
      "ParticipantData: Applying reference data to back of MountainRoad's segment 2. Number of datapoints used: 5368.\n",
      "ParticipantData: Applying reference data to back of MountainRoad's segment 3. Number of datapoints used: 1219.\n",
      "ParticipantData: Applying reference data to back of CountryRoad's segment 0. Number of datapoints used: 2165.\n",
      "ParticipantData: Applying reference data to back of CountryRoad's segment 1. Number of datapoints used: 3569.\n",
      "ParticipantData: Applying reference data to back of CountryRoad's segment 2. Number of datapoints used: 3707.\n",
      "ParticipantData: Applying reference data to back of CountryRoad's segment 3. Number of datapoints used: 4398.\n",
      "ParticipantData: Applying reference data to back of Autobahn's segment 0. Number of datapoints used: 2806.\n",
      "ParticipantData: Applying reference data to back of Autobahn's segment 1. Number of datapoints used: 2003.\n",
      "ParticipantData: Applying reference data to back of Autobahn's segment 2. Number of datapoints used: 5225.\n",
      "ParticipantData: Applying reference data to back of Autobahn's segment 3. Number of datapoints used: 468.\n"
     ]
    }
   ],
   "source": [
    "#print(participant1.get_event_info())\n",
    "#participant1.apply_reference_data(REFERENCE_DATA_ALL_EVENTS_FAILED)\n",
    "#print(participant1.get_segment_data(filter_data=True, get_first_segment=True, exclude_segments=[1,2], after_event_type_only=[True,False],exclude_areas=[\"Westbrueck\",\"Autobahn\"]))\n",
    "\n",
    "measurement1.apply_reference_data(REFERENCE_DATA_ALL_EVENTS_FAILED)"
   ]
  },
  {
   "cell_type": "code",
   "execution_count": 6,
   "id": "willing-blame",
   "metadata": {},
   "outputs": [],
   "source": [
    "#print(participant1.get_segment_data(filter_data=True, get_first_segment=True, exclude_segments=[1,2], after_event_type_only=[True,False],exclude_areas=[\"Westbrueck\",\"Autobahn\"]))\n"
   ]
  },
  {
   "cell_type": "markdown",
   "id": "tired-hunter",
   "metadata": {},
   "source": [
    "# Filter data"
   ]
  },
  {
   "cell_type": "code",
   "execution_count": 7,
   "id": "julian-singing",
   "metadata": {},
   "outputs": [
    {
     "name": "stdout",
     "output_type": "stream",
     "text": [
      "Index(['HmdPosition.x', 'HmdPosition.y', 'HmdPosition.z', 'NoseVector.x',\n",
      "       'NoseVector.y', 'NoseVector.z', 'EyePosWorldCombined.x',\n",
      "       'EyePosWorldCombined.y', 'EyePosWorldCombined.z',\n",
      "       'EyeDirWorldCombined.x', 'EyeDirWorldCombined.y',\n",
      "       'EyeDirWorldCombined.z', 'resampled_timestamp', 'is_interpolated'],\n",
      "      dtype='object')\n"
     ]
    }
   ],
   "source": [
    "# Wanted filtering, very much data\n",
    "'''\n",
    "filtered_data = measurement1.get_data(use_vanilla = False, filter_data=True, get_first_segment = False, after_event_type_only=[False], exclude_segments=[], exclude_areas = [], exclude_participants=[])\n",
    "res = measurement1.truncate_data(filtered_data,200)\n",
    "print(np.shape(res))\n",
    "# save_to_disk(res,\"./truncated_data.pickle\")\n",
    "'''\n",
    "\n",
    "\n",
    "# some test filtering\n",
    "#filtered_data = measurement1.get_data(use_vanilla = False, filter_data=True, get_first_segment = False, after_event_type_only=[False], exclude_segments=[3], exclude_areas = [\"CountryRoad\",\"Autobahn\",\"MountainRoad\"], exclude_participants=[\"0bc17d704fec4a9eb892d905fc2e5da9\"])\n",
    "#filtered_data = measurement1.get_data(use_vanilla = False, filter_data=True, get_first_segment = True, after_event_type_only=[True,False], exclude_segments=[], exclude_areas = [], exclude_participants=[])\n",
    "filtered_data = measurement1.get_data(use_vanilla = False, filter_data=True, get_first_segment = False, after_event_type_only=[False], exclude_segments=[3], exclude_areas = [\"CountryRoad\",\"Autobahn\"], exclude_participants=[\"0bc17d704fec4a9eb892d905fc2e5da9\"])\n",
    "\n",
    "\n",
    "\n",
    "#print(filtered_data)\n",
    "print(filtered_data['0d0d7bd79b1a48d4ad5e757cdbfc15c9'][\"Westbrueck\"][2].columns)\n",
    "\n"
   ]
  },
  {
   "cell_type": "code",
   "execution_count": 8,
   "id": "afraid-document",
   "metadata": {},
   "outputs": [],
   "source": [
    "# Average data over multiple sessions per segment\n",
    "average = measurement1.average_data(filtered_data)\n",
    "\n",
    "# combine ALL data into one dataframe \n",
    "#combined = measurement1.combine_data(filtered_data)\n"
   ]
  },
  {
   "cell_type": "markdown",
   "id": "saving-moore",
   "metadata": {},
   "source": [
    "# Seq2Seq"
   ]
  },
  {
   "cell_type": "markdown",
   "id": "recovered-defeat",
   "metadata": {},
   "source": [
    "## Surrogate data to test architecture \n"
   ]
  },
  {
   "cell_type": "code",
   "execution_count": 34,
   "id": "floral-sleeping",
   "metadata": {},
   "outputs": [
    {
     "data": {
      "image/png": "[encoded data removed]",
      "text/plain": [
       "<Figure size 1080x288 with 1 Axes>"
      ]
     },
     "metadata": {
      "needs_background": "light"
     },
     "output_type": "display_data"
    }
   ],
   "source": [
    "surrogate_samples = 1000\n",
    "t = np.linspace(0, 50, surrogate_samples)\n",
    "\n",
    "# inputs, outputs \n",
    "x1 = np.exp(0.1 * t) + np.random.normal(0, 2, surrogate_samples)\n",
    "x2 = 10 * np.sin( t) + t \n",
    "x3 = x1 + x2 \n",
    "x4 = x1 * x2 / 100 \n",
    "\n",
    "plt.figure(figsize=(15, 4))\n",
    "plt.plot(range(len(x1)), x1, label='x1')\n",
    "plt.plot(range(len(x2)), x2, label='x2')\n",
    "plt.plot(range(len(x3)), x3, label='x3')\n",
    "plt.plot(range(len(x4)), x4, label='x4')\n",
    "plt.legend(loc='upper center', bbox_to_anchor=(0.5, -0.15), fancybox=True, shadow=False, ncol=2)\n",
    "plt.show()"
   ]
  },
  {
   "cell_type": "code",
   "execution_count": 45,
   "id": "lucky-collar",
   "metadata": {},
   "outputs": [
    {
     "name": "stdout",
     "output_type": "stream",
     "text": [
      "(1000, 4)\n",
      "(801, 200, 4)\n"
     ]
    }
   ],
   "source": [
    "surrogate_data = np.array([x1,x2,x3,x4]).T\n",
    "print(surrogate_data.shape)\n",
    "surrogate_truncated = create_rolling_windows(surrogate_data,200)\n",
    "print(surrogate_truncated.shape)"
   ]
  },
  {
   "cell_type": "code",
   "execution_count": 55,
   "id": "analyzed-cabinet",
   "metadata": {},
   "outputs": [
    {
     "name": "stdout",
     "output_type": "stream",
     "text": [
      "Total datapoints: 801 For training: 801 For testing: 801\n"
     ]
    },
    {
     "data": {
      "image/png": "[encoded data removed]",
      "text/plain": [
       "<Figure size 432x288 with 1 Axes>"
      ]
     },
     "metadata": {
      "needs_background": "light"
     },
     "output_type": "display_data"
    }
   ],
   "source": [
    "# Find max(abs(value))\n",
    "scaling_factor = np.ceil(np.max(np.abs(truncated)))\n",
    "\n",
    "# Train and test split \n",
    "train_test_ratio = 0.8\n",
    "split_idx = int(len(surrogate_truncated) * train_test_ratio)\n",
    "train_set = surrogate_truncated[:split_idx]\n",
    "test_set = surrogate_truncated[split_idx:]\n",
    "print(\"Total datapoints: \" + str(len(surrogate_truncated)) + \" For training: \" + str(surrogate_truncated.shape[0]) + \" For testing: \" + str(surrogate_truncated.shape[0]))\n",
    "\n",
    "plt.plot(range(len(train_set[600])), train_set[600], label=[\"x1\",  \"x2\",  \"x3\",  \"x4\"])\n",
    "plt.legend(loc='upper center', bbox_to_anchor=(0.5, -0.15), fancybox=True, shadow=False, ncol=2)\n",
    "plt.show()\n",
    "\n",
    "\n",
    "# Input and output split, apply scaling factor\n",
    "train_set_source = train_set[:,:,:6] / scaling_factor\n",
    "train_set_target = train_set[:,:,6:] / scaling_factor\n",
    "test_set_source = test_set[:,:,:6] / scaling_factor\n",
    "test_set_target = test_set[:,:,6:] / scaling_factor\n",
    "\n",
    "\n"
   ]
  },
  {
   "cell_type": "code",
   "execution_count": 51,
   "id": "exciting-frequency",
   "metadata": {},
   "outputs": [],
   "source": [
    "# What the net should do \n",
    "# Input: HmdPosition & NoseVector\n",
    "# Output: EyePosWorld & EyeDirWorldCombined\n",
    "\n",
    "# Get truncated data \n",
    "truncated = measurement1.truncate_data(filtered_data, 200, method = \"numpy\")\n",
    "\n",
    "# Available data:\n",
    "# HmdPosition.x  HmdPosition.y  HmdPosition.z  NoseVector.x  NoseVector.y NoseVector.z  EyePosWorldCombined.x  EyePosWorldCombined.y EyePosWorldCombined.z  EyeDirWorldCombined.x  EyeDirWorldCombined.y  EyeDirWorldCombined.z  resampled_timestamp  is_interpolated  \n",
    "\n",
    "# Drop last two columns of unneeded data \n",
    "truncated = np.delete(truncated,[12,13],axis=2)"
   ]
  },
  {
   "cell_type": "code",
   "execution_count": 52,
   "id": "demographic-growing",
   "metadata": {
    "scrolled": true
   },
   "outputs": [
    {
     "data": {
      "text/plain": [
       "(8578, 200, 12)"
      ]
     },
     "execution_count": 52,
     "metadata": {},
     "output_type": "execute_result"
    }
   ],
   "source": [
    "np.shape(truncated)"
   ]
  },
  {
   "cell_type": "code",
   "execution_count": 49,
   "id": "sufficient-profile",
   "metadata": {
    "scrolled": true
   },
   "outputs": [
    {
     "name": "stdout",
     "output_type": "stream",
     "text": [
      "Total datapoints: 801 For training: 640 For testing: 161\n"
     ]
    },
    {
     "ename": "ValueError",
     "evalue": "label must be scalar or have the same length as the input data, but found 12 for 4 datasets.",
     "output_type": "error",
     "traceback": [
      "\u001b[0;31m---------------------------------------------------------------------------\u001b[0m",
      "\u001b[0;31mValueError\u001b[0m                                Traceback (most recent call last)",
      "\u001b[0;32m<ipython-input-49-08c47596c85a>\u001b[0m in \u001b[0;36m<module>\u001b[0;34m\u001b[0m\n\u001b[1;32m      9\u001b[0m \u001b[0mprint\u001b[0m\u001b[0;34m(\u001b[0m\u001b[0;34m\"Total datapoints: \"\u001b[0m \u001b[0;34m+\u001b[0m \u001b[0mstr\u001b[0m\u001b[0;34m(\u001b[0m\u001b[0mlen\u001b[0m\u001b[0;34m(\u001b[0m\u001b[0mtruncated\u001b[0m\u001b[0;34m)\u001b[0m\u001b[0;34m)\u001b[0m \u001b[0;34m+\u001b[0m \u001b[0;34m\" For training: \"\u001b[0m \u001b[0;34m+\u001b[0m \u001b[0mstr\u001b[0m\u001b[0;34m(\u001b[0m\u001b[0mtrain_set\u001b[0m\u001b[0;34m.\u001b[0m\u001b[0mshape\u001b[0m\u001b[0;34m[\u001b[0m\u001b[0;36m0\u001b[0m\u001b[0;34m]\u001b[0m\u001b[0;34m)\u001b[0m \u001b[0;34m+\u001b[0m \u001b[0;34m\" For testing: \"\u001b[0m \u001b[0;34m+\u001b[0m \u001b[0mstr\u001b[0m\u001b[0;34m(\u001b[0m\u001b[0mtest_set\u001b[0m\u001b[0;34m.\u001b[0m\u001b[0mshape\u001b[0m\u001b[0;34m[\u001b[0m\u001b[0;36m0\u001b[0m\u001b[0;34m]\u001b[0m\u001b[0;34m)\u001b[0m\u001b[0;34m)\u001b[0m\u001b[0;34m\u001b[0m\u001b[0;34m\u001b[0m\u001b[0m\n\u001b[1;32m     10\u001b[0m \u001b[0;34m\u001b[0m\u001b[0m\n\u001b[0;32m---> 11\u001b[0;31m \u001b[0mplt\u001b[0m\u001b[0;34m.\u001b[0m\u001b[0mplot\u001b[0m\u001b[0;34m(\u001b[0m\u001b[0mrange\u001b[0m\u001b[0;34m(\u001b[0m\u001b[0mlen\u001b[0m\u001b[0;34m(\u001b[0m\u001b[0mtrain_set\u001b[0m\u001b[0;34m[\u001b[0m\u001b[0;36m2\u001b[0m\u001b[0;34m]\u001b[0m\u001b[0;34m)\u001b[0m\u001b[0;34m)\u001b[0m\u001b[0;34m,\u001b[0m \u001b[0mtrain_set\u001b[0m\u001b[0;34m[\u001b[0m\u001b[0;36m2\u001b[0m\u001b[0;34m]\u001b[0m\u001b[0;34m,\u001b[0m \u001b[0mlabel\u001b[0m\u001b[0;34m=\u001b[0m\u001b[0;34m[\u001b[0m\u001b[0;34m\"HmdPosition.x\"\u001b[0m\u001b[0;34m,\u001b[0m  \u001b[0;34m\"HmdPosition.y\"\u001b[0m\u001b[0;34m,\u001b[0m  \u001b[0;34m\"HmdPosition.z\"\u001b[0m\u001b[0;34m,\u001b[0m  \u001b[0;34m\"NoseVector.x\"\u001b[0m\u001b[0;34m,\u001b[0m  \u001b[0;34m\"NoseVector.y\"\u001b[0m\u001b[0;34m,\u001b[0m \u001b[0;34m\"NoseVector.z\"\u001b[0m\u001b[0;34m,\u001b[0m  \u001b[0;34m\"EyePosWorldCombined.x\"\u001b[0m\u001b[0;34m,\u001b[0m  \u001b[0;34m\"EyePosWorldCombined.y\"\u001b[0m\u001b[0;34m,\u001b[0m \u001b[0;34m\"EyePosWorldCombined.z\"\u001b[0m\u001b[0;34m,\u001b[0m  \u001b[0;34m\"EyeDirWorldCombined.x\"\u001b[0m\u001b[0;34m,\u001b[0m  \u001b[0;34m\"EyeDirWorldCombined.y\"\u001b[0m\u001b[0;34m,\u001b[0m  \u001b[0;34m\"EyeDirWorldCombined.z\"\u001b[0m\u001b[0;34m]\u001b[0m\u001b[0;34m)\u001b[0m\u001b[0;34m\u001b[0m\u001b[0;34m\u001b[0m\u001b[0m\n\u001b[0m\u001b[1;32m     12\u001b[0m \u001b[0mplt\u001b[0m\u001b[0;34m.\u001b[0m\u001b[0mlegend\u001b[0m\u001b[0;34m(\u001b[0m\u001b[0mloc\u001b[0m\u001b[0;34m=\u001b[0m\u001b[0;34m'upper center'\u001b[0m\u001b[0;34m,\u001b[0m \u001b[0mbbox_to_anchor\u001b[0m\u001b[0;34m=\u001b[0m\u001b[0;34m(\u001b[0m\u001b[0;36m0.5\u001b[0m\u001b[0;34m,\u001b[0m \u001b[0;34m-\u001b[0m\u001b[0;36m0.15\u001b[0m\u001b[0;34m)\u001b[0m\u001b[0;34m,\u001b[0m \u001b[0mfancybox\u001b[0m\u001b[0;34m=\u001b[0m\u001b[0;32mTrue\u001b[0m\u001b[0;34m,\u001b[0m \u001b[0mshadow\u001b[0m\u001b[0;34m=\u001b[0m\u001b[0;32mFalse\u001b[0m\u001b[0;34m,\u001b[0m \u001b[0mncol\u001b[0m\u001b[0;34m=\u001b[0m\u001b[0;36m2\u001b[0m\u001b[0;34m)\u001b[0m\u001b[0;34m\u001b[0m\u001b[0;34m\u001b[0m\u001b[0m\n\u001b[1;32m     13\u001b[0m \u001b[0mplt\u001b[0m\u001b[0;34m.\u001b[0m\u001b[0mshow\u001b[0m\u001b[0;34m(\u001b[0m\u001b[0;34m)\u001b[0m\u001b[0;34m\u001b[0m\u001b[0;34m\u001b[0m\u001b[0m\n",
      "\u001b[0;32m~/opt/anaconda3/envs/Body2Eye/lib/python3.8/site-packages/matplotlib/pyplot.py\u001b[0m in \u001b[0;36mplot\u001b[0;34m(scalex, scaley, data, *args, **kwargs)\u001b[0m\n\u001b[1;32m   2986\u001b[0m \u001b[0;34m@\u001b[0m\u001b[0m_copy_docstring_and_deprecators\u001b[0m\u001b[0;34m(\u001b[0m\u001b[0mAxes\u001b[0m\u001b[0;34m.\u001b[0m\u001b[0mplot\u001b[0m\u001b[0;34m)\u001b[0m\u001b[0;34m\u001b[0m\u001b[0;34m\u001b[0m\u001b[0m\n\u001b[1;32m   2987\u001b[0m \u001b[0;32mdef\u001b[0m \u001b[0mplot\u001b[0m\u001b[0;34m(\u001b[0m\u001b[0;34m*\u001b[0m\u001b[0margs\u001b[0m\u001b[0;34m,\u001b[0m \u001b[0mscalex\u001b[0m\u001b[0;34m=\u001b[0m\u001b[0;32mTrue\u001b[0m\u001b[0;34m,\u001b[0m \u001b[0mscaley\u001b[0m\u001b[0;34m=\u001b[0m\u001b[0;32mTrue\u001b[0m\u001b[0;34m,\u001b[0m \u001b[0mdata\u001b[0m\u001b[0;34m=\u001b[0m\u001b[0;32mNone\u001b[0m\u001b[0;34m,\u001b[0m \u001b[0;34m**\u001b[0m\u001b[0mkwargs\u001b[0m\u001b[0;34m)\u001b[0m\u001b[0;34m:\u001b[0m\u001b[0;34m\u001b[0m\u001b[0;34m\u001b[0m\u001b[0m\n\u001b[0;32m-> 2988\u001b[0;31m     return gca().plot(\n\u001b[0m\u001b[1;32m   2989\u001b[0m         \u001b[0;34m*\u001b[0m\u001b[0margs\u001b[0m\u001b[0;34m,\u001b[0m \u001b[0mscalex\u001b[0m\u001b[0;34m=\u001b[0m\u001b[0mscalex\u001b[0m\u001b[0;34m,\u001b[0m \u001b[0mscaley\u001b[0m\u001b[0;34m=\u001b[0m\u001b[0mscaley\u001b[0m\u001b[0;34m,\u001b[0m\u001b[0;34m\u001b[0m\u001b[0;34m\u001b[0m\u001b[0m\n\u001b[1;32m   2990\u001b[0m         **({\"data\": data} if data is not None else {}), **kwargs)\n",
      "\u001b[0;32m~/opt/anaconda3/envs/Body2Eye/lib/python3.8/site-packages/matplotlib/axes/_axes.py\u001b[0m in \u001b[0;36mplot\u001b[0;34m(self, scalex, scaley, data, *args, **kwargs)\u001b[0m\n\u001b[1;32m   1603\u001b[0m         \"\"\"\n\u001b[1;32m   1604\u001b[0m         \u001b[0mkwargs\u001b[0m \u001b[0;34m=\u001b[0m \u001b[0mcbook\u001b[0m\u001b[0;34m.\u001b[0m\u001b[0mnormalize_kwargs\u001b[0m\u001b[0;34m(\u001b[0m\u001b[0mkwargs\u001b[0m\u001b[0;34m,\u001b[0m \u001b[0mmlines\u001b[0m\u001b[0;34m.\u001b[0m\u001b[0mLine2D\u001b[0m\u001b[0;34m)\u001b[0m\u001b[0;34m\u001b[0m\u001b[0;34m\u001b[0m\u001b[0m\n\u001b[0;32m-> 1605\u001b[0;31m         \u001b[0mlines\u001b[0m \u001b[0;34m=\u001b[0m \u001b[0;34m[\u001b[0m\u001b[0;34m*\u001b[0m\u001b[0mself\u001b[0m\u001b[0;34m.\u001b[0m\u001b[0m_get_lines\u001b[0m\u001b[0;34m(\u001b[0m\u001b[0;34m*\u001b[0m\u001b[0margs\u001b[0m\u001b[0;34m,\u001b[0m \u001b[0mdata\u001b[0m\u001b[0;34m=\u001b[0m\u001b[0mdata\u001b[0m\u001b[0;34m,\u001b[0m \u001b[0;34m**\u001b[0m\u001b[0mkwargs\u001b[0m\u001b[0;34m)\u001b[0m\u001b[0;34m]\u001b[0m\u001b[0;34m\u001b[0m\u001b[0;34m\u001b[0m\u001b[0m\n\u001b[0m\u001b[1;32m   1606\u001b[0m         \u001b[0;32mfor\u001b[0m \u001b[0mline\u001b[0m \u001b[0;32min\u001b[0m \u001b[0mlines\u001b[0m\u001b[0;34m:\u001b[0m\u001b[0;34m\u001b[0m\u001b[0;34m\u001b[0m\u001b[0m\n\u001b[1;32m   1607\u001b[0m             \u001b[0mself\u001b[0m\u001b[0;34m.\u001b[0m\u001b[0madd_line\u001b[0m\u001b[0;34m(\u001b[0m\u001b[0mline\u001b[0m\u001b[0;34m)\u001b[0m\u001b[0;34m\u001b[0m\u001b[0;34m\u001b[0m\u001b[0m\n",
      "\u001b[0;32m~/opt/anaconda3/envs/Body2Eye/lib/python3.8/site-packages/matplotlib/axes/_base.py\u001b[0m in \u001b[0;36m__call__\u001b[0;34m(self, data, *args, **kwargs)\u001b[0m\n\u001b[1;32m    313\u001b[0m                 \u001b[0mthis\u001b[0m \u001b[0;34m+=\u001b[0m \u001b[0margs\u001b[0m\u001b[0;34m[\u001b[0m\u001b[0;36m0\u001b[0m\u001b[0;34m]\u001b[0m\u001b[0;34m,\u001b[0m\u001b[0;34m\u001b[0m\u001b[0;34m\u001b[0m\u001b[0m\n\u001b[1;32m    314\u001b[0m                 \u001b[0margs\u001b[0m \u001b[0;34m=\u001b[0m \u001b[0margs\u001b[0m\u001b[0;34m[\u001b[0m\u001b[0;36m1\u001b[0m\u001b[0;34m:\u001b[0m\u001b[0;34m]\u001b[0m\u001b[0;34m\u001b[0m\u001b[0;34m\u001b[0m\u001b[0m\n\u001b[0;32m--> 315\u001b[0;31m             \u001b[0;32myield\u001b[0m \u001b[0;32mfrom\u001b[0m \u001b[0mself\u001b[0m\u001b[0;34m.\u001b[0m\u001b[0m_plot_args\u001b[0m\u001b[0;34m(\u001b[0m\u001b[0mthis\u001b[0m\u001b[0;34m,\u001b[0m \u001b[0mkwargs\u001b[0m\u001b[0;34m)\u001b[0m\u001b[0;34m\u001b[0m\u001b[0;34m\u001b[0m\u001b[0m\n\u001b[0m\u001b[1;32m    316\u001b[0m \u001b[0;34m\u001b[0m\u001b[0m\n\u001b[1;32m    317\u001b[0m     \u001b[0;32mdef\u001b[0m \u001b[0mget_next_color\u001b[0m\u001b[0;34m(\u001b[0m\u001b[0mself\u001b[0m\u001b[0;34m)\u001b[0m\u001b[0;34m:\u001b[0m\u001b[0;34m\u001b[0m\u001b[0;34m\u001b[0m\u001b[0m\n",
      "\u001b[0;32m~/opt/anaconda3/envs/Body2Eye/lib/python3.8/site-packages/matplotlib/axes/_base.py\u001b[0m in \u001b[0;36m_plot_args\u001b[0;34m(self, tup, kwargs, return_kwargs)\u001b[0m\n\u001b[1;32m    523\u001b[0m         \u001b[0;32mif\u001b[0m \u001b[0mn_datasets\u001b[0m \u001b[0;34m>\u001b[0m \u001b[0;36m1\u001b[0m \u001b[0;32mand\u001b[0m \u001b[0;32mnot\u001b[0m \u001b[0mcbook\u001b[0m\u001b[0;34m.\u001b[0m\u001b[0mis_scalar_or_string\u001b[0m\u001b[0;34m(\u001b[0m\u001b[0mlabel\u001b[0m\u001b[0;34m)\u001b[0m\u001b[0;34m:\u001b[0m\u001b[0;34m\u001b[0m\u001b[0;34m\u001b[0m\u001b[0m\n\u001b[1;32m    524\u001b[0m             \u001b[0;32mif\u001b[0m \u001b[0mlen\u001b[0m\u001b[0;34m(\u001b[0m\u001b[0mlabel\u001b[0m\u001b[0;34m)\u001b[0m \u001b[0;34m!=\u001b[0m \u001b[0mn_datasets\u001b[0m\u001b[0;34m:\u001b[0m\u001b[0;34m\u001b[0m\u001b[0;34m\u001b[0m\u001b[0m\n\u001b[0;32m--> 525\u001b[0;31m                 raise ValueError(f\"label must be scalar or have the same \"\n\u001b[0m\u001b[1;32m    526\u001b[0m                                  \u001b[0;34mf\"length as the input data, but found \"\u001b[0m\u001b[0;34m\u001b[0m\u001b[0;34m\u001b[0m\u001b[0m\n\u001b[1;32m    527\u001b[0m                                  f\"{len(label)} for {n_datasets} datasets.\")\n",
      "\u001b[0;31mValueError\u001b[0m: label must be scalar or have the same length as the input data, but found 12 for 4 datasets."
     ]
    },
    {
     "data": {
      "image/png": "[encoded data removed]",
      "text/plain": [
       "<Figure size 432x288 with 1 Axes>"
      ]
     },
     "metadata": {
      "needs_background": "light"
     },
     "output_type": "display_data"
    }
   ],
   "source": [
    "# Find max(abs(value))\n",
    "scaling_factor = np.ceil(np.max(np.abs(truncated)))\n",
    "\n",
    "# Train and test split \n",
    "train_test_ratio = 0.8\n",
    "split_idx = int(len(truncated) * train_test_ratio)\n",
    "train_set = truncated[:split_idx]\n",
    "test_set = truncated[split_idx:]\n",
    "print(\"Total datapoints: \" + str(len(truncated)) + \" For training: \" + str(train_set.shape[0]) + \" For testing: \" + str(test_set.shape[0]))\n",
    "\n",
    "plt.plot(range(len(train_set[2])), train_set[2], label=[\"HmdPosition.x\",  \"HmdPosition.y\",  \"HmdPosition.z\",  \"NoseVector.x\",  \"NoseVector.y\", \"NoseVector.z\",  \"EyePosWorldCombined.x\",  \"EyePosWorldCombined.y\", \"EyePosWorldCombined.z\",  \"EyeDirWorldCombined.x\",  \"EyeDirWorldCombined.y\",  \"EyeDirWorldCombined.z\"])\n",
    "plt.legend(loc='upper center', bbox_to_anchor=(0.5, -0.15), fancybox=True, shadow=False, ncol=2)\n",
    "plt.show()\n",
    "\n",
    "\n",
    "# Input and output split, apply scaling factor\n",
    "train_set_source = train_set[:,:,:6] / scaling_factor\n",
    "train_set_target = train_set[:,:,6:] / scaling_factor\n",
    "test_set_source = test_set[:,:,:6] / scaling_factor\n",
    "test_set_target = test_set[:,:,6:] / scaling_factor\n",
    "\n",
    "\n"
   ]
  },
  {
   "cell_type": "code",
   "execution_count": 11,
   "id": "reverse-crash",
   "metadata": {},
   "outputs": [
    {
     "ename": "ZeroDivisionError",
     "evalue": "division by zero",
     "output_type": "error",
     "traceback": [
      "\u001b[0;31m---------------------------------------------------------------------------\u001b[0m",
      "\u001b[0;31mZeroDivisionError\u001b[0m                         Traceback (most recent call last)",
      "\u001b[0;32m<ipython-input-11-2fc232d1511a>\u001b[0m in \u001b[0;36m<module>\u001b[0;34m\u001b[0m\n\u001b[0;32m----> 1\u001b[0;31m \u001b[0mprint\u001b[0m\u001b[0;34m(\u001b[0m\u001b[0;36m1\u001b[0m\u001b[0;34m/\u001b[0m\u001b[0;36m0\u001b[0m\u001b[0;34m)\u001b[0m\u001b[0;34m\u001b[0m\u001b[0;34m\u001b[0m\u001b[0m\n\u001b[0m",
      "\u001b[0;31mZeroDivisionError\u001b[0m: division by zero"
     ]
    }
   ],
   "source": [
    "print(1/0)"
   ]
  },
  {
   "cell_type": "code",
   "execution_count": 56,
   "id": "specified-recipient",
   "metadata": {},
   "outputs": [
    {
     "name": "stdout",
     "output_type": "stream",
     "text": [
      "KerasTensor(type_spec=TensorSpec(shape=(None, 200, 4), dtype=tf.float32, name='input_1'), name='input_1', description=\"created by layer 'input_1'\")\n",
      "KerasTensor(type_spec=TensorSpec(shape=(None, 200, 0), dtype=tf.float32, name='input_2'), name='input_2', description=\"created by layer 'input_2'\")\n",
      "KerasTensor(type_spec=TensorSpec(shape=(None, 100), dtype=tf.float32, name=None), name='lstm/strided_slice_3:0', description=\"created by layer 'lstm'\")\n",
      "KerasTensor(type_spec=TensorSpec(shape=(None, 100), dtype=tf.float32, name=None), name='lstm/while:4', description=\"created by layer 'lstm'\")\n",
      "KerasTensor(type_spec=TensorSpec(shape=(None, 100), dtype=tf.float32, name=None), name='lstm/while:5', description=\"created by layer 'lstm'\")\n",
      "KerasTensor(type_spec=TensorSpec(shape=(None, 200, 100), dtype=tf.float32, name=None), name='lstm_1/transpose_1:0', description=\"created by layer 'lstm_1'\")\n",
      "KerasTensor(type_spec=TensorSpec(shape=(None, 200, 0), dtype=tf.float32, name=None), name='time_distributed/Reshape_1:0', description=\"created by layer 'time_distributed'\")\n",
      "Model: \"model\"\n",
      "__________________________________________________________________________________________________\n",
      "Layer (type)                    Output Shape         Param #     Connected to                     \n",
      "==================================================================================================\n",
      "input_1 (InputLayer)            [(None, 200, 4)]     0                                            \n",
      "__________________________________________________________________________________________________\n",
      "lstm (LSTM)                     [(None, 100), (None, 42000       input_1[0][0]                    \n",
      "__________________________________________________________________________________________________\n",
      "repeat_vector (RepeatVector)    (None, 200, 100)     0           lstm[0][0]                       \n",
      "__________________________________________________________________________________________________\n",
      "lstm_1 (LSTM)                   (None, 200, 100)     80400       repeat_vector[0][0]              \n",
      "                                                                 lstm[0][0]                       \n",
      "                                                                 lstm[0][2]                       \n",
      "__________________________________________________________________________________________________\n",
      "time_distributed (TimeDistribut (None, 200, 0)       0           lstm_1[0][0]                     \n",
      "==================================================================================================\n",
      "Total params: 122,400\n",
      "Trainable params: 122,400\n",
      "Non-trainable params: 0\n",
      "__________________________________________________________________________________________________\n",
      "('Failed to import pydot. You must `pip install pydot` and install graphviz (https://graphviz.gitlab.io/download/), ', 'for `pydotprint` to work.')\n"
     ]
    }
   ],
   "source": [
    "# Build DNN\n",
    "\n",
    "n_hidden = 100\n",
    "\n",
    "input_train = Input(shape=(train_set_source.shape[1], train_set_source.shape[2]))\n",
    "output_train = Input(shape=(train_set_target.shape[1], train_set_target.shape[2]))\n",
    "print(input_train)\n",
    "print(output_train)\n",
    "\n",
    "\n",
    "encoder_last_h1, encoder_last_h2, encoder_last_c = LSTM(\n",
    " n_hidden, activation='elu', dropout=0.2, recurrent_dropout=0.2, \n",
    " return_sequences=False, return_state=True)(input_train)\n",
    "print(encoder_last_h1)\n",
    "print(encoder_last_h2)\n",
    "print(encoder_last_c)\n",
    "\n",
    "#encoder_last_h1 = BatchNormalization(momentum=0.6)(encoder_last_h1)\n",
    "#encoder_last_c = BatchNormalization(momentum=0.6)(encoder_last_c)\n",
    "\n",
    "\n",
    "decoder = RepeatVector(output_train.shape[1])(encoder_last_h1)\n",
    "decoder = LSTM(n_hidden, activation='elu', dropout=0.2, recurrent_dropout=0.2, return_state=False, return_sequences=True)(\n",
    "    decoder, initial_state=[encoder_last_h1, encoder_last_c])\n",
    "print(decoder)\n",
    "\n",
    "\n",
    "out = TimeDistributed(Dense(output_train.shape[2]))(decoder)\n",
    "print(out)\n",
    "\n",
    "model = Model(inputs=input_train, outputs=out)\n",
    "opt = Adam(lr=0.01, clipnorm=1)\n",
    "model.compile(loss='mean_squared_error', optimizer=opt, metrics=['mae'])\n",
    "model.summary()\n",
    "\n",
    "plot_model(model, to_file='model_plot.png', show_shapes=True, show_layer_names=True)\n",
    "\n",
    "\n",
    "\n"
   ]
  },
  {
   "cell_type": "code",
   "execution_count": 57,
   "id": "portable-punishment",
   "metadata": {},
   "outputs": [
    {
     "name": "stdout",
     "output_type": "stream",
     "text": [
      "Epoch 1/20\n",
      "6/6 [==============================] - 8s 662ms/step - loss: nan - mae: nan - val_loss: nan - val_mae: nan\n",
      "Epoch 2/20\n",
      "6/6 [==============================] - 4s 644ms/step - loss: nan - mae: nan - val_loss: nan - val_mae: nan\n",
      "Epoch 3/20\n",
      "6/6 [==============================] - 4s 603ms/step - loss: nan - mae: nan - val_loss: nan - val_mae: nan\n",
      "Epoch 4/20\n",
      "6/6 [==============================] - 4s 673ms/step - loss: nan - mae: nan - val_loss: nan - val_mae: nan\n",
      "Epoch 5/20\n",
      "2/6 [=========>....................] - ETA: 2s - loss: nan - mae: nan"
     ]
    },
    {
     "ename": "KeyboardInterrupt",
     "evalue": "",
     "output_type": "error",
     "traceback": [
      "\u001b[0;31m---------------------------------------------------------------------------\u001b[0m",
      "\u001b[0;31mKeyboardInterrupt\u001b[0m                         Traceback (most recent call last)",
      "\u001b[0;32m<ipython-input-57-8a50c0dc1716>\u001b[0m in \u001b[0;36m<module>\u001b[0;34m\u001b[0m\n\u001b[1;32m      2\u001b[0m \u001b[0mepc\u001b[0m \u001b[0;34m=\u001b[0m \u001b[0;36m20\u001b[0m\u001b[0;34m\u001b[0m\u001b[0;34m\u001b[0m\u001b[0m\n\u001b[1;32m      3\u001b[0m \u001b[0mes\u001b[0m \u001b[0;34m=\u001b[0m \u001b[0mEarlyStopping\u001b[0m\u001b[0;34m(\u001b[0m\u001b[0mmonitor\u001b[0m\u001b[0;34m=\u001b[0m\u001b[0;34m'val_loss'\u001b[0m\u001b[0;34m,\u001b[0m \u001b[0mmode\u001b[0m\u001b[0;34m=\u001b[0m\u001b[0;34m'min'\u001b[0m\u001b[0;34m,\u001b[0m \u001b[0mpatience\u001b[0m\u001b[0;34m=\u001b[0m\u001b[0;36m50\u001b[0m\u001b[0;34m)\u001b[0m\u001b[0;34m\u001b[0m\u001b[0;34m\u001b[0m\u001b[0m\n\u001b[0;32m----> 4\u001b[0;31m history = model.fit(train_set_source, train_set_target, validation_split=0.2, \n\u001b[0m\u001b[1;32m      5\u001b[0m                     \u001b[0mepochs\u001b[0m\u001b[0;34m=\u001b[0m\u001b[0mepc\u001b[0m\u001b[0;34m,\u001b[0m \u001b[0mverbose\u001b[0m\u001b[0;34m=\u001b[0m\u001b[0;36m1\u001b[0m\u001b[0;34m,\u001b[0m \u001b[0mcallbacks\u001b[0m\u001b[0;34m=\u001b[0m\u001b[0;34m[\u001b[0m\u001b[0mes\u001b[0m\u001b[0;34m]\u001b[0m\u001b[0;34m,\u001b[0m\u001b[0;34m\u001b[0m\u001b[0;34m\u001b[0m\u001b[0m\n\u001b[1;32m      6\u001b[0m                     batch_size=100)\n",
      "\u001b[0;32m~/opt/anaconda3/envs/Body2Eye/lib/python3.8/site-packages/tensorflow/python/keras/engine/training.py\u001b[0m in \u001b[0;36mfit\u001b[0;34m(self, x, y, batch_size, epochs, verbose, callbacks, validation_split, validation_data, shuffle, class_weight, sample_weight, initial_epoch, steps_per_epoch, validation_steps, validation_batch_size, validation_freq, max_queue_size, workers, use_multiprocessing)\u001b[0m\n\u001b[1;32m   1098\u001b[0m                 _r=1):\n\u001b[1;32m   1099\u001b[0m               \u001b[0mcallbacks\u001b[0m\u001b[0;34m.\u001b[0m\u001b[0mon_train_batch_begin\u001b[0m\u001b[0;34m(\u001b[0m\u001b[0mstep\u001b[0m\u001b[0;34m)\u001b[0m\u001b[0;34m\u001b[0m\u001b[0;34m\u001b[0m\u001b[0m\n\u001b[0;32m-> 1100\u001b[0;31m               \u001b[0mtmp_logs\u001b[0m \u001b[0;34m=\u001b[0m \u001b[0mself\u001b[0m\u001b[0;34m.\u001b[0m\u001b[0mtrain_function\u001b[0m\u001b[0;34m(\u001b[0m\u001b[0miterator\u001b[0m\u001b[0;34m)\u001b[0m\u001b[0;34m\u001b[0m\u001b[0;34m\u001b[0m\u001b[0m\n\u001b[0m\u001b[1;32m   1101\u001b[0m               \u001b[0;32mif\u001b[0m \u001b[0mdata_handler\u001b[0m\u001b[0;34m.\u001b[0m\u001b[0mshould_sync\u001b[0m\u001b[0;34m:\u001b[0m\u001b[0;34m\u001b[0m\u001b[0;34m\u001b[0m\u001b[0m\n\u001b[1;32m   1102\u001b[0m                 \u001b[0mcontext\u001b[0m\u001b[0;34m.\u001b[0m\u001b[0masync_wait\u001b[0m\u001b[0;34m(\u001b[0m\u001b[0;34m)\u001b[0m\u001b[0;34m\u001b[0m\u001b[0;34m\u001b[0m\u001b[0m\n",
      "\u001b[0;32m~/opt/anaconda3/envs/Body2Eye/lib/python3.8/site-packages/tensorflow/python/eager/def_function.py\u001b[0m in \u001b[0;36m__call__\u001b[0;34m(self, *args, **kwds)\u001b[0m\n\u001b[1;32m    826\u001b[0m     \u001b[0mtracing_count\u001b[0m \u001b[0;34m=\u001b[0m \u001b[0mself\u001b[0m\u001b[0;34m.\u001b[0m\u001b[0mexperimental_get_tracing_count\u001b[0m\u001b[0;34m(\u001b[0m\u001b[0;34m)\u001b[0m\u001b[0;34m\u001b[0m\u001b[0;34m\u001b[0m\u001b[0m\n\u001b[1;32m    827\u001b[0m     \u001b[0;32mwith\u001b[0m \u001b[0mtrace\u001b[0m\u001b[0;34m.\u001b[0m\u001b[0mTrace\u001b[0m\u001b[0;34m(\u001b[0m\u001b[0mself\u001b[0m\u001b[0;34m.\u001b[0m\u001b[0m_name\u001b[0m\u001b[0;34m)\u001b[0m \u001b[0;32mas\u001b[0m \u001b[0mtm\u001b[0m\u001b[0;34m:\u001b[0m\u001b[0;34m\u001b[0m\u001b[0;34m\u001b[0m\u001b[0m\n\u001b[0;32m--> 828\u001b[0;31m       \u001b[0mresult\u001b[0m \u001b[0;34m=\u001b[0m \u001b[0mself\u001b[0m\u001b[0;34m.\u001b[0m\u001b[0m_call\u001b[0m\u001b[0;34m(\u001b[0m\u001b[0;34m*\u001b[0m\u001b[0margs\u001b[0m\u001b[0;34m,\u001b[0m \u001b[0;34m**\u001b[0m\u001b[0mkwds\u001b[0m\u001b[0;34m)\u001b[0m\u001b[0;34m\u001b[0m\u001b[0;34m\u001b[0m\u001b[0m\n\u001b[0m\u001b[1;32m    829\u001b[0m       \u001b[0mcompiler\u001b[0m \u001b[0;34m=\u001b[0m \u001b[0;34m\"xla\"\u001b[0m \u001b[0;32mif\u001b[0m \u001b[0mself\u001b[0m\u001b[0;34m.\u001b[0m\u001b[0m_experimental_compile\u001b[0m \u001b[0;32melse\u001b[0m \u001b[0;34m\"nonXla\"\u001b[0m\u001b[0;34m\u001b[0m\u001b[0;34m\u001b[0m\u001b[0m\n\u001b[1;32m    830\u001b[0m       \u001b[0mnew_tracing_count\u001b[0m \u001b[0;34m=\u001b[0m \u001b[0mself\u001b[0m\u001b[0;34m.\u001b[0m\u001b[0mexperimental_get_tracing_count\u001b[0m\u001b[0;34m(\u001b[0m\u001b[0;34m)\u001b[0m\u001b[0;34m\u001b[0m\u001b[0;34m\u001b[0m\u001b[0m\n",
      "\u001b[0;32m~/opt/anaconda3/envs/Body2Eye/lib/python3.8/site-packages/tensorflow/python/eager/def_function.py\u001b[0m in \u001b[0;36m_call\u001b[0;34m(self, *args, **kwds)\u001b[0m\n\u001b[1;32m    853\u001b[0m       \u001b[0;31m# In this case we have created variables on the first call, so we run the\u001b[0m\u001b[0;34m\u001b[0m\u001b[0;34m\u001b[0m\u001b[0;34m\u001b[0m\u001b[0m\n\u001b[1;32m    854\u001b[0m       \u001b[0;31m# defunned version which is guaranteed to never create variables.\u001b[0m\u001b[0;34m\u001b[0m\u001b[0;34m\u001b[0m\u001b[0;34m\u001b[0m\u001b[0m\n\u001b[0;32m--> 855\u001b[0;31m       \u001b[0;32mreturn\u001b[0m \u001b[0mself\u001b[0m\u001b[0;34m.\u001b[0m\u001b[0m_stateless_fn\u001b[0m\u001b[0;34m(\u001b[0m\u001b[0;34m*\u001b[0m\u001b[0margs\u001b[0m\u001b[0;34m,\u001b[0m \u001b[0;34m**\u001b[0m\u001b[0mkwds\u001b[0m\u001b[0;34m)\u001b[0m  \u001b[0;31m# pylint: disable=not-callable\u001b[0m\u001b[0;34m\u001b[0m\u001b[0;34m\u001b[0m\u001b[0m\n\u001b[0m\u001b[1;32m    856\u001b[0m     \u001b[0;32melif\u001b[0m \u001b[0mself\u001b[0m\u001b[0;34m.\u001b[0m\u001b[0m_stateful_fn\u001b[0m \u001b[0;32mis\u001b[0m \u001b[0;32mnot\u001b[0m \u001b[0;32mNone\u001b[0m\u001b[0;34m:\u001b[0m\u001b[0;34m\u001b[0m\u001b[0;34m\u001b[0m\u001b[0m\n\u001b[1;32m    857\u001b[0m       \u001b[0;31m# Release the lock early so that multiple threads can perform the call\u001b[0m\u001b[0;34m\u001b[0m\u001b[0;34m\u001b[0m\u001b[0;34m\u001b[0m\u001b[0m\n",
      "\u001b[0;32m~/opt/anaconda3/envs/Body2Eye/lib/python3.8/site-packages/tensorflow/python/eager/function.py\u001b[0m in \u001b[0;36m__call__\u001b[0;34m(self, *args, **kwargs)\u001b[0m\n\u001b[1;32m   2940\u001b[0m       (graph_function,\n\u001b[1;32m   2941\u001b[0m        filtered_flat_args) = self._maybe_define_function(args, kwargs)\n\u001b[0;32m-> 2942\u001b[0;31m     return graph_function._call_flat(\n\u001b[0m\u001b[1;32m   2943\u001b[0m         filtered_flat_args, captured_inputs=graph_function.captured_inputs)  # pylint: disable=protected-access\n\u001b[1;32m   2944\u001b[0m \u001b[0;34m\u001b[0m\u001b[0m\n",
      "\u001b[0;32m~/opt/anaconda3/envs/Body2Eye/lib/python3.8/site-packages/tensorflow/python/eager/function.py\u001b[0m in \u001b[0;36m_call_flat\u001b[0;34m(self, args, captured_inputs, cancellation_manager)\u001b[0m\n\u001b[1;32m   1916\u001b[0m         and executing_eagerly):\n\u001b[1;32m   1917\u001b[0m       \u001b[0;31m# No tape is watching; skip to running the function.\u001b[0m\u001b[0;34m\u001b[0m\u001b[0;34m\u001b[0m\u001b[0;34m\u001b[0m\u001b[0m\n\u001b[0;32m-> 1918\u001b[0;31m       return self._build_call_outputs(self._inference_function.call(\n\u001b[0m\u001b[1;32m   1919\u001b[0m           ctx, args, cancellation_manager=cancellation_manager))\n\u001b[1;32m   1920\u001b[0m     forward_backward = self._select_forward_and_backward_functions(\n",
      "\u001b[0;32m~/opt/anaconda3/envs/Body2Eye/lib/python3.8/site-packages/tensorflow/python/eager/function.py\u001b[0m in \u001b[0;36mcall\u001b[0;34m(self, ctx, args, cancellation_manager)\u001b[0m\n\u001b[1;32m    553\u001b[0m       \u001b[0;32mwith\u001b[0m \u001b[0m_InterpolateFunctionError\u001b[0m\u001b[0;34m(\u001b[0m\u001b[0mself\u001b[0m\u001b[0;34m)\u001b[0m\u001b[0;34m:\u001b[0m\u001b[0;34m\u001b[0m\u001b[0;34m\u001b[0m\u001b[0m\n\u001b[1;32m    554\u001b[0m         \u001b[0;32mif\u001b[0m \u001b[0mcancellation_manager\u001b[0m \u001b[0;32mis\u001b[0m \u001b[0;32mNone\u001b[0m\u001b[0;34m:\u001b[0m\u001b[0;34m\u001b[0m\u001b[0;34m\u001b[0m\u001b[0m\n\u001b[0;32m--> 555\u001b[0;31m           outputs = execute.execute(\n\u001b[0m\u001b[1;32m    556\u001b[0m               \u001b[0mstr\u001b[0m\u001b[0;34m(\u001b[0m\u001b[0mself\u001b[0m\u001b[0;34m.\u001b[0m\u001b[0msignature\u001b[0m\u001b[0;34m.\u001b[0m\u001b[0mname\u001b[0m\u001b[0;34m)\u001b[0m\u001b[0;34m,\u001b[0m\u001b[0;34m\u001b[0m\u001b[0;34m\u001b[0m\u001b[0m\n\u001b[1;32m    557\u001b[0m               \u001b[0mnum_outputs\u001b[0m\u001b[0;34m=\u001b[0m\u001b[0mself\u001b[0m\u001b[0;34m.\u001b[0m\u001b[0m_num_outputs\u001b[0m\u001b[0;34m,\u001b[0m\u001b[0;34m\u001b[0m\u001b[0;34m\u001b[0m\u001b[0m\n",
      "\u001b[0;32m~/opt/anaconda3/envs/Body2Eye/lib/python3.8/site-packages/tensorflow/python/eager/execute.py\u001b[0m in \u001b[0;36mquick_execute\u001b[0;34m(op_name, num_outputs, inputs, attrs, ctx, name)\u001b[0m\n\u001b[1;32m     57\u001b[0m   \u001b[0;32mtry\u001b[0m\u001b[0;34m:\u001b[0m\u001b[0;34m\u001b[0m\u001b[0;34m\u001b[0m\u001b[0m\n\u001b[1;32m     58\u001b[0m     \u001b[0mctx\u001b[0m\u001b[0;34m.\u001b[0m\u001b[0mensure_initialized\u001b[0m\u001b[0;34m(\u001b[0m\u001b[0;34m)\u001b[0m\u001b[0;34m\u001b[0m\u001b[0;34m\u001b[0m\u001b[0m\n\u001b[0;32m---> 59\u001b[0;31m     tensors = pywrap_tfe.TFE_Py_Execute(ctx._handle, device_name, op_name,\n\u001b[0m\u001b[1;32m     60\u001b[0m                                         inputs, attrs, num_outputs)\n\u001b[1;32m     61\u001b[0m   \u001b[0;32mexcept\u001b[0m \u001b[0mcore\u001b[0m\u001b[0;34m.\u001b[0m\u001b[0m_NotOkStatusException\u001b[0m \u001b[0;32mas\u001b[0m \u001b[0me\u001b[0m\u001b[0;34m:\u001b[0m\u001b[0;34m\u001b[0m\u001b[0;34m\u001b[0m\u001b[0m\n",
      "\u001b[0;31mKeyboardInterrupt\u001b[0m: "
     ]
    }
   ],
   "source": [
    "history = None\n",
    "epc = 20\n",
    "es = EarlyStopping(monitor='val_loss', mode='min', patience=50)\n",
    "history = model.fit(train_set_source, train_set_target, validation_split=0.2, \n",
    "                    epochs=epc, verbose=1, callbacks=[es], \n",
    "                    batch_size=100)\n",
    "train_mae = history.history['mae']\n",
    "valid_mae = history.history['val_mae']\n",
    " \n",
    "model.save('model_forecasting_seq2seq.h5')"
   ]
  },
  {
   "cell_type": "code",
   "execution_count": null,
   "id": "changing-progress",
   "metadata": {},
   "outputs": [],
   "source": [
    "plt.plot(train_mae, label='train mae'), \n",
    "plt.plot(valid_mae, label='validation mae')\n",
    "plt.ylabel('mae')\n",
    "plt.xlabel('epoch')\n",
    "plt.title('train vs. validation accuracy (mae)')\n",
    "plt.legend(loc='upper center', bbox_to_anchor=(0.5, -0.15), fancybox=True, shadow=False, ncol=2)\n",
    "plt.show()"
   ]
  },
  {
   "cell_type": "code",
   "execution_count": null,
   "id": "inner-dakota",
   "metadata": {},
   "outputs": [],
   "source": [
    "\n",
    "test_pred = model.predict(test_set_source)\n",
    "#test_true = test_set_target\n"
   ]
  },
  {
   "cell_type": "code",
   "execution_count": null,
   "id": "velvet-sense",
   "metadata": {},
   "outputs": [],
   "source": [
    "plt.plot(test_pred[:,:,2], label=\"pred\")\n",
    "plt.plot(test_true[:,:,2], label=\"true\")\n",
    "plt.legend(loc=\"upper center\")\n",
    "plt.show()"
   ]
  },
  {
   "cell_type": "code",
   "execution_count": null,
   "id": "coordinate-agenda",
   "metadata": {},
   "outputs": [],
   "source": []
  },
  {
   "cell_type": "code",
   "execution_count": null,
   "id": "adapted-chapter",
   "metadata": {},
   "outputs": [],
   "source": []
  },
  {
   "cell_type": "code",
   "execution_count": null,
   "id": "published-reconstruction",
   "metadata": {},
   "outputs": [],
   "source": []
  },
  {
   "cell_type": "code",
   "execution_count": null,
   "id": "fifty-windows",
   "metadata": {},
   "outputs": [],
   "source": []
  },
  {
   "cell_type": "code",
   "execution_count": null,
   "id": "broke-sheriff",
   "metadata": {},
   "outputs": [],
   "source": []
  },
  {
   "cell_type": "code",
   "execution_count": null,
   "id": "sound-excerpt",
   "metadata": {},
   "outputs": [],
   "source": [
    "# train and test data \n",
    "# format, full array with columns holding the data: \n",
    "# IN: HmdPosition.x, HmdPosition.y, HmdPosition.z, NoseVector.x, NoseVector.y, NoseVector.z\n",
    "# OUT: EyeDirWorldCombined.x, EyeDirWorldCombined.y, EyeDirWorldCombined.z\n",
    "\n",
    "\n",
    "#### HMDPosition is affected by moving car!\n",
    "# \"HmdPosition.x\",\"HmdPosition.y\",\"HmdPosition.z\"\n",
    "# Possibly detrend? Over all subjects? \n",
    "\n",
    "\n",
    "train_and_test_in = reduced_df[[\"NoseVector.x\",\"NoseVector.y\",\"NoseVector.z\"]].to_numpy()\n",
    "train_and_test_target = reduced_df[[\"EyeDirWorldCombined.x\",\"EyeDirWorldCombined.y\",\"EyeDirWorldCombined.z\"]].to_numpy()\n"
   ]
  },
  {
   "cell_type": "code",
   "execution_count": null,
   "id": "excess-supplement",
   "metadata": {},
   "outputs": [],
   "source": [
    "plt.plot(range(len(train_and_test_in)), train_and_test_in, label=[\"NoseVector.x\",\"NoseVector.y\",\"NoseVector.z\"])\n",
    "plt.plot(range(len(train_and_test_target)), train_and_test_target, label=[\"EyeDirWorldCombined.x\",\"EyeDirWorldCombined.y\",\"EyeDirWorldCombined.z\"])\n",
    "\n",
    "plt.legend(loc='upper center', bbox_to_anchor=(0.5, -0.15), fancybox=True, shadow=False, ncol=2)\n",
    "plt.show()"
   ]
  },
  {
   "cell_type": "code",
   "execution_count": null,
   "id": "coral-whale",
   "metadata": {},
   "outputs": [],
   "source": [
    "# Things todo \n",
    "# Possibly detrend\n",
    "# Normalize (between -1 and 1), already the case. \n",
    "\n",
    "train_test_ratio = 0.8\n",
    "split_idx_in = int(len(train_and_test_in) * train_test_ratio)\n",
    "split_idx_target = int(len(train_and_test_target) * train_test_ratio)\n"
   ]
  },
  {
   "cell_type": "code",
   "execution_count": null,
   "id": "characteristic-invitation",
   "metadata": {},
   "outputs": [],
   "source": [
    "# Generate dataset \n",
    "\n",
    "train_in = train_and_test_in[0:split_idx_in]\n",
    "test_in = train_and_test_in[split_idx_in:]\n",
    "train_target = train_and_test_target[0:split_idx_target]\n",
    "test_target = train_and_test_target[split_idx_target:]\n",
    "\n",
    "print(train_and_test_in.shape)\n",
    "print(train_in.shape, test_in.shape)\n",
    "print(train_and_test_target.shape)\n",
    "print(train_target.shape, test_target.shape)"
   ]
  },
  {
   "cell_type": "code",
   "execution_count": null,
   "id": "answering-advocate",
   "metadata": {},
   "outputs": [],
   "source": [
    "# Truncate dataset \n",
    "\n",
    "def truncate(data, window_size):\n",
    "    result = []\n",
    "    i = 0\n",
    "    while (i + window_size) <= len(data):\n",
    "        result.append(data[i:i+window_size])\n",
    "        i += 1\n",
    "    return np.array(result)\n",
    "\n",
    "\n",
    "truncated_train_in = truncate(train_in,200) # use 200 data points for training input\n",
    "truncated_train_target = truncate(train_target,200) # use same number (200) for training output, i.e. generated\n",
    "truncated_test_in = truncate(test_in,200)\n",
    "truncated_test_target = truncate(test_target,200)\n",
    "\n",
    "print(truncated_train_in.shape)\n",
    "print(truncated_train_target.shape)\n",
    "print(truncated_test_in.shape)\n",
    "print(truncated_test_target.shape)"
   ]
  },
  {
   "cell_type": "code",
   "execution_count": null,
   "id": "informational-chest",
   "metadata": {},
   "outputs": [],
   "source": [
    "# Build DNN\n",
    "\n",
    "n_hidden = 100\n",
    "\n",
    "input_train = Input(shape=(truncated_train_in.shape[1], truncated_train_in.shape[2]))\n",
    "output_train = Input(shape=(truncated_train_target.shape[1], truncated_train_target.shape[2]))\n",
    "print(input_train)\n",
    "print(output_train)\n",
    "\n",
    "\n",
    "encoder_last_h1, encoder_last_h2, encoder_last_c = LSTM(\n",
    " n_hidden, activation='elu', dropout=0.2, recurrent_dropout=0.2, \n",
    " return_sequences=False, return_state=True)(input_train)\n",
    "print(encoder_last_h1)\n",
    "print(encoder_last_h2)\n",
    "print(encoder_last_c)\n",
    "\n",
    "\n"
   ]
  },
  {
   "cell_type": "code",
   "execution_count": null,
   "id": "honey-identification",
   "metadata": {},
   "outputs": [],
   "source": [
    "#encoder_last_h1 = BatchNormalization(momentum=0.6)(encoder_last_h1)\n",
    "#encoder_last_c = BatchNormalization(momentum=0.6)(encoder_last_c)\n",
    "\n",
    "\n",
    "decoder = RepeatVector(output_train.shape[1])(encoder_last_h1)\n",
    "decoder = LSTM(n_hidden, activation='elu', dropout=0.2, recurrent_dropout=0.2, return_state=False, return_sequences=True)(\n",
    "    decoder, initial_state=[encoder_last_h1, encoder_last_c])\n",
    "print(decoder)\n",
    "\n",
    "\n",
    "out = TimeDistributed(Dense(output_train.shape[2]))(decoder)\n",
    "print(out)\n",
    "\n",
    "model = Model(inputs=input_train, outputs=out)\n",
    "opt = Adam(lr=0.01, clipnorm=1)\n",
    "model.compile(loss='mean_squared_error', optimizer=opt, metrics=['mae'])\n",
    "model.summary()\n",
    "\n",
    "plot_model(model, to_file='model_plot.png', show_shapes=True, show_layer_names=True)\n"
   ]
  },
  {
   "cell_type": "code",
   "execution_count": null,
   "id": "comfortable-copyright",
   "metadata": {},
   "outputs": [],
   "source": [
    "history = None\n",
    "epc = 2\n",
    "es = EarlyStopping(monitor='val_loss', mode='min', patience=50)\n",
    "history = model.fit(truncated_train_in, truncated_train_target, validation_split=0.2, \n",
    "                    epochs=epc, verbose=1, callbacks=[es], \n",
    "                    batch_size=100)\n",
    "train_mae = history.history['mae']\n",
    "valid_mae = history.history['val_mae']\n",
    " \n",
    "model.save('model_forecasting_seq2seq.h5')"
   ]
  },
  {
   "cell_type": "code",
   "execution_count": null,
   "id": "eight-bulgarian",
   "metadata": {},
   "outputs": [],
   "source": []
  },
  {
   "cell_type": "code",
   "execution_count": null,
   "id": "accredited-rapid",
   "metadata": {},
   "outputs": [],
   "source": [
    "plt.plot(train_mae, label='train mae'), \n",
    "plt.plot(valid_mae, label='validation mae')\n",
    "plt.ylabel('mae')\n",
    "plt.xlabel('epoch')\n",
    "plt.title('train vs. validation accuracy (mae)')\n",
    "plt.legend(loc='upper center', bbox_to_anchor=(0.5, -0.15), fancybox=True, shadow=False, ncol=2)\n",
    "plt.show()"
   ]
  },
  {
   "cell_type": "code",
   "execution_count": null,
   "id": "optional-cholesterol",
   "metadata": {},
   "outputs": [],
   "source": [
    "# possibly detrend etc"
   ]
  },
  {
   "cell_type": "code",
   "execution_count": null,
   "id": "technical-windows",
   "metadata": {},
   "outputs": [],
   "source": [
    "train_pred = model.predict(truncated_train_in)\n",
    "test_pred = model.predict(truncated_test_in)\n",
    "print(train_pred.shape, test_pred.shape)\n",
    "train_true = truncated_train_target\n",
    "test_true = truncated_test_target\n",
    "print(train_true.shape, test_true.shape)"
   ]
  },
  {
   "cell_type": "code",
   "execution_count": null,
   "id": "floppy-ranking",
   "metadata": {},
   "outputs": [],
   "source": [
    "train_pred = train_pred[~np.isnan(train_pred)]\n",
    "train_true = train_true[~np.isnan(train_true)]\n",
    "plt.figure(figsize=(15, 4))\n",
    "plt.hist(train_pred.flatten(), bins=100, color='orange', alpha=0.5, label='trainpred')\n",
    "plt.hist(train_true.flatten(), bins=100, color='green', alpha=0.5, label='traintrue')\n",
    "plt.legend()\n",
    "plt.title('value distribution: train')\n",
    "plt.show()\n",
    "\n",
    "print(train_pred)"
   ]
  },
  {
   "cell_type": "code",
   "execution_count": null,
   "id": "abandoned-blast",
   "metadata": {},
   "outputs": [],
   "source": []
  },
  {
   "cell_type": "code",
   "execution_count": null,
   "id": "christian-client",
   "metadata": {},
   "outputs": [],
   "source": []
  },
  {
   "cell_type": "code",
   "execution_count": null,
   "id": "numeric-development",
   "metadata": {},
   "outputs": [],
   "source": []
  },
  {
   "cell_type": "code",
   "execution_count": 12,
   "id": "quantitative-italic",
   "metadata": {},
   "outputs": [
    {
     "data": {
      "image/png": "[encoded data removed]",
      "text/plain": [
       "<Figure size 1080x288 with 1 Axes>"
      ]
     },
     "metadata": {
      "needs_background": "light"
     },
     "output_type": "display_data"
    }
   ],
   "source": [
    "n_ = 1000\n",
    "t = np.linspace(0, 50*np.pi, n_)\n",
    "# pattern + trend + noise\n",
    "x1 = sum([20*np.sin(i*t+np.pi) for i in range(5)]) + 0.01*(t**2) + np.random.normal(0, 6, n_)\n",
    "x2 = sum([15*np.sin(2*i*t+np.pi) for i in range(5)]) + 0.5*t + np.random.normal(0, 6, n_)\n",
    "plt.figure(figsize=(15, 4))\n",
    "plt.plot(range(len(x1)), x1, label='x1')\n",
    "plt.plot(range(len(x2)), x2, label='x2')\n",
    "plt.legend(loc='upper center', bbox_to_anchor=(0.5, -0.15), fancybox=True, shadow=False, ncol=2)\n",
    "plt.show()"
   ]
  },
  {
   "cell_type": "code",
   "execution_count": null,
   "id": "underlying-arizona",
   "metadata": {},
   "outputs": [],
   "source": [
    "train_ratio = 0.8\n",
    "train_len = int(train_ratio * t.shape[0])\n",
    "print(train_len)"
   ]
  },
  {
   "cell_type": "code",
   "execution_count": null,
   "id": "coordinated-china",
   "metadata": {},
   "outputs": [],
   "source": [
    "# Calculate trend\n",
    "\n",
    "x_index = np.array(range(len(t)))\n",
    "\n",
    "x1_trend_param = np.polyfit(x_index[:train_len], x1[:train_len], 2)\n",
    "x2_trend_param = np.polyfit(x_index[:train_len], x2[:train_len], 1)\n",
    "print(x1_trend_param)\n",
    "print(x2_trend_param)\n",
    "\n",
    "\n",
    "x1_trend = (x_index**2)*x1_trend_param[0]+x_index*x1_trend_param[1]+x1_trend_param[2]\n",
    "x2_trend = x_index*x2_trend_param[0]+x2_trend_param[1]\n",
    "\n",
    "\n",
    "plt.figure(figsize=(15, 4))\n",
    "plt.plot(range(len(x1)), x1, label='x1')\n",
    "plt.plot(range(len(x1_trend)), x1_trend, linestyle='--', label='x1_trend')\n",
    "plt.plot(range(len(x2)), x2, label='x2')\n",
    "plt.plot(range(len(x2_trend)), x2_trend, linestyle='--', label='x2_trend')\n",
    "plt.legend(loc='upper center', bbox_to_anchor=(0.5, -0.15), fancybox=True, shadow=False, ncol=2)\n",
    "plt.show()"
   ]
  },
  {
   "cell_type": "code",
   "execution_count": null,
   "id": "breeding-africa",
   "metadata": {},
   "outputs": [],
   "source": [
    "# Detrend\n",
    "\n",
    "x1_detrend = x1 - x1_trend\n",
    "x2_detrend = x2 - x2_trend\n",
    "plt.figure(figsize=(15, 4))\n",
    "plt.plot(range(len(x1_detrend)), x1_detrend, label='x2_detrend')\n",
    "plt.plot(range(len(x2_detrend)), x2_detrend, label='x2_detrend')\n",
    "plt.legend(loc='upper center', bbox_to_anchor=(0.5, -0.15), fancybox=True, shadow=False, ncol=2)\n",
    "plt.show()"
   ]
  },
  {
   "cell_type": "code",
   "execution_count": null,
   "id": "palestinian-heavy",
   "metadata": {},
   "outputs": [],
   "source": [
    "# Combine sequences\n",
    "\n",
    "x_lbl = np.column_stack([x1_detrend, x2_detrend, x_index, [1]*train_len+[0]*(len(x_index)-train_len)])\n",
    "print(x_lbl.shape)\n",
    "print(x_lbl)\n",
    "\n",
    "# Calculate maxs \n",
    "x_train_max = x_lbl[x_lbl[:, 3]==1, :2].max(axis=0)\n",
    "x_train_max = x_train_max.tolist()+[1]*2  # only normalize for the first 2 columns\n",
    "print(x_train_max)\n",
    "\n",
    "# Normalize \n",
    "x_normalize = np.divide(x_lbl, x_train_max)\n",
    "print(x_normalize)\n",
    "\n",
    "plt.figure(figsize=(15, 4))\n",
    "plt.plot(range(train_len), x_normalize[:train_len, 0], label='x1_train_normalized')\n",
    "plt.plot(range(train_len), x_normalize[:train_len, 1], label='x2_train_normalized')\n",
    "plt.plot(range(train_len, len(x_normalize)), x_normalize[train_len:, 0], label='x1_test_normalized')\n",
    "plt.plot(range(train_len, len(x_normalize)), x_normalize[train_len:, 1], label='x2_test_normalized')\n",
    "plt.legend(loc='upper center', bbox_to_anchor=(0.5, -0.15), fancybox=True, shadow=False, ncol=2)\n",
    "plt.show()"
   ]
  },
  {
   "cell_type": "code",
   "execution_count": null,
   "id": "linear-earth",
   "metadata": {},
   "outputs": [],
   "source": [
    "\n",
    "def truncate(x, feature_cols=range(3), target_cols=range(3), label_col=3, train_len=100, test_len=20):\n",
    "    in_, out_, lbl = [], [], []\n",
    "    for i in range(len(x)-train_len-test_len+1):\n",
    "        in_.append(x[i:(i+train_len), feature_cols].tolist())\n",
    "        out_.append(x[(i+train_len):(i+train_len+test_len), target_cols].tolist())\n",
    "        lbl.append(x[i+train_len, label_col])\n",
    "    return np.array(in_), np.array(out_), np.array(lbl)\n",
    "X_in, X_out, lbl = truncate(x_normalize, feature_cols=range(3), target_cols=range(3), \n",
    "                            label_col=3, train_len=200, test_len=20)\n",
    "print(X_in.shape, X_out.shape, lbl.shape)\n",
    "\n",
    "\n",
    "X_input_train = X_in[np.where(lbl==1)]\n",
    "X_output_train = X_out[np.where(lbl==1)]\n",
    "X_input_test = X_in[np.where(lbl==0)]\n",
    "X_output_test = X_out[np.where(lbl==0)]\n",
    "print(X_input_train.shape, X_output_train.shape)\n",
    "print(X_input_test.shape, X_output_test.shape)"
   ]
  },
  {
   "cell_type": "code",
   "execution_count": null,
   "id": "anonymous-dependence",
   "metadata": {},
   "outputs": [],
   "source": [
    "n_hidden = 100\n",
    "\n",
    "input_train = Input(shape=(X_input_train.shape[1], X_input_train.shape[2]-1))\n",
    "output_train = Input(shape=(X_output_train.shape[1], X_output_train.shape[2]-1))\n",
    "print(input_train)\n",
    "print(output_train)\n",
    "\n",
    "\n",
    "encoder_last_h1, encoder_last_h2, encoder_last_c = LSTM(\n",
    " n_hidden, activation='elu', dropout=0.2, recurrent_dropout=0.2, \n",
    " return_sequences=False, return_state=True)(input_train)\n",
    "print(encoder_last_h1)\n",
    "print(encoder_last_h2)\n",
    "print(encoder_last_c)\n"
   ]
  },
  {
   "cell_type": "code",
   "execution_count": null,
   "id": "consolidated-victim",
   "metadata": {},
   "outputs": [],
   "source": [
    "\n",
    "encoder_last_h1 = BatchNormalization(momentum=0.6)(encoder_last_h1)\n",
    "encoder_last_c = BatchNormalization(momentum=0.6)(encoder_last_c)\n",
    "\n",
    "\n",
    "decoder = RepeatVector(output_train.shape[1])(encoder_last_h1)\n",
    "decoder = LSTM(n_hidden, activation='elu', dropout=0.2, recurrent_dropout=0.2, return_state=False, return_sequences=True)(\n",
    "    decoder, initial_state=[encoder_last_h1, encoder_last_c])\n",
    "print(decoder)\n",
    "\n",
    "\n",
    "out = TimeDistributed(Dense(output_train.shape[2]))(decoder)\n",
    "print(out)\n",
    "\n",
    "model = Model(inputs=input_train, outputs=out)\n",
    "opt = Adam(lr=0.01, clipnorm=1)\n",
    "model.compile(loss='mean_squared_error', optimizer=opt, metrics=['mae'])\n",
    "model.summary()\n",
    "\n",
    "plot_model(model, to_file='model_plot.png', show_shapes=True, show_layer_names=True)\n"
   ]
  },
  {
   "cell_type": "code",
   "execution_count": null,
   "id": "immune-company",
   "metadata": {},
   "outputs": [],
   "source": [
    "epc = 100\n",
    "es = EarlyStopping(monitor='val_loss', mode='min', patience=50)\n",
    "history = model.fit(X_input_train[:, :, :2], X_output_train[:, :, :2], validation_split=0.2, \n",
    "                    epochs=epc, verbose=1, callbacks=[es], \n",
    "                    batch_size=100)\n",
    "train_mae = history.history['mae']\n",
    "valid_mae = history.history['val_mae']\n",
    " \n",
    "model.save('model_forecasting_seq2seq.h5')"
   ]
  },
  {
   "cell_type": "code",
   "execution_count": null,
   "id": "maritime-newark",
   "metadata": {},
   "outputs": [],
   "source": [
    "\n",
    "plt.plot(train_mae, label='train mae'), \n",
    "plt.plot(valid_mae, label='validation mae')\n",
    "plt.ylabel('mae')\n",
    "plt.xlabel('epoch')\n",
    "plt.title('train vs. validation accuracy (mae)')\n",
    "plt.legend(loc='upper center', bbox_to_anchor=(0.5, -0.15), fancybox=True, shadow=False, ncol=2)\n",
    "plt.show()"
   ]
  },
  {
   "cell_type": "code",
   "execution_count": null,
   "id": "smoking-company",
   "metadata": {},
   "outputs": [],
   "source": [
    "train_pred_detrend = model.predict(X_input_train[:, :, :2])*x_train_max[:2]\n",
    "test_pred_detrend = model.predict(X_input_test[:, :, :2])*x_train_max[:2]\n",
    "print(train_pred_detrend.shape, test_pred_detrend.shape)\n",
    "train_true_detrend = X_output_train[:, :, :2]*x_train_max[:2]\n",
    "test_true_detrend = X_output_test[:, :, :2]*x_train_max[:2]\n",
    "print(train_true_detrend.shape, test_true_detrend.shape)"
   ]
  },
  {
   "cell_type": "code",
   "execution_count": null,
   "id": "growing-store",
   "metadata": {},
   "outputs": [],
   "source": [
    "train_pred_detrend = np.concatenate([train_pred_detrend, np.expand_dims(X_output_train[:, :, 2], axis=2)], axis=2)\n",
    "test_pred_detrend = np.concatenate([test_pred_detrend, np.expand_dims(X_output_test[:, :, 2], axis=2)], axis=2)\n",
    "print(train_pred_detrend.shape, test_pred_detrend.shape)\n",
    "train_true_detrend = np.concatenate([train_true_detrend, np.expand_dims(X_output_train[:, :, 2], axis=2)], axis=2)\n",
    "test_true_detrend = np.concatenate([test_true_detrend, np.expand_dims(X_output_test[:, :, 2], axis=2)], axis=2)\n",
    "print(train_pred_detrend.shape, test_pred_detrend.shape)"
   ]
  },
  {
   "cell_type": "code",
   "execution_count": null,
   "id": "expensive-clinic",
   "metadata": {},
   "outputs": [],
   "source": [
    "\n",
    "data_final = dict()\n",
    "for dt, lb in zip([train_pred_detrend, train_true_detrend, test_pred_detrend, test_true_detrend], \n",
    "                  ['train_pred', 'train_true', 'test_pred', 'test_true']):\n",
    "    dt_x1 = dt[:, :, 0] + (dt[:, :, 2]**2)*x1_trend_param[0] + dt[:, :, 2]*x1_trend_param[1] + x1_trend_param[2]\n",
    "    dt_x2 = dt[:, :, 1] + dt[:, :, 2]*x2_trend_param[0] + x2_trend_param[1]\n",
    "    data_final[lb] = np.concatenate(\n",
    "        [np.expand_dims(dt_x1, axis=2), np.expand_dims(dt_x2, axis=2)], axis=2)\n",
    "    print(lb+': {}'.format(data_final[lb].shape))"
   ]
  },
  {
   "cell_type": "code",
   "execution_count": null,
   "id": "separated-airport",
   "metadata": {},
   "outputs": [],
   "source": [
    "\n",
    "for lb in ['train', 'test']:\n",
    "    plt.figure(figsize=(15, 4))\n",
    "    plt.hist(data_final[lb+'_pred'].flatten(), bins=100, color='orange', alpha=0.5, label=lb+' pred')\n",
    "    plt.hist(data_final[lb+'_true'].flatten(), bins=100, color='green', alpha=0.5, label=lb+' true')\n",
    "    plt.legend()\n",
    "    plt.title('value distribution: '+lb)\n",
    "    plt.show()"
   ]
  },
  {
   "cell_type": "code",
   "execution_count": null,
   "id": "loose-laser",
   "metadata": {},
   "outputs": [],
   "source": [
    "\n",
    "for lb in ['train', 'test']:\n",
    "    MAE_overall = abs(data_final[lb+'_pred'] - data_final[lb+'_true']).mean()\n",
    "    MAE_ = abs(data_final[lb+'_pred'] - data_final[lb+'_true']).mean(axis=(1, 2))\n",
    "    plt.figure(figsize=(15, 3))\n",
    "    plt.plot(MAE_)\n",
    "    plt.title('MAE '+lb+': overall MAE = '+str(MAE_overall))\n",
    "    plt.show()"
   ]
  },
  {
   "cell_type": "code",
   "execution_count": null,
   "id": "empirical-mattress",
   "metadata": {},
   "outputs": [],
   "source": [
    "ith_timestep = random.choice(range(data_final[lb+'_pred'].shape[1]))\n",
    "plt.figure(figsize=(15, 5))\n",
    "train_start_t = 0\n",
    "test_start_t = data_final['train_pred'].shape[0]\n",
    "for lb, tm, clrs in zip(['train', 'test'], [train_start_t, test_start_t], [['green', 'red'], ['blue', 'orange']]):\n",
    "    for i, x_lbl in zip([0, 1], ['x1', 'x2']):\n",
    "        plt.plot(range(tm, tm+data_final[lb+'_pred'].shape[0]), \n",
    "                 data_final[lb+'_pred'][:, ith_timestep, i], \n",
    "                 linestyle='--', linewidth=1, color=clrs[0], label='pred '+x_lbl)\n",
    "        plt.plot(range(tm, tm+data_final[lb+'_pred'].shape[0]), \n",
    "                 data_final[lb+'_true'][:, ith_timestep, i], \n",
    "                 linestyle='-', linewidth=1, color=clrs[1], label='true '+x_lbl)\n",
    "    \n",
    "plt.title('{}th time step in all samples'.format(ith_timestep))\n",
    "plt.legend(loc='upper center', bbox_to_anchor=(0.5, -0.15), fancybox=True, shadow=False, ncol=8)\n",
    "plt.show()"
   ]
  },
  {
   "cell_type": "code",
   "execution_count": null,
   "id": "hollow-processor",
   "metadata": {},
   "outputs": [],
   "source": [
    "\n",
    "lb = 'test'\n",
    "plt.figure(figsize=(15, 5))\n",
    "for i, x_lbl, clr in zip([0, 1], ['x1', 'x2'], ['green', 'blue']):\n",
    "    plt.plot(data_final[lb+'_pred'][:, ith_timestep, i], linestyle='--', color=clr, label='pred '+x_lbl)\n",
    "    plt.plot(data_final[lb+'_true'][:, ith_timestep, i], linestyle='-', color=clr, label='true '+x_lbl)\n",
    "plt.title('({}): {}th time step in all samples'.format(lb, ith_timestep))\n",
    "plt.legend(loc='upper center', bbox_to_anchor=(0.5, -0.15), fancybox=True, shadow=False, ncol=2)\n",
    "plt.show()"
   ]
  },
  {
   "cell_type": "code",
   "execution_count": null,
   "id": "statistical-father",
   "metadata": {},
   "outputs": [],
   "source": []
  },
  {
   "cell_type": "code",
   "execution_count": null,
   "id": "academic-condition",
   "metadata": {},
   "outputs": [],
   "source": []
  },
  {
   "cell_type": "code",
   "execution_count": null,
   "id": "quality-contractor",
   "metadata": {},
   "outputs": [],
   "source": []
  },
  {
   "cell_type": "code",
   "execution_count": null,
   "id": "intense-fiction",
   "metadata": {},
   "outputs": [],
   "source": []
  },
  {
   "cell_type": "code",
   "execution_count": null,
   "id": "protective-labor",
   "metadata": {},
   "outputs": [],
   "source": []
  },
  {
   "cell_type": "code",
   "execution_count": null,
   "id": "compressed-brush",
   "metadata": {},
   "outputs": [],
   "source": [
    "'''\n",
    "class ParticipantData:\n",
    "    '''\n",
    "    Class for data of an individual participant.\n",
    "    (Data includes eyetracking, input, participantcalibrationdata and scenedata)\n",
    "    '''\n",
    "   \n",
    "    def __init__(self, eyetracking_filepaths, input_filepaths, calibration_filepath, scenedata_filepaths, bootstrap_file_loading=False, verbose = False):\n",
    "        '''\n",
    "        Constructor.\n",
    "        @ Paths to the relevant files \n",
    "        '''\n",
    "        \n",
    "        # sanity checks \n",
    "        # after this, we can be sure, that all paths exist, the files have labels corresponding to what they should contain\n",
    "        # the participant id is always the same, the number of files per list corresponds and there is one calibration path \n",
    "        # the lists are lists of strings and the calibration data is a string \n",
    "        if (eyetracking_filepaths is None or input_filepaths is None or calibration_filepath is None or scenedata_filepaths is None):\n",
    "            raise AssertionError(\"Some of the supplied paths are None! Exiting.\")\n",
    "        if (not isinstance(eyetracking_filepaths, list) or not isinstance(input_filepaths, list) or not isinstance(calibration_filepath, str) or not isinstance(scenedata_filepaths, list)):\n",
    "            raise AssertionError(\"Some of the paths are not supplied in the correct format! Exiting.\")\n",
    "        if (len(eyetracking_filepaths) != len(input_filepaths) or len(eyetracking_filepaths) != len(scenedata_filepaths)):\n",
    "            raise AssertionError(\"The number of supplied paths per category does not match! Exiting.\")\n",
    "        if (len(eyetracking_filepaths) < 1):\n",
    "            raise AssertionError(\"Some supplied path lists have less than one element! Exiting.\")\n",
    "        if (not all(isinstance(elem,str) for elem in eyetracking_filepaths) or not all(isinstance(elem,str) for elem in input_filepaths) or not all(isinstance(elem,str) for elem in scenedata_filepaths)):\n",
    "            raise AssertionError(\"The supplied path lists do not contain string contents! Exiting.\")\n",
    "        participant_id = \"-8\"\n",
    "        for elem in eyetracking_filepaths + input_filepaths + [calibration_filepath] + scenedata_filepaths:\n",
    "            if not os.path.isfile(elem):\n",
    "                raise AssertionError(\"Some of the supplied paths do not link to existing files! Exiting.\")\n",
    "            try:\n",
    "                if (participant_id == \"-8\"):\n",
    "                    participant_id = os.path.basename(elem).split(\"_\")[0]\n",
    "                else:\n",
    "                    next_participant_id = os.path.basename(elem).split(\"_\")[0]\n",
    "                    if next_participant_id != participant_id:\n",
    "                        raise AssertionError(\"Some of the supplied paths do not link to files of the same participant! Exiting.\")\n",
    "                    else:\n",
    "                        participant_id = next_participant_id \n",
    "            except:\n",
    "                raise AssertionError(\"Some of the supplied paths do not link to files of the same participant! Exiting.\")\n",
    "        for elem in eyetracking_filepaths:\n",
    "            if not \"_EyeTracking_\" in elem:\n",
    "                raise AssertionError(\"Some of the supplied paths for eye tracking data link to files that are labeled for something else! Exiting.\")\n",
    "        for elem in input_filepaths:\n",
    "            if not \"_Input_\" in elem:\n",
    "                raise AssertionError(\"Some of the supplied paths for input data link to files that are labeled for something else! Exiting.\")\n",
    "        if not \"_ParticipantCalibrationData\" in calibration_filepath:\n",
    "            raise AssertionError(\"The supplied path for participant calibration data links to a file that is labeled for something else! Exiting.\")\n",
    "        for elem in scenedata_filepaths:\n",
    "            if not \"_SceneData_\" in elem:\n",
    "                raise AssertionError(\"Some of the supplied paths for scene data link to files that are labeled for something else! Exiting.\")\n",
    "        \n",
    "        \n",
    "        # store filepaths\n",
    "        self.eyetracking_filepaths = eyetracking_filepaths\n",
    "        self.input_filepaths = input_filepaths\n",
    "        self.calibration_filepath = calibration_filepath\n",
    "        self.scenedata_filepaths = scenedata_filepaths\n",
    "        \n",
    "        # store participant id and number of recorded areas and verbosity and whether reference data has been applied\n",
    "        self.participant_id = os.path.basename(eyetracking_filepaths[0]).split(\"_\")[0]\n",
    "        self.number_of_recorded_areas = len(eyetracking_filepaths)\n",
    "        self.verbose = verbose\n",
    "        self.reference_data_applied = False \n",
    "        \n",
    "        # init data dictionaries \n",
    "        self.eyetracking_data = {}\n",
    "        self.input_data = {}\n",
    "        self.calibration_data = {}\n",
    "        self.scene_data = {} \n",
    "        self.golden_segment_data = {}\n",
    "        self.golden_event_info = {}\n",
    "        \n",
    "        # bootstrap file loading\n",
    "        if bootstrap_file_loading and os.path.isfile(os.path.join(BOOTSTRAP_BASEPATH, \"./bootstrap_\" + str(self.participant_id) + \".pickle\")):\n",
    "            bootstrap_data = load_from_disk(os.path.join(BOOTSTRAP_BASEPATH, \"./bootstrap_\" + str(self.participant_id) + \".pickle\"))\n",
    "            self.participant_id = bootstrap_data[\"participant_id\"]\n",
    "            self.eyetracking_data = bootstrap_data[\"eyetracking_data\"]\n",
    "            self.input_data = bootstrap_data[\"input_data\"]\n",
    "            self.calibration_data = bootstrap_data[\"calibration_data\"]\n",
    "            self.scene_data = bootstrap_data[\"scene_data\"]\n",
    "            self.golden_segment_data = bootstrap_data[\"golden_segment_data\"]\n",
    "            self.golden_event_info = bootstrap_data[\"golden_event_info\"] \n",
    "            print(\"ParticipantData: Loaded data (bootstrapped) for participant \" + str(self.participant_id) + \".\")\n",
    "    \n",
    "        else:\n",
    "            # process raw data \n",
    "            self._load_raw_data()\n",
    "            self._extract_event_information()\n",
    "            self._extract_path_segments()\n",
    "            self._resample_path_segments()  \n",
    "            self._construct_segment_data()\n",
    "            self._construct_event_info()\n",
    "            print(\"ParticipantData: Loaded data (raw) for participant \" + str(self.participant_id) + \".\")\n",
    "            \n",
    "            # save to disk \n",
    "            if bootstrap_file_loading:\n",
    "                bootstrap_data = {}\n",
    "                bootstrap_data[\"participant_id\"] = self.participant_id\n",
    "                bootstrap_data[\"eyetracking_data\"] = self.eyetracking_data\n",
    "                bootstrap_data[\"input_data\"] = self.input_data\n",
    "                bootstrap_data[\"calibration_data\"] = self.calibration_data\n",
    "                bootstrap_data[\"scene_data\"] = self.scene_data\n",
    "                bootstrap_data[\"golden_segment_data\"] = self.golden_segment_data\n",
    "                bootstrap_data[\"golden_event_info\"] = self.golden_event_info\n",
    "                save_to_disk(bootstrap_data,os.path.join(BOOTSTRAP_BASEPATH, \"./bootstrap_\" + str(self.participant_id) + \".pickle\"))\n",
    "\n",
    "    \n",
    "    def _read_raw_data(self, filepaths):\n",
    "        '''\n",
    "        Read raw files into dictionary. \n",
    "        '''\n",
    "        \n",
    "        data = {}\n",
    "        \n",
    "        for idx, filename in enumerate(filepaths):\n",
    "            if self.verbose: \n",
    "                print(\"ParticipantData: Loading \" + filename + \" (file \" + str(idx+1) + \"/\" + str(len(filepaths)) + \")...\")\n",
    "            \n",
    "            if \"Westbrueck\" in filename:\n",
    "                token = \"Westbrueck\"\n",
    "            elif \"MountainRoad\" in filename:\n",
    "                token = \"MountainRoad\"\n",
    "            elif \"CountryRoad\" in filename:\n",
    "                token = \"CountryRoad\"\n",
    "            elif \"Autobahn\" in filename:\n",
    "                token = \"Autobahn\"  \n",
    "            elif \"TrainingScene\" in filename:\n",
    "                token = \"TrainingScene\"\n",
    "            else:  # not defined \n",
    "                print(\"ParticipantData: Found undefined area token in filename\" + filename + \"!\")\n",
    "                continue # in the loop     \n",
    "            data[token] = {}\n",
    "            data[token][\"filename\"] = filename\n",
    "            data[token][\"full_df\"] = read_normalized_json_to_df(filename)\n",
    "        \n",
    "        return data \n",
    "    \n",
    "    def _load_raw_data(self):\n",
    "        \n",
    "        # Eye tracking data\n",
    "        if self.verbose: \n",
    "            print(\"ParticipantData: Loading raw eyetracking data files...\")\n",
    "        self.eyetracking_data = self._read_raw_data(self.eyetracking_filepaths)\n",
    "        \n",
    "        # Input data \n",
    "        if self.verbose: \n",
    "            print(\"ParticipantData: Loading raw input data files...\")\n",
    "        self.input_data = self._read_raw_data(self.input_filepaths)\n",
    "        \n",
    "        # Scene data  \n",
    "        if self.verbose: \n",
    "            print(\"ParticipantData: Loading raw scene data files...\")\n",
    "        self.scene_data = self._read_raw_data(self.scenedata_filepaths)\n",
    "\n",
    "        # Calibration data  \n",
    "        if self.verbose:\n",
    "            print(\"ParticipantData: Loading raw calibration data...\")\n",
    "        self.calibration_data = {}\n",
    "        self.calibration_data['filename'] = self.calibration_filepath\n",
    "        self.calibration_data['full_df'] = read_normalized_json_to_df(self.calibration_filepath)\n",
    "        \n",
    "        print(\"Calib\")\n",
    "        print(self.calibration_data)\n",
    "        \n",
    "        \n",
    "    def _extract_event_information(self):\n",
    "        \n",
    "        # Extract most important event information \n",
    "        for area in [\"Westbrueck\",\"MountainRoad\",\"CountryRoad\",\"Autobahn\",\"TrainingScene\"]:\n",
    "            self.scene_data[area][\"number_of_events\"] = len(self.scene_data[area][\"full_df\"][\"EventBehavior\"][0])\n",
    "            self.scene_data[area][\"events\"] = {}\n",
    "            for idx, event in enumerate(self.scene_data[area][\"full_df\"][\"EventBehavior\"][0]):\n",
    "                self.scene_data[area][\"events\"][idx] = {'name':event[\"EventName\"],'start':event[\"StartofEventTimeStamp\"],'stop':event[\"EndOfEventTimeStamp\"],'succeeded':event[\"SuccessfulCompletionState\"]}\n",
    "        \n",
    "        print(\"Event info\")\n",
    "        print(self.scene_data)\n",
    "        \n",
    "    \n",
    "    def _extract_path_segments(self):\n",
    "        '''\n",
    "        Extract the path segments. \n",
    "        Skip the TrainingScene, no relevant data. \n",
    "        '''\n",
    "        \n",
    "        \n",
    "        # Copy of entire dataframe input dataframe to prepare processing\n",
    "        for area in [\"Westbrueck\",\"MountainRoad\",\"CountryRoad\",\"Autobahn\"]:\n",
    "            self.input_data[area][\"processed_df\"] = self.input_data[area][\"full_df\"].copy(deep=True)\n",
    "            self.input_data[area][\"processed_df\"].drop(columns=[\"ReceivedInput\",\"SteeringInput\",\"AcellerationInput\",\"BrakeInput\"],inplace=True)\n",
    "            self.input_data[area][\"processed_df\"][\"path_segment_label\"] = -9 # event label \n",
    "\n",
    "        # Give label to individual path segments, -9 is event label \n",
    "        for area in [\"Westbrueck\",\"MountainRoad\",\"CountryRoad\",\"Autobahn\"]:\n",
    "            for event_idx in range(len(self.scene_data[area][\"events\"]) + 1):\n",
    "                cond = None \n",
    "                if event_idx == 0: # find all datapoints with timestamps before event start timestamp \n",
    "                    cond = (self.input_data[area][\"processed_df\"][\"TimeStamp\"] < self.scene_data[area][\"events\"][event_idx][\"start\"])\n",
    "                elif event_idx < len(self.scene_data[area][\"events\"]): # find all datapoints with timestamp between prev and next event \n",
    "                    cond = (self.input_data[area][\"processed_df\"][\"TimeStamp\"] > self.scene_data[area][\"events\"][event_idx - 1][\"stop\"]) & (self.input_data[area][\"processed_df\"][\"TimeStamp\"] < self.scene_data[area][\"events\"][event_idx][\"start\"])\n",
    "                elif event_idx == len(self.scene_data[area][\"events\"]): # find all datapoints with timestamp after last event\n",
    "                    cond = (self.input_data[area][\"processed_df\"][\"TimeStamp\"] > self.scene_data[area][\"events\"][event_idx - 1][\"stop\"])\n",
    "\n",
    "                # Filter     \n",
    "                self.input_data[area][\"processed_df\"].loc[cond, \"path_segment_label\"] = event_idx\n",
    "\n",
    "        # Extract path segments, add timestamps beginning at zero \n",
    "        for area in [\"Westbrueck\",\"MountainRoad\",\"CountryRoad\",\"Autobahn\"]:\n",
    "            self.input_data[area][\"path_segments_no_resample\"] = {}\n",
    "            for label in self.input_data[area][\"processed_df\"][\"path_segment_label\"].unique():\n",
    "                if (label != -9):\n",
    "\n",
    "                    # copy segment data \n",
    "                    cond = (self.input_data[area][\"processed_df\"][\"path_segment_label\"] == label)\n",
    "                    self.input_data[area][\"path_segments_no_resample\"][label] = self.input_data[area][\"processed_df\"].loc[cond].copy(deep=True)\n",
    "\n",
    "                    # add timestamp starting at zero \n",
    "                    if label == 0: # take first recorded datapoint as base timestamp \n",
    "                        ref_timestamp = self.input_data[area][\"path_segments_no_resample\"][label][\"TimeStamp\"].iloc[0]\n",
    "                    else: # take last event's stop time as base timestamp \n",
    "                        ref_timestamp = self.scene_data[area][\"events\"][label - 1][\"stop\"]\n",
    "\n",
    "                    self.input_data[area][\"path_segments_no_resample\"][label][\"rebased_timestamp\"] = self.input_data[area][\"path_segments_no_resample\"][label][\"TimeStamp\"] - ref_timestamp\n",
    "\n",
    "                else: # skip events \n",
    "                    pass \n",
    "         \n",
    "        print(\"path segment\")\n",
    "        print(self.input_data)\n",
    "    \n",
    "    \n",
    "    def _resample_path_segments(self):\n",
    "        '''\n",
    "        Resample the path segments.\n",
    "        Exclude TrainingScene, no relevant data. \n",
    "        '''\n",
    "        \n",
    "\n",
    "        if self.verbose:\n",
    "            print(\"ParticipantData: Resampled path segments (excl. events):\")\n",
    "        for area in [\"Westbrueck\",\"MountainRoad\",\"CountryRoad\",\"Autobahn\"]:\n",
    "\n",
    "            self.input_data[area][\"path_segments_resampled\"] = {}\n",
    "            for segment in self.input_data[area][\"path_segments_no_resample\"]:\n",
    "                # copy segments \n",
    "                self.input_data[area][\"path_segments_resampled\"][segment] = self.input_data[area][\"path_segments_no_resample\"][segment].copy(deep=True)\n",
    "\n",
    "                # Hard match datapoints to closest timebin and fill arising holes by forward fill \n",
    "                if RESAMPLE_STRATEGY == \"FILL\":\n",
    "\n",
    "                    # round the timestamps to specified number of decimals \n",
    "                    self.input_data[area][\"path_segments_resampled\"][segment][\"rebased_timestamp_rounded\"] = self.input_data[area][\"path_segments_resampled\"][segment][\"rebased_timestamp\"].round(TIMESTAMP_DECIMALS)\n",
    "\n",
    "                    # \"resample\" timestamps by reindexing with time delta (default 0.01s) steps and filling holes; first drop duplicate timestamps\n",
    "                    self.input_data[area][\"path_segments_resampled\"][segment][\"resampled_timestamp\"] = self.input_data[area][\"path_segments_resampled\"][segment][\"rebased_timestamp_rounded\"] \n",
    "                    self.input_data[area][\"path_segments_resampled\"][segment].drop_duplicates(subset=\"resampled_timestamp\",keep=\"first\", inplace=True)\n",
    "                    start_time = 0\n",
    "                    end_time = self.input_data[area][\"path_segments_resampled\"][segment][\"resampled_timestamp\"].iloc[-1]\n",
    "                    time_delta = TIME_DELTA \n",
    "                    new_index = pd.Index(np.arange(start_time,end_time,time_delta), name=\"resampled_timestamp\")\n",
    "                    self.input_data[area][\"path_segments_resampled\"][segment] = self.input_data[area][\"path_segments_resampled\"][segment].set_index(\"resampled_timestamp\").reindex(new_index).reset_index()\n",
    "\n",
    "                    # keep track of where data was interpolated \n",
    "                    self.input_data[area][\"path_segments_resampled\"][segment][\"is_interpolated\"] = self.input_data[area][\"path_segments_resampled\"][segment][\"rebased_timestamp\"].isnull()\n",
    "\n",
    "                    # fill nans (\"interpolate\") \n",
    "                    exclude_columns = [\"rebased_timestamp\",\"rebased_timestamp_rounded\",\"is_interpolated\",\"TimeStamp\",\"resampled_timestamp\"]\n",
    "                    for column in self.input_data[area][\"path_segments_resampled\"][segment].columns:  \n",
    "                        if column not in exclude_columns:\n",
    "                            self.input_data[area][\"path_segments_resampled\"][segment][column].fillna(method='ffill', inplace = True)\n",
    "                            self.input_data[area][\"path_segments_resampled\"][segment][column].fillna(method='bfill', inplace = True)\n",
    "\n",
    "                    # drop unneeded columns\n",
    "                    self.input_data[area][\"path_segments_resampled\"][segment].drop(columns=[\"TimeStamp\",\"rebased_timestamp\",\"rebased_timestamp_rounded\",\"path_segment_label\"], inplace = True)\n",
    "\n",
    "\n",
    "                # Resample using pandas' resample, fill with mean \n",
    "                if RESAMPLE_STRATEGY == \"MEAN\":\n",
    "\n",
    "                    # copy timestamp \n",
    "                    self.input_data[area][\"path_segments_resampled\"][segment][\"resampled_timestamp\"] = self.input_data[area][\"path_segments_resampled\"][segment][\"rebased_timestamp\"] \n",
    "\n",
    "                    # create datetime from rebased timestamp\n",
    "                    self.input_data[area][\"path_segments_resampled\"][segment][\"rebased_datetime\"] = pd.to_datetime(self.input_data[area][\"path_segments_resampled\"][segment]['resampled_timestamp'],unit='s')\n",
    "\n",
    "                    # resample with time delta (default 0.01s) interval and keep track of holes in the data before interpolation\n",
    "                    self.input_data[area][\"path_segments_resampled\"][segment] = self.input_data[area][\"path_segments_resampled\"][segment].resample(str(TIME_DELTA) + 'S',on=\"rebased_datetime\").mean()\n",
    "                    self.input_data[area][\"path_segments_resampled\"][segment][\"is_interpolated\"] = self.input_data[area][\"path_segments_resampled\"][segment][\"resampled_timestamp\"].isnull()\n",
    "                    self.input_data[area][\"path_segments_resampled\"][segment].reset_index(inplace=True)\n",
    "\n",
    "                    # interpolate linearly\n",
    "                    self.input_data[area][\"path_segments_resampled\"][segment].interpolate(method=\"linear\",inplace=True)\n",
    "\n",
    "                    # get resampled_timestamp from rebased_datetime again \n",
    "                    self.input_data[area][\"path_segments_resampled\"][segment][\"resampled_timestamp\"] = (self.input_data[area][\"path_segments_resampled\"][segment][\"rebased_datetime\"] - pd.Timestamp(\"1970-01-01\")) / pd.Timedelta('1s')\n",
    "\n",
    "                    # drop unneeded columns\n",
    "                    self.input_data[area][\"path_segments_resampled\"][segment].drop(columns=[\"rebased_datetime\",\"TimeStamp\",\"rebased_timestamp\",\"path_segment_label\"], inplace = True)\n",
    "\n",
    "                if self.verbose:\n",
    "                    print(\"Area: \" + area + \" Segment: \" + str(segment) + \" Total datapoints (incl. resampled): \" + str(len(self.input_data[area][\"path_segments_resampled\"][segment][\"is_interpolated\"]))  + \" Filled NaNs: \" + str(self.input_data[area][\"path_segments_resampled\"][segment][\"is_interpolated\"].values.sum()))\n",
    "        \n",
    "        print(\"resample\")\n",
    "        print(self.input_data)\n",
    "        \n",
    "\n",
    "    def _construct_segment_data(self):\n",
    "        \n",
    "        # extract most important infos\n",
    "        for area in [\"Westbrueck\",\"MountainRoad\",\"CountryRoad\",\"Autobahn\"]:\n",
    "            self.golden_segment_data[area] = {}\n",
    "            for segment in self.input_data[area][\"path_segments_resampled\"]:\n",
    "                self.golden_segment_data[area][segment] = self.input_data[area][\"path_segments_resampled\"][segment].copy(deep = True)\n",
    "            \n",
    "                \n",
    "    def _construct_event_info(self):\n",
    "    \n",
    "        # extract event infos \n",
    "        for area in [\"Westbrueck\",\"MountainRoad\",\"CountryRoad\",\"Autobahn\"]:\n",
    "            self.golden_event_info[area] = {}\n",
    "            for event in self.scene_data[area][\"events\"]:\n",
    "                self.golden_event_info[area][event] = {}\n",
    "                self.golden_event_info[area][event]['name'] = self.scene_data[area][\"events\"][event]['name']\n",
    "                self.golden_event_info[area][event]['start'] = self.scene_data[area][\"events\"][event]['start']\n",
    "                self.golden_event_info[area][event]['stop'] = self.scene_data[area][\"events\"][event]['stop']\n",
    "                self.golden_event_info[area][event]['succeeded'] = self.scene_data[area][\"events\"][event]['succeeded']\n",
    "    \n",
    "    def apply_reference_data(self, ref_data_dict):\n",
    "        \n",
    "        for area in [\"Westbrueck\",\"MountainRoad\",\"CountryRoad\",\"Autobahn\"]:\n",
    "            for segment in self.golden_segment_data[area]:\n",
    "                max_len = len(self.golden_segment_data[area][segment])\n",
    "                if len(ref_data_dict[area][segment]) < max_len:\n",
    "                    max_len = len(ref_data_dict[area][segment])\n",
    "                if self.verbose:\n",
    "                    print(\"ParticipantData: Measured df length is \" + str(len(self.golden_segment_data[area][segment])) \\\n",
    "                        + \", reference df length is \" + str(len(ref_data_dict[area][segment])) \\\n",
    "                        + \", max length is \" + str(max_len))\n",
    "                    \n",
    "                # potentially cut length of data if reference data is shorter\n",
    "                self.golden_segment_data[area][segment] = self.golden_segment_data[area][segment].iloc[0:max_len]\n",
    "                \n",
    "                # apply reference data values \n",
    "                print(self.golden_segment_data[area][segment].columns)\n",
    "                print(ref_data_dict[area][segment].columns)\n",
    "                    \n",
    "                    \n",
    "                #print(len(self.golden_segment_data[area][segment]))\n",
    "                #print(reference_paths_all_events_failed[\"Westbrueck\"][3].iloc[0:2422])\n",
    "                \n",
    "    def set_verbosity(self,verbosity):\n",
    "        self.verbosity = verbosity \n",
    "                \n",
    "    def get_segment_data(self):\n",
    "        return self.golden_segment_data\n",
    "    \n",
    "    def get_event_info(self):\n",
    "        return self.golden_event_info\n",
    "    \n",
    "    def get_participant_id(self):\n",
    "        return self.participant_id \n",
    "        \n",
    "\n",
    "'''"
   ]
  },
  {
   "cell_type": "code",
   "execution_count": null,
   "id": "atmospheric-thomas",
   "metadata": {},
   "outputs": [],
   "source": [
    "# Old Stuff\n",
    "'''\n",
    "\n",
    "# TODO Resample to constant time bins for proper FFT \n",
    "# Use Lomb-Scargle Periodogram to compare to spectogram of resample data \n",
    "\n",
    "\n",
    "f = np.linspace(0.01, 1000, 1000000) # start, stop, number of pts; modify this! \n",
    "pgram = signal.lombscargle(reduced_df[\"UnixTimeStamp\"], reduced_df[\"HmdPosition.x\"], f) # f, normalize=True\n",
    "\n",
    "plt.plot(f, pgram)\n",
    "'''"
   ]
  }
 ],
 "metadata": {
  "kernelspec": {
   "display_name": "Python 3",
   "language": "python",
   "name": "python3"
  },
  "language_info": {
   "codemirror_mode": {
    "name": "ipython",
    "version": 3
   },
   "file_extension": ".py",
   "mimetype": "text/x-python",
   "name": "python",
   "nbconvert_exporter": "python",
   "pygments_lexer": "ipython3",
   "version": "3.8.8"
  }
 },
 "nbformat": 4,
 "nbformat_minor": 5
}
