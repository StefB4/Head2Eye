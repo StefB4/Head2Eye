{
 "cells": [
  {
   "cell_type": "code",
   "execution_count": 1,
   "id": "threaded-childhood",
   "metadata": {},
   "outputs": [],
   "source": [
    "import random\n",
    "import numpy as np\n",
    "import matplotlib.pyplot as plt\n",
    "\n",
    "import pickle\n",
    "import keras\n",
    "from keras.models import Sequential, Model, load_model\n",
    "from keras.layers import LSTM, Dense, RepeatVector, TimeDistributed, Input, BatchNormalization, \\\n",
    "    multiply, concatenate, Flatten, Activation, dot\n",
    "from keras.optimizers import Adam\n",
    "from keras.utils import plot_model\n",
    "from keras.callbacks import EarlyStopping\n",
    "import pydot as pyd\n",
    "from keras.utils.vis_utils import plot_model, model_to_dot\n",
    "keras.utils.vis_utils.pydot = pyd\n",
    "import os\n",
    "import pandas as pd\n",
    "import json\n",
    "\n",
    "from scipy import signal \n",
    "\n",
    "import glob\n",
    "\n",
    "from DataManager import ParticipantData, MeasurementData\n",
    "from Helpers import read_normalized_json_to_df, save_to_disk, load_from_disk, create_rolling_windows "
   ]
  },
  {
   "cell_type": "code",
   "execution_count": 2,
   "id": "configured-oriental",
   "metadata": {},
   "outputs": [],
   "source": [
    "data_path = './data/'\n",
    "\n",
    "reference_data_all_failed_save_path = \"./post_recorded_reference_data/reference_dict_all.pickle\"\n",
    "REFERENCE_DATA_ALL_EVENTS_FAILED = load_from_disk(reference_data_all_failed_save_path)\n",
    "\n",
    "correlation_dict_path = \"./post_recorded_reference_data/corr_dict.pickle\"\n",
    "CORRELATION_DICT = load_from_disk(correlation_dict_path)"
   ]
  },
  {
   "cell_type": "code",
   "execution_count": 3,
   "id": "measured-result",
   "metadata": {
    "scrolled": true
   },
   "outputs": [
    {
     "name": "stdout",
     "output_type": "stream",
     "text": [
      "Index(['CarPosition.x', 'CarPosition.y', 'CarPosition.z',\n",
      "       'car_rotation_angles.x', 'car_rotation_angles.y',\n",
      "       'car_rotation_angles.z', 'car_rotation_direction.x',\n",
      "       'car_rotation_direction.y', 'car_rotation_direction.z'],\n",
      "      dtype='object')\n"
     ]
    }
   ],
   "source": [
    "print(REFERENCE_DATA_ALL_EVENTS_FAILED[\"Westbrueck\"][0].columns)"
   ]
  },
  {
   "cell_type": "markdown",
   "id": "convenient-inspection",
   "metadata": {},
   "source": [
    "# Load data"
   ]
  },
  {
   "cell_type": "code",
   "execution_count": 4,
   "id": "charged-ground",
   "metadata": {
    "scrolled": true
   },
   "outputs": [
    {
     "name": "stdout",
     "output_type": "stream",
     "text": [
      "MeasurementData: Found files for participant 0bc17d704fec4a9eb892d905fc2e5da9.\n",
      "Input data files: ['./data/Input/0bc17d704fec4a9eb892d905fc2e5da9_Input_Autobahn.txt', './data/Input/0bc17d704fec4a9eb892d905fc2e5da9_Input_Westbrueck.txt', './data/Input/0bc17d704fec4a9eb892d905fc2e5da9_Input_TrainingScene.txt', './data/Input/0bc17d704fec4a9eb892d905fc2e5da9_Input_MountainRoad.txt', './data/Input/0bc17d704fec4a9eb892d905fc2e5da9_Input_CountryRoad.txt']\n",
      "Eyetracking data files: ['./data/EyeTracking/0bc17d704fec4a9eb892d905fc2e5da9_EyeTracking_MountainRoad.txt', './data/EyeTracking/0bc17d704fec4a9eb892d905fc2e5da9_EyeTracking_Westbrueck.txt', './data/EyeTracking/0bc17d704fec4a9eb892d905fc2e5da9_EyeTracking_TrainingScene.txt', './data/EyeTracking/0bc17d704fec4a9eb892d905fc2e5da9_EyeTracking_Autobahn.txt', './data/EyeTracking/0bc17d704fec4a9eb892d905fc2e5da9_EyeTracking_CountryRoad.txt']\n",
      "Calibration data files: ['./data/ParticipantCalibrationData/0bc17d704fec4a9eb892d905fc2e5da9_ParticipantCalibrationData.txt']\n",
      "Scene data files: ['./data/SceneData/0bc17d704fec4a9eb892d905fc2e5da9_SceneData_MountainRoad.txt', './data/SceneData/0bc17d704fec4a9eb892d905fc2e5da9_SceneData_CountryRoad.txt', './data/SceneData/0bc17d704fec4a9eb892d905fc2e5da9_SceneData_Westbrueck.txt', './data/SceneData/0bc17d704fec4a9eb892d905fc2e5da9_SceneData_TrainingScene.txt', './data/SceneData/0bc17d704fec4a9eb892d905fc2e5da9_SceneData_Autobahn.txt']\n",
      "\n",
      "MeasurementData: Found files for participant 0d0d7bd79b1a48d4ad5e757cdbfc15c9.\n",
      "Input data files: ['./data/Input/0d0d7bd79b1a48d4ad5e757cdbfc15c9_Input_TrainingScene.txt', './data/Input/0d0d7bd79b1a48d4ad5e757cdbfc15c9_Input_Westbrueck.txt', './data/Input/0d0d7bd79b1a48d4ad5e757cdbfc15c9_Input_CountryRoad.txt', './data/Input/0d0d7bd79b1a48d4ad5e757cdbfc15c9_Input_Autobahn.txt', './data/Input/0d0d7bd79b1a48d4ad5e757cdbfc15c9_Input_MountainRoad.txt']\n",
      "Eyetracking data files: ['./data/EyeTracking/0d0d7bd79b1a48d4ad5e757cdbfc15c9_EyeTracking_Westbrueck.txt', './data/EyeTracking/0d0d7bd79b1a48d4ad5e757cdbfc15c9_EyeTracking_Autobahn.txt', './data/EyeTracking/0d0d7bd79b1a48d4ad5e757cdbfc15c9_EyeTracking_MountainRoad.txt', './data/EyeTracking/0d0d7bd79b1a48d4ad5e757cdbfc15c9_EyeTracking_TrainingScene.txt', './data/EyeTracking/0d0d7bd79b1a48d4ad5e757cdbfc15c9_EyeTracking_CountryRoad.txt']\n",
      "Calibration data files: ['./data/ParticipantCalibrationData/0d0d7bd79b1a48d4ad5e757cdbfc15c9_ParticipantCalibrationData.txt']\n",
      "Scene data files: ['./data/SceneData/0d0d7bd79b1a48d4ad5e757cdbfc15c9_SceneData_CountryRoad.txt', './data/SceneData/0d0d7bd79b1a48d4ad5e757cdbfc15c9_SceneData_Westbrueck.txt', './data/SceneData/0d0d7bd79b1a48d4ad5e757cdbfc15c9_SceneData_MountainRoad.txt', './data/SceneData/0d0d7bd79b1a48d4ad5e757cdbfc15c9_SceneData_Autobahn.txt', './data/SceneData/0d0d7bd79b1a48d4ad5e757cdbfc15c9_SceneData_TrainingScene.txt']\n",
      "\n",
      "ParticipantData: Initialising participant 0bc17d704fec4a9eb892d905fc2e5da9.\n",
      "ParticipantData: Loaded data (bootstrapped) for participant 0bc17d704fec4a9eb892d905fc2e5da9.\n",
      "ParticipantData: Initialising participant 0d0d7bd79b1a48d4ad5e757cdbfc15c9.\n",
      "ParticipantData: Loaded data (bootstrapped) for participant 0d0d7bd79b1a48d4ad5e757cdbfc15c9.\n"
     ]
    }
   ],
   "source": [
    "\n",
    "participant_id = os.path.basename(glob.glob(\"./data/EyeTracking/*.txt\")[0]).split(\"_\")[0]\n",
    "eyes = glob.glob(\"./data/EyeTracking/\" + str(participant_id) + \"*.txt\")\n",
    "inputs = glob.glob(\"./data/Input/\" + str(participant_id) + \"*.txt\")\n",
    "calib = glob.glob(\"./data/ParticipantCalibrationData/\" + str(participant_id) + \"*.txt\")[0]\n",
    "scenes = glob.glob(\"./data/SceneData/\" + str(participant_id) + \"*.txt\")\n",
    "\n",
    "eyes_paths  = [\"./data/EyeTracking/\"]\n",
    "input_paths = [\"./data/Input/\"]\n",
    "calib_paths = [\"./data/ParticipantCalibrationData/\"]\n",
    "scene_paths = [\"./data/SceneData/\"]\n",
    "\n",
    "'''\n",
    "print(eyes)\n",
    "print(inputs)\n",
    "print(calib)\n",
    "print(scenes)\n",
    "'''\n",
    "\n",
    "#participant1 = ParticipantData(eyes, inputs, calib, scenes, True, True)\n",
    "\n",
    "measurement1 = MeasurementData(eyes_paths,input_paths,calib_paths,scene_paths,True)\n"
   ]
  },
  {
   "cell_type": "code",
   "execution_count": 5,
   "id": "pleased-rebel",
   "metadata": {},
   "outputs": [
    {
     "name": "stdout",
     "output_type": "stream",
     "text": [
      "MeasurementData: Applying reference data to all participants...\n",
      "ParticipantData: Applying reference data to back of Westbrueck's segment 0. Number of datapoints used: 2089.\n",
      "ParticipantData: Applying reference data to back of Westbrueck's segment 1. Number of datapoints used: 2131.\n",
      "ParticipantData: Applying reference data to back of Westbrueck's segment 2. Number of datapoints used: 1932.\n",
      "ParticipantData: Applying reference data to back of Westbrueck's segment 3. Number of datapoints used: 1767.\n",
      "ParticipantData: Applying reference data to back of MountainRoad's segment 0. Number of datapoints used: 1691.\n",
      "ParticipantData: Applying reference data to back of MountainRoad's segment 1. Number of datapoints used: 3131.\n",
      "ParticipantData: Applying reference data to back of MountainRoad's segment 2. Number of datapoints used: 4347.\n",
      "ParticipantData: Applying reference data to back of MountainRoad's segment 3. Number of datapoints used: 1036.\n",
      "ParticipantData: Applying reference data to back of CountryRoad's segment 0. Number of datapoints used: 1839.\n",
      "ParticipantData: Applying reference data to back of CountryRoad's segment 1. Number of datapoints used: 3443.\n",
      "ParticipantData: Applying reference data to back of CountryRoad's segment 2. Number of datapoints used: 2505.\n",
      "ParticipantData: Applying reference data to back of CountryRoad's segment 3. Number of datapoints used: 4181.\n",
      "ParticipantData: Applying reference data to back of Autobahn's segment 0. Number of datapoints used: 2385.\n",
      "ParticipantData: Applying reference data to back of Autobahn's segment 1. Number of datapoints used: 1477.\n",
      "ParticipantData: Applying reference data to back of Autobahn's segment 2. Number of datapoints used: 4435.\n",
      "ParticipantData: Applying reference data to back of Autobahn's segment 3. Number of datapoints used: 153.\n",
      "ParticipantData: Applying reference data to back of Westbrueck's segment 0. Number of datapoints used: 2089.\n",
      "ParticipantData: Applying reference data to back of Westbrueck's segment 1. Number of datapoints used: 2131.\n",
      "ParticipantData: Applying reference data to back of Westbrueck's segment 2. Number of datapoints used: 1932.\n",
      "ParticipantData: Applying reference data to back of Westbrueck's segment 3. Number of datapoints used: 1767.\n",
      "ParticipantData: Applying reference data to back of MountainRoad's segment 0. Number of datapoints used: 1691.\n",
      "ParticipantData: Applying reference data to back of MountainRoad's segment 1. Number of datapoints used: 3131.\n",
      "ParticipantData: Applying reference data to back of MountainRoad's segment 2. Number of datapoints used: 4347.\n",
      "ParticipantData: Applying reference data to back of MountainRoad's segment 3. Number of datapoints used: 1036.\n",
      "ParticipantData: Applying reference data to back of CountryRoad's segment 0. Number of datapoints used: 1839.\n",
      "ParticipantData: Applying reference data to back of CountryRoad's segment 1. Number of datapoints used: 3443.\n",
      "ParticipantData: Applying reference data to back of CountryRoad's segment 2. Number of datapoints used: 2505.\n",
      "ParticipantData: Applying reference data to back of CountryRoad's segment 3. Number of datapoints used: 4181.\n",
      "ParticipantData: Applying reference data to back of Autobahn's segment 0. Number of datapoints used: 2385.\n",
      "ParticipantData: Applying reference data to back of Autobahn's segment 1. Number of datapoints used: 1477.\n",
      "ParticipantData: Applying reference data to back of Autobahn's segment 2. Number of datapoints used: 4435.\n",
      "ParticipantData: Applying reference data to back of Autobahn's segment 3. Number of datapoints used: 153.\n"
     ]
    }
   ],
   "source": [
    "#print(participant1.get_event_info())\n",
    "#participant1.apply_reference_data(REFERENCE_DATA_ALL_EVENTS_FAILED)\n",
    "#print(participant1.get_segment_data(filter_data=True, get_first_segment=True, exclude_segments=[1,2], after_event_type_only=[True,False],exclude_areas=[\"Westbrueck\",\"Autobahn\"]))\n",
    "\n",
    "measurement1.apply_reference_data(REFERENCE_DATA_ALL_EVENTS_FAILED)"
   ]
  },
  {
   "cell_type": "markdown",
   "id": "right-bhutan",
   "metadata": {},
   "source": [
    "# Load Reference and Correlation Data"
   ]
  },
  {
   "cell_type": "code",
   "execution_count": 6,
   "id": "voluntary-stephen",
   "metadata": {},
   "outputs": [
    {
     "name": "stdout",
     "output_type": "stream",
     "text": [
      "MeasurementData: Applying reference data to all participants...\n",
      "ParticipantData: Applying reference data to back of Westbrueck's segment 0. Number of datapoints used: 2089.\n",
      "ParticipantData: Applying reference data to back of Westbrueck's segment 1. Number of datapoints used: 2131.\n",
      "ParticipantData: Applying reference data to back of Westbrueck's segment 2. Number of datapoints used: 1932.\n",
      "ParticipantData: Applying reference data to back of Westbrueck's segment 3. Number of datapoints used: 1767.\n",
      "ParticipantData: Applying reference data to back of MountainRoad's segment 0. Number of datapoints used: 1691.\n",
      "ParticipantData: Applying reference data to back of MountainRoad's segment 1. Number of datapoints used: 3131.\n",
      "ParticipantData: Applying reference data to back of MountainRoad's segment 2. Number of datapoints used: 4347.\n",
      "ParticipantData: Applying reference data to back of MountainRoad's segment 3. Number of datapoints used: 1036.\n",
      "ParticipantData: Applying reference data to back of CountryRoad's segment 0. Number of datapoints used: 1839.\n",
      "ParticipantData: Applying reference data to back of CountryRoad's segment 1. Number of datapoints used: 3443.\n",
      "ParticipantData: Applying reference data to back of CountryRoad's segment 2. Number of datapoints used: 2505.\n",
      "ParticipantData: Applying reference data to back of CountryRoad's segment 3. Number of datapoints used: 4181.\n",
      "ParticipantData: Applying reference data to back of Autobahn's segment 0. Number of datapoints used: 2385.\n",
      "ParticipantData: Applying reference data to back of Autobahn's segment 1. Number of datapoints used: 1477.\n",
      "ParticipantData: Applying reference data to back of Autobahn's segment 2. Number of datapoints used: 4435.\n",
      "ParticipantData: Applying reference data to back of Autobahn's segment 3. Number of datapoints used: 153.\n",
      "ParticipantData: Applying reference data to back of Westbrueck's segment 0. Number of datapoints used: 2089.\n",
      "ParticipantData: Applying reference data to back of Westbrueck's segment 1. Number of datapoints used: 2131.\n",
      "ParticipantData: Applying reference data to back of Westbrueck's segment 2. Number of datapoints used: 1932.\n",
      "ParticipantData: Applying reference data to back of Westbrueck's segment 3. Number of datapoints used: 1767.\n",
      "ParticipantData: Applying reference data to back of MountainRoad's segment 0. Number of datapoints used: 1691.\n",
      "ParticipantData: Applying reference data to back of MountainRoad's segment 1. Number of datapoints used: 3131.\n",
      "ParticipantData: Applying reference data to back of MountainRoad's segment 2. Number of datapoints used: 4347.\n",
      "ParticipantData: Applying reference data to back of MountainRoad's segment 3. Number of datapoints used: 1036.\n",
      "ParticipantData: Applying reference data to back of CountryRoad's segment 0. Number of datapoints used: 1839.\n",
      "ParticipantData: Applying reference data to back of CountryRoad's segment 1. Number of datapoints used: 3443.\n",
      "ParticipantData: Applying reference data to back of CountryRoad's segment 2. Number of datapoints used: 2505.\n",
      "ParticipantData: Applying reference data to back of CountryRoad's segment 3. Number of datapoints used: 4181.\n",
      "ParticipantData: Applying reference data to back of Autobahn's segment 0. Number of datapoints used: 2385.\n",
      "ParticipantData: Applying reference data to back of Autobahn's segment 1. Number of datapoints used: 1477.\n",
      "ParticipantData: Applying reference data to back of Autobahn's segment 2. Number of datapoints used: 4435.\n",
      "ParticipantData: Applying reference data to back of Autobahn's segment 3. Number of datapoints used: 153.\n"
     ]
    }
   ],
   "source": [
    "measurement1.apply_reference_data(REFERENCE_DATA_ALL_EVENTS_FAILED)"
   ]
  },
  {
   "cell_type": "code",
   "execution_count": 7,
   "id": "willing-blame",
   "metadata": {},
   "outputs": [],
   "source": [
    "#print(participant1.get_segment_data(filter_data=True, get_first_segment=True, exclude_segments=[1,2], after_event_type_only=[True,False],exclude_areas=[\"Westbrueck\",\"Autobahn\"]))\n"
   ]
  },
  {
   "cell_type": "markdown",
   "id": "tired-hunter",
   "metadata": {},
   "source": [
    "# Filter data"
   ]
  },
  {
   "cell_type": "code",
   "execution_count": 8,
   "id": "julian-singing",
   "metadata": {},
   "outputs": [
    {
     "name": "stdout",
     "output_type": "stream",
     "text": [
      "ParticipantData: Filtering data by Correlation Coefficients with threshold 0.95.\n",
      "ParticipantData: Corr-coeff filtering excluded Westbrueck segment 2 with min corr-coeffs 0.9055197317583018.\n",
      "ParticipantData: Corr-coeff filtering excluded MountainRoad segment 1 with min corr-coeffs 0.9440682544132852.\n",
      "ParticipantData: Corr-coeff filtering excluded MountainRoad segment 2 with min corr-coeffs 0.4288595845461723.\n",
      "ParticipantData: Corr-coeff filtering excluded CountryRoad segment 1 with min corr-coeffs 0.9378459305925257.\n",
      "ParticipantData: Corr-coeff filtering excluded CountryRoad segment 2 with min corr-coeffs 0.8192290224652639.\n",
      "ParticipantData: Corr-coeff filtering excluded CountryRoad segment 3 with min corr-coeffs 0.9363527740836213.\n",
      "ParticipantData: Corr-coeff filtering excluded Autobahn segment 1 with min corr-coeffs 0.6856464347733652.\n",
      "ParticipantData: Corr-coeff filtering excluded Autobahn segment 3 with min corr-coeffs -0.9139574552395952.\n",
      "Index(['HmdPosition.x', 'HmdPosition.y', 'HmdPosition.z', 'NoseVector.x',\n",
      "       'NoseVector.y', 'NoseVector.z', 'EyePosWorldCombined.x',\n",
      "       'EyePosWorldCombined.y', 'EyePosWorldCombined.z',\n",
      "       'EyeDirWorldCombined.x', 'EyeDirWorldCombined.y',\n",
      "       'EyeDirWorldCombined.z', 'resampled_timestamp', 'is_interpolated'],\n",
      "      dtype='object')\n"
     ]
    }
   ],
   "source": [
    "# Wanted filtering, very much data\n",
    "'''\n",
    "filtered_data = measurement1.get_data(use_vanilla = False, filter_data=True, get_first_segment = False, after_event_type_only=[False], exclude_segments=[], exclude_areas = [], exclude_participants=[])\n",
    "res = measurement1.truncate_data(filtered_data,200)\n",
    "print(np.shape(res))\n",
    "# save_to_disk(res,\"./truncated_data.pickle\")\n",
    "'''\n",
    "\n",
    "\n",
    "# some test filtering\n",
    "#filtered_data = measurement1.get_data(use_vanilla = False, filter_data=True, get_first_segment = False, after_event_type_only=[False], exclude_segments=[3], exclude_areas = [\"CountryRoad\",\"Autobahn\",\"MountainRoad\"], exclude_participants=[\"0bc17d704fec4a9eb892d905fc2e5da9\"])\n",
    "#filtered_data = measurement1.get_data(use_vanilla = False, filter_data=True, get_first_segment = True, after_event_type_only=[True,False], exclude_segments=[], exclude_areas = [], exclude_participants=[])\n",
    "\n",
    "#filtered_data = measurement1.get_data(use_vanilla = False, filter_data=True, get_first_segment = False, after_event_type_only=[False], exclude_segments=[3], exclude_areas = [\"CountryRoad\",\"Autobahn\"], exclude_participants=[\"0bc17d704fec4a9eb892d905fc2e5da9\"])\n",
    "filtered_data = measurement1.get_data(use_vanilla = False, filter_data=True, filter_by_corr_coeff_dict=CORRELATION_DICT, corr_coeff_threshold=0.95, exclude_participants=[\"0bc17d704fec4a9eb892d905fc2e5da9\"])\n",
    "\n",
    "\n",
    "\n",
    "#print(filtered_data)\n",
    "print(filtered_data['0d0d7bd79b1a48d4ad5e757cdbfc15c9'][\"Westbrueck\"][0].columns)\n",
    "\n"
   ]
  },
  {
   "cell_type": "code",
   "execution_count": 9,
   "id": "afraid-document",
   "metadata": {},
   "outputs": [],
   "source": [
    "# Average data over multiple sessions per segment\n",
    "average = measurement1.average_data(filtered_data)\n",
    "\n",
    "# combine ALL data into one dataframe \n",
    "#combined = measurement1.combine_data(filtered_data)\n"
   ]
  },
  {
   "cell_type": "markdown",
   "id": "saving-moore",
   "metadata": {},
   "source": [
    "# Seq2Seq"
   ]
  },
  {
   "cell_type": "markdown",
   "id": "recovered-defeat",
   "metadata": {},
   "source": [
    "## Surrogate data to test architecture \n"
   ]
  },
  {
   "cell_type": "code",
   "execution_count": 40,
   "id": "floral-sleeping",
   "metadata": {},
   "outputs": [
    {
     "data": {
      "image/png": "[encoded data removed]",
      "text/plain": [
       "<Figure size 1080x288 with 1 Axes>"
      ]
     },
     "metadata": {
      "needs_background": "light"
     },
     "output_type": "display_data"
    }
   ],
   "source": [
    "surrogate_samples = 1000\n",
    "t = np.linspace(0, 50, surrogate_samples)\n",
    "\n",
    "# inputs, outputs \n",
    "x1 = np.exp(0.1 * t) + np.random.normal(0, 2, surrogate_samples)\n",
    "x2 = 10 * np.sin( t) + t \n",
    "x3 = x1 + x2 \n",
    "x4 = x1 * x2 / 100 \n",
    "x5 = np.sin( t) * 0.8\n",
    "\n",
    "\n",
    "plt.figure(figsize=(15, 4))\n",
    "plt.plot(range(len(x1)), x1, label='x1')\n",
    "plt.plot(range(len(x2)), x2, label='x2')\n",
    "plt.plot(range(len(x3)), x3, label='x3')\n",
    "plt.plot(range(len(x4)), x4, label='x4')\n",
    "plt.legend(loc='upper center', bbox_to_anchor=(0.5, -0.15), fancybox=True, shadow=False, ncol=2)\n",
    "plt.show()"
   ]
  },
  {
   "cell_type": "code",
   "execution_count": 38,
   "id": "beautiful-homework",
   "metadata": {},
   "outputs": [
    {
     "data": {
      "image/png": "[encoded data removed]",
      "text/plain": [
       "<Figure size 1080x288 with 1 Axes>"
      ]
     },
     "metadata": {
      "needs_background": "light"
     },
     "output_type": "display_data"
    }
   ],
   "source": [
    "# normalize per time series\n",
    "x1_normalized = x1 / np.ceil(np.max(np.abs(x1)))\n",
    "x2_normalized = x2 / np.ceil(np.max(np.abs(x2)))\n",
    "x3_normalized = x3 / np.ceil(np.max(np.abs(x3)))\n",
    "x4_normalized = x4 / np.ceil(np.max(np.abs(x4)))\n",
    "\n",
    "\n",
    "plt.figure(figsize=(15, 4))\n",
    "plt.plot(range(len(x1_normalized)), x1_normalized, label='x1_normalized')\n",
    "plt.plot(range(len(x2_normalized)), x2_normalized, label='x2_normalized')\n",
    "plt.plot(range(len(x3_normalized)), x3_normalized, label='x3_normalized')\n",
    "plt.plot(range(len(x4_normalized)), x4_normalized, label='x4_normalized')\n",
    "plt.legend(loc='upper center', bbox_to_anchor=(0.5, -0.15), fancybox=True, shadow=False, ncol=2)\n",
    "plt.show()\n"
   ]
  },
  {
   "cell_type": "code",
   "execution_count": 41,
   "id": "lucky-collar",
   "metadata": {},
   "outputs": [
    {
     "name": "stdout",
     "output_type": "stream",
     "text": [
      "(1000, 4)\n",
      "(801, 200, 4)\n"
     ]
    }
   ],
   "source": [
    "surrogate_data = np.array([x1_normalized,x2_normalized,x3_normalized,x4_normalized]).T\n",
    "print(surrogate_data.shape)\n",
    "surrogate_truncated = create_rolling_windows(surrogate_data,200)\n",
    "print(surrogate_truncated.shape)\n",
    "#print(surrogate_truncated[0])\n"
   ]
  },
  {
   "cell_type": "code",
   "execution_count": 46,
   "id": "incredible-coast",
   "metadata": {},
   "outputs": [
    {
     "name": "stdout",
     "output_type": "stream",
     "text": [
      "(801, 200, 2)\n"
     ]
    }
   ],
   "source": [
    "# Override surrogate data with sth easier \n",
    "surrogate_data = np.array([x5,x5*0.2+0.4]).T\n",
    "surrogate_truncated = create_rolling_windows(surrogate_data,200)\n",
    "print(surrogate_truncated.shape)\n"
   ]
  },
  {
   "cell_type": "code",
   "execution_count": 47,
   "id": "statistical-voltage",
   "metadata": {},
   "outputs": [
    {
     "data": {
      "text/plain": [
       "[<matplotlib.lines.Line2D at 0x7fbbc429ee80>,\n",
       " <matplotlib.lines.Line2D at 0x7fbbc429eaf0>]"
      ]
     },
     "execution_count": 47,
     "metadata": {},
     "output_type": "execute_result"
    },
    {
     "data": {
      "image/png": "[encoded data removed]",
      "text/plain": [
       "<Figure size 432x288 with 1 Axes>"
      ]
     },
     "metadata": {
      "needs_background": "light"
     },
     "output_type": "display_data"
    }
   ],
   "source": [
    "plt.plot(surrogate_data)"
   ]
  },
  {
   "cell_type": "code",
   "execution_count": 48,
   "id": "uniform-daughter",
   "metadata": {},
   "outputs": [
    {
     "name": "stdout",
     "output_type": "stream",
     "text": [
      "(640, 200, 4)\n"
     ]
    }
   ],
   "source": [
    "print(train_set.shape)"
   ]
  },
  {
   "cell_type": "code",
   "execution_count": 51,
   "id": "analyzed-cabinet",
   "metadata": {},
   "outputs": [
    {
     "name": "stdout",
     "output_type": "stream",
     "text": [
      "Total datapoints: 801 For training: 640 For testing: 161\n"
     ]
    },
    {
     "data": {
      "image/png": "[encoded data removed]",
      "text/plain": [
       "<Figure size 432x288 with 1 Axes>"
      ]
     },
     "metadata": {
      "needs_background": "light"
     },
     "output_type": "display_data"
    }
   ],
   "source": [
    "# Find max(abs(value))\n",
    "#scaling_factor = np.ceil(np.max(np.abs(surrogate_truncated)))\n",
    "\n",
    "# Train and test split \n",
    "train_test_ratio = 0.8\n",
    "split_idx = int(len(surrogate_truncated) * train_test_ratio)\n",
    "train_set = surrogate_truncated[:split_idx]\n",
    "test_set = surrogate_truncated[split_idx:]\n",
    "print(\"Total datapoints: \" + str(len(surrogate_truncated)) + \" For training: \" + str(train_set.shape[0]) + \" For testing: \" + str(test_set.shape[0]))\n",
    "\n",
    "plt.plot(range(len(train_set[600])), train_set[600], label=[\"x1\",  \"x2\"]) #,  \"x3\",  \"x4\"])\n",
    "plt.legend(loc='upper center', bbox_to_anchor=(0.5, -0.15), fancybox=True, shadow=False, ncol=2)\n",
    "plt.show()\n",
    "\n",
    "\n",
    "# Input and output split, apply scaling factor\n",
    "train_set_source = train_set[:,:,:1] #/ scaling_factor\n",
    "train_set_target = train_set[:,:,1:] #/ scaling_factor\n",
    "test_set_source = test_set[:,:,:1] #/ scaling_factor\n",
    "test_set_target = test_set[:,:,1:] #/ scaling_factor\n",
    "\n",
    "\n",
    "\n"
   ]
  },
  {
   "cell_type": "markdown",
   "id": "sporting-timeline",
   "metadata": {},
   "source": [
    "## Real data "
   ]
  },
  {
   "cell_type": "code",
   "execution_count": 51,
   "id": "exciting-frequency",
   "metadata": {},
   "outputs": [],
   "source": [
    "# What the net should do \n",
    "# Input: HmdPosition & NoseVector\n",
    "# Output: EyePosWorld & EyeDirWorldCombined\n",
    "\n",
    "# Get truncated data \n",
    "truncated = measurement1.truncate_data(filtered_data, 200, method = \"numpy\")\n",
    "\n",
    "# Available data:\n",
    "# HmdPosition.x  HmdPosition.y  HmdPosition.z  NoseVector.x  NoseVector.y NoseVector.z  EyePosWorldCombined.x  EyePosWorldCombined.y EyePosWorldCombined.z  EyeDirWorldCombined.x  EyeDirWorldCombined.y  EyeDirWorldCombined.z  resampled_timestamp  is_interpolated  \n",
    "\n",
    "# Drop last two columns of unneeded data \n",
    "truncated = np.delete(truncated,[12,13],axis=2)\n"
   ]
  },
  {
   "cell_type": "code",
   "execution_count": 52,
   "id": "demographic-growing",
   "metadata": {
    "scrolled": true
   },
   "outputs": [
    {
     "data": {
      "text/plain": [
       "(8578, 200, 12)"
      ]
     },
     "execution_count": 52,
     "metadata": {},
     "output_type": "execute_result"
    }
   ],
   "source": [
    "np.shape(truncated)"
   ]
  },
  {
   "cell_type": "code",
   "execution_count": 49,
   "id": "sufficient-profile",
   "metadata": {
    "scrolled": true
   },
   "outputs": [
    {
     "name": "stdout",
     "output_type": "stream",
     "text": [
      "Total datapoints: 801 For training: 640 For testing: 161\n"
     ]
    },
    {
     "ename": "ValueError",
     "evalue": "label must be scalar or have the same length as the input data, but found 12 for 4 datasets.",
     "output_type": "error",
     "traceback": [
      "\u001b[0;31m---------------------------------------------------------------------------\u001b[0m",
      "\u001b[0;31mValueError\u001b[0m                                Traceback (most recent call last)",
      "\u001b[0;32m<ipython-input-49-08c47596c85a>\u001b[0m in \u001b[0;36m<module>\u001b[0;34m\u001b[0m\n\u001b[1;32m      9\u001b[0m \u001b[0mprint\u001b[0m\u001b[0;34m(\u001b[0m\u001b[0;34m\"Total datapoints: \"\u001b[0m \u001b[0;34m+\u001b[0m \u001b[0mstr\u001b[0m\u001b[0;34m(\u001b[0m\u001b[0mlen\u001b[0m\u001b[0;34m(\u001b[0m\u001b[0mtruncated\u001b[0m\u001b[0;34m)\u001b[0m\u001b[0;34m)\u001b[0m \u001b[0;34m+\u001b[0m \u001b[0;34m\" For training: \"\u001b[0m \u001b[0;34m+\u001b[0m \u001b[0mstr\u001b[0m\u001b[0;34m(\u001b[0m\u001b[0mtrain_set\u001b[0m\u001b[0;34m.\u001b[0m\u001b[0mshape\u001b[0m\u001b[0;34m[\u001b[0m\u001b[0;36m0\u001b[0m\u001b[0;34m]\u001b[0m\u001b[0;34m)\u001b[0m \u001b[0;34m+\u001b[0m \u001b[0;34m\" For testing: \"\u001b[0m \u001b[0;34m+\u001b[0m \u001b[0mstr\u001b[0m\u001b[0;34m(\u001b[0m\u001b[0mtest_set\u001b[0m\u001b[0;34m.\u001b[0m\u001b[0mshape\u001b[0m\u001b[0;34m[\u001b[0m\u001b[0;36m0\u001b[0m\u001b[0;34m]\u001b[0m\u001b[0;34m)\u001b[0m\u001b[0;34m)\u001b[0m\u001b[0;34m\u001b[0m\u001b[0;34m\u001b[0m\u001b[0m\n\u001b[1;32m     10\u001b[0m \u001b[0;34m\u001b[0m\u001b[0m\n\u001b[0;32m---> 11\u001b[0;31m \u001b[0mplt\u001b[0m\u001b[0;34m.\u001b[0m\u001b[0mplot\u001b[0m\u001b[0;34m(\u001b[0m\u001b[0mrange\u001b[0m\u001b[0;34m(\u001b[0m\u001b[0mlen\u001b[0m\u001b[0;34m(\u001b[0m\u001b[0mtrain_set\u001b[0m\u001b[0;34m[\u001b[0m\u001b[0;36m2\u001b[0m\u001b[0;34m]\u001b[0m\u001b[0;34m)\u001b[0m\u001b[0;34m)\u001b[0m\u001b[0;34m,\u001b[0m \u001b[0mtrain_set\u001b[0m\u001b[0;34m[\u001b[0m\u001b[0;36m2\u001b[0m\u001b[0;34m]\u001b[0m\u001b[0;34m,\u001b[0m \u001b[0mlabel\u001b[0m\u001b[0;34m=\u001b[0m\u001b[0;34m[\u001b[0m\u001b[0;34m\"HmdPosition.x\"\u001b[0m\u001b[0;34m,\u001b[0m  \u001b[0;34m\"HmdPosition.y\"\u001b[0m\u001b[0;34m,\u001b[0m  \u001b[0;34m\"HmdPosition.z\"\u001b[0m\u001b[0;34m,\u001b[0m  \u001b[0;34m\"NoseVector.x\"\u001b[0m\u001b[0;34m,\u001b[0m  \u001b[0;34m\"NoseVector.y\"\u001b[0m\u001b[0;34m,\u001b[0m \u001b[0;34m\"NoseVector.z\"\u001b[0m\u001b[0;34m,\u001b[0m  \u001b[0;34m\"EyePosWorldCombined.x\"\u001b[0m\u001b[0;34m,\u001b[0m  \u001b[0;34m\"EyePosWorldCombined.y\"\u001b[0m\u001b[0;34m,\u001b[0m \u001b[0;34m\"EyePosWorldCombined.z\"\u001b[0m\u001b[0;34m,\u001b[0m  \u001b[0;34m\"EyeDirWorldCombined.x\"\u001b[0m\u001b[0;34m,\u001b[0m  \u001b[0;34m\"EyeDirWorldCombined.y\"\u001b[0m\u001b[0;34m,\u001b[0m  \u001b[0;34m\"EyeDirWorldCombined.z\"\u001b[0m\u001b[0;34m]\u001b[0m\u001b[0;34m)\u001b[0m\u001b[0;34m\u001b[0m\u001b[0;34m\u001b[0m\u001b[0m\n\u001b[0m\u001b[1;32m     12\u001b[0m \u001b[0mplt\u001b[0m\u001b[0;34m.\u001b[0m\u001b[0mlegend\u001b[0m\u001b[0;34m(\u001b[0m\u001b[0mloc\u001b[0m\u001b[0;34m=\u001b[0m\u001b[0;34m'upper center'\u001b[0m\u001b[0;34m,\u001b[0m \u001b[0mbbox_to_anchor\u001b[0m\u001b[0;34m=\u001b[0m\u001b[0;34m(\u001b[0m\u001b[0;36m0.5\u001b[0m\u001b[0;34m,\u001b[0m \u001b[0;34m-\u001b[0m\u001b[0;36m0.15\u001b[0m\u001b[0;34m)\u001b[0m\u001b[0;34m,\u001b[0m \u001b[0mfancybox\u001b[0m\u001b[0;34m=\u001b[0m\u001b[0;32mTrue\u001b[0m\u001b[0;34m,\u001b[0m \u001b[0mshadow\u001b[0m\u001b[0;34m=\u001b[0m\u001b[0;32mFalse\u001b[0m\u001b[0;34m,\u001b[0m \u001b[0mncol\u001b[0m\u001b[0;34m=\u001b[0m\u001b[0;36m2\u001b[0m\u001b[0;34m)\u001b[0m\u001b[0;34m\u001b[0m\u001b[0;34m\u001b[0m\u001b[0m\n\u001b[1;32m     13\u001b[0m \u001b[0mplt\u001b[0m\u001b[0;34m.\u001b[0m\u001b[0mshow\u001b[0m\u001b[0;34m(\u001b[0m\u001b[0;34m)\u001b[0m\u001b[0;34m\u001b[0m\u001b[0;34m\u001b[0m\u001b[0m\n",
      "\u001b[0;32m~/opt/anaconda3/envs/Body2Eye/lib/python3.8/site-packages/matplotlib/pyplot.py\u001b[0m in \u001b[0;36mplot\u001b[0;34m(scalex, scaley, data, *args, **kwargs)\u001b[0m\n\u001b[1;32m   2986\u001b[0m \u001b[0;34m@\u001b[0m\u001b[0m_copy_docstring_and_deprecators\u001b[0m\u001b[0;34m(\u001b[0m\u001b[0mAxes\u001b[0m\u001b[0;34m.\u001b[0m\u001b[0mplot\u001b[0m\u001b[0;34m)\u001b[0m\u001b[0;34m\u001b[0m\u001b[0;34m\u001b[0m\u001b[0m\n\u001b[1;32m   2987\u001b[0m \u001b[0;32mdef\u001b[0m \u001b[0mplot\u001b[0m\u001b[0;34m(\u001b[0m\u001b[0;34m*\u001b[0m\u001b[0margs\u001b[0m\u001b[0;34m,\u001b[0m \u001b[0mscalex\u001b[0m\u001b[0;34m=\u001b[0m\u001b[0;32mTrue\u001b[0m\u001b[0;34m,\u001b[0m \u001b[0mscaley\u001b[0m\u001b[0;34m=\u001b[0m\u001b[0;32mTrue\u001b[0m\u001b[0;34m,\u001b[0m \u001b[0mdata\u001b[0m\u001b[0;34m=\u001b[0m\u001b[0;32mNone\u001b[0m\u001b[0;34m,\u001b[0m \u001b[0;34m**\u001b[0m\u001b[0mkwargs\u001b[0m\u001b[0;34m)\u001b[0m\u001b[0;34m:\u001b[0m\u001b[0;34m\u001b[0m\u001b[0;34m\u001b[0m\u001b[0m\n\u001b[0;32m-> 2988\u001b[0;31m     return gca().plot(\n\u001b[0m\u001b[1;32m   2989\u001b[0m         \u001b[0;34m*\u001b[0m\u001b[0margs\u001b[0m\u001b[0;34m,\u001b[0m \u001b[0mscalex\u001b[0m\u001b[0;34m=\u001b[0m\u001b[0mscalex\u001b[0m\u001b[0;34m,\u001b[0m \u001b[0mscaley\u001b[0m\u001b[0;34m=\u001b[0m\u001b[0mscaley\u001b[0m\u001b[0;34m,\u001b[0m\u001b[0;34m\u001b[0m\u001b[0;34m\u001b[0m\u001b[0m\n\u001b[1;32m   2990\u001b[0m         **({\"data\": data} if data is not None else {}), **kwargs)\n",
      "\u001b[0;32m~/opt/anaconda3/envs/Body2Eye/lib/python3.8/site-packages/matplotlib/axes/_axes.py\u001b[0m in \u001b[0;36mplot\u001b[0;34m(self, scalex, scaley, data, *args, **kwargs)\u001b[0m\n\u001b[1;32m   1603\u001b[0m         \"\"\"\n\u001b[1;32m   1604\u001b[0m         \u001b[0mkwargs\u001b[0m \u001b[0;34m=\u001b[0m \u001b[0mcbook\u001b[0m\u001b[0;34m.\u001b[0m\u001b[0mnormalize_kwargs\u001b[0m\u001b[0;34m(\u001b[0m\u001b[0mkwargs\u001b[0m\u001b[0;34m,\u001b[0m \u001b[0mmlines\u001b[0m\u001b[0;34m.\u001b[0m\u001b[0mLine2D\u001b[0m\u001b[0;34m)\u001b[0m\u001b[0;34m\u001b[0m\u001b[0;34m\u001b[0m\u001b[0m\n\u001b[0;32m-> 1605\u001b[0;31m         \u001b[0mlines\u001b[0m \u001b[0;34m=\u001b[0m \u001b[0;34m[\u001b[0m\u001b[0;34m*\u001b[0m\u001b[0mself\u001b[0m\u001b[0;34m.\u001b[0m\u001b[0m_get_lines\u001b[0m\u001b[0;34m(\u001b[0m\u001b[0;34m*\u001b[0m\u001b[0margs\u001b[0m\u001b[0;34m,\u001b[0m \u001b[0mdata\u001b[0m\u001b[0;34m=\u001b[0m\u001b[0mdata\u001b[0m\u001b[0;34m,\u001b[0m \u001b[0;34m**\u001b[0m\u001b[0mkwargs\u001b[0m\u001b[0;34m)\u001b[0m\u001b[0;34m]\u001b[0m\u001b[0;34m\u001b[0m\u001b[0;34m\u001b[0m\u001b[0m\n\u001b[0m\u001b[1;32m   1606\u001b[0m         \u001b[0;32mfor\u001b[0m \u001b[0mline\u001b[0m \u001b[0;32min\u001b[0m \u001b[0mlines\u001b[0m\u001b[0;34m:\u001b[0m\u001b[0;34m\u001b[0m\u001b[0;34m\u001b[0m\u001b[0m\n\u001b[1;32m   1607\u001b[0m             \u001b[0mself\u001b[0m\u001b[0;34m.\u001b[0m\u001b[0madd_line\u001b[0m\u001b[0;34m(\u001b[0m\u001b[0mline\u001b[0m\u001b[0;34m)\u001b[0m\u001b[0;34m\u001b[0m\u001b[0;34m\u001b[0m\u001b[0m\n",
      "\u001b[0;32m~/opt/anaconda3/envs/Body2Eye/lib/python3.8/site-packages/matplotlib/axes/_base.py\u001b[0m in \u001b[0;36m__call__\u001b[0;34m(self, data, *args, **kwargs)\u001b[0m\n\u001b[1;32m    313\u001b[0m                 \u001b[0mthis\u001b[0m \u001b[0;34m+=\u001b[0m \u001b[0margs\u001b[0m\u001b[0;34m[\u001b[0m\u001b[0;36m0\u001b[0m\u001b[0;34m]\u001b[0m\u001b[0;34m,\u001b[0m\u001b[0;34m\u001b[0m\u001b[0;34m\u001b[0m\u001b[0m\n\u001b[1;32m    314\u001b[0m                 \u001b[0margs\u001b[0m \u001b[0;34m=\u001b[0m \u001b[0margs\u001b[0m\u001b[0;34m[\u001b[0m\u001b[0;36m1\u001b[0m\u001b[0;34m:\u001b[0m\u001b[0;34m]\u001b[0m\u001b[0;34m\u001b[0m\u001b[0;34m\u001b[0m\u001b[0m\n\u001b[0;32m--> 315\u001b[0;31m             \u001b[0;32myield\u001b[0m \u001b[0;32mfrom\u001b[0m \u001b[0mself\u001b[0m\u001b[0;34m.\u001b[0m\u001b[0m_plot_args\u001b[0m\u001b[0;34m(\u001b[0m\u001b[0mthis\u001b[0m\u001b[0;34m,\u001b[0m \u001b[0mkwargs\u001b[0m\u001b[0;34m)\u001b[0m\u001b[0;34m\u001b[0m\u001b[0;34m\u001b[0m\u001b[0m\n\u001b[0m\u001b[1;32m    316\u001b[0m \u001b[0;34m\u001b[0m\u001b[0m\n\u001b[1;32m    317\u001b[0m     \u001b[0;32mdef\u001b[0m \u001b[0mget_next_color\u001b[0m\u001b[0;34m(\u001b[0m\u001b[0mself\u001b[0m\u001b[0;34m)\u001b[0m\u001b[0;34m:\u001b[0m\u001b[0;34m\u001b[0m\u001b[0;34m\u001b[0m\u001b[0m\n",
      "\u001b[0;32m~/opt/anaconda3/envs/Body2Eye/lib/python3.8/site-packages/matplotlib/axes/_base.py\u001b[0m in \u001b[0;36m_plot_args\u001b[0;34m(self, tup, kwargs, return_kwargs)\u001b[0m\n\u001b[1;32m    523\u001b[0m         \u001b[0;32mif\u001b[0m \u001b[0mn_datasets\u001b[0m \u001b[0;34m>\u001b[0m \u001b[0;36m1\u001b[0m \u001b[0;32mand\u001b[0m \u001b[0;32mnot\u001b[0m \u001b[0mcbook\u001b[0m\u001b[0;34m.\u001b[0m\u001b[0mis_scalar_or_string\u001b[0m\u001b[0;34m(\u001b[0m\u001b[0mlabel\u001b[0m\u001b[0;34m)\u001b[0m\u001b[0;34m:\u001b[0m\u001b[0;34m\u001b[0m\u001b[0;34m\u001b[0m\u001b[0m\n\u001b[1;32m    524\u001b[0m             \u001b[0;32mif\u001b[0m \u001b[0mlen\u001b[0m\u001b[0;34m(\u001b[0m\u001b[0mlabel\u001b[0m\u001b[0;34m)\u001b[0m \u001b[0;34m!=\u001b[0m \u001b[0mn_datasets\u001b[0m\u001b[0;34m:\u001b[0m\u001b[0;34m\u001b[0m\u001b[0;34m\u001b[0m\u001b[0m\n\u001b[0;32m--> 525\u001b[0;31m                 raise ValueError(f\"label must be scalar or have the same \"\n\u001b[0m\u001b[1;32m    526\u001b[0m                                  \u001b[0;34mf\"length as the input data, but found \"\u001b[0m\u001b[0;34m\u001b[0m\u001b[0;34m\u001b[0m\u001b[0m\n\u001b[1;32m    527\u001b[0m                                  f\"{len(label)} for {n_datasets} datasets.\")\n",
      "\u001b[0;31mValueError\u001b[0m: label must be scalar or have the same length as the input data, but found 12 for 4 datasets."
     ]
    },
    {
     "data": {
      "image/png": "[encoded data removed]",
      "text/plain": [
       "<Figure size 432x288 with 1 Axes>"
      ]
     },
     "metadata": {
      "needs_background": "light"
     },
     "output_type": "display_data"
    }
   ],
   "source": [
    "# Find max(abs(value))\n",
    "scaling_factor = np.ceil(np.max(np.abs(truncated)))\n",
    "\n",
    "# Train and test split \n",
    "train_test_ratio = 0.8\n",
    "split_idx = int(len(truncated) * train_test_ratio)\n",
    "train_set = truncated[:split_idx]\n",
    "test_set = truncated[split_idx:]\n",
    "print(\"Total datapoints: \" + str(len(truncated)) + \" For training: \" + str(train_set.shape[0]) + \" For testing: \" + str(test_set.shape[0]))\n",
    "\n",
    "plt.plot(range(len(train_set[2])), train_set[2], label=[\"HmdPosition.x\",  \"HmdPosition.y\",  \"HmdPosition.z\",  \"NoseVector.x\",  \"NoseVector.y\", \"NoseVector.z\",  \"EyePosWorldCombined.x\",  \"EyePosWorldCombined.y\", \"EyePosWorldCombined.z\",  \"EyeDirWorldCombined.x\",  \"EyeDirWorldCombined.y\",  \"EyeDirWorldCombined.z\"])\n",
    "plt.legend(loc='upper center', bbox_to_anchor=(0.5, -0.15), fancybox=True, shadow=False, ncol=2)\n",
    "plt.show()\n",
    "\n",
    "\n",
    "# Input and output split, apply scaling factor\n",
    "train_set_source = train_set[:,:,:6] / scaling_factor\n",
    "train_set_target = train_set[:,:,6:] / scaling_factor\n",
    "test_set_source = test_set[:,:,:6] / scaling_factor\n",
    "test_set_target = test_set[:,:,6:] / scaling_factor\n",
    "\n",
    "\n"
   ]
  },
  {
   "cell_type": "code",
   "execution_count": 11,
   "id": "reverse-crash",
   "metadata": {},
   "outputs": [
    {
     "ename": "ZeroDivisionError",
     "evalue": "division by zero",
     "output_type": "error",
     "traceback": [
      "\u001b[0;31m---------------------------------------------------------------------------\u001b[0m",
      "\u001b[0;31mZeroDivisionError\u001b[0m                         Traceback (most recent call last)",
      "\u001b[0;32m<ipython-input-11-2fc232d1511a>\u001b[0m in \u001b[0;36m<module>\u001b[0;34m\u001b[0m\n\u001b[0;32m----> 1\u001b[0;31m \u001b[0mprint\u001b[0m\u001b[0;34m(\u001b[0m\u001b[0;36m1\u001b[0m\u001b[0;34m/\u001b[0m\u001b[0;36m0\u001b[0m\u001b[0;34m)\u001b[0m\u001b[0;34m\u001b[0m\u001b[0;34m\u001b[0m\u001b[0m\n\u001b[0m",
      "\u001b[0;31mZeroDivisionError\u001b[0m: division by zero"
     ]
    }
   ],
   "source": [
    "print(1/0)"
   ]
  },
  {
   "cell_type": "markdown",
   "id": "recognized-sympathy",
   "metadata": {},
   "source": [
    "## Model Class "
   ]
  },
  {
   "cell_type": "code",
   "execution_count": null,
   "id": "special-ecuador",
   "metadata": {},
   "outputs": [],
   "source": [
    "## TODO: Proper inheritance. Get rid of Model inheritance? Model compilation otherwise outside of class? "
   ]
  },
  {
   "cell_type": "code",
   "execution_count": 81,
   "id": "encouraging-prison",
   "metadata": {},
   "outputs": [],
   "source": [
    "class LSTMSeq2Seq_1(Model):\n",
    "    \n",
    "    def __init__(self, n_hidden, input_shape, output_shape):\n",
    "        super(LSTMSeq2Seq, self).__init__()\n",
    "        \n",
    "\n",
    "        model_input = Input(shape = input_shape)\n",
    "        model_output = Input(shape = output_shape)\n",
    "\n",
    "        encoder_last_h1, encoder_last_h2, encoder_last_c = LSTM(\n",
    "         n_hidden, activation='elu', dropout=0.2, recurrent_dropout=0.2, \n",
    "         return_sequences=False, return_state=True)(model_input)\n",
    "\n",
    "        encoder_last_h1 = BatchNormalization(momentum=0.6)(encoder_last_h1)\n",
    "        encoder_last_c = BatchNormalization(momentum=0.6)(encoder_last_c)\n",
    "\n",
    "        decoder = RepeatVector(model_output.shape[1])(encoder_last_h1)\n",
    "        decoder = LSTM(n_hidden, activation='elu', dropout=0.2, recurrent_dropout=0.2, return_state=False, return_sequences=True)(\n",
    "            decoder, initial_state=[encoder_last_h1, encoder_last_c])\n",
    "\n",
    "        out = TimeDistributed(Dense(model_output.shape[2]))(decoder)\n",
    "\n",
    "        self.model = Model(inputs=model_input, outputs=out)\n",
    "        opt = Adam(lr=0.01, clipnorm=1)\n",
    "        self.model.compile(loss='mean_squared_error', optimizer=opt, metrics=['mae'])\n",
    "        self.model.summary()\n",
    "\n",
    "        plot_model(self.model, to_file='model_plot.png', show_shapes=True, show_layer_names=True)\n",
    "\n",
    "\n",
    "class LSTMSeq2Seq(Model):\n",
    "    \n",
    "    def __init__(self, n_hidden, input_shape, output_shape):\n",
    "        super(LSTMSeq2Seq, self).__init__()\n",
    "\n",
    "        \n",
    "        # Define an input sequence and process it.\n",
    "        encoder_inputs = Input(shape=(input_shape))\n",
    "        encoder = LSTM(n_hidden, return_state=True)\n",
    "        encoder_outputs, state_h, state_c = encoder(encoder_inputs)\n",
    "        # We discard `encoder_outputs` and only keep the states.\n",
    "        encoder_states = [state_h, state_c]\n",
    "\n",
    "        # Set up the decoder, using `encoder_states` as initial state.\n",
    "        decoder_inputs = Input(shape=(output_shape))\n",
    "        # We set up our decoder to return full output sequences,\n",
    "        # and to return internal states as well. We don't use the \n",
    "        # return states in the training model, but we will use them in inference.\n",
    "        decoder_lstm = LSTM(n_hidden, return_sequences=True, return_state=True)\n",
    "        decoder_outputs, _, _ = decoder_lstm(decoder_inputs,\n",
    "                                             initial_state=encoder_states)\n",
    "        decoder_dense = Dense(output_shape[0], activation='softmax')\n",
    "        decoder_outputs = decoder_dense(decoder_outputs)\n",
    "\n",
    "        # Define the model that will turn\n",
    "        # `encoder_input_data` & `decoder_input_data` into `decoder_target_data`\n",
    "        self.model = Model([encoder_inputs, decoder_inputs], decoder_outputs)\n",
    "        #opt = Adam(lr=0.01, clipnorm=1)\n",
    "        self.model.compile(loss='mean_squared_error', metrics=['mae']) # optimizer=opt, \n",
    "        self.model.summary()\n",
    "        \n",
    "    \n",
    "    def call(self, inputs):\n",
    "        \n",
    "        return self.model(inputs)\n",
    "        \n",
    "        \n",
    "        \n",
    "        pass\n"
   ]
  },
  {
   "cell_type": "code",
   "execution_count": 82,
   "id": "systematic-feeling",
   "metadata": {},
   "outputs": [
    {
     "name": "stdout",
     "output_type": "stream",
     "text": [
      "Model: \"model_8\"\n",
      "__________________________________________________________________________________________________\n",
      "Layer (type)                    Output Shape         Param #     Connected to                     \n",
      "==================================================================================================\n",
      "input_26 (InputLayer)           [(None, 200, 1)]     0                                            \n",
      "__________________________________________________________________________________________________\n",
      "input_27 (InputLayer)           [(None, 200, 1)]     0                                            \n",
      "__________________________________________________________________________________________________\n",
      "lstm_23 (LSTM)                  [(None, 100), (None, 40800       input_26[0][0]                   \n",
      "__________________________________________________________________________________________________\n",
      "lstm_24 (LSTM)                  [(None, 200, 100), ( 40800       input_27[0][0]                   \n",
      "                                                                 lstm_23[0][1]                    \n",
      "                                                                 lstm_23[0][2]                    \n",
      "__________________________________________________________________________________________________\n",
      "dense_10 (Dense)                (None, 200, 200)     20200       lstm_24[0][0]                    \n",
      "==================================================================================================\n",
      "Total params: 101,800\n",
      "Trainable params: 101,800\n",
      "Non-trainable params: 0\n",
      "__________________________________________________________________________________________________\n"
     ]
    }
   ],
   "source": [
    "LSTM_model = LSTMSeq2Seq(100,(train_set_source.shape[1], train_set_source.shape[2]),(train_set_target.shape[1], train_set_target.shape[2]))\n",
    "\n"
   ]
  },
  {
   "cell_type": "code",
   "execution_count": null,
   "id": "fifteen-insurance",
   "metadata": {},
   "outputs": [],
   "source": [
    "LSTM_model.model.compile(optimizer='rmsprop', loss='categorical_crossentropy')\n",
    "LSTM_model.model.fit([encoder_input_data, decoder_input_data], decoder_target_data,\n",
    "          batch_size=batch_size,\n",
    "          epochs=epochs,\n",
    "          validation_split=0.2)"
   ]
  },
  {
   "cell_type": "code",
   "execution_count": 83,
   "id": "portable-punishment",
   "metadata": {},
   "outputs": [
    {
     "name": "stdout",
     "output_type": "stream",
     "text": [
      "Epoch 1/20\n"
     ]
    },
    {
     "ename": "ValueError",
     "evalue": "in user code:\n\n    /Users/stefan/opt/anaconda3/envs/Body2Eye/lib/python3.8/site-packages/tensorflow/python/keras/engine/training.py:805 train_function  *\n        return step_function(self, iterator)\n    /Users/stefan/opt/anaconda3/envs/Body2Eye/lib/python3.8/site-packages/tensorflow/python/keras/engine/training.py:795 step_function  **\n        outputs = model.distribute_strategy.run(run_step, args=(data,))\n    /Users/stefan/opt/anaconda3/envs/Body2Eye/lib/python3.8/site-packages/tensorflow/python/distribute/distribute_lib.py:1259 run\n        return self._extended.call_for_each_replica(fn, args=args, kwargs=kwargs)\n    /Users/stefan/opt/anaconda3/envs/Body2Eye/lib/python3.8/site-packages/tensorflow/python/distribute/distribute_lib.py:2730 call_for_each_replica\n        return self._call_for_each_replica(fn, args, kwargs)\n    /Users/stefan/opt/anaconda3/envs/Body2Eye/lib/python3.8/site-packages/tensorflow/python/distribute/distribute_lib.py:3417 _call_for_each_replica\n        return fn(*args, **kwargs)\n    /Users/stefan/opt/anaconda3/envs/Body2Eye/lib/python3.8/site-packages/tensorflow/python/keras/engine/training.py:788 run_step  **\n        outputs = model.train_step(data)\n    /Users/stefan/opt/anaconda3/envs/Body2Eye/lib/python3.8/site-packages/tensorflow/python/keras/engine/training.py:754 train_step\n        y_pred = self(x, training=True)\n    /Users/stefan/opt/anaconda3/envs/Body2Eye/lib/python3.8/site-packages/tensorflow/python/keras/engine/base_layer.py:998 __call__\n        input_spec.assert_input_compatibility(self.input_spec, inputs, self.name)\n    /Users/stefan/opt/anaconda3/envs/Body2Eye/lib/python3.8/site-packages/tensorflow/python/keras/engine/input_spec.py:204 assert_input_compatibility\n        raise ValueError('Layer ' + layer_name + ' expects ' +\n\n    ValueError: Layer model_8 expects 2 input(s), but it received 1 input tensors. Inputs received: [<tf.Tensor 'IteratorGetNext:0' shape=(None, 200, 1) dtype=float32>]\n",
     "output_type": "error",
     "traceback": [
      "\u001b[0;31m---------------------------------------------------------------------------\u001b[0m",
      "\u001b[0;31mValueError\u001b[0m                                Traceback (most recent call last)",
      "\u001b[0;32m<ipython-input-83-881934148af1>\u001b[0m in \u001b[0;36m<module>\u001b[0;34m\u001b[0m\n\u001b[1;32m      2\u001b[0m \u001b[0mepc\u001b[0m \u001b[0;34m=\u001b[0m \u001b[0;36m20\u001b[0m\u001b[0;34m\u001b[0m\u001b[0;34m\u001b[0m\u001b[0m\n\u001b[1;32m      3\u001b[0m \u001b[0mes\u001b[0m \u001b[0;34m=\u001b[0m \u001b[0mEarlyStopping\u001b[0m\u001b[0;34m(\u001b[0m\u001b[0mmonitor\u001b[0m\u001b[0;34m=\u001b[0m\u001b[0;34m'val_loss'\u001b[0m\u001b[0;34m,\u001b[0m \u001b[0mmode\u001b[0m\u001b[0;34m=\u001b[0m\u001b[0;34m'min'\u001b[0m\u001b[0;34m,\u001b[0m \u001b[0mpatience\u001b[0m\u001b[0;34m=\u001b[0m\u001b[0;36m50\u001b[0m\u001b[0;34m)\u001b[0m\u001b[0;34m\u001b[0m\u001b[0;34m\u001b[0m\u001b[0m\n\u001b[0;32m----> 4\u001b[0;31m history = LSTM_model.model.fit(train_set_source, train_set_target, validation_split=0.2, \n\u001b[0m\u001b[1;32m      5\u001b[0m                     \u001b[0mepochs\u001b[0m\u001b[0;34m=\u001b[0m\u001b[0mepc\u001b[0m\u001b[0;34m,\u001b[0m \u001b[0mverbose\u001b[0m\u001b[0;34m=\u001b[0m\u001b[0;36m1\u001b[0m\u001b[0;34m,\u001b[0m \u001b[0mcallbacks\u001b[0m\u001b[0;34m=\u001b[0m\u001b[0;34m[\u001b[0m\u001b[0mes\u001b[0m\u001b[0;34m]\u001b[0m\u001b[0;34m,\u001b[0m\u001b[0;34m\u001b[0m\u001b[0;34m\u001b[0m\u001b[0m\n\u001b[1;32m      6\u001b[0m                     batch_size=100)\n",
      "\u001b[0;32m~/opt/anaconda3/envs/Body2Eye/lib/python3.8/site-packages/tensorflow/python/keras/engine/training.py\u001b[0m in \u001b[0;36mfit\u001b[0;34m(self, x, y, batch_size, epochs, verbose, callbacks, validation_split, validation_data, shuffle, class_weight, sample_weight, initial_epoch, steps_per_epoch, validation_steps, validation_batch_size, validation_freq, max_queue_size, workers, use_multiprocessing)\u001b[0m\n\u001b[1;32m   1098\u001b[0m                 _r=1):\n\u001b[1;32m   1099\u001b[0m               \u001b[0mcallbacks\u001b[0m\u001b[0;34m.\u001b[0m\u001b[0mon_train_batch_begin\u001b[0m\u001b[0;34m(\u001b[0m\u001b[0mstep\u001b[0m\u001b[0;34m)\u001b[0m\u001b[0;34m\u001b[0m\u001b[0;34m\u001b[0m\u001b[0m\n\u001b[0;32m-> 1100\u001b[0;31m               \u001b[0mtmp_logs\u001b[0m \u001b[0;34m=\u001b[0m \u001b[0mself\u001b[0m\u001b[0;34m.\u001b[0m\u001b[0mtrain_function\u001b[0m\u001b[0;34m(\u001b[0m\u001b[0miterator\u001b[0m\u001b[0;34m)\u001b[0m\u001b[0;34m\u001b[0m\u001b[0;34m\u001b[0m\u001b[0m\n\u001b[0m\u001b[1;32m   1101\u001b[0m               \u001b[0;32mif\u001b[0m \u001b[0mdata_handler\u001b[0m\u001b[0;34m.\u001b[0m\u001b[0mshould_sync\u001b[0m\u001b[0;34m:\u001b[0m\u001b[0;34m\u001b[0m\u001b[0;34m\u001b[0m\u001b[0m\n\u001b[1;32m   1102\u001b[0m                 \u001b[0mcontext\u001b[0m\u001b[0;34m.\u001b[0m\u001b[0masync_wait\u001b[0m\u001b[0;34m(\u001b[0m\u001b[0;34m)\u001b[0m\u001b[0;34m\u001b[0m\u001b[0;34m\u001b[0m\u001b[0m\n",
      "\u001b[0;32m~/opt/anaconda3/envs/Body2Eye/lib/python3.8/site-packages/tensorflow/python/eager/def_function.py\u001b[0m in \u001b[0;36m__call__\u001b[0;34m(self, *args, **kwds)\u001b[0m\n\u001b[1;32m    826\u001b[0m     \u001b[0mtracing_count\u001b[0m \u001b[0;34m=\u001b[0m \u001b[0mself\u001b[0m\u001b[0;34m.\u001b[0m\u001b[0mexperimental_get_tracing_count\u001b[0m\u001b[0;34m(\u001b[0m\u001b[0;34m)\u001b[0m\u001b[0;34m\u001b[0m\u001b[0;34m\u001b[0m\u001b[0m\n\u001b[1;32m    827\u001b[0m     \u001b[0;32mwith\u001b[0m \u001b[0mtrace\u001b[0m\u001b[0;34m.\u001b[0m\u001b[0mTrace\u001b[0m\u001b[0;34m(\u001b[0m\u001b[0mself\u001b[0m\u001b[0;34m.\u001b[0m\u001b[0m_name\u001b[0m\u001b[0;34m)\u001b[0m \u001b[0;32mas\u001b[0m \u001b[0mtm\u001b[0m\u001b[0;34m:\u001b[0m\u001b[0;34m\u001b[0m\u001b[0;34m\u001b[0m\u001b[0m\n\u001b[0;32m--> 828\u001b[0;31m       \u001b[0mresult\u001b[0m \u001b[0;34m=\u001b[0m \u001b[0mself\u001b[0m\u001b[0;34m.\u001b[0m\u001b[0m_call\u001b[0m\u001b[0;34m(\u001b[0m\u001b[0;34m*\u001b[0m\u001b[0margs\u001b[0m\u001b[0;34m,\u001b[0m \u001b[0;34m**\u001b[0m\u001b[0mkwds\u001b[0m\u001b[0;34m)\u001b[0m\u001b[0;34m\u001b[0m\u001b[0;34m\u001b[0m\u001b[0m\n\u001b[0m\u001b[1;32m    829\u001b[0m       \u001b[0mcompiler\u001b[0m \u001b[0;34m=\u001b[0m \u001b[0;34m\"xla\"\u001b[0m \u001b[0;32mif\u001b[0m \u001b[0mself\u001b[0m\u001b[0;34m.\u001b[0m\u001b[0m_experimental_compile\u001b[0m \u001b[0;32melse\u001b[0m \u001b[0;34m\"nonXla\"\u001b[0m\u001b[0;34m\u001b[0m\u001b[0;34m\u001b[0m\u001b[0m\n\u001b[1;32m    830\u001b[0m       \u001b[0mnew_tracing_count\u001b[0m \u001b[0;34m=\u001b[0m \u001b[0mself\u001b[0m\u001b[0;34m.\u001b[0m\u001b[0mexperimental_get_tracing_count\u001b[0m\u001b[0;34m(\u001b[0m\u001b[0;34m)\u001b[0m\u001b[0;34m\u001b[0m\u001b[0;34m\u001b[0m\u001b[0m\n",
      "\u001b[0;32m~/opt/anaconda3/envs/Body2Eye/lib/python3.8/site-packages/tensorflow/python/eager/def_function.py\u001b[0m in \u001b[0;36m_call\u001b[0;34m(self, *args, **kwds)\u001b[0m\n\u001b[1;32m    869\u001b[0m       \u001b[0;31m# This is the first call of __call__, so we have to initialize.\u001b[0m\u001b[0;34m\u001b[0m\u001b[0;34m\u001b[0m\u001b[0;34m\u001b[0m\u001b[0m\n\u001b[1;32m    870\u001b[0m       \u001b[0minitializers\u001b[0m \u001b[0;34m=\u001b[0m \u001b[0;34m[\u001b[0m\u001b[0;34m]\u001b[0m\u001b[0;34m\u001b[0m\u001b[0;34m\u001b[0m\u001b[0m\n\u001b[0;32m--> 871\u001b[0;31m       \u001b[0mself\u001b[0m\u001b[0;34m.\u001b[0m\u001b[0m_initialize\u001b[0m\u001b[0;34m(\u001b[0m\u001b[0margs\u001b[0m\u001b[0;34m,\u001b[0m \u001b[0mkwds\u001b[0m\u001b[0;34m,\u001b[0m \u001b[0madd_initializers_to\u001b[0m\u001b[0;34m=\u001b[0m\u001b[0minitializers\u001b[0m\u001b[0;34m)\u001b[0m\u001b[0;34m\u001b[0m\u001b[0;34m\u001b[0m\u001b[0m\n\u001b[0m\u001b[1;32m    872\u001b[0m     \u001b[0;32mfinally\u001b[0m\u001b[0;34m:\u001b[0m\u001b[0;34m\u001b[0m\u001b[0;34m\u001b[0m\u001b[0m\n\u001b[1;32m    873\u001b[0m       \u001b[0;31m# At this point we know that the initialization is complete (or less\u001b[0m\u001b[0;34m\u001b[0m\u001b[0;34m\u001b[0m\u001b[0;34m\u001b[0m\u001b[0m\n",
      "\u001b[0;32m~/opt/anaconda3/envs/Body2Eye/lib/python3.8/site-packages/tensorflow/python/eager/def_function.py\u001b[0m in \u001b[0;36m_initialize\u001b[0;34m(self, args, kwds, add_initializers_to)\u001b[0m\n\u001b[1;32m    723\u001b[0m     \u001b[0mself\u001b[0m\u001b[0;34m.\u001b[0m\u001b[0m_graph_deleter\u001b[0m \u001b[0;34m=\u001b[0m \u001b[0mFunctionDeleter\u001b[0m\u001b[0;34m(\u001b[0m\u001b[0mself\u001b[0m\u001b[0;34m.\u001b[0m\u001b[0m_lifted_initializer_graph\u001b[0m\u001b[0;34m)\u001b[0m\u001b[0;34m\u001b[0m\u001b[0;34m\u001b[0m\u001b[0m\n\u001b[1;32m    724\u001b[0m     self._concrete_stateful_fn = (\n\u001b[0;32m--> 725\u001b[0;31m         self._stateful_fn._get_concrete_function_internal_garbage_collected(  # pylint: disable=protected-access\n\u001b[0m\u001b[1;32m    726\u001b[0m             *args, **kwds))\n\u001b[1;32m    727\u001b[0m \u001b[0;34m\u001b[0m\u001b[0m\n",
      "\u001b[0;32m~/opt/anaconda3/envs/Body2Eye/lib/python3.8/site-packages/tensorflow/python/eager/function.py\u001b[0m in \u001b[0;36m_get_concrete_function_internal_garbage_collected\u001b[0;34m(self, *args, **kwargs)\u001b[0m\n\u001b[1;32m   2967\u001b[0m       \u001b[0margs\u001b[0m\u001b[0;34m,\u001b[0m \u001b[0mkwargs\u001b[0m \u001b[0;34m=\u001b[0m \u001b[0;32mNone\u001b[0m\u001b[0;34m,\u001b[0m \u001b[0;32mNone\u001b[0m\u001b[0;34m\u001b[0m\u001b[0;34m\u001b[0m\u001b[0m\n\u001b[1;32m   2968\u001b[0m     \u001b[0;32mwith\u001b[0m \u001b[0mself\u001b[0m\u001b[0;34m.\u001b[0m\u001b[0m_lock\u001b[0m\u001b[0;34m:\u001b[0m\u001b[0;34m\u001b[0m\u001b[0;34m\u001b[0m\u001b[0m\n\u001b[0;32m-> 2969\u001b[0;31m       \u001b[0mgraph_function\u001b[0m\u001b[0;34m,\u001b[0m \u001b[0m_\u001b[0m \u001b[0;34m=\u001b[0m \u001b[0mself\u001b[0m\u001b[0;34m.\u001b[0m\u001b[0m_maybe_define_function\u001b[0m\u001b[0;34m(\u001b[0m\u001b[0margs\u001b[0m\u001b[0;34m,\u001b[0m \u001b[0mkwargs\u001b[0m\u001b[0;34m)\u001b[0m\u001b[0;34m\u001b[0m\u001b[0;34m\u001b[0m\u001b[0m\n\u001b[0m\u001b[1;32m   2970\u001b[0m     \u001b[0;32mreturn\u001b[0m \u001b[0mgraph_function\u001b[0m\u001b[0;34m\u001b[0m\u001b[0;34m\u001b[0m\u001b[0m\n\u001b[1;32m   2971\u001b[0m \u001b[0;34m\u001b[0m\u001b[0m\n",
      "\u001b[0;32m~/opt/anaconda3/envs/Body2Eye/lib/python3.8/site-packages/tensorflow/python/eager/function.py\u001b[0m in \u001b[0;36m_maybe_define_function\u001b[0;34m(self, args, kwargs)\u001b[0m\n\u001b[1;32m   3359\u001b[0m \u001b[0;34m\u001b[0m\u001b[0m\n\u001b[1;32m   3360\u001b[0m           \u001b[0mself\u001b[0m\u001b[0;34m.\u001b[0m\u001b[0m_function_cache\u001b[0m\u001b[0;34m.\u001b[0m\u001b[0mmissed\u001b[0m\u001b[0;34m.\u001b[0m\u001b[0madd\u001b[0m\u001b[0;34m(\u001b[0m\u001b[0mcall_context_key\u001b[0m\u001b[0;34m)\u001b[0m\u001b[0;34m\u001b[0m\u001b[0;34m\u001b[0m\u001b[0m\n\u001b[0;32m-> 3361\u001b[0;31m           \u001b[0mgraph_function\u001b[0m \u001b[0;34m=\u001b[0m \u001b[0mself\u001b[0m\u001b[0;34m.\u001b[0m\u001b[0m_create_graph_function\u001b[0m\u001b[0;34m(\u001b[0m\u001b[0margs\u001b[0m\u001b[0;34m,\u001b[0m \u001b[0mkwargs\u001b[0m\u001b[0;34m)\u001b[0m\u001b[0;34m\u001b[0m\u001b[0;34m\u001b[0m\u001b[0m\n\u001b[0m\u001b[1;32m   3362\u001b[0m           \u001b[0mself\u001b[0m\u001b[0;34m.\u001b[0m\u001b[0m_function_cache\u001b[0m\u001b[0;34m.\u001b[0m\u001b[0mprimary\u001b[0m\u001b[0;34m[\u001b[0m\u001b[0mcache_key\u001b[0m\u001b[0;34m]\u001b[0m \u001b[0;34m=\u001b[0m \u001b[0mgraph_function\u001b[0m\u001b[0;34m\u001b[0m\u001b[0;34m\u001b[0m\u001b[0m\n\u001b[1;32m   3363\u001b[0m \u001b[0;34m\u001b[0m\u001b[0m\n",
      "\u001b[0;32m~/opt/anaconda3/envs/Body2Eye/lib/python3.8/site-packages/tensorflow/python/eager/function.py\u001b[0m in \u001b[0;36m_create_graph_function\u001b[0;34m(self, args, kwargs, override_flat_arg_shapes)\u001b[0m\n\u001b[1;32m   3194\u001b[0m     \u001b[0marg_names\u001b[0m \u001b[0;34m=\u001b[0m \u001b[0mbase_arg_names\u001b[0m \u001b[0;34m+\u001b[0m \u001b[0mmissing_arg_names\u001b[0m\u001b[0;34m\u001b[0m\u001b[0;34m\u001b[0m\u001b[0m\n\u001b[1;32m   3195\u001b[0m     graph_function = ConcreteFunction(\n\u001b[0;32m-> 3196\u001b[0;31m         func_graph_module.func_graph_from_py_func(\n\u001b[0m\u001b[1;32m   3197\u001b[0m             \u001b[0mself\u001b[0m\u001b[0;34m.\u001b[0m\u001b[0m_name\u001b[0m\u001b[0;34m,\u001b[0m\u001b[0;34m\u001b[0m\u001b[0;34m\u001b[0m\u001b[0m\n\u001b[1;32m   3198\u001b[0m             \u001b[0mself\u001b[0m\u001b[0;34m.\u001b[0m\u001b[0m_python_function\u001b[0m\u001b[0;34m,\u001b[0m\u001b[0;34m\u001b[0m\u001b[0;34m\u001b[0m\u001b[0m\n",
      "\u001b[0;32m~/opt/anaconda3/envs/Body2Eye/lib/python3.8/site-packages/tensorflow/python/framework/func_graph.py\u001b[0m in \u001b[0;36mfunc_graph_from_py_func\u001b[0;34m(name, python_func, args, kwargs, signature, func_graph, autograph, autograph_options, add_control_dependencies, arg_names, op_return_value, collections, capture_by_value, override_flat_arg_shapes)\u001b[0m\n\u001b[1;32m    988\u001b[0m         \u001b[0m_\u001b[0m\u001b[0;34m,\u001b[0m \u001b[0moriginal_func\u001b[0m \u001b[0;34m=\u001b[0m \u001b[0mtf_decorator\u001b[0m\u001b[0;34m.\u001b[0m\u001b[0munwrap\u001b[0m\u001b[0;34m(\u001b[0m\u001b[0mpython_func\u001b[0m\u001b[0;34m)\u001b[0m\u001b[0;34m\u001b[0m\u001b[0;34m\u001b[0m\u001b[0m\n\u001b[1;32m    989\u001b[0m \u001b[0;34m\u001b[0m\u001b[0m\n\u001b[0;32m--> 990\u001b[0;31m       \u001b[0mfunc_outputs\u001b[0m \u001b[0;34m=\u001b[0m \u001b[0mpython_func\u001b[0m\u001b[0;34m(\u001b[0m\u001b[0;34m*\u001b[0m\u001b[0mfunc_args\u001b[0m\u001b[0;34m,\u001b[0m \u001b[0;34m**\u001b[0m\u001b[0mfunc_kwargs\u001b[0m\u001b[0;34m)\u001b[0m\u001b[0;34m\u001b[0m\u001b[0;34m\u001b[0m\u001b[0m\n\u001b[0m\u001b[1;32m    991\u001b[0m \u001b[0;34m\u001b[0m\u001b[0m\n\u001b[1;32m    992\u001b[0m       \u001b[0;31m# invariant: `func_outputs` contains only Tensors, CompositeTensors,\u001b[0m\u001b[0;34m\u001b[0m\u001b[0;34m\u001b[0m\u001b[0;34m\u001b[0m\u001b[0m\n",
      "\u001b[0;32m~/opt/anaconda3/envs/Body2Eye/lib/python3.8/site-packages/tensorflow/python/eager/def_function.py\u001b[0m in \u001b[0;36mwrapped_fn\u001b[0;34m(*args, **kwds)\u001b[0m\n\u001b[1;32m    632\u001b[0m             \u001b[0mxla_context\u001b[0m\u001b[0;34m.\u001b[0m\u001b[0mExit\u001b[0m\u001b[0;34m(\u001b[0m\u001b[0;34m)\u001b[0m\u001b[0;34m\u001b[0m\u001b[0;34m\u001b[0m\u001b[0m\n\u001b[1;32m    633\u001b[0m         \u001b[0;32melse\u001b[0m\u001b[0;34m:\u001b[0m\u001b[0;34m\u001b[0m\u001b[0;34m\u001b[0m\u001b[0m\n\u001b[0;32m--> 634\u001b[0;31m           \u001b[0mout\u001b[0m \u001b[0;34m=\u001b[0m \u001b[0mweak_wrapped_fn\u001b[0m\u001b[0;34m(\u001b[0m\u001b[0;34m)\u001b[0m\u001b[0;34m.\u001b[0m\u001b[0m__wrapped__\u001b[0m\u001b[0;34m(\u001b[0m\u001b[0;34m*\u001b[0m\u001b[0margs\u001b[0m\u001b[0;34m,\u001b[0m \u001b[0;34m**\u001b[0m\u001b[0mkwds\u001b[0m\u001b[0;34m)\u001b[0m\u001b[0;34m\u001b[0m\u001b[0;34m\u001b[0m\u001b[0m\n\u001b[0m\u001b[1;32m    635\u001b[0m         \u001b[0;32mreturn\u001b[0m \u001b[0mout\u001b[0m\u001b[0;34m\u001b[0m\u001b[0;34m\u001b[0m\u001b[0m\n\u001b[1;32m    636\u001b[0m \u001b[0;34m\u001b[0m\u001b[0m\n",
      "\u001b[0;32m~/opt/anaconda3/envs/Body2Eye/lib/python3.8/site-packages/tensorflow/python/framework/func_graph.py\u001b[0m in \u001b[0;36mwrapper\u001b[0;34m(*args, **kwargs)\u001b[0m\n\u001b[1;32m    975\u001b[0m           \u001b[0;32mexcept\u001b[0m \u001b[0mException\u001b[0m \u001b[0;32mas\u001b[0m \u001b[0me\u001b[0m\u001b[0;34m:\u001b[0m  \u001b[0;31m# pylint:disable=broad-except\u001b[0m\u001b[0;34m\u001b[0m\u001b[0;34m\u001b[0m\u001b[0m\n\u001b[1;32m    976\u001b[0m             \u001b[0;32mif\u001b[0m \u001b[0mhasattr\u001b[0m\u001b[0;34m(\u001b[0m\u001b[0me\u001b[0m\u001b[0;34m,\u001b[0m \u001b[0;34m\"ag_error_metadata\"\u001b[0m\u001b[0;34m)\u001b[0m\u001b[0;34m:\u001b[0m\u001b[0;34m\u001b[0m\u001b[0;34m\u001b[0m\u001b[0m\n\u001b[0;32m--> 977\u001b[0;31m               \u001b[0;32mraise\u001b[0m \u001b[0me\u001b[0m\u001b[0;34m.\u001b[0m\u001b[0mag_error_metadata\u001b[0m\u001b[0;34m.\u001b[0m\u001b[0mto_exception\u001b[0m\u001b[0;34m(\u001b[0m\u001b[0me\u001b[0m\u001b[0;34m)\u001b[0m\u001b[0;34m\u001b[0m\u001b[0;34m\u001b[0m\u001b[0m\n\u001b[0m\u001b[1;32m    978\u001b[0m             \u001b[0;32melse\u001b[0m\u001b[0;34m:\u001b[0m\u001b[0;34m\u001b[0m\u001b[0;34m\u001b[0m\u001b[0m\n\u001b[1;32m    979\u001b[0m               \u001b[0;32mraise\u001b[0m\u001b[0;34m\u001b[0m\u001b[0;34m\u001b[0m\u001b[0m\n",
      "\u001b[0;31mValueError\u001b[0m: in user code:\n\n    /Users/stefan/opt/anaconda3/envs/Body2Eye/lib/python3.8/site-packages/tensorflow/python/keras/engine/training.py:805 train_function  *\n        return step_function(self, iterator)\n    /Users/stefan/opt/anaconda3/envs/Body2Eye/lib/python3.8/site-packages/tensorflow/python/keras/engine/training.py:795 step_function  **\n        outputs = model.distribute_strategy.run(run_step, args=(data,))\n    /Users/stefan/opt/anaconda3/envs/Body2Eye/lib/python3.8/site-packages/tensorflow/python/distribute/distribute_lib.py:1259 run\n        return self._extended.call_for_each_replica(fn, args=args, kwargs=kwargs)\n    /Users/stefan/opt/anaconda3/envs/Body2Eye/lib/python3.8/site-packages/tensorflow/python/distribute/distribute_lib.py:2730 call_for_each_replica\n        return self._call_for_each_replica(fn, args, kwargs)\n    /Users/stefan/opt/anaconda3/envs/Body2Eye/lib/python3.8/site-packages/tensorflow/python/distribute/distribute_lib.py:3417 _call_for_each_replica\n        return fn(*args, **kwargs)\n    /Users/stefan/opt/anaconda3/envs/Body2Eye/lib/python3.8/site-packages/tensorflow/python/keras/engine/training.py:788 run_step  **\n        outputs = model.train_step(data)\n    /Users/stefan/opt/anaconda3/envs/Body2Eye/lib/python3.8/site-packages/tensorflow/python/keras/engine/training.py:754 train_step\n        y_pred = self(x, training=True)\n    /Users/stefan/opt/anaconda3/envs/Body2Eye/lib/python3.8/site-packages/tensorflow/python/keras/engine/base_layer.py:998 __call__\n        input_spec.assert_input_compatibility(self.input_spec, inputs, self.name)\n    /Users/stefan/opt/anaconda3/envs/Body2Eye/lib/python3.8/site-packages/tensorflow/python/keras/engine/input_spec.py:204 assert_input_compatibility\n        raise ValueError('Layer ' + layer_name + ' expects ' +\n\n    ValueError: Layer model_8 expects 2 input(s), but it received 1 input tensors. Inputs received: [<tf.Tensor 'IteratorGetNext:0' shape=(None, 200, 1) dtype=float32>]\n"
     ]
    }
   ],
   "source": [
    "history = None\n",
    "epc = 20\n",
    "es = EarlyStopping(monitor='val_loss', mode='min', patience=50)\n",
    "history = LSTM_model.model.fit(train_set_source, train_set_target, validation_split=0.2, \n",
    "                    epochs=epc, verbose=1, callbacks=[es], \n",
    "                    batch_size=100)\n",
    "train_mae = history.history['mae']\n",
    "valid_mae = history.history['val_mae']\n",
    " \n",
    "LSTM_model.model.save('model_forecasting_seq2seq.h5')"
   ]
  },
  {
   "cell_type": "code",
   "execution_count": 26,
   "id": "changing-progress",
   "metadata": {},
   "outputs": [
    {
     "data": {
      "image/png": "[encoded data removed]",
      "text/plain": [
       "<Figure size 432x288 with 1 Axes>"
      ]
     },
     "metadata": {
      "needs_background": "light"
     },
     "output_type": "display_data"
    }
   ],
   "source": [
    "plt.plot(train_mae, label='train mae'), \n",
    "plt.plot(valid_mae, label='validation mae')\n",
    "plt.ylabel('mae')\n",
    "plt.xlabel('epoch')\n",
    "plt.title('train vs. validation accuracy (mae)')\n",
    "plt.legend(loc='upper center', bbox_to_anchor=(0.5, -0.15), fancybox=True, shadow=False, ncol=2)\n",
    "plt.show()"
   ]
  },
  {
   "cell_type": "code",
   "execution_count": 32,
   "id": "inner-dakota",
   "metadata": {},
   "outputs": [],
   "source": [
    "\n",
    "test_pred = LSTM_model.model.predict(test_set_source)\n",
    "test_true = test_set_target\n"
   ]
  },
  {
   "cell_type": "code",
   "execution_count": 33,
   "id": "liberal-apparel",
   "metadata": {},
   "outputs": [
    {
     "name": "stdout",
     "output_type": "stream",
     "text": [
      "[[[0.32744624 0.14216943]\n",
      "  [0.33844991 0.15311641]\n",
      "  [0.3091632  0.12103973]\n",
      "  ...\n",
      "  [0.49335245 0.29927383]\n",
      "  [0.52917458 0.33128047]\n",
      "  [0.49662859 0.30071507]]\n",
      "\n",
      " [[0.33844991 0.15311641]\n",
      "  [0.3091632  0.12103973]\n",
      "  [0.32268029 0.13471215]\n",
      "  ...\n",
      "  [0.52917458 0.33128047]\n",
      "  [0.49662859 0.30071507]\n",
      "  [0.51106313 0.3131719 ]]\n",
      "\n",
      " [[0.3091632  0.12103973]\n",
      "  [0.32268029 0.13471215]\n",
      "  [0.31341227 0.12369705]\n",
      "  ...\n",
      "  [0.49662859 0.30071507]\n",
      "  [0.51106313 0.3131719 ]\n",
      "  [0.5033154  0.30557185]]\n",
      "\n",
      " ...\n",
      "\n",
      " [[0.51801325 0.36520296]\n",
      "  [0.5353675  0.38782111]\n",
      "  [0.51958743 0.36670937]\n",
      "  ...\n",
      "  [0.9860668  0.95051414]\n",
      "  [0.97676943 0.94599802]\n",
      "  [0.98872988 0.96861471]]\n",
      "\n",
      " [[0.5353675  0.38782111]\n",
      "  [0.51958743 0.36670937]\n",
      "  [0.50719653 0.35022505]\n",
      "  ...\n",
      "  [0.97676943 0.94599802]\n",
      "  [0.98872988 0.96861471]\n",
      "  [0.99840046 0.9886517 ]]\n",
      "\n",
      " [[0.51958743 0.36670937]\n",
      "  [0.50719653 0.35022505]\n",
      "  [0.51299824 0.35743115]\n",
      "  ...\n",
      "  [0.98872988 0.96861471]\n",
      "  [0.99840046 0.9886517 ]\n",
      "  [0.98994345 0.98517652]]]\n"
     ]
    }
   ],
   "source": [
    "print(test_true)"
   ]
  },
  {
   "cell_type": "code",
   "execution_count": 37,
   "id": "velvet-sense",
   "metadata": {},
   "outputs": [
    {
     "data": {
      "image/png": "[encoded data removed]",
      "text/plain": [
       "<Figure size 432x288 with 1 Axes>"
      ]
     },
     "metadata": {
      "needs_background": "light"
     },
     "output_type": "display_data"
    }
   ],
   "source": [
    "plt.plot(test_pred[100,:,0], label=\"pred1\")\n",
    "plt.plot(test_pred[100,:,1], label=\"pred2\")\n",
    "plt.plot(test_true[100,:,0], label=\"true1\")\n",
    "plt.plot(test_true[100,:,1], label=\"true2\")\n",
    "plt.legend(loc=\"upper center\")\n",
    "plt.show()"
   ]
  },
  {
   "cell_type": "code",
   "execution_count": null,
   "id": "coordinate-agenda",
   "metadata": {},
   "outputs": [],
   "source": []
  },
  {
   "cell_type": "code",
   "execution_count": null,
   "id": "adapted-chapter",
   "metadata": {},
   "outputs": [],
   "source": []
  },
  {
   "cell_type": "code",
   "execution_count": null,
   "id": "published-reconstruction",
   "metadata": {},
   "outputs": [],
   "source": []
  },
  {
   "cell_type": "code",
   "execution_count": null,
   "id": "fifty-windows",
   "metadata": {},
   "outputs": [],
   "source": []
  },
  {
   "cell_type": "code",
   "execution_count": null,
   "id": "broke-sheriff",
   "metadata": {},
   "outputs": [],
   "source": []
  },
  {
   "cell_type": "code",
   "execution_count": null,
   "id": "sound-excerpt",
   "metadata": {},
   "outputs": [],
   "source": [
    "# train and test data \n",
    "# format, full array with columns holding the data: \n",
    "# IN: HmdPosition.x, HmdPosition.y, HmdPosition.z, NoseVector.x, NoseVector.y, NoseVector.z\n",
    "# OUT: EyeDirWorldCombined.x, EyeDirWorldCombined.y, EyeDirWorldCombined.z\n",
    "\n",
    "\n",
    "#### HMDPosition is affected by moving car!\n",
    "# \"HmdPosition.x\",\"HmdPosition.y\",\"HmdPosition.z\"\n",
    "# Possibly detrend? Over all subjects? \n",
    "\n",
    "\n",
    "train_and_test_in = reduced_df[[\"NoseVector.x\",\"NoseVector.y\",\"NoseVector.z\"]].to_numpy()\n",
    "train_and_test_target = reduced_df[[\"EyeDirWorldCombined.x\",\"EyeDirWorldCombined.y\",\"EyeDirWorldCombined.z\"]].to_numpy()\n"
   ]
  },
  {
   "cell_type": "code",
   "execution_count": null,
   "id": "excess-supplement",
   "metadata": {},
   "outputs": [],
   "source": [
    "plt.plot(range(len(train_and_test_in)), train_and_test_in, label=[\"NoseVector.x\",\"NoseVector.y\",\"NoseVector.z\"])\n",
    "plt.plot(range(len(train_and_test_target)), train_and_test_target, label=[\"EyeDirWorldCombined.x\",\"EyeDirWorldCombined.y\",\"EyeDirWorldCombined.z\"])\n",
    "\n",
    "plt.legend(loc='upper center', bbox_to_anchor=(0.5, -0.15), fancybox=True, shadow=False, ncol=2)\n",
    "plt.show()"
   ]
  },
  {
   "cell_type": "code",
   "execution_count": null,
   "id": "coral-whale",
   "metadata": {},
   "outputs": [],
   "source": [
    "# Things todo \n",
    "# Possibly detrend\n",
    "# Normalize (between -1 and 1), already the case. \n",
    "\n",
    "train_test_ratio = 0.8\n",
    "split_idx_in = int(len(train_and_test_in) * train_test_ratio)\n",
    "split_idx_target = int(len(train_and_test_target) * train_test_ratio)\n"
   ]
  },
  {
   "cell_type": "code",
   "execution_count": null,
   "id": "characteristic-invitation",
   "metadata": {},
   "outputs": [],
   "source": [
    "# Generate dataset \n",
    "\n",
    "train_in = train_and_test_in[0:split_idx_in]\n",
    "test_in = train_and_test_in[split_idx_in:]\n",
    "train_target = train_and_test_target[0:split_idx_target]\n",
    "test_target = train_and_test_target[split_idx_target:]\n",
    "\n",
    "print(train_and_test_in.shape)\n",
    "print(train_in.shape, test_in.shape)\n",
    "print(train_and_test_target.shape)\n",
    "print(train_target.shape, test_target.shape)"
   ]
  },
  {
   "cell_type": "code",
   "execution_count": null,
   "id": "answering-advocate",
   "metadata": {},
   "outputs": [],
   "source": [
    "# Truncate dataset \n",
    "\n",
    "def truncate(data, window_size):\n",
    "    result = []\n",
    "    i = 0\n",
    "    while (i + window_size) <= len(data):\n",
    "        result.append(data[i:i+window_size])\n",
    "        i += 1\n",
    "    return np.array(result)\n",
    "\n",
    "\n",
    "truncated_train_in = truncate(train_in,200) # use 200 data points for training input\n",
    "truncated_train_target = truncate(train_target,200) # use same number (200) for training output, i.e. generated\n",
    "truncated_test_in = truncate(test_in,200)\n",
    "truncated_test_target = truncate(test_target,200)\n",
    "\n",
    "print(truncated_train_in.shape)\n",
    "print(truncated_train_target.shape)\n",
    "print(truncated_test_in.shape)\n",
    "print(truncated_test_target.shape)"
   ]
  },
  {
   "cell_type": "code",
   "execution_count": null,
   "id": "informational-chest",
   "metadata": {},
   "outputs": [],
   "source": [
    "# Build DNN\n",
    "\n",
    "n_hidden = 100\n",
    "\n",
    "input_train = Input(shape=(truncated_train_in.shape[1], truncated_train_in.shape[2]))\n",
    "output_train = Input(shape=(truncated_train_target.shape[1], truncated_train_target.shape[2]))\n",
    "print(input_train)\n",
    "print(output_train)\n",
    "\n",
    "\n",
    "encoder_last_h1, encoder_last_h2, encoder_last_c = LSTM(\n",
    " n_hidden, activation='elu', dropout=0.2, recurrent_dropout=0.2, \n",
    " return_sequences=False, return_state=True)(input_train)\n",
    "print(encoder_last_h1)\n",
    "print(encoder_last_h2)\n",
    "print(encoder_last_c)\n",
    "\n",
    "\n"
   ]
  },
  {
   "cell_type": "code",
   "execution_count": null,
   "id": "honey-identification",
   "metadata": {},
   "outputs": [],
   "source": [
    "#encoder_last_h1 = BatchNormalization(momentum=0.6)(encoder_last_h1)\n",
    "#encoder_last_c = BatchNormalization(momentum=0.6)(encoder_last_c)\n",
    "\n",
    "\n",
    "decoder = RepeatVector(output_train.shape[1])(encoder_last_h1)\n",
    "decoder = LSTM(n_hidden, activation='elu', dropout=0.2, recurrent_dropout=0.2, return_state=False, return_sequences=True)(\n",
    "    decoder, initial_state=[encoder_last_h1, encoder_last_c])\n",
    "print(decoder)\n",
    "\n",
    "\n",
    "out = TimeDistributed(Dense(output_train.shape[2]))(decoder)\n",
    "print(out)\n",
    "\n",
    "model = Model(inputs=input_train, outputs=out)\n",
    "opt = Adam(lr=0.01, clipnorm=1)\n",
    "model.compile(loss='mean_squared_error', optimizer=opt, metrics=['mae'])\n",
    "model.summary()\n",
    "\n",
    "plot_model(model, to_file='model_plot.png', show_shapes=True, show_layer_names=True)\n"
   ]
  },
  {
   "cell_type": "code",
   "execution_count": null,
   "id": "comfortable-copyright",
   "metadata": {},
   "outputs": [],
   "source": [
    "history = None\n",
    "epc = 2\n",
    "es = EarlyStopping(monitor='val_loss', mode='min', patience=50)\n",
    "history = model.fit(truncated_train_in, truncated_train_target, validation_split=0.2, \n",
    "                    epochs=epc, verbose=1, callbacks=[es], \n",
    "                    batch_size=100)\n",
    "train_mae = history.history['mae']\n",
    "valid_mae = history.history['val_mae']\n",
    " \n",
    "model.save('model_forecasting_seq2seq.h5')"
   ]
  },
  {
   "cell_type": "code",
   "execution_count": null,
   "id": "eight-bulgarian",
   "metadata": {},
   "outputs": [],
   "source": []
  },
  {
   "cell_type": "code",
   "execution_count": null,
   "id": "accredited-rapid",
   "metadata": {},
   "outputs": [],
   "source": [
    "plt.plot(train_mae, label='train mae'), \n",
    "plt.plot(valid_mae, label='validation mae')\n",
    "plt.ylabel('mae')\n",
    "plt.xlabel('epoch')\n",
    "plt.title('train vs. validation accuracy (mae)')\n",
    "plt.legend(loc='upper center', bbox_to_anchor=(0.5, -0.15), fancybox=True, shadow=False, ncol=2)\n",
    "plt.show()"
   ]
  },
  {
   "cell_type": "code",
   "execution_count": null,
   "id": "optional-cholesterol",
   "metadata": {},
   "outputs": [],
   "source": [
    "# possibly detrend etc"
   ]
  },
  {
   "cell_type": "code",
   "execution_count": null,
   "id": "technical-windows",
   "metadata": {},
   "outputs": [],
   "source": [
    "train_pred = model.predict(truncated_train_in)\n",
    "test_pred = model.predict(truncated_test_in)\n",
    "print(train_pred.shape, test_pred.shape)\n",
    "train_true = truncated_train_target\n",
    "test_true = truncated_test_target\n",
    "print(train_true.shape, test_true.shape)"
   ]
  },
  {
   "cell_type": "code",
   "execution_count": null,
   "id": "floppy-ranking",
   "metadata": {},
   "outputs": [],
   "source": [
    "train_pred = train_pred[~np.isnan(train_pred)]\n",
    "train_true = train_true[~np.isnan(train_true)]\n",
    "plt.figure(figsize=(15, 4))\n",
    "plt.hist(train_pred.flatten(), bins=100, color='orange', alpha=0.5, label='trainpred')\n",
    "plt.hist(train_true.flatten(), bins=100, color='green', alpha=0.5, label='traintrue')\n",
    "plt.legend()\n",
    "plt.title('value distribution: train')\n",
    "plt.show()\n",
    "\n",
    "print(train_pred)"
   ]
  },
  {
   "cell_type": "code",
   "execution_count": null,
   "id": "abandoned-blast",
   "metadata": {},
   "outputs": [],
   "source": []
  },
  {
   "cell_type": "code",
   "execution_count": null,
   "id": "christian-client",
   "metadata": {},
   "outputs": [],
   "source": []
  },
  {
   "cell_type": "code",
   "execution_count": null,
   "id": "numeric-development",
   "metadata": {},
   "outputs": [],
   "source": []
  },
  {
   "cell_type": "code",
   "execution_count": 12,
   "id": "quantitative-italic",
   "metadata": {},
   "outputs": [
    {
     "data": {
      "image/png": "[encoded data removed]",
      "text/plain": [
       "<Figure size 1080x288 with 1 Axes>"
      ]
     },
     "metadata": {
      "needs_background": "light"
     },
     "output_type": "display_data"
    }
   ],
   "source": [
    "n_ = 1000\n",
    "t = np.linspace(0, 50*np.pi, n_)\n",
    "# pattern + trend + noise\n",
    "x1 = sum([20*np.sin(i*t+np.pi) for i in range(5)]) + 0.01*(t**2) + np.random.normal(0, 6, n_)\n",
    "x2 = sum([15*np.sin(2*i*t+np.pi) for i in range(5)]) + 0.5*t + np.random.normal(0, 6, n_)\n",
    "plt.figure(figsize=(15, 4))\n",
    "plt.plot(range(len(x1)), x1, label='x1')\n",
    "plt.plot(range(len(x2)), x2, label='x2')\n",
    "plt.legend(loc='upper center', bbox_to_anchor=(0.5, -0.15), fancybox=True, shadow=False, ncol=2)\n",
    "plt.show()"
   ]
  },
  {
   "cell_type": "code",
   "execution_count": null,
   "id": "underlying-arizona",
   "metadata": {},
   "outputs": [],
   "source": [
    "train_ratio = 0.8\n",
    "train_len = int(train_ratio * t.shape[0])\n",
    "print(train_len)"
   ]
  },
  {
   "cell_type": "code",
   "execution_count": null,
   "id": "coordinated-china",
   "metadata": {},
   "outputs": [],
   "source": [
    "# Calculate trend\n",
    "\n",
    "x_index = np.array(range(len(t)))\n",
    "\n",
    "x1_trend_param = np.polyfit(x_index[:train_len], x1[:train_len], 2)\n",
    "x2_trend_param = np.polyfit(x_index[:train_len], x2[:train_len], 1)\n",
    "print(x1_trend_param)\n",
    "print(x2_trend_param)\n",
    "\n",
    "\n",
    "x1_trend = (x_index**2)*x1_trend_param[0]+x_index*x1_trend_param[1]+x1_trend_param[2]\n",
    "x2_trend = x_index*x2_trend_param[0]+x2_trend_param[1]\n",
    "\n",
    "\n",
    "plt.figure(figsize=(15, 4))\n",
    "plt.plot(range(len(x1)), x1, label='x1')\n",
    "plt.plot(range(len(x1_trend)), x1_trend, linestyle='--', label='x1_trend')\n",
    "plt.plot(range(len(x2)), x2, label='x2')\n",
    "plt.plot(range(len(x2_trend)), x2_trend, linestyle='--', label='x2_trend')\n",
    "plt.legend(loc='upper center', bbox_to_anchor=(0.5, -0.15), fancybox=True, shadow=False, ncol=2)\n",
    "plt.show()"
   ]
  },
  {
   "cell_type": "code",
   "execution_count": null,
   "id": "breeding-africa",
   "metadata": {},
   "outputs": [],
   "source": [
    "# Detrend\n",
    "\n",
    "x1_detrend = x1 - x1_trend\n",
    "x2_detrend = x2 - x2_trend\n",
    "plt.figure(figsize=(15, 4))\n",
    "plt.plot(range(len(x1_detrend)), x1_detrend, label='x2_detrend')\n",
    "plt.plot(range(len(x2_detrend)), x2_detrend, label='x2_detrend')\n",
    "plt.legend(loc='upper center', bbox_to_anchor=(0.5, -0.15), fancybox=True, shadow=False, ncol=2)\n",
    "plt.show()"
   ]
  },
  {
   "cell_type": "code",
   "execution_count": null,
   "id": "palestinian-heavy",
   "metadata": {},
   "outputs": [],
   "source": [
    "# Combine sequences\n",
    "\n",
    "x_lbl = np.column_stack([x1_detrend, x2_detrend, x_index, [1]*train_len+[0]*(len(x_index)-train_len)])\n",
    "print(x_lbl.shape)\n",
    "print(x_lbl)\n",
    "\n",
    "# Calculate maxs \n",
    "x_train_max = x_lbl[x_lbl[:, 3]==1, :2].max(axis=0)\n",
    "x_train_max = x_train_max.tolist()+[1]*2  # only normalize for the first 2 columns\n",
    "print(x_train_max)\n",
    "\n",
    "# Normalize \n",
    "x_normalize = np.divide(x_lbl, x_train_max)\n",
    "print(x_normalize)\n",
    "\n",
    "plt.figure(figsize=(15, 4))\n",
    "plt.plot(range(train_len), x_normalize[:train_len, 0], label='x1_train_normalized')\n",
    "plt.plot(range(train_len), x_normalize[:train_len, 1], label='x2_train_normalized')\n",
    "plt.plot(range(train_len, len(x_normalize)), x_normalize[train_len:, 0], label='x1_test_normalized')\n",
    "plt.plot(range(train_len, len(x_normalize)), x_normalize[train_len:, 1], label='x2_test_normalized')\n",
    "plt.legend(loc='upper center', bbox_to_anchor=(0.5, -0.15), fancybox=True, shadow=False, ncol=2)\n",
    "plt.show()"
   ]
  },
  {
   "cell_type": "code",
   "execution_count": null,
   "id": "linear-earth",
   "metadata": {},
   "outputs": [],
   "source": [
    "\n",
    "def truncate(x, feature_cols=range(3), target_cols=range(3), label_col=3, train_len=100, test_len=20):\n",
    "    in_, out_, lbl = [], [], []\n",
    "    for i in range(len(x)-train_len-test_len+1):\n",
    "        in_.append(x[i:(i+train_len), feature_cols].tolist())\n",
    "        out_.append(x[(i+train_len):(i+train_len+test_len), target_cols].tolist())\n",
    "        lbl.append(x[i+train_len, label_col])\n",
    "    return np.array(in_), np.array(out_), np.array(lbl)\n",
    "X_in, X_out, lbl = truncate(x_normalize, feature_cols=range(3), target_cols=range(3), \n",
    "                            label_col=3, train_len=200, test_len=20)\n",
    "print(X_in.shape, X_out.shape, lbl.shape)\n",
    "\n",
    "\n",
    "X_input_train = X_in[np.where(lbl==1)]\n",
    "X_output_train = X_out[np.where(lbl==1)]\n",
    "X_input_test = X_in[np.where(lbl==0)]\n",
    "X_output_test = X_out[np.where(lbl==0)]\n",
    "print(X_input_train.shape, X_output_train.shape)\n",
    "print(X_input_test.shape, X_output_test.shape)"
   ]
  },
  {
   "cell_type": "code",
   "execution_count": null,
   "id": "anonymous-dependence",
   "metadata": {},
   "outputs": [],
   "source": [
    "n_hidden = 100\n",
    "\n",
    "input_train = Input(shape=(X_input_train.shape[1], X_input_train.shape[2]-1))\n",
    "output_train = Input(shape=(X_output_train.shape[1], X_output_train.shape[2]-1))\n",
    "print(input_train)\n",
    "print(output_train)\n",
    "\n",
    "\n",
    "encoder_last_h1, encoder_last_h2, encoder_last_c = LSTM(\n",
    " n_hidden, activation='elu', dropout=0.2, recurrent_dropout=0.2, \n",
    " return_sequences=False, return_state=True)(input_train)\n",
    "print(encoder_last_h1)\n",
    "print(encoder_last_h2)\n",
    "print(encoder_last_c)\n"
   ]
  },
  {
   "cell_type": "code",
   "execution_count": null,
   "id": "consolidated-victim",
   "metadata": {},
   "outputs": [],
   "source": [
    "\n",
    "\n",
    "\n",
    "encoder_last_h1 = BatchNormalization(momentum=0.6)(encoder_last_h1)\n",
    "encoder_last_c = BatchNormalization(momentum=0.6)(encoder_last_c)\n",
    "\n",
    "\n",
    "decoder = RepeatVector(output_train.shape[1])(encoder_last_h1)\n",
    "decoder = LSTM(n_hidden, activation='elu', dropout=0.2, recurrent_dropout=0.2, return_state=False, return_sequences=True)(\n",
    "    decoder, initial_state=[encoder_last_h1, encoder_last_c])\n",
    "print(decoder)\n",
    "\n",
    "\n",
    "out = TimeDistributed(Dense(output_train.shape[2]))(decoder)\n",
    "print(out)\n",
    "\n",
    "model = Model(inputs=input_train, outputs=out)\n",
    "opt = Adam(lr=0.01, clipnorm=1)\n",
    "model.compile(loss='mean_squared_error', optimizer=opt, metrics=['mae'])\n",
    "model.summary()\n",
    "\n",
    "plot_model(model, to_file='model_plot.png', show_shapes=True, show_layer_names=True)\n"
   ]
  },
  {
   "cell_type": "code",
   "execution_count": null,
   "id": "immune-company",
   "metadata": {},
   "outputs": [],
   "source": [
    "epc = 100\n",
    "es = EarlyStopping(monitor='val_loss', mode='min', patience=50)\n",
    "history = model.fit(X_input_train[:, :, :2], X_output_train[:, :, :2], validation_split=0.2, \n",
    "                    epochs=epc, verbose=1, callbacks=[es], \n",
    "                    batch_size=100)\n",
    "train_mae = history.history['mae']\n",
    "valid_mae = history.history['val_mae']\n",
    " \n",
    "model.save('model_forecasting_seq2seq.h5')"
   ]
  },
  {
   "cell_type": "code",
   "execution_count": null,
   "id": "maritime-newark",
   "metadata": {},
   "outputs": [],
   "source": [
    "\n",
    "plt.plot(train_mae, label='train mae'), \n",
    "plt.plot(valid_mae, label='validation mae')\n",
    "plt.ylabel('mae')\n",
    "plt.xlabel('epoch')\n",
    "plt.title('train vs. validation accuracy (mae)')\n",
    "plt.legend(loc='upper center', bbox_to_anchor=(0.5, -0.15), fancybox=True, shadow=False, ncol=2)\n",
    "plt.show()"
   ]
  },
  {
   "cell_type": "code",
   "execution_count": null,
   "id": "smoking-company",
   "metadata": {},
   "outputs": [],
   "source": [
    "train_pred_detrend = model.predict(X_input_train[:, :, :2])*x_train_max[:2]\n",
    "test_pred_detrend = model.predict(X_input_test[:, :, :2])*x_train_max[:2]\n",
    "print(train_pred_detrend.shape, test_pred_detrend.shape)\n",
    "train_true_detrend = X_output_train[:, :, :2]*x_train_max[:2]\n",
    "test_true_detrend = X_output_test[:, :, :2]*x_train_max[:2]\n",
    "print(train_true_detrend.shape, test_true_detrend.shape)"
   ]
  },
  {
   "cell_type": "code",
   "execution_count": null,
   "id": "growing-store",
   "metadata": {},
   "outputs": [],
   "source": [
    "train_pred_detrend = np.concatenate([train_pred_detrend, np.expand_dims(X_output_train[:, :, 2], axis=2)], axis=2)\n",
    "test_pred_detrend = np.concatenate([test_pred_detrend, np.expand_dims(X_output_test[:, :, 2], axis=2)], axis=2)\n",
    "print(train_pred_detrend.shape, test_pred_detrend.shape)\n",
    "train_true_detrend = np.concatenate([train_true_detrend, np.expand_dims(X_output_train[:, :, 2], axis=2)], axis=2)\n",
    "test_true_detrend = np.concatenate([test_true_detrend, np.expand_dims(X_output_test[:, :, 2], axis=2)], axis=2)\n",
    "print(train_pred_detrend.shape, test_pred_detrend.shape)"
   ]
  },
  {
   "cell_type": "code",
   "execution_count": null,
   "id": "expensive-clinic",
   "metadata": {},
   "outputs": [],
   "source": [
    "\n",
    "data_final = dict()\n",
    "for dt, lb in zip([train_pred_detrend, train_true_detrend, test_pred_detrend, test_true_detrend], \n",
    "                  ['train_pred', 'train_true', 'test_pred', 'test_true']):\n",
    "    dt_x1 = dt[:, :, 0] + (dt[:, :, 2]**2)*x1_trend_param[0] + dt[:, :, 2]*x1_trend_param[1] + x1_trend_param[2]\n",
    "    dt_x2 = dt[:, :, 1] + dt[:, :, 2]*x2_trend_param[0] + x2_trend_param[1]\n",
    "    data_final[lb] = np.concatenate(\n",
    "        [np.expand_dims(dt_x1, axis=2), np.expand_dims(dt_x2, axis=2)], axis=2)\n",
    "    print(lb+': {}'.format(data_final[lb].shape))"
   ]
  },
  {
   "cell_type": "code",
   "execution_count": null,
   "id": "separated-airport",
   "metadata": {},
   "outputs": [],
   "source": [
    "\n",
    "for lb in ['train', 'test']:\n",
    "    plt.figure(figsize=(15, 4))\n",
    "    plt.hist(data_final[lb+'_pred'].flatten(), bins=100, color='orange', alpha=0.5, label=lb+' pred')\n",
    "    plt.hist(data_final[lb+'_true'].flatten(), bins=100, color='green', alpha=0.5, label=lb+' true')\n",
    "    plt.legend()\n",
    "    plt.title('value distribution: '+lb)\n",
    "    plt.show()"
   ]
  },
  {
   "cell_type": "code",
   "execution_count": null,
   "id": "loose-laser",
   "metadata": {},
   "outputs": [],
   "source": [
    "\n",
    "for lb in ['train', 'test']:\n",
    "    MAE_overall = abs(data_final[lb+'_pred'] - data_final[lb+'_true']).mean()\n",
    "    MAE_ = abs(data_final[lb+'_pred'] - data_final[lb+'_true']).mean(axis=(1, 2))\n",
    "    plt.figure(figsize=(15, 3))\n",
    "    plt.plot(MAE_)\n",
    "    plt.title('MAE '+lb+': overall MAE = '+str(MAE_overall))\n",
    "    plt.show()"
   ]
  },
  {
   "cell_type": "code",
   "execution_count": null,
   "id": "empirical-mattress",
   "metadata": {},
   "outputs": [],
   "source": [
    "ith_timestep = random.choice(range(data_final[lb+'_pred'].shape[1]))\n",
    "plt.figure(figsize=(15, 5))\n",
    "train_start_t = 0\n",
    "test_start_t = data_final['train_pred'].shape[0]\n",
    "for lb, tm, clrs in zip(['train', 'test'], [train_start_t, test_start_t], [['green', 'red'], ['blue', 'orange']]):\n",
    "    for i, x_lbl in zip([0, 1], ['x1', 'x2']):\n",
    "        plt.plot(range(tm, tm+data_final[lb+'_pred'].shape[0]), \n",
    "                 data_final[lb+'_pred'][:, ith_timestep, i], \n",
    "                 linestyle='--', linewidth=1, color=clrs[0], label='pred '+x_lbl)\n",
    "        plt.plot(range(tm, tm+data_final[lb+'_pred'].shape[0]), \n",
    "                 data_final[lb+'_true'][:, ith_timestep, i], \n",
    "                 linestyle='-', linewidth=1, color=clrs[1], label='true '+x_lbl)\n",
    "    \n",
    "plt.title('{}th time step in all samples'.format(ith_timestep))\n",
    "plt.legend(loc='upper center', bbox_to_anchor=(0.5, -0.15), fancybox=True, shadow=False, ncol=8)\n",
    "plt.show()"
   ]
  },
  {
   "cell_type": "code",
   "execution_count": null,
   "id": "hollow-processor",
   "metadata": {},
   "outputs": [],
   "source": [
    "\n",
    "lb = 'test'\n",
    "plt.figure(figsize=(15, 5))\n",
    "for i, x_lbl, clr in zip([0, 1], ['x1', 'x2'], ['green', 'blue']):\n",
    "    plt.plot(data_final[lb+'_pred'][:, ith_timestep, i], linestyle='--', color=clr, label='pred '+x_lbl)\n",
    "    plt.plot(data_final[lb+'_true'][:, ith_timestep, i], linestyle='-', color=clr, label='true '+x_lbl)\n",
    "plt.title('({}): {}th time step in all samples'.format(lb, ith_timestep))\n",
    "plt.legend(loc='upper center', bbox_to_anchor=(0.5, -0.15), fancybox=True, shadow=False, ncol=2)\n",
    "plt.show()"
   ]
  },
  {
   "cell_type": "code",
   "execution_count": null,
   "id": "statistical-father",
   "metadata": {},
   "outputs": [],
   "source": []
  },
  {
   "cell_type": "code",
   "execution_count": null,
   "id": "academic-condition",
   "metadata": {},
   "outputs": [],
   "source": []
  },
  {
   "cell_type": "code",
   "execution_count": null,
   "id": "quality-contractor",
   "metadata": {},
   "outputs": [],
   "source": []
  },
  {
   "cell_type": "code",
   "execution_count": null,
   "id": "intense-fiction",
   "metadata": {},
   "outputs": [],
   "source": []
  },
  {
   "cell_type": "code",
   "execution_count": null,
   "id": "protective-labor",
   "metadata": {},
   "outputs": [],
   "source": []
  },
  {
   "cell_type": "code",
   "execution_count": null,
   "id": "compressed-brush",
   "metadata": {},
   "outputs": [],
   "source": [
    "'''\n",
    "class ParticipantData:\n",
    "    '''\n",
    "    Class for data of an individual participant.\n",
    "    (Data includes eyetracking, input, participantcalibrationdata and scenedata)\n",
    "    '''\n",
    "   \n",
    "    def __init__(self, eyetracking_filepaths, input_filepaths, calibration_filepath, scenedata_filepaths, bootstrap_file_loading=False, verbose = False):\n",
    "        '''\n",
    "        Constructor.\n",
    "        @ Paths to the relevant files \n",
    "        '''\n",
    "        \n",
    "        # sanity checks \n",
    "        # after this, we can be sure, that all paths exist, the files have labels corresponding to what they should contain\n",
    "        # the participant id is always the same, the number of files per list corresponds and there is one calibration path \n",
    "        # the lists are lists of strings and the calibration data is a string \n",
    "        if (eyetracking_filepaths is None or input_filepaths is None or calibration_filepath is None or scenedata_filepaths is None):\n",
    "            raise AssertionError(\"Some of the supplied paths are None! Exiting.\")\n",
    "        if (not isinstance(eyetracking_filepaths, list) or not isinstance(input_filepaths, list) or not isinstance(calibration_filepath, str) or not isinstance(scenedata_filepaths, list)):\n",
    "            raise AssertionError(\"Some of the paths are not supplied in the correct format! Exiting.\")\n",
    "        if (len(eyetracking_filepaths) != len(input_filepaths) or len(eyetracking_filepaths) != len(scenedata_filepaths)):\n",
    "            raise AssertionError(\"The number of supplied paths per category does not match! Exiting.\")\n",
    "        if (len(eyetracking_filepaths) < 1):\n",
    "            raise AssertionError(\"Some supplied path lists have less than one element! Exiting.\")\n",
    "        if (not all(isinstance(elem,str) for elem in eyetracking_filepaths) or not all(isinstance(elem,str) for elem in input_filepaths) or not all(isinstance(elem,str) for elem in scenedata_filepaths)):\n",
    "            raise AssertionError(\"The supplied path lists do not contain string contents! Exiting.\")\n",
    "        participant_id = \"-8\"\n",
    "        for elem in eyetracking_filepaths + input_filepaths + [calibration_filepath] + scenedata_filepaths:\n",
    "            if not os.path.isfile(elem):\n",
    "                raise AssertionError(\"Some of the supplied paths do not link to existing files! Exiting.\")\n",
    "            try:\n",
    "                if (participant_id == \"-8\"):\n",
    "                    participant_id = os.path.basename(elem).split(\"_\")[0]\n",
    "                else:\n",
    "                    next_participant_id = os.path.basename(elem).split(\"_\")[0]\n",
    "                    if next_participant_id != participant_id:\n",
    "                        raise AssertionError(\"Some of the supplied paths do not link to files of the same participant! Exiting.\")\n",
    "                    else:\n",
    "                        participant_id = next_participant_id \n",
    "            except:\n",
    "                raise AssertionError(\"Some of the supplied paths do not link to files of the same participant! Exiting.\")\n",
    "        for elem in eyetracking_filepaths:\n",
    "            if not \"_EyeTracking_\" in elem:\n",
    "                raise AssertionError(\"Some of the supplied paths for eye tracking data link to files that are labeled for something else! Exiting.\")\n",
    "        for elem in input_filepaths:\n",
    "            if not \"_Input_\" in elem:\n",
    "                raise AssertionError(\"Some of the supplied paths for input data link to files that are labeled for something else! Exiting.\")\n",
    "        if not \"_ParticipantCalibrationData\" in calibration_filepath:\n",
    "            raise AssertionError(\"The supplied path for participant calibration data links to a file that is labeled for something else! Exiting.\")\n",
    "        for elem in scenedata_filepaths:\n",
    "            if not \"_SceneData_\" in elem:\n",
    "                raise AssertionError(\"Some of the supplied paths for scene data link to files that are labeled for something else! Exiting.\")\n",
    "        \n",
    "        \n",
    "        # store filepaths\n",
    "        self.eyetracking_filepaths = eyetracking_filepaths\n",
    "        self.input_filepaths = input_filepaths\n",
    "        self.calibration_filepath = calibration_filepath\n",
    "        self.scenedata_filepaths = scenedata_filepaths\n",
    "        \n",
    "        # store participant id and number of recorded areas and verbosity and whether reference data has been applied\n",
    "        self.participant_id = os.path.basename(eyetracking_filepaths[0]).split(\"_\")[0]\n",
    "        self.number_of_recorded_areas = len(eyetracking_filepaths)\n",
    "        self.verbose = verbose\n",
    "        self.reference_data_applied = False \n",
    "        \n",
    "        # init data dictionaries \n",
    "        self.eyetracking_data = {}\n",
    "        self.input_data = {}\n",
    "        self.calibration_data = {}\n",
    "        self.scene_data = {} \n",
    "        self.golden_segment_data = {}\n",
    "        self.golden_event_info = {}\n",
    "        \n",
    "        # bootstrap file loading\n",
    "        if bootstrap_file_loading and os.path.isfile(os.path.join(BOOTSTRAP_BASEPATH, \"./bootstrap_\" + str(self.participant_id) + \".pickle\")):\n",
    "            bootstrap_data = load_from_disk(os.path.join(BOOTSTRAP_BASEPATH, \"./bootstrap_\" + str(self.participant_id) + \".pickle\"))\n",
    "            self.participant_id = bootstrap_data[\"participant_id\"]\n",
    "            self.eyetracking_data = bootstrap_data[\"eyetracking_data\"]\n",
    "            self.input_data = bootstrap_data[\"input_data\"]\n",
    "            self.calibration_data = bootstrap_data[\"calibration_data\"]\n",
    "            self.scene_data = bootstrap_data[\"scene_data\"]\n",
    "            self.golden_segment_data = bootstrap_data[\"golden_segment_data\"]\n",
    "            self.golden_event_info = bootstrap_data[\"golden_event_info\"] \n",
    "            print(\"ParticipantData: Loaded data (bootstrapped) for participant \" + str(self.participant_id) + \".\")\n",
    "    \n",
    "        else:\n",
    "            # process raw data \n",
    "            self._load_raw_data()\n",
    "            self._extract_event_information()\n",
    "            self._extract_path_segments()\n",
    "            self._resample_path_segments()  \n",
    "            self._construct_segment_data()\n",
    "            self._construct_event_info()\n",
    "            print(\"ParticipantData: Loaded data (raw) for participant \" + str(self.participant_id) + \".\")\n",
    "            \n",
    "            # save to disk \n",
    "            if bootstrap_file_loading:\n",
    "                bootstrap_data = {}\n",
    "                bootstrap_data[\"participant_id\"] = self.participant_id\n",
    "                bootstrap_data[\"eyetracking_data\"] = self.eyetracking_data\n",
    "                bootstrap_data[\"input_data\"] = self.input_data\n",
    "                bootstrap_data[\"calibration_data\"] = self.calibration_data\n",
    "                bootstrap_data[\"scene_data\"] = self.scene_data\n",
    "                bootstrap_data[\"golden_segment_data\"] = self.golden_segment_data\n",
    "                bootstrap_data[\"golden_event_info\"] = self.golden_event_info\n",
    "                save_to_disk(bootstrap_data,os.path.join(BOOTSTRAP_BASEPATH, \"./bootstrap_\" + str(self.participant_id) + \".pickle\"))\n",
    "\n",
    "    \n",
    "    def _read_raw_data(self, filepaths):\n",
    "        '''\n",
    "        Read raw files into dictionary. \n",
    "        '''\n",
    "        \n",
    "        data = {}\n",
    "        \n",
    "        for idx, filename in enumerate(filepaths):\n",
    "            if self.verbose: \n",
    "                print(\"ParticipantData: Loading \" + filename + \" (file \" + str(idx+1) + \"/\" + str(len(filepaths)) + \")...\")\n",
    "            \n",
    "            if \"Westbrueck\" in filename:\n",
    "                token = \"Westbrueck\"\n",
    "            elif \"MountainRoad\" in filename:\n",
    "                token = \"MountainRoad\"\n",
    "            elif \"CountryRoad\" in filename:\n",
    "                token = \"CountryRoad\"\n",
    "            elif \"Autobahn\" in filename:\n",
    "                token = \"Autobahn\"  \n",
    "            elif \"TrainingScene\" in filename:\n",
    "                token = \"TrainingScene\"\n",
    "            else:  # not defined \n",
    "                print(\"ParticipantData: Found undefined area token in filename\" + filename + \"!\")\n",
    "                continue # in the loop     \n",
    "            data[token] = {}\n",
    "            data[token][\"filename\"] = filename\n",
    "            data[token][\"full_df\"] = read_normalized_json_to_df(filename)\n",
    "        \n",
    "        return data \n",
    "    \n",
    "    def _load_raw_data(self):\n",
    "        \n",
    "        # Eye tracking data\n",
    "        if self.verbose: \n",
    "            print(\"ParticipantData: Loading raw eyetracking data files...\")\n",
    "        self.eyetracking_data = self._read_raw_data(self.eyetracking_filepaths)\n",
    "        \n",
    "        # Input data \n",
    "        if self.verbose: \n",
    "            print(\"ParticipantData: Loading raw input data files...\")\n",
    "        self.input_data = self._read_raw_data(self.input_filepaths)\n",
    "        \n",
    "        # Scene data  \n",
    "        if self.verbose: \n",
    "            print(\"ParticipantData: Loading raw scene data files...\")\n",
    "        self.scene_data = self._read_raw_data(self.scenedata_filepaths)\n",
    "\n",
    "        # Calibration data  \n",
    "        if self.verbose:\n",
    "            print(\"ParticipantData: Loading raw calibration data...\")\n",
    "        self.calibration_data = {}\n",
    "        self.calibration_data['filename'] = self.calibration_filepath\n",
    "        self.calibration_data['full_df'] = read_normalized_json_to_df(self.calibration_filepath)\n",
    "        \n",
    "        print(\"Calib\")\n",
    "        print(self.calibration_data)\n",
    "        \n",
    "        \n",
    "    def _extract_event_information(self):\n",
    "        \n",
    "        # Extract most important event information \n",
    "        for area in [\"Westbrueck\",\"MountainRoad\",\"CountryRoad\",\"Autobahn\",\"TrainingScene\"]:\n",
    "            self.scene_data[area][\"number_of_events\"] = len(self.scene_data[area][\"full_df\"][\"EventBehavior\"][0])\n",
    "            self.scene_data[area][\"events\"] = {}\n",
    "            for idx, event in enumerate(self.scene_data[area][\"full_df\"][\"EventBehavior\"][0]):\n",
    "                self.scene_data[area][\"events\"][idx] = {'name':event[\"EventName\"],'start':event[\"StartofEventTimeStamp\"],'stop':event[\"EndOfEventTimeStamp\"],'succeeded':event[\"SuccessfulCompletionState\"]}\n",
    "        \n",
    "        print(\"Event info\")\n",
    "        print(self.scene_data)\n",
    "        \n",
    "    \n",
    "    def _extract_path_segments(self):\n",
    "        '''\n",
    "        Extract the path segments. \n",
    "        Skip the TrainingScene, no relevant data. \n",
    "        '''\n",
    "        \n",
    "        \n",
    "        # Copy of entire dataframe input dataframe to prepare processing\n",
    "        for area in [\"Westbrueck\",\"MountainRoad\",\"CountryRoad\",\"Autobahn\"]:\n",
    "            self.input_data[area][\"processed_df\"] = self.input_data[area][\"full_df\"].copy(deep=True)\n",
    "            self.input_data[area][\"processed_df\"].drop(columns=[\"ReceivedInput\",\"SteeringInput\",\"AcellerationInput\",\"BrakeInput\"],inplace=True)\n",
    "            self.input_data[area][\"processed_df\"][\"path_segment_label\"] = -9 # event label \n",
    "\n",
    "        # Give label to individual path segments, -9 is event label \n",
    "        for area in [\"Westbrueck\",\"MountainRoad\",\"CountryRoad\",\"Autobahn\"]:\n",
    "            for event_idx in range(len(self.scene_data[area][\"events\"]) + 1):\n",
    "                cond = None \n",
    "                if event_idx == 0: # find all datapoints with timestamps before event start timestamp \n",
    "                    cond = (self.input_data[area][\"processed_df\"][\"TimeStamp\"] < self.scene_data[area][\"events\"][event_idx][\"start\"])\n",
    "                elif event_idx < len(self.scene_data[area][\"events\"]): # find all datapoints with timestamp between prev and next event \n",
    "                    cond = (self.input_data[area][\"processed_df\"][\"TimeStamp\"] > self.scene_data[area][\"events\"][event_idx - 1][\"stop\"]) & (self.input_data[area][\"processed_df\"][\"TimeStamp\"] < self.scene_data[area][\"events\"][event_idx][\"start\"])\n",
    "                elif event_idx == len(self.scene_data[area][\"events\"]): # find all datapoints with timestamp after last event\n",
    "                    cond = (self.input_data[area][\"processed_df\"][\"TimeStamp\"] > self.scene_data[area][\"events\"][event_idx - 1][\"stop\"])\n",
    "\n",
    "                # Filter     \n",
    "                self.input_data[area][\"processed_df\"].loc[cond, \"path_segment_label\"] = event_idx\n",
    "\n",
    "        # Extract path segments, add timestamps beginning at zero \n",
    "        for area in [\"Westbrueck\",\"MountainRoad\",\"CountryRoad\",\"Autobahn\"]:\n",
    "            self.input_data[area][\"path_segments_no_resample\"] = {}\n",
    "            for label in self.input_data[area][\"processed_df\"][\"path_segment_label\"].unique():\n",
    "                if (label != -9):\n",
    "\n",
    "                    # copy segment data \n",
    "                    cond = (self.input_data[area][\"processed_df\"][\"path_segment_label\"] == label)\n",
    "                    self.input_data[area][\"path_segments_no_resample\"][label] = self.input_data[area][\"processed_df\"].loc[cond].copy(deep=True)\n",
    "\n",
    "                    # add timestamp starting at zero \n",
    "                    if label == 0: # take first recorded datapoint as base timestamp \n",
    "                        ref_timestamp = self.input_data[area][\"path_segments_no_resample\"][label][\"TimeStamp\"].iloc[0]\n",
    "                    else: # take last event's stop time as base timestamp \n",
    "                        ref_timestamp = self.scene_data[area][\"events\"][label - 1][\"stop\"]\n",
    "\n",
    "                    self.input_data[area][\"path_segments_no_resample\"][label][\"rebased_timestamp\"] = self.input_data[area][\"path_segments_no_resample\"][label][\"TimeStamp\"] - ref_timestamp\n",
    "\n",
    "                else: # skip events \n",
    "                    pass \n",
    "         \n",
    "        print(\"path segment\")\n",
    "        print(self.input_data)\n",
    "    \n",
    "    \n",
    "    def _resample_path_segments(self):\n",
    "        '''\n",
    "        Resample the path segments.\n",
    "        Exclude TrainingScene, no relevant data. \n",
    "        '''\n",
    "        \n",
    "\n",
    "        if self.verbose:\n",
    "            print(\"ParticipantData: Resampled path segments (excl. events):\")\n",
    "        for area in [\"Westbrueck\",\"MountainRoad\",\"CountryRoad\",\"Autobahn\"]:\n",
    "\n",
    "            self.input_data[area][\"path_segments_resampled\"] = {}\n",
    "            for segment in self.input_data[area][\"path_segments_no_resample\"]:\n",
    "                # copy segments \n",
    "                self.input_data[area][\"path_segments_resampled\"][segment] = self.input_data[area][\"path_segments_no_resample\"][segment].copy(deep=True)\n",
    "\n",
    "                # Hard match datapoints to closest timebin and fill arising holes by forward fill \n",
    "                if RESAMPLE_STRATEGY == \"FILL\":\n",
    "\n",
    "                    # round the timestamps to specified number of decimals \n",
    "                    self.input_data[area][\"path_segments_resampled\"][segment][\"rebased_timestamp_rounded\"] = self.input_data[area][\"path_segments_resampled\"][segment][\"rebased_timestamp\"].round(TIMESTAMP_DECIMALS)\n",
    "\n",
    "                    # \"resample\" timestamps by reindexing with time delta (default 0.01s) steps and filling holes; first drop duplicate timestamps\n",
    "                    self.input_data[area][\"path_segments_resampled\"][segment][\"resampled_timestamp\"] = self.input_data[area][\"path_segments_resampled\"][segment][\"rebased_timestamp_rounded\"] \n",
    "                    self.input_data[area][\"path_segments_resampled\"][segment].drop_duplicates(subset=\"resampled_timestamp\",keep=\"first\", inplace=True)\n",
    "                    start_time = 0\n",
    "                    end_time = self.input_data[area][\"path_segments_resampled\"][segment][\"resampled_timestamp\"].iloc[-1]\n",
    "                    time_delta = TIME_DELTA \n",
    "                    new_index = pd.Index(np.arange(start_time,end_time,time_delta), name=\"resampled_timestamp\")\n",
    "                    self.input_data[area][\"path_segments_resampled\"][segment] = self.input_data[area][\"path_segments_resampled\"][segment].set_index(\"resampled_timestamp\").reindex(new_index).reset_index()\n",
    "\n",
    "                    # keep track of where data was interpolated \n",
    "                    self.input_data[area][\"path_segments_resampled\"][segment][\"is_interpolated\"] = self.input_data[area][\"path_segments_resampled\"][segment][\"rebased_timestamp\"].isnull()\n",
    "\n",
    "                    # fill nans (\"interpolate\") \n",
    "                    exclude_columns = [\"rebased_timestamp\",\"rebased_timestamp_rounded\",\"is_interpolated\",\"TimeStamp\",\"resampled_timestamp\"]\n",
    "                    for column in self.input_data[area][\"path_segments_resampled\"][segment].columns:  \n",
    "                        if column not in exclude_columns:\n",
    "                            self.input_data[area][\"path_segments_resampled\"][segment][column].fillna(method='ffill', inplace = True)\n",
    "                            self.input_data[area][\"path_segments_resampled\"][segment][column].fillna(method='bfill', inplace = True)\n",
    "\n",
    "                    # drop unneeded columns\n",
    "                    self.input_data[area][\"path_segments_resampled\"][segment].drop(columns=[\"TimeStamp\",\"rebased_timestamp\",\"rebased_timestamp_rounded\",\"path_segment_label\"], inplace = True)\n",
    "\n",
    "\n",
    "                # Resample using pandas' resample, fill with mean \n",
    "                if RESAMPLE_STRATEGY == \"MEAN\":\n",
    "\n",
    "                    # copy timestamp \n",
    "                    self.input_data[area][\"path_segments_resampled\"][segment][\"resampled_timestamp\"] = self.input_data[area][\"path_segments_resampled\"][segment][\"rebased_timestamp\"] \n",
    "\n",
    "                    # create datetime from rebased timestamp\n",
    "                    self.input_data[area][\"path_segments_resampled\"][segment][\"rebased_datetime\"] = pd.to_datetime(self.input_data[area][\"path_segments_resampled\"][segment]['resampled_timestamp'],unit='s')\n",
    "\n",
    "                    # resample with time delta (default 0.01s) interval and keep track of holes in the data before interpolation\n",
    "                    self.input_data[area][\"path_segments_resampled\"][segment] = self.input_data[area][\"path_segments_resampled\"][segment].resample(str(TIME_DELTA) + 'S',on=\"rebased_datetime\").mean()\n",
    "                    self.input_data[area][\"path_segments_resampled\"][segment][\"is_interpolated\"] = self.input_data[area][\"path_segments_resampled\"][segment][\"resampled_timestamp\"].isnull()\n",
    "                    self.input_data[area][\"path_segments_resampled\"][segment].reset_index(inplace=True)\n",
    "\n",
    "                    # interpolate linearly\n",
    "                    self.input_data[area][\"path_segments_resampled\"][segment].interpolate(method=\"linear\",inplace=True)\n",
    "\n",
    "                    # get resampled_timestamp from rebased_datetime again \n",
    "                    self.input_data[area][\"path_segments_resampled\"][segment][\"resampled_timestamp\"] = (self.input_data[area][\"path_segments_resampled\"][segment][\"rebased_datetime\"] - pd.Timestamp(\"1970-01-01\")) / pd.Timedelta('1s')\n",
    "\n",
    "                    # drop unneeded columns\n",
    "                    self.input_data[area][\"path_segments_resampled\"][segment].drop(columns=[\"rebased_datetime\",\"TimeStamp\",\"rebased_timestamp\",\"path_segment_label\"], inplace = True)\n",
    "\n",
    "                if self.verbose:\n",
    "                    print(\"Area: \" + area + \" Segment: \" + str(segment) + \" Total datapoints (incl. resampled): \" + str(len(self.input_data[area][\"path_segments_resampled\"][segment][\"is_interpolated\"]))  + \" Filled NaNs: \" + str(self.input_data[area][\"path_segments_resampled\"][segment][\"is_interpolated\"].values.sum()))\n",
    "        \n",
    "        print(\"resample\")\n",
    "        print(self.input_data)\n",
    "        \n",
    "\n",
    "    def _construct_segment_data(self):\n",
    "        \n",
    "        # extract most important infos\n",
    "        for area in [\"Westbrueck\",\"MountainRoad\",\"CountryRoad\",\"Autobahn\"]:\n",
    "            self.golden_segment_data[area] = {}\n",
    "            for segment in self.input_data[area][\"path_segments_resampled\"]:\n",
    "                self.golden_segment_data[area][segment] = self.input_data[area][\"path_segments_resampled\"][segment].copy(deep = True)\n",
    "            \n",
    "                \n",
    "    def _construct_event_info(self):\n",
    "    \n",
    "        # extract event infos \n",
    "        for area in [\"Westbrueck\",\"MountainRoad\",\"CountryRoad\",\"Autobahn\"]:\n",
    "            self.golden_event_info[area] = {}\n",
    "            for event in self.scene_data[area][\"events\"]:\n",
    "                self.golden_event_info[area][event] = {}\n",
    "                self.golden_event_info[area][event]['name'] = self.scene_data[area][\"events\"][event]['name']\n",
    "                self.golden_event_info[area][event]['start'] = self.scene_data[area][\"events\"][event]['start']\n",
    "                self.golden_event_info[area][event]['stop'] = self.scene_data[area][\"events\"][event]['stop']\n",
    "                self.golden_event_info[area][event]['succeeded'] = self.scene_data[area][\"events\"][event]['succeeded']\n",
    "    \n",
    "    def apply_reference_data(self, ref_data_dict):\n",
    "        \n",
    "        for area in [\"Westbrueck\",\"MountainRoad\",\"CountryRoad\",\"Autobahn\"]:\n",
    "            for segment in self.golden_segment_data[area]:\n",
    "                max_len = len(self.golden_segment_data[area][segment])\n",
    "                if len(ref_data_dict[area][segment]) < max_len:\n",
    "                    max_len = len(ref_data_dict[area][segment])\n",
    "                if self.verbose:\n",
    "                    print(\"ParticipantData: Measured df length is \" + str(len(self.golden_segment_data[area][segment])) \\\n",
    "                        + \", reference df length is \" + str(len(ref_data_dict[area][segment])) \\\n",
    "                        + \", max length is \" + str(max_len))\n",
    "                    \n",
    "                # potentially cut length of data if reference data is shorter\n",
    "                self.golden_segment_data[area][segment] = self.golden_segment_data[area][segment].iloc[0:max_len]\n",
    "                \n",
    "                # apply reference data values \n",
    "                print(self.golden_segment_data[area][segment].columns)\n",
    "                print(ref_data_dict[area][segment].columns)\n",
    "                    \n",
    "                    \n",
    "                #print(len(self.golden_segment_data[area][segment]))\n",
    "                #print(reference_paths_all_events_failed[\"Westbrueck\"][3].iloc[0:2422])\n",
    "                \n",
    "    def set_verbosity(self,verbosity):\n",
    "        self.verbosity = verbosity \n",
    "                \n",
    "    def get_segment_data(self):\n",
    "        return self.golden_segment_data\n",
    "    \n",
    "    def get_event_info(self):\n",
    "        return self.golden_event_info\n",
    "    \n",
    "    def get_participant_id(self):\n",
    "        return self.participant_id \n",
    "        \n",
    "\n",
    "'''"
   ]
  },
  {
   "cell_type": "code",
   "execution_count": null,
   "id": "atmospheric-thomas",
   "metadata": {},
   "outputs": [],
   "source": [
    "# Old Stuff\n",
    "'''\n",
    "\n",
    "# TODO Resample to constant time bins for proper FFT \n",
    "# Use Lomb-Scargle Periodogram to compare to spectogram of resample data \n",
    "\n",
    "\n",
    "f = np.linspace(0.01, 1000, 1000000) # start, stop, number of pts; modify this! \n",
    "pgram = signal.lombscargle(reduced_df[\"UnixTimeStamp\"], reduced_df[\"HmdPosition.x\"], f) # f, normalize=True\n",
    "\n",
    "plt.plot(f, pgram)\n",
    "'''"
   ]
  }
 ],
 "metadata": {
  "kernelspec": {
   "display_name": "Python 3",
   "language": "python",
   "name": "python3"
  },
  "language_info": {
   "codemirror_mode": {
    "name": "ipython",
    "version": 3
   },
   "file_extension": ".py",
   "mimetype": "text/x-python",
   "name": "python",
   "nbconvert_exporter": "python",
   "pygments_lexer": "ipython3",
   "version": "3.8.8"
  }
 },
 "nbformat": 4,
 "nbformat_minor": 5
}
