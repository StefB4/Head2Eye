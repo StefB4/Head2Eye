{
 "cells": [
  {
   "cell_type": "markdown",
   "id": "surprised-label",
   "metadata": {},
   "source": [
    "Spectral Density\n",
    "* Apply for more measurement data\n",
    "* Use Positional data as well\n",
    "\n",
    "Seq2Seq\n",
    "* Exemplary data to test both models \n",
    "* Transformer \n",
    "* Future: More measurements "
   ]
  },
  {
   "cell_type": "code",
   "execution_count": null,
   "id": "established-apartment",
   "metadata": {},
   "outputs": [],
   "source": []
  }
 ],
 "metadata": {
  "kernelspec": {
   "display_name": "Python 3",
   "language": "python",
   "name": "python3"
  },
  "language_info": {
   "codemirror_mode": {
    "name": "ipython",
    "version": 3
   },
   "file_extension": ".py",
   "mimetype": "text/x-python",
   "name": "python",
   "nbconvert_exporter": "python",
   "pygments_lexer": "ipython3",
   "version": "3.8.8"
  }
 },
 "nbformat": 4,
 "nbformat_minor": 5
}
